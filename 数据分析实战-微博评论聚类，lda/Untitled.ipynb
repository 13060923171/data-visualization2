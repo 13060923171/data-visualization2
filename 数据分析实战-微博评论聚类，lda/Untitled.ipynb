{
 "cells": [
  {
   "cell_type": "code",
   "execution_count": 1,
   "metadata": {},
   "outputs": [
    {
     "name": "stderr",
     "output_type": "stream",
     "text": [
      "D:\\rgzn\\lib\\site-packages\\numpy\\_distributor_init.py:32: UserWarning: loaded more than 1 DLL from .libs:\n",
      "D:\\rgzn\\lib\\site-packages\\numpy\\.libs\\libopenblas.NOIJJG62EMASZI6NYURL6JBKM4EVBGM7.gfortran-win_amd64.dll\n",
      "D:\\rgzn\\lib\\site-packages\\numpy\\.libs\\libopenblas.XWYDX2IKJW2NMTWSFYNGFUWKQU3LYTCZ.gfortran-win_amd64.dll\n",
      "  stacklevel=1)\n"
     ]
    }
   ],
   "source": [
    "import pandas as pd"
   ]
  },
  {
   "cell_type": "code",
   "execution_count": 2,
   "metadata": {},
   "outputs": [],
   "source": [
    "df = pd.read_excel('保姆纵火案.xlsx')"
   ]
  },
  {
   "cell_type": "code",
   "execution_count": 3,
   "metadata": {},
   "outputs": [
    {
     "data": {
      "text/html": [
       "<div>\n",
       "<style scoped>\n",
       "    .dataframe tbody tr th:only-of-type {\n",
       "        vertical-align: middle;\n",
       "    }\n",
       "\n",
       "    .dataframe tbody tr th {\n",
       "        vertical-align: top;\n",
       "    }\n",
       "\n",
       "    .dataframe thead th {\n",
       "        text-align: right;\n",
       "    }\n",
       "</style>\n",
       "<table border=\"1\" class=\"dataframe\">\n",
       "  <thead>\n",
       "    <tr style=\"text-align: right;\">\n",
       "      <th></th>\n",
       "      <th>字段1</th>\n",
       "      <th>字段2</th>\n",
       "      <th>字段3</th>\n",
       "    </tr>\n",
       "  </thead>\n",
       "  <tbody>\n",
       "    <tr>\n",
       "      <th>0</th>\n",
       "      <td>夜玄微子</td>\n",
       "      <td>2021年06月01日 06:58</td>\n",
       "      <td>有句话叫做“对坏人的仁慈，就是对好人的残忍”。爱默生则说：“你的善良，必须有点锋芒，否则就等...</td>\n",
       "    </tr>\n",
       "    <tr>\n",
       "      <th>1</th>\n",
       "      <td>老虎来喝下午茶吖</td>\n",
       "      <td>2021年05月21日 12:09</td>\n",
       "      <td>“58到家，天鹅到家”谭洪艳，50岁，黑龙江人。疫情居家隔离期间，未受过58培训，就被推荐给...</td>\n",
       "    </tr>\n",
       "    <tr>\n",
       "      <th>2</th>\n",
       "      <td>夜玄微子</td>\n",
       "      <td>2021年05月18日 07:05</td>\n",
       "      <td>有句话叫做“对坏人的仁慈，就是对好人的残忍”。爱默生则说：“你的善良，必须有点锋芒，否则就等...</td>\n",
       "    </tr>\n",
       "    <tr>\n",
       "      <th>3</th>\n",
       "      <td>夜玄微子</td>\n",
       "      <td>2021年05月11日 20:53</td>\n",
       "      <td>生活不是等着暴风雨过去，而是学会在风雨中跳舞。窗外鸟鸣声声，幼儿园的童歌清脆悦耳，如此美好清...</td>\n",
       "    </tr>\n",
       "    <tr>\n",
       "      <th>4</th>\n",
       "      <td>ACTS12147</td>\n",
       "      <td>2021年05月09日 12:54</td>\n",
       "      <td>先提前好久 祝你成年快乐！@Comte·de·La·Fere My dear friend，...</td>\n",
       "    </tr>\n",
       "    <tr>\n",
       "      <th>...</th>\n",
       "      <td>...</td>\n",
       "      <td>...</td>\n",
       "      <td>...</td>\n",
       "    </tr>\n",
       "    <tr>\n",
       "      <th>260</th>\n",
       "      <td>河北长安网</td>\n",
       "      <td>2017年12月23日 13:52</td>\n",
       "      <td>【\"保姆纵火案\"被告方律师被立案调查:利用网络炒作案件】12月21日，杭州保姆纵火案庭审过程...</td>\n",
       "    </tr>\n",
       "    <tr>\n",
       "      <th>261</th>\n",
       "      <td>网易新闻客户端</td>\n",
       "      <td>2017年12月23日 13:48</td>\n",
       "      <td>【广东司法厅对\"保姆纵火案\"被告辩护律师立案调查】21日，杭州保姆纵火案庭审过程中，被告人莫...</td>\n",
       "    </tr>\n",
       "    <tr>\n",
       "      <th>262</th>\n",
       "      <td>王大伟一律师</td>\n",
       "      <td>2017年12月23日 13:44</td>\n",
       "      <td>【关注：党律师或将面临吊证处罚】杭州保姆纵火案21号开庭审理，因案件管辖权等问题辩护人党律师...</td>\n",
       "    </tr>\n",
       "    <tr>\n",
       "      <th>263</th>\n",
       "      <td>神马宿州</td>\n",
       "      <td>2017年12月23日 13:06</td>\n",
       "      <td>【广东司法厅对保姆纵火案辩护律师立案调查】针对在21日杭州保姆纵火案庭审过程中，被告人莫某某...</td>\n",
       "    </tr>\n",
       "    <tr>\n",
       "      <th>264</th>\n",
       "      <td>搜狐新闻</td>\n",
       "      <td>2017年12月23日 12:59</td>\n",
       "      <td>【“保姆纵火案”被告方律师被调查：擅自离庭 利用网络炒作】22日，就杭州保姆纵火案庭审过程被...</td>\n",
       "    </tr>\n",
       "  </tbody>\n",
       "</table>\n",
       "<p>265 rows × 3 columns</p>\n",
       "</div>"
      ],
      "text/plain": [
       "           字段1                字段2  \\\n",
       "0         夜玄微子  2021年06月01日 06:58   \n",
       "1     老虎来喝下午茶吖  2021年05月21日 12:09   \n",
       "2         夜玄微子  2021年05月18日 07:05   \n",
       "3         夜玄微子  2021年05月11日 20:53   \n",
       "4    ACTS12147  2021年05月09日 12:54   \n",
       "..         ...                ...   \n",
       "260      河北长安网  2017年12月23日 13:52   \n",
       "261    网易新闻客户端  2017年12月23日 13:48   \n",
       "262     王大伟一律师  2017年12月23日 13:44   \n",
       "263       神马宿州  2017年12月23日 13:06   \n",
       "264       搜狐新闻  2017年12月23日 12:59   \n",
       "\n",
       "                                                   字段3  \n",
       "0    有句话叫做“对坏人的仁慈，就是对好人的残忍”。爱默生则说：“你的善良，必须有点锋芒，否则就等...  \n",
       "1    “58到家，天鹅到家”谭洪艳，50岁，黑龙江人。疫情居家隔离期间，未受过58培训，就被推荐给...  \n",
       "2    有句话叫做“对坏人的仁慈，就是对好人的残忍”。爱默生则说：“你的善良，必须有点锋芒，否则就等...  \n",
       "3    生活不是等着暴风雨过去，而是学会在风雨中跳舞。窗外鸟鸣声声，幼儿园的童歌清脆悦耳，如此美好清...  \n",
       "4    先提前好久 祝你成年快乐！@Comte·de·La·Fere My dear friend，...  \n",
       "..                                                 ...  \n",
       "260  【\"保姆纵火案\"被告方律师被立案调查:利用网络炒作案件】12月21日，杭州保姆纵火案庭审过程...  \n",
       "261  【广东司法厅对\"保姆纵火案\"被告辩护律师立案调查】21日，杭州保姆纵火案庭审过程中，被告人莫...  \n",
       "262  【关注：党律师或将面临吊证处罚】杭州保姆纵火案21号开庭审理，因案件管辖权等问题辩护人党律师...  \n",
       "263  【广东司法厅对保姆纵火案辩护律师立案调查】针对在21日杭州保姆纵火案庭审过程中，被告人莫某某...  \n",
       "264  【“保姆纵火案”被告方律师被调查：擅自离庭 利用网络炒作】22日，就杭州保姆纵火案庭审过程被...  \n",
       "\n",
       "[265 rows x 3 columns]"
      ]
     },
     "execution_count": 3,
     "metadata": {},
     "output_type": "execute_result"
    }
   ],
   "source": [
    "df"
   ]
  },
  {
   "cell_type": "code",
   "execution_count": 4,
   "metadata": {},
   "outputs": [],
   "source": [
    "content = df['字段3']"
   ]
  },
  {
   "cell_type": "code",
   "execution_count": 5,
   "metadata": {},
   "outputs": [],
   "source": [
    "content.drop_duplicates(keep='first', inplace=True)"
   ]
  },
  {
   "cell_type": "code",
   "execution_count": 6,
   "metadata": {},
   "outputs": [
    {
     "data": {
      "text/plain": [
       "0      有句话叫做“对坏人的仁慈，就是对好人的残忍”。爱默生则说：“你的善良，必须有点锋芒，否则就等...\n",
       "1      “58到家，天鹅到家”谭洪艳，50岁，黑龙江人。疫情居家隔离期间，未受过58培训，就被推荐给...\n",
       "3      生活不是等着暴风雨过去，而是学会在风雨中跳舞。窗外鸟鸣声声，幼儿园的童歌清脆悦耳，如此美好清...\n",
       "4      先提前好久 祝你成年快乐！@Comte·de·La·Fere My dear friend，...\n",
       "6      2017年的6月22日，在杭州发生了震惊世人的杭州保姆纵火案，林生斌的妻子及三个孩子全部遇难...\n",
       "                             ...                        \n",
       "259    #莫焕晶辩护律师被调查# 【“保姆纵火案”被告方律师被调查：擅自离庭 利用网络炒作】22日，...\n",
       "260    【\"保姆纵火案\"被告方律师被立案调查:利用网络炒作案件】12月21日，杭州保姆纵火案庭审过程...\n",
       "261    【广东司法厅对\"保姆纵火案\"被告辩护律师立案调查】21日，杭州保姆纵火案庭审过程中，被告人莫...\n",
       "262    【关注：党律师或将面临吊证处罚】杭州保姆纵火案21号开庭审理，因案件管辖权等问题辩护人党律师...\n",
       "263    【广东司法厅对保姆纵火案辩护律师立案调查】针对在21日杭州保姆纵火案庭审过程中，被告人莫某某...\n",
       "Name: 字段3, Length: 235, dtype: object"
      ]
     },
     "execution_count": 6,
     "metadata": {},
     "output_type": "execute_result"
    }
   ],
   "source": [
    "content"
   ]
  },
  {
   "cell_type": "code",
   "execution_count": 7,
   "metadata": {},
   "outputs": [
    {
     "name": "stderr",
     "output_type": "stream",
     "text": [
      "Building prefix dict from the default dictionary ...\n",
      "Loading model from cache C:\\Users\\96075\\AppData\\Local\\Temp\\jieba.cache\n",
      "Loading model cost 0.724 seconds.\n",
      "Prefix dict has been built successfully.\n"
     ]
    }
   ],
   "source": [
    "# coding=utf-8\n",
    "import jieba\n",
    "import re\n",
    "import time\n",
    "from collections import Counter\n",
    "\n",
    "#------------------------------------中文分词------------------------------------\n",
    "cut_words = \"\"\n",
    "all_words = \"\"\n",
    "f = open('保姆纵火案-fenci.txt', 'w', encoding='utf-8')\n",
    "\n",
    "for line in content:\n",
    "    line = line.strip('\\n')\n",
    "    #停用词过滤\n",
    "    line = re.sub('[0-9’!\"#$%&\\'()*+,-./:;<=>?@，。?★、…【】《》？“”‘’！[\\\\]^_`{|}~\\s]+', \"\", line)\n",
    "    seg_list = jieba.cut(line, cut_all=False)\n",
    "    cut_words = (\" \".join(seg_list))\n",
    "\n",
    "    #计算关键词\n",
    "    all_words = cut_words.split()\n",
    "    c = Counter()\n",
    "    for x in all_words:\n",
    "        if len(x)>1 and x != '\\r\\n':\n",
    "            c[x] += 1\n",
    "    #Top50\n",
    "    output = \"\"\n",
    "    #print('\\n词频统计结果：')\n",
    "    for (k,v) in c.most_common():\n",
    "        #print(\"%s:%d\"%(k,v))\n",
    "        output += k + \" \"\n",
    "    \n",
    "    f.write(output+\"\\n\")\n",
    "else:\n",
    "    f.close()"
   ]
  },
  {
   "cell_type": "code",
   "execution_count": 2,
   "metadata": {},
   "outputs": [
    {
     "name": "stdout",
     "output_type": "stream",
     "text": [
      "['\\ufeff!', '\"', '#', '$', '%', '&', \"'\", '(', ')', '*', '+', ',', '-', '--', '.', '..', '...', '......', '...................', './', '.一', '.数', '.日', '/', '//', '0', '1', '2', '3', '4', '5', '6', '7', '8', '9', ':', '://', '::', ';', '<', '=', '>', '>>', '?', '@', 'Lex', '[', '\\\\', ']', '^', '_', '`', 'exp', 'sub', 'sup', '|', '}', '~', '~~~~', '·', '×', '×××', 'Δ', 'Ψ', 'γ', 'μ', 'φ', 'φ．', 'В', '—', '——', '———', '‘', '’', '’‘', '“', '”', '”，', '…', '……', '…………………………………………………③', '′∈', '′｜', '℃', 'Ⅲ', '↑', '→', '∈［', '∪φ∈', '≈', '①', '②', '②ｃ', '③', '③］', '④', '⑤', '⑥', '⑦', '⑧', '⑨', '⑩', '──', '■', '▲', '', '、', '。', '〈', '〉', '《', '》', '》），', '」', '『', '』', '【', '】', '〔', '〕', '〕〔', '㈧', '一', '一.', '一一', '一下', '一个', '一些', '一何', '一切', '一则', '一则通过', '一天', '一定', '一方面', '一旦', '一时', '一来', '一样', '一次', '一片', '一番', '一直', '一致', '一般', '一起', '一转眼', '一边', '一面', '七', '万一', '三', '三天两头', '三番两次', '三番五次', '上', '上下', '上升', '上去', '上来', '上述', '上面', '下', '下列', '下去', '下来', '下面', '不', '不一', '不下', '不久', '不了', '不亦乐乎', '不仅', '不仅...而且', '不仅仅', '不仅仅是', '不会', '不但', '不但...而且', '不光', '不免', '不再', '不力', '不单', '不变', '不只', '不可', '不可开交', '不可抗拒', '不同', '不外', '不外乎', '不够', '不大', '不如', '不妨', '不定', '不对', '不少', '不尽', '不尽然', '不巧', '不已', '不常', '不得', '不得不', '不得了', '不得已', '不必', '不怎么', '不怕', '不惟', '不成', '不拘', '不择手段', '不敢', '不料', '不断', '不日', '不时', '不是', '不曾', '不止', '不止一次', '不比', '不消', '不满', '不然', '不然的话', '不特', '不独', '不由得', '不知不觉', '不管', '不管怎样', '不经意', '不胜', '不能', '不能不', '不至于', '不若', '不要', '不论', '不起', '不足', '不过', '不迭', '不问', '不限', '与', '与其', '与其说', '与否', '与此同时', '专门', '且', '且不说', '且说', '两者', '严格', '严重', '个', '个人', '个别', '中小', '中间', '丰富', '串行', '临', '临到', '为', '为主', '为了', '为什么', '为什麽', '为何', '为止', '为此', '为着', '主张', '主要', '举凡', '举行', '乃', '乃至', '乃至于', '么', '之', '之一', '之前', '之后', '之後', '之所以', '之类', '乌乎', '乎', '乒', '乘', '乘势', '乘机', '乘胜', '乘虚', '乘隙', '九', '也', '也好', '也就是说', '也是', '也罢', '了', '了解', '争取', '二', '二来', '二话不说', '二话没说', '于', '于是', '于是乎', '云云', '云尔', '互', '互相', '五', '些', '交口', '亦', '产生', '亲口', '亲手', '亲眼', '亲自', '亲身', '人', '人人', '人们', '人家', '人民', '什么', '什么样', '什麽', '仅', '仅仅', '今', '今后', '今天', '今年', '今後', '介于', '仍', '仍旧', '仍然', '从', '从不', '从严', '从中', '从事', '从今以后', '从优', '从古到今', '从古至今', '从头', '从宽', '从小', '从新', '从无到有', '从早到晚', '从未', '从来', '从此', '从此以后', '从而', '从轻', '从速', '从重', '他', '他人', '他们', '他是', '他的', '代替', '以', '以上', '以下', '以为', '以便', '以免', '以前', '以及', '以后', '以外', '以後', '以故', '以期', '以来', '以至', '以至于', '以致', '们', '任', '任何', '任凭', '任务', '企图', '伙同', '会', '伟大', '传', '传说', '传闻', '似乎', '似的', '但', '但凡', '但愿', '但是', '何', '何乐而不为', '何以', '何况', '何处', '何妨', '何尝', '何必', '何时', '何止', '何苦', '何须', '余外', '作为', '你', '你们', '你是', '你的', '使', '使得', '使用', '例如', '依', '依据', '依照', '依靠', '便', '便于', '促进', '保持', '保管', '保险', '俺', '俺们', '倍加', '倍感', '倒不如', '倒不如说', '倒是', '倘', '倘使', '倘或', '倘然', '倘若', '借', '借以', '借此', '假使', '假如', '假若', '偏偏', '做到', '偶尔', '偶而', '傥然', '像', '儿', '允许', '元／吨', '充其极', '充其量', '充分', '先不先', '先后', '先後', '先生', '光', '光是', '全体', '全力', '全年', '全然', '全身心', '全部', '全都', '全面', '八', '八成', '公然', '六', '兮', '共', '共同', '共总', '关于', '其', '其一', '其中', '其二', '其他', '其余', '其后', '其它', '其实', '其次', '具体', '具体地说', '具体来说', '具体说来', '具有', '兼之', '内', '再', '再其次', '再则', '再有', '再次', '再者', '再者说', '再说', '冒', '冲', '决不', '决定', '决非', '况且', '准备', '凑巧', '凝神', '几', '几乎', '几度', '几时', '几番', '几经', '凡', '凡是', '凭', '凭借', '出', '出于', '出去', '出来', '出现', '分别', '分头', '分期', '分期分批', '切', '切不可', '切切', '切勿', '切莫', '则', '则甚', '刚', '刚好', '刚巧', '刚才', '初', '别', '别人', '别处', '别是', '别的', '别管', '别说', '到', '到了儿', '到处', '到头', '到头来', '到底', '到目前为止', '前后', '前此', '前者', '前进', '前面', '加上', '加之', '加以', '加入', '加强', '动不动', '动辄', '勃然', '匆匆', '十分', '千', '千万', '千万千万', '半', '单', '单单', '单纯', '即', '即令', '即使', '即便', '即刻', '即如', '即将', '即或', '即是说', '即若', '却', '却不', '历', '原来', '去', '又', '又及', '及', '及其', '及时', '及至', '双方', '反之', '反之亦然', '反之则', '反倒', '反倒是', '反应', '反手', '反映', '反而', '反过来', '反过来说', '取得', '取道', '受到', '变成', '古来', '另', '另一个', '另一方面', '另外', '另悉', '另方面', '另行', '只', '只当', '只怕', '只是', '只有', '只消', '只要', '只限', '叫', '叫做', '召开', '叮咚', '叮当', '可', '可以', '可好', '可是', '可能', '可见', '各', '各个', '各人', '各位', '各地', '各式', '各种', '各级', '各自', '合理', '同', '同一', '同时', '同样', '后', '后来', '后者', '后面', '向', '向使', '向着', '吓', '吗', '否则', '吧', '吧哒', '吱', '呀', '呃', '呆呆地', '呐', '呕', '呗', '呜', '呜呼', '呢', '周围', '呵', '呵呵', '呸', '呼哧', '呼啦', '咋', '和', '咚', '咦', '咧', '咱', '咱们', '咳', '哇', '哈', '哈哈', '哉', '哎', '哎呀', '哎哟', '哗', '哗啦', '哟', '哦', '哩', '哪', '哪个', '哪些', '哪儿', '哪天', '哪年', '哪怕', '哪样', '哪边', '哪里', '哼', '哼唷', '唉', '唯有', '啊', '啊呀', '啊哈', '啊哟', '啐', '啥', '啦', '啪达', '啷当', '喀', '喂', '喏', '喔唷', '喽', '嗡', '嗡嗡', '嗬', '嗯', '嗳', '嘎', '嘎嘎', '嘎登', '嘘', '嘛', '嘻', '嘿', '嘿嘿', '四', '因', '因为', '因了', '因此', '因着', '因而', '固', '固然', '在', '在下', '在于', '地', '均', '坚决', '坚持', '基于', '基本', '基本上', '处在', '处处', '处理', '复杂', '多', '多么', '多亏', '多多', '多多少少', '多多益善', '多少', '多年前', '多年来', '多数', '多次', '够瞧的', '大', '大不了', '大举', '大事', '大体', '大体上', '大凡', '大力', '大多', '大多数', '大大', '大家', '大张旗鼓', '大批', '大抵', '大概', '大略', '大约', '大致', '大都', '大量', '大面儿上', '失去', '奇', '奈', '奋勇', '她', '她们', '她是', '她的', '好', '好在', '好的', '好象', '如', '如上', '如上所述', '如下', '如今', '如何', '如其', '如前所述', '如同', '如常', '如是', '如期', '如果', '如次', '如此', '如此等等', '如若', '始而', '姑且', '存在', '存心', '孰料', '孰知', '宁', '宁可', '宁愿', '宁肯', '它', '它们', '它们的', '它是', '它的', '安全', '完全', '完成', '定', '实现', '实际', '宣布', '容易', '密切', '对', '对于', '对应', '对待', '对方', '对比', '将', '将才', '将要', '将近', '小', '少数', '尔后', '尔尔', '尔等', '尚且', '尤其', '就', '就地', '就是', '就是了', '就是说', '就此', '就算', '就要', '尽', '尽可能', '尽如人意', '尽心尽力', '尽心竭力', '尽快', '尽早', '尽然', '尽管', '尽管如此', '尽量', '局外', '居然', '届时', '属于', '屡', '屡屡', '屡次', '屡次三番', '岂', '岂但', '岂止', '岂非', '川流不息', '左右', '巨大', '巩固', '差一点', '差不多', '己', '已', '已矣', '已经', '巴', '巴巴', '带', '帮助', '常', '常常', '常言说', '常言说得好', '常言道', '平素', '年复一年', '并', '并不', '并不是', '并且', '并排', '并无', '并没', '并没有', '并肩', '并非', '广大', '广泛', '应当', '应用', '应该', '庶乎', '庶几', '开外', '开始', '开展', '引起', '弗', '弹指之间', '强烈', '强调', '归', '归根到底', '归根结底', '归齐', '当', '当下', '当中', '当儿', '当前', '当即', '当口儿', '当地', '当场', '当头', '当庭', '当时', '当然', '当真', '当着', '形成', '彻夜', '彻底', '彼', '彼时', '彼此', '往', '往往', '待', '待到', '很', '很多', '很少', '後来', '後面', '得', '得了', '得出', '得到', '得天独厚', '得起', '心里', '必', '必定', '必将', '必然', '必要', '必须', '快', '快要', '忽地', '忽然', '怎', '怎么', '怎么办', '怎么样', '怎奈', '怎样', '怎麽', '怕', '急匆匆', '怪', '怪不得', '总之', '总是', '总的来看', '总的来说', '总的说来', '总结', '总而言之', '恍然', '恐怕', '恰似', '恰好', '恰如', '恰巧', '恰恰', '恰恰相反', '恰逢', '您', '您们', '您是', '惟其', '惯常', '意思', '愤然', '愿意', '慢说', '成为', '成年', '成年累月', '成心', '我', '我们', '我是', '我的', '或', '或则', '或多或少', '或是', '或曰', '或者', '或许', '战斗', '截然', '截至', '所', '所以', '所在', '所幸', '所有', '所谓', '才', '才能', '扑通', '打', '打从', '打开天窗说亮话', '扩大', '把', '抑或', '抽冷子', '拦腰', '拿', '按', '按时', '按期', '按照', '按理', '按说', '挨个', '挨家挨户', '挨次', '挨着', '挨门挨户', '挨门逐户', '换句话说', '换言之', '据', '据实', '据悉', '据我所知', '据此', '据称', '据说', '掌握', '接下来', '接着', '接著', '接连不断', '放量', '故', '故意', '故此', '故而', '敞开儿', '敢', '敢于', '敢情', '数/', '整个', '断然', '方', '方便', '方才', '方能', '方面', '旁人', '无', '无宁', '无法', '无论', '既', '既...又', '既往', '既是', '既然', '日复一日', '日渐', '日益', '日臻', '日见', '时候', '昂然', '明显', '明确', '是', '是不是', '是以', '是否', '是的', '显然', '显著', '普通', '普遍', '暗中', '暗地里', '暗自', '更', '更为', '更加', '更进一步', '曾', '曾经', '替', '替代', '最', '最后', '最大', '最好', '最後', '最近', '最高', '有', '有些', '有关', '有利', '有力', '有及', '有所', '有效', '有时', '有点', '有的', '有的是', '有着', '有著', '望', '朝', '朝着', '末##末', '本', '本人', '本地', '本着', '本身', '权时', '来', '来不及', '来得及', '来看', '来着', '来自', '来讲', '来说', '极', '极为', '极了', '极其', '极力', '极大', '极度', '极端', '构成', '果然', '果真', '某', '某个', '某些', '某某', '根据', '根本', '格外', '梆', '概', '次第', '欢迎', '欤', '正值', '正在', '正如', '正巧', '正常', '正是', '此', '此中', '此后', '此地', '此处', '此外', '此时', '此次', '此间', '殆', '毋宁', '每', '每个', '每天', '每年', '每当', '每时每刻', '每每', '每逢', '比', '比及', '比如', '比如说', '比方', '比照', '比起', '比较', '毕竟', '毫不', '毫无', '毫无例外', '毫无保留地', '汝', '沙沙', '没', '没奈何', '没有', '沿', '沿着', '注意', '活', '深入', '清楚', '满', '满足', '漫说', '焉', '然', '然则', '然后', '然後', '然而', '照', '照着', '牢牢', '特别是', '特殊', '特点', '犹且', '犹自', '独', '独自', '猛然', '猛然间', '率尔', '率然', '现代', '现在', '理应', '理当', '理该', '瑟瑟', '甚且', '甚么', '甚或', '甚而', '甚至', '甚至于', '用', '用来', '甫', '甭', '由', '由于', '由是', '由此', '由此可见', '略', '略为', '略加', '略微', '白', '白白', '的', '的确', '的话', '皆可', '目前', '直到', '直接', '相似', '相信', '相反', '相同', '相对', '相对而言', '相应', '相当', '相等', '省得', '看', '看上去', '看出', '看到', '看来', '看样子', '看看', '看见', '看起来', '真是', '真正', '眨眼', '着', '着呢', '矣', '矣乎', '矣哉', '知道', '砰', '确定', '碰巧', '社会主义', '离', '种', '积极', '移动', '究竟', '穷年累月', '突出', '突然', '窃', '立', '立刻', '立即', '立地', '立时', '立马', '竟', '竟然', '竟而', '第', '第二', '等', '等到', '等等', '策略地', '简直', '简而言之', '简言之', '管', '类如', '粗', '精光', '紧接着', '累年', '累次', '纯', '纯粹', '纵', '纵令', '纵使', '纵然', '练习', '组成', '经', '经常', '经过', '结合', '结果', '给', '绝', '绝不', '绝对', '绝非', '绝顶', '继之', '继后', '继续', '继而', '维持', '综上所述', '缕缕', '罢了', '老', '老大', '老是', '老老实实', '考虑', '者', '而', '而且', '而况', '而又', '而后', '而外', '而已', '而是', '而言', '而论', '联系', '联袂', '背地里', '背靠背', '能', '能否', '能够', '腾', '自', '自个儿', '自从', '自各儿', '自后', '自家', '自己', '自打', '自身', '臭', '至', '至于', '至今', '至若', '致', '般的', '良好', '若', '若夫', '若是', '若果', '若非', '范围', '莫', '莫不', '莫不然', '莫如', '莫若', '莫非', '获得', '藉以', '虽', '虽则', '虽然', '虽说', '蛮', '行为', '行动', '表明', '表示', '被', '要', '要不', '要不是', '要不然', '要么', '要是', '要求', '见', '规定', '觉得', '譬喻', '譬如', '认为', '认真', '认识', '让', '许多', '论', '论说', '设使', '设或', '设若', '诚如', '诚然', '话说', '该', '该当', '说明', '说来', '说说', '请勿', '诸', '诸位', '诸如', '谁', '谁人', '谁料', '谁知', '谨', '豁然', '贼死', '赖以', '赶', '赶快', '赶早不赶晚', '起', '起先', '起初', '起头', '起来', '起见', '起首', '趁', '趁便', '趁势', '趁早', '趁机', '趁热', '趁着', '越是', '距', '跟', '路经', '转动', '转变', '转贴', '轰然', '较', '较为', '较之', '较比', '边', '达到', '达旦', '迄', '迅速', '过', '过于', '过去', '过来', '运用', '近', '近几年来', '近年来', '近来', '还', '还是', '还有', '还要', '这', '这一来', '这个', '这么', '这么些', '这么样', '这么点儿', '这些', '这会儿', '这儿', '这就是说', '这时', '这样', '这次', '这点', '这种', '这般', '这边', '这里', '这麽', '进入', '进去', '进来', '进步', '进而', '进行', '连', '连同', '连声', '连日', '连日来', '连袂', '连连', '迟早', '迫于', '适应', '适当', '适用', '逐步', '逐渐', '通常', '通过', '造成', '逢', '遇到', '遭到', '遵循', '遵照', '避免', '那', '那个', '那么', '那么些', '那么样', '那些', '那会儿', '那儿', '那时', '那末', '那样', '那般', '那边', '那里', '那麽', '部分', '都', '鄙人', '采取', '里面', '重大', '重新', '重要', '鉴于', '针对', '长期以来', '长此下去', '长线', '长话短说', '问题', '间或', '防止', '阿', '附近', '陈年', '限制', '陡然', '除', '除了', '除却', '除去', '除外', '除开', '除此', '除此之外', '除此以外', '除此而外', '除非', '随', '随后', '随时', '随着', '随著', '隔夜', '隔日', '难得', '难怪', '难说', '难道', '难道说', '集中', '零', '需要', '非但', '非常', '非徒', '非得', '非特', '非独', '靠', '顶多', '顷', '顷刻', '顷刻之间', '顷刻间', '顺', '顺着', '顿时', '颇', '风雨无阻', '饱', '首先', '马上', '高低', '高兴', '默然', '默默地', '齐', '︿', '！', '＃', '＄', '％', '＆', '＇', '（', '）', '）÷（１－', '）、', '＊', '＋', '＋ξ', '＋＋', '，', '，也', '－', '－β', '－－', '－［＊］－', '．', '／', '０', '０：２', '１', '１．', '１２％', '２', '２．３％', '３', '４', '５', '５：０', '６', '７', '８', '９', '：', '；', '＜', '＜±', '＜Δ', '＜λ', '＜φ', '＜＜', '＝', '＝″', '＝☆', '＝（', '＝－', '＝［', '＝｛', '＞', '＞λ', '？', '＠', 'Ａ', 'ＬＩ', 'Ｒ．Ｌ．', 'ＺＸＦＩＴＬ', '［', '［①①］', '［①②］', '［①③］', '［①④］', '［①⑤］', '［①⑥］', '［①⑦］', '［①⑧］', '［①⑨］', '［①Ａ］', '［①Ｂ］', '［①Ｃ］', '［①Ｄ］', '［①Ｅ］', '［①］', '［①ａ］', '［①ｃ］', '［①ｄ］', '［①ｅ］', '［①ｆ］', '［①ｇ］', '［①ｈ］', '［①ｉ］', '［①ｏ］', '［②', '［②①］', '［②②］', '［②③］', '［②④', '［②⑤］', '［②⑥］', '［②⑦］', '［②⑧］', '［②⑩］', '［②Ｂ］', '［②Ｇ］', '［②］', '［②ａ］', '［②ｂ］', '［②ｃ］', '［②ｄ］', '［②ｅ］', '［②ｆ］', '［②ｇ］', '［②ｈ］', '［②ｉ］', '［②ｊ］', '［③①］', '［③⑩］', '［③Ｆ］', '［③］', '［③ａ］', '［③ｂ］', '［③ｃ］', '［③ｄ］', '［③ｅ］', '［③ｇ］', '［③ｈ］', '［④］', '［④ａ］', '［④ｂ］', '［④ｃ］', '［④ｄ］', '［④ｅ］', '［⑤］', '［⑤］］', '［⑤ａ］', '［⑤ｂ］', '［⑤ｄ］', '［⑤ｅ］', '［⑤ｆ］', '［⑥］', '［⑦］', '［⑧］', '［⑨］', '［⑩］', '［＊］', '［－', '［］', '］', '］∧′＝［', '］［', '＿', 'ａ］', 'ｂ］', 'ｃ］', 'ｅ］', 'ｆ］', 'ｎｇ昉', '｛', '｛－', '｜', '｝', '｝＞', '～', '～±', '～＋', '￥', '1', '2', '3', '4', '5', '6', '7', '8', '9', '0', '01', '02', '03', '04', '05', '06', '07', '08', '09', '10', '##', '###', '####', '#####', '######']\n"
     ]
    }
   ],
   "source": [
    "stop_words = [] \n",
    "    \n",
    "with open(\"stopwords_cn.txt\", 'r', encoding='utf-8') as f:\n",
    "    lines = f.readlines()\n",
    "    for line in lines:\n",
    "        stop_words.append(line.strip()) \n",
    "print(stop_words)"
   ]
  },
  {
   "cell_type": "code",
   "execution_count": 9,
   "metadata": {},
   "outputs": [
    {
     "name": "stdout",
     "output_type": "stream",
     "text": [
      "(235, 2000)\n",
      "  (0, 696)\t0.04845367726390717\n",
      "  (0, 235)\t0.2388760747007479\n",
      "  (0, 1415)\t0.046424116148344075\n",
      "  (0, 915)\t0.04602987740903083\n",
      "  (0, 1946)\t0.2388760747007479\n",
      "  (0, 1413)\t0.2388760747007479\n",
      "  (0, 1771)\t0.2388760747007479\n",
      "  (0, 1315)\t0.2388760747007479\n",
      "  (0, 755)\t0.20094644458601246\n",
      "  (0, 956)\t0.2388760747007479\n",
      "  (0, 480)\t0.2388760747007479\n",
      "  (0, 1023)\t0.2388760747007479\n",
      "  (0, 1686)\t0.2388760747007479\n",
      "  (0, 1934)\t0.2220919459957485\n",
      "  (0, 1382)\t0.2388760747007479\n",
      "  (0, 1880)\t0.2388760747007479\n",
      "  (0, 1178)\t0.2388760747007479\n",
      "  (0, 987)\t0.2101834171640554\n",
      "  (0, 622)\t0.2101834171640554\n",
      "  (0, 870)\t0.2220919459957485\n",
      "  (0, 215)\t0.04583415716385748\n",
      "  (0, 650)\t0.2101834171640554\n",
      "  (0, 597)\t0.18701825887489346\n",
      "  (1, 1170)\t0.18485120116755988\n",
      "  (1, 1843)\t0.21008569531515095\n",
      "  :\t:\n",
      "  (234, 1342)\t0.19532465361725418\n",
      "  (234, 1682)\t0.19532465361725418\n",
      "  (234, 1411)\t0.21206660974241118\n",
      "  (234, 533)\t0.1795309918572247\n",
      "  (234, 1367)\t0.18300954407796913\n",
      "  (234, 1096)\t0.19532465361725418\n",
      "  (234, 12)\t0.18300954407796913\n",
      "  (234, 823)\t0.1762925372166275\n",
      "  (234, 708)\t0.1762925372166275\n",
      "  (234, 1814)\t0.16773455029776213\n",
      "  (234, 1681)\t0.15622875347233717\n",
      "  (234, 1763)\t0.16773455029776213\n",
      "  (234, 1661)\t0.19532465361725418\n",
      "  (234, 714)\t0.13928315722484647\n",
      "  (234, 1635)\t0.15622875347233717\n",
      "  (234, 1040)\t0.143756919331441\n",
      "  (234, 1600)\t0.11704420556816295\n",
      "  (234, 737)\t0.13652124449027694\n",
      "  (234, 945)\t0.15423104881320227\n",
      "  (234, 1334)\t0.1523149062503064\n",
      "  (234, 1774)\t0.16278903573206768\n",
      "  (234, 696)\t0.05494333616795948\n",
      "  (234, 1415)\t0.05264194512928871\n",
      "  (234, 915)\t0.05219490389717452\n",
      "  (234, 215)\t0.05197296979778997\n"
     ]
    },
    {
     "name": "stderr",
     "output_type": "stream",
     "text": [
      "D:\\rgzn\\lib\\site-packages\\sklearn\\feature_extraction\\text.py:300: UserWarning: Your stop_words may be inconsistent with your preprocessing. Tokenizing the stop words generated tokens ['11', '12', '13', '14', '15', '16', '17', '18', '19', '1a', '1b', '1c', '1d', '1e', '1f', '1g', '1h', '1i', '1o', '21', '210', '22', '23', '24', '25', '26', '27', '28', '2a', '2b', '2c', '2d', '2e', '2f', '2g', '2h', '2i', '2j', '31', '310', '3a', '3b', '3c', '3d', '3e', '3f', '3g', '3h', '4a', '4b', '4c', '4d', '4e', '5a', '5b', '5d', '5e', '5f', 'iii', 'lex', 'li', 'ng昉', 'zxfitl'] not in stop_words.\n",
      "  'stop_words.' % sorted(inconsistent))\n"
     ]
    }
   ],
   "source": [
    "#coding: utf-8\n",
    "import pandas as pd\n",
    "from sklearn.feature_extraction.text import TfidfVectorizer, CountVectorizer\n",
    "\n",
    "#---------------------  第一步 读取数据(已分词)  ----------------------\n",
    "corpus = []\n",
    "\n",
    "# 读取预料 一行预料为一个文档\n",
    "for line in open('保姆纵火案-fenci.txt', 'r',encoding='utf-8').readlines():\n",
    "    corpus.append(line.strip())\n",
    "        \n",
    "#-----------------------  第二步 计算TF-IDF值  ----------------------- \n",
    "# 设置特征数\n",
    "n_features = 2000\n",
    "\n",
    "tf_vectorizer = TfidfVectorizer(strip_accents = 'unicode',\n",
    "                                max_features=n_features,\n",
    "                                stop_words=stop_words,\n",
    "                                max_df = 0.99,\n",
    "                                min_df = 0.002) #去除文档内出现几率过大或过小的词汇\n",
    "\n",
    "tf = tf_vectorizer.fit_transform(corpus)\n",
    "\n",
    "print(tf.shape)\n",
    "print(tf)"
   ]
  },
  {
   "cell_type": "code",
   "execution_count": 16,
   "metadata": {},
   "outputs": [
    {
     "name": "stdout",
     "output_type": "stream",
     "text": [
      "Features length: 3111\n",
      "Start Kmeans:\n",
      "KMeans(algorithm='auto', copy_x=True, init='k-means++', max_iter=300,\n",
      "       n_clusters=3, n_init=10, n_jobs=None, precompute_distances='auto',\n",
      "       random_state=None, tol=0.0001, verbose=0)\n",
      "[0 0 0 0 0 0 0 0 0 0 0 0 0 0 0 0 0 0 0 0 0 0 0 0 0 0 0 0 0 0 0 0 0 0 0 0 0\n",
      " 0 0 0 0 0 0 0 0 0 0 0 0 0 0 0 0 0 0 0 0 0 0 0 0 0 0 0 0 0 0 0 0 0 0 0 0 0\n",
      " 0 0 0 0 0 0 0 0 0 0 0 0 0 0 0 0 0 0 0 0 0 0 0 0 0 0 0 0 0 0 0 0 0 0 0 0 0\n",
      " 0 0 0 0 0 0 0 0 0 0 0 1 0 0 0 0 0 0 0 0 0 2 0 0 0 0 0 2 0 2 2 2 0 2 2 2 2\n",
      " 0 2 0 0 0 0 0 0 0 0 0 0 0 0 0 0 0 0 0 0 0 1 1 1 0 1 1 1 1 1 1 1 0 1 1 1 1\n",
      " 1 1 1 0 0 0 0 0 0 0 0 0 0 0 0 0 0 0 0 0 0 0 0 0 0 0 0 0 0 0 0 0 0 0 0 0 0\n",
      " 0 0 0 0 0 0 0 0 0 0 0 0 0]\n",
      "[[ 9.84103751e-04  8.14518329e-04  7.99961262e-04 ...  1.08002297e-03\n",
      "   7.87116358e-04  1.33259969e-03]\n",
      " [-1.08420217e-19  1.08420217e-19 -2.16840434e-19 ...  3.25260652e-19\n",
      "  -2.16840434e-19  0.00000000e+00]\n",
      " [ 1.08420217e-19 -1.08420217e-19 -1.08420217e-19 ...  1.08420217e-19\n",
      "   1.08420217e-19  0.00000000e+00]]\n",
      "205.20348250101904\n"
     ]
    },
    {
     "data": {
      "image/png": "[encoded data removed]",
      "text/plain": [
       "<Figure size 432x288 with 1 Axes>"
      ]
     },
     "metadata": {
      "needs_background": "light"
     },
     "output_type": "display_data"
    }
   ],
   "source": [
    "# coding=utf-8\n",
    "import matplotlib.pyplot as plt\n",
    "from sklearn.feature_extraction.text import TfidfTransformer\n",
    "from sklearn.feature_extraction.text import CountVectorizer\n",
    "\n",
    "\n",
    "if __name__ == \"__main__\":\n",
    "\n",
    "    #########################################################################\n",
    "    #                           第一步 计算TFIDF\n",
    "\n",
    "    # 文档预料 空格连接\n",
    "    corpus = []\n",
    "\n",
    "    # 读取预料 一行预料为一个文档\n",
    "    for line in open('保姆纵火案-fenci.txt', 'r',encoding='utf-8').readlines():\n",
    "        corpus.append(line.strip())\n",
    "    # 将文本中的词语转换为词频矩阵 矩阵元素a[i][j] 表示j词在i类文本下的词频\n",
    "    vectorizer = CountVectorizer()\n",
    "\n",
    "    # 该类会统计每个词语的tf-idf权值\n",
    "    transformer = TfidfTransformer()\n",
    "\n",
    "    # 第一个fit_transform是计算tf-idf 第二个fit_transform是将文本转为词频矩阵\n",
    "    tfidf = transformer.fit_transform(vectorizer.fit_transform(corpus))\n",
    "    # 获取词袋模型中的所有词语\n",
    "    word = vectorizer.get_feature_names()\n",
    "\n",
    "    # 将tf-idf矩阵抽取出来 元素w[i][j]表示j词在i类文本中的tf-idf权重\n",
    "    weight = tfidf.toarray()\n",
    "\n",
    "    # 打印特征向量文本内容\n",
    "    print('Features length: ' + str(len(word)))\n",
    "\n",
    "    #\n",
    "    ########################################################################\n",
    "    #                               第二步 聚类Kmeans\n",
    "\n",
    "    print('Start Kmeans:')\n",
    "    from sklearn.cluster import KMeans\n",
    "\n",
    "    clf = KMeans(n_clusters=3)\n",
    "    print(clf)\n",
    "    pre = clf.fit_predict(weight)\n",
    "    print(pre)\n",
    "\n",
    "    # 中心点\n",
    "    print(clf.cluster_centers_)\n",
    "    print(clf.inertia_)\n",
    "\n",
    "    ########################################################################\n",
    "    #                               第三步 图形输出 降维\n",
    "\n",
    "    from sklearn.decomposition import PCA\n",
    "\n",
    "    pca = PCA(n_components=3)  # 输出两维\n",
    "    newData = pca.fit_transform(weight)  # 载入N维\n",
    "\n",
    "    x = [n[0] for n in newData]\n",
    "    y = [n[1] for n in newData]\n",
    "    plt.rcParams['font.sans-serif'] = ['SimHei']  # 支持中文\n",
    "    plt.rcParams['axes.unicode_minus'] = False\n",
    "    plt.scatter(x, y, c=pre, s=100)\n",
    "    # plt.legend()\n",
    "    plt.title(\"保姆纵火案-词性聚类图\")\n",
    "    plt.savefig('保姆纵火案-词性聚类图.jpg')\n",
    "    plt.show()"
   ]
  },
  {
   "cell_type": "code",
   "execution_count": 1,
   "metadata": {},
   "outputs": [
    {
     "name": "stderr",
     "output_type": "stream",
     "text": [
      "D:\\rgzn\\lib\\site-packages\\numpy\\_distributor_init.py:32: UserWarning: loaded more than 1 DLL from .libs:\n",
      "D:\\rgzn\\lib\\site-packages\\numpy\\.libs\\libopenblas.NOIJJG62EMASZI6NYURL6JBKM4EVBGM7.gfortran-win_amd64.dll\n",
      "D:\\rgzn\\lib\\site-packages\\numpy\\.libs\\libopenblas.XWYDX2IKJW2NMTWSFYNGFUWKQU3LYTCZ.gfortran-win_amd64.dll\n",
      "  stacklevel=1)\n"
     ]
    },
    {
     "ename": "NameError",
     "evalue": "name 'tf' is not defined",
     "output_type": "error",
     "traceback": [
      "\u001b[1;31m---------------------------------------------------------------------------\u001b[0m",
      "\u001b[1;31mNameError\u001b[0m                                 Traceback (most recent call last)",
      "\u001b[1;32m<ipython-input-1-f3a27c64fbe4>\u001b[0m in \u001b[0;36m<module>\u001b[1;34m\u001b[0m\n\u001b[0;32m     10\u001b[0m                                 \u001b[0mlearning_offset\u001b[0m\u001b[1;33m=\u001b[0m\u001b[1;36m50\u001b[0m\u001b[1;33m,\u001b[0m\u001b[1;33m\u001b[0m\u001b[1;33m\u001b[0m\u001b[0m\n\u001b[0;32m     11\u001b[0m                                 random_state=0)\n\u001b[1;32m---> 12\u001b[1;33m \u001b[0mlda\u001b[0m\u001b[1;33m.\u001b[0m\u001b[0mfit\u001b[0m\u001b[1;33m(\u001b[0m\u001b[0mtf\u001b[0m\u001b[1;33m)\u001b[0m\u001b[1;33m\u001b[0m\u001b[1;33m\u001b[0m\u001b[0m\n\u001b[0m\u001b[0;32m     13\u001b[0m \u001b[1;33m\u001b[0m\u001b[0m\n\u001b[0;32m     14\u001b[0m \u001b[1;31m# 显示主题数 model.topic_word_\u001b[0m\u001b[1;33m\u001b[0m\u001b[1;33m\u001b[0m\u001b[1;33m\u001b[0m\u001b[0m\n",
      "\u001b[1;31mNameError\u001b[0m: name 'tf' is not defined"
     ]
    }
   ],
   "source": [
    "#-------------------------  第三步 LDA分析  ------------------------ \n",
    "from sklearn.decomposition import LatentDirichletAllocation\n",
    "\n",
    "# 设置主题数\n",
    "n_topics = 3\n",
    "\n",
    "lda = LatentDirichletAllocation(n_components=n_topics,\n",
    "                                max_iter=100,\n",
    "                                learning_method='online',\n",
    "                                learning_offset=50,\n",
    "                                random_state=0)\n",
    "lda.fit(tf)\n",
    "\n",
    "# 显示主题数 model.topic_word_\n",
    "print(lda.components_)\n",
    "# 几个主题就是几行 多少个关键词就是几列 \n",
    "print(lda.components_.shape)                         \n",
    "\n",
    "# 计算困惑度\n",
    "print(u'困惑度：')\n",
    "print(lda.perplexity(tf,sub_sampling = False))\n",
    "\n",
    "\n",
    "\n",
    "# 主题-关键词分布\n",
    "def print_top_words(model, tf_feature_names, n_top_words):\n",
    "    for topic_idx,topic in enumerate(model.components_):  # lda.component相当于model.topic_word_\n",
    "        print('Topic #%d:' % topic_idx)\n",
    "        print(' '.join([tf_feature_names[i] for i in topic.argsort()[:-n_top_words-1:-1]]))\n",
    "        print(\"\")\n",
    "\n",
    "# 定义好函数之后 暂定每个主题输出前20个关键词\n",
    "n_top_words = 20                                       \n",
    "tf_feature_names = tf_vectorizer.get_feature_names()\n",
    "# # 调用函数\n",
    "print_top_words(lda, tf_feature_names, n_top_words)"
   ]
  },
  {
   "cell_type": "code",
   "execution_count": 21,
   "metadata": {},
   "outputs": [
    {
     "name": "stdout",
     "output_type": "stream",
     "text": [
      "PreparedData(topic_coordinates=              x         y  topics  cluster       Freq\n",
      "topic                                                \n",
      "1      0.046237  0.001222       1        1  51.631937\n",
      "2     -0.021345 -0.024500       2        1  27.186513\n",
      "0     -0.024892  0.023279       3        1  21.181550, topic_info=     Term      Freq     Total Category  logprob  loglift\n",
      "280    公开  3.000000  3.000000  Default  30.0000  30.0000\n",
      "705   年月日  3.000000  3.000000  Default  29.0000  29.0000\n",
      "679    宣判  3.000000  3.000000  Default  28.0000  28.0000\n",
      "1577   蓝色  2.000000  2.000000  Default  27.0000  27.0000\n",
      "1873   钱江  2.000000  2.000000  Default  26.0000  26.0000\n",
      "...   ...       ...       ...      ...      ...      ...\n",
      "853    时间  0.286980  0.853355   Topic3  -6.7403   0.4623\n",
      "684    家庭  0.291154  1.040014   Topic3  -6.7259   0.2789\n",
      "654    妻子  0.277475  1.135898   Topic3  -6.7740   0.1426\n",
      "66     不到  0.264152  0.619665   Topic3  -6.8232   0.6994\n",
      "47     万元  0.264198  0.890231   Topic3  -6.8230   0.3373\n",
      "\n",
      "[163 rows x 6 columns], token_table=      Topic      Freq Term\n",
      "term                      \n",
      "28        1  0.897860   一审\n",
      "28        2  0.299287   一审\n",
      "49        1  0.784340   三个\n",
      "52        1  0.994570   上午\n",
      "56        2  1.049645  上诉状\n",
      "...     ...       ...  ...\n",
      "1852      1  0.604494   部门\n",
      "1852      2  0.604494   部门\n",
      "1869      2  0.819851   量刑\n",
      "1873      1  1.020549   钱江\n",
      "1877      1  0.934214   链接\n",
      "\n",
      "[99 rows x 3 columns], R=30, lambda_step=0.01, plot_opts={'xlab': 'PC1', 'ylab': 'PC2'}, topic_order=[2, 3, 1])\n"
     ]
    }
   ],
   "source": [
    "import pyLDAvis\n",
    "import pyLDAvis.sklearn\n",
    "\n",
    "\n",
    "data = pyLDAvis.sklearn.prepare(lda,tf,tf_vectorizer)\n",
    "print(data)\n",
    "\n",
    "\n",
    "# pyLDAvis.save_html(data,' 保姆纵火案-lda.html')"
   ]
  },
  {
   "cell_type": "code",
   "execution_count": null,
   "metadata": {},
   "outputs": [],
   "source": []
  },
  {
   "cell_type": "code",
   "execution_count": null,
   "metadata": {},
   "outputs": [],
   "source": []
  }
 ],
 "metadata": {
  "kernelspec": {
   "display_name": "Python 3",
   "language": "python",
   "name": "python3"
  }
 },
 "nbformat": 4,
 "nbformat_minor": 2
}
