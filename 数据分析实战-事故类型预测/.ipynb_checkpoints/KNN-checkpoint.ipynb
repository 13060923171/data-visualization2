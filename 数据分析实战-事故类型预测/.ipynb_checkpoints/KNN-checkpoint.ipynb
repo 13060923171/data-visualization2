{
 "cells": [
  {
   "cell_type": "code",
   "execution_count": 1,
   "metadata": {},
   "outputs": [
    {
     "name": "stderr",
     "output_type": "stream",
     "text": [
      "D:\\rgzn\\lib\\site-packages\\numpy\\_distributor_init.py:32: UserWarning: loaded more than 1 DLL from .libs:\n",
      "D:\\rgzn\\lib\\site-packages\\numpy\\.libs\\libopenblas.NOIJJG62EMASZI6NYURL6JBKM4EVBGM7.gfortran-win_amd64.dll\n",
      "D:\\rgzn\\lib\\site-packages\\numpy\\.libs\\libopenblas.XWYDX2IKJW2NMTWSFYNGFUWKQU3LYTCZ.gfortran-win_amd64.dll\n",
      "  stacklevel=1)\n"
     ]
    }
   ],
   "source": [
    "import numpy as np\n",
    "import pandas as pd"
   ]
  },
  {
   "cell_type": "code",
   "execution_count": 2,
   "metadata": {},
   "outputs": [
    {
     "data": {
      "text/html": [
       "<div>\n",
       "<style scoped>\n",
       "    .dataframe tbody tr th:only-of-type {\n",
       "        vertical-align: middle;\n",
       "    }\n",
       "\n",
       "    .dataframe tbody tr th {\n",
       "        vertical-align: top;\n",
       "    }\n",
       "\n",
       "    .dataframe thead th {\n",
       "        text-align: right;\n",
       "    }\n",
       "</style>\n",
       "<table border=\"1\" class=\"dataframe\">\n",
       "  <thead>\n",
       "    <tr style=\"text-align: right;\">\n",
       "      <th></th>\n",
       "      <th>影片类型</th>\n",
       "      <th>打斗次数</th>\n",
       "      <th>亲吻次数</th>\n",
       "    </tr>\n",
       "  </thead>\n",
       "  <tbody>\n",
       "    <tr>\n",
       "      <td>0</td>\n",
       "      <td>爱情片</td>\n",
       "      <td>3</td>\n",
       "      <td>199</td>\n",
       "    </tr>\n",
       "    <tr>\n",
       "      <td>1</td>\n",
       "      <td>爱情片</td>\n",
       "      <td>2</td>\n",
       "      <td>132</td>\n",
       "    </tr>\n",
       "    <tr>\n",
       "      <td>2</td>\n",
       "      <td>爱情片</td>\n",
       "      <td>5</td>\n",
       "      <td>87</td>\n",
       "    </tr>\n",
       "    <tr>\n",
       "      <td>3</td>\n",
       "      <td>动作片</td>\n",
       "      <td>65</td>\n",
       "      <td>12</td>\n",
       "    </tr>\n",
       "    <tr>\n",
       "      <td>4</td>\n",
       "      <td>动作片</td>\n",
       "      <td>114</td>\n",
       "      <td>14</td>\n",
       "    </tr>\n",
       "    <tr>\n",
       "      <td>5</td>\n",
       "      <td>动作片</td>\n",
       "      <td>127</td>\n",
       "      <td>3</td>\n",
       "    </tr>\n",
       "  </tbody>\n",
       "</table>\n",
       "</div>"
      ],
      "text/plain": [
       "  影片类型  打斗次数  亲吻次数\n",
       "0  爱情片     3   199\n",
       "1  爱情片     2   132\n",
       "2  爱情片     5    87\n",
       "3  动作片    65    12\n",
       "4  动作片   114    14\n",
       "5  动作片   127     3"
      ]
     },
     "execution_count": 2,
     "metadata": {},
     "output_type": "execute_result"
    }
   ],
   "source": [
    "data_ = pd.read_csv('knn_data.csv')\n",
    "data_"
   ]
  },
  {
   "cell_type": "code",
   "execution_count": 3,
   "metadata": {},
   "outputs": [],
   "source": [
    "A = np.array(data_.iloc[:,1:3])\n",
    "B = np.array(data_.iloc[:,0])"
   ]
  },
  {
   "cell_type": "code",
   "execution_count": 4,
   "metadata": {},
   "outputs": [],
   "source": [
    "T = np.array([[25,100],[85,23]])"
   ]
  },
  {
   "cell_type": "code",
   "execution_count": 5,
   "metadata": {},
   "outputs": [],
   "source": [
    "def predict(A,B,T,k =3, p =2):\n",
    "    n_lp = [np.sum(np.abs(t - A) ** p,axis = 1) ** (1/p) for t in T]\n",
    "    n_idx = np.argsort(n_lp, axis = 1)[:,:k]\n",
    "    lbl = np.unique(B)\n",
    "    prob = np.array([[n[n==v].size/n.size for v in lbl] for n in B[n_idx]])\n",
    "    return lbl[prob.argmax(axis = 1)]"
   ]
  },
  {
   "cell_type": "code",
   "execution_count": 6,
   "metadata": {},
   "outputs": [
    {
     "data": {
      "text/plain": [
       "{'data': array([[5.1, 3.5, 1.4, 0.2],\n",
       "        [4.9, 3. , 1.4, 0.2],\n",
       "        [4.7, 3.2, 1.3, 0.2],\n",
       "        [4.6, 3.1, 1.5, 0.2],\n",
       "        [5. , 3.6, 1.4, 0.2],\n",
       "        [5.4, 3.9, 1.7, 0.4],\n",
       "        [4.6, 3.4, 1.4, 0.3],\n",
       "        [5. , 3.4, 1.5, 0.2],\n",
       "        [4.4, 2.9, 1.4, 0.2],\n",
       "        [4.9, 3.1, 1.5, 0.1],\n",
       "        [5.4, 3.7, 1.5, 0.2],\n",
       "        [4.8, 3.4, 1.6, 0.2],\n",
       "        [4.8, 3. , 1.4, 0.1],\n",
       "        [4.3, 3. , 1.1, 0.1],\n",
       "        [5.8, 4. , 1.2, 0.2],\n",
       "        [5.7, 4.4, 1.5, 0.4],\n",
       "        [5.4, 3.9, 1.3, 0.4],\n",
       "        [5.1, 3.5, 1.4, 0.3],\n",
       "        [5.7, 3.8, 1.7, 0.3],\n",
       "        [5.1, 3.8, 1.5, 0.3],\n",
       "        [5.4, 3.4, 1.7, 0.2],\n",
       "        [5.1, 3.7, 1.5, 0.4],\n",
       "        [4.6, 3.6, 1. , 0.2],\n",
       "        [5.1, 3.3, 1.7, 0.5],\n",
       "        [4.8, 3.4, 1.9, 0.2],\n",
       "        [5. , 3. , 1.6, 0.2],\n",
       "        [5. , 3.4, 1.6, 0.4],\n",
       "        [5.2, 3.5, 1.5, 0.2],\n",
       "        [5.2, 3.4, 1.4, 0.2],\n",
       "        [4.7, 3.2, 1.6, 0.2],\n",
       "        [4.8, 3.1, 1.6, 0.2],\n",
       "        [5.4, 3.4, 1.5, 0.4],\n",
       "        [5.2, 4.1, 1.5, 0.1],\n",
       "        [5.5, 4.2, 1.4, 0.2],\n",
       "        [4.9, 3.1, 1.5, 0.2],\n",
       "        [5. , 3.2, 1.2, 0.2],\n",
       "        [5.5, 3.5, 1.3, 0.2],\n",
       "        [4.9, 3.6, 1.4, 0.1],\n",
       "        [4.4, 3. , 1.3, 0.2],\n",
       "        [5.1, 3.4, 1.5, 0.2],\n",
       "        [5. , 3.5, 1.3, 0.3],\n",
       "        [4.5, 2.3, 1.3, 0.3],\n",
       "        [4.4, 3.2, 1.3, 0.2],\n",
       "        [5. , 3.5, 1.6, 0.6],\n",
       "        [5.1, 3.8, 1.9, 0.4],\n",
       "        [4.8, 3. , 1.4, 0.3],\n",
       "        [5.1, 3.8, 1.6, 0.2],\n",
       "        [4.6, 3.2, 1.4, 0.2],\n",
       "        [5.3, 3.7, 1.5, 0.2],\n",
       "        [5. , 3.3, 1.4, 0.2],\n",
       "        [7. , 3.2, 4.7, 1.4],\n",
       "        [6.4, 3.2, 4.5, 1.5],\n",
       "        [6.9, 3.1, 4.9, 1.5],\n",
       "        [5.5, 2.3, 4. , 1.3],\n",
       "        [6.5, 2.8, 4.6, 1.5],\n",
       "        [5.7, 2.8, 4.5, 1.3],\n",
       "        [6.3, 3.3, 4.7, 1.6],\n",
       "        [4.9, 2.4, 3.3, 1. ],\n",
       "        [6.6, 2.9, 4.6, 1.3],\n",
       "        [5.2, 2.7, 3.9, 1.4],\n",
       "        [5. , 2. , 3.5, 1. ],\n",
       "        [5.9, 3. , 4.2, 1.5],\n",
       "        [6. , 2.2, 4. , 1. ],\n",
       "        [6.1, 2.9, 4.7, 1.4],\n",
       "        [5.6, 2.9, 3.6, 1.3],\n",
       "        [6.7, 3.1, 4.4, 1.4],\n",
       "        [5.6, 3. , 4.5, 1.5],\n",
       "        [5.8, 2.7, 4.1, 1. ],\n",
       "        [6.2, 2.2, 4.5, 1.5],\n",
       "        [5.6, 2.5, 3.9, 1.1],\n",
       "        [5.9, 3.2, 4.8, 1.8],\n",
       "        [6.1, 2.8, 4. , 1.3],\n",
       "        [6.3, 2.5, 4.9, 1.5],\n",
       "        [6.1, 2.8, 4.7, 1.2],\n",
       "        [6.4, 2.9, 4.3, 1.3],\n",
       "        [6.6, 3. , 4.4, 1.4],\n",
       "        [6.8, 2.8, 4.8, 1.4],\n",
       "        [6.7, 3. , 5. , 1.7],\n",
       "        [6. , 2.9, 4.5, 1.5],\n",
       "        [5.7, 2.6, 3.5, 1. ],\n",
       "        [5.5, 2.4, 3.8, 1.1],\n",
       "        [5.5, 2.4, 3.7, 1. ],\n",
       "        [5.8, 2.7, 3.9, 1.2],\n",
       "        [6. , 2.7, 5.1, 1.6],\n",
       "        [5.4, 3. , 4.5, 1.5],\n",
       "        [6. , 3.4, 4.5, 1.6],\n",
       "        [6.7, 3.1, 4.7, 1.5],\n",
       "        [6.3, 2.3, 4.4, 1.3],\n",
       "        [5.6, 3. , 4.1, 1.3],\n",
       "        [5.5, 2.5, 4. , 1.3],\n",
       "        [5.5, 2.6, 4.4, 1.2],\n",
       "        [6.1, 3. , 4.6, 1.4],\n",
       "        [5.8, 2.6, 4. , 1.2],\n",
       "        [5. , 2.3, 3.3, 1. ],\n",
       "        [5.6, 2.7, 4.2, 1.3],\n",
       "        [5.7, 3. , 4.2, 1.2],\n",
       "        [5.7, 2.9, 4.2, 1.3],\n",
       "        [6.2, 2.9, 4.3, 1.3],\n",
       "        [5.1, 2.5, 3. , 1.1],\n",
       "        [5.7, 2.8, 4.1, 1.3],\n",
       "        [6.3, 3.3, 6. , 2.5],\n",
       "        [5.8, 2.7, 5.1, 1.9],\n",
       "        [7.1, 3. , 5.9, 2.1],\n",
       "        [6.3, 2.9, 5.6, 1.8],\n",
       "        [6.5, 3. , 5.8, 2.2],\n",
       "        [7.6, 3. , 6.6, 2.1],\n",
       "        [4.9, 2.5, 4.5, 1.7],\n",
       "        [7.3, 2.9, 6.3, 1.8],\n",
       "        [6.7, 2.5, 5.8, 1.8],\n",
       "        [7.2, 3.6, 6.1, 2.5],\n",
       "        [6.5, 3.2, 5.1, 2. ],\n",
       "        [6.4, 2.7, 5.3, 1.9],\n",
       "        [6.8, 3. , 5.5, 2.1],\n",
       "        [5.7, 2.5, 5. , 2. ],\n",
       "        [5.8, 2.8, 5.1, 2.4],\n",
       "        [6.4, 3.2, 5.3, 2.3],\n",
       "        [6.5, 3. , 5.5, 1.8],\n",
       "        [7.7, 3.8, 6.7, 2.2],\n",
       "        [7.7, 2.6, 6.9, 2.3],\n",
       "        [6. , 2.2, 5. , 1.5],\n",
       "        [6.9, 3.2, 5.7, 2.3],\n",
       "        [5.6, 2.8, 4.9, 2. ],\n",
       "        [7.7, 2.8, 6.7, 2. ],\n",
       "        [6.3, 2.7, 4.9, 1.8],\n",
       "        [6.7, 3.3, 5.7, 2.1],\n",
       "        [7.2, 3.2, 6. , 1.8],\n",
       "        [6.2, 2.8, 4.8, 1.8],\n",
       "        [6.1, 3. , 4.9, 1.8],\n",
       "        [6.4, 2.8, 5.6, 2.1],\n",
       "        [7.2, 3. , 5.8, 1.6],\n",
       "        [7.4, 2.8, 6.1, 1.9],\n",
       "        [7.9, 3.8, 6.4, 2. ],\n",
       "        [6.4, 2.8, 5.6, 2.2],\n",
       "        [6.3, 2.8, 5.1, 1.5],\n",
       "        [6.1, 2.6, 5.6, 1.4],\n",
       "        [7.7, 3. , 6.1, 2.3],\n",
       "        [6.3, 3.4, 5.6, 2.4],\n",
       "        [6.4, 3.1, 5.5, 1.8],\n",
       "        [6. , 3. , 4.8, 1.8],\n",
       "        [6.9, 3.1, 5.4, 2.1],\n",
       "        [6.7, 3.1, 5.6, 2.4],\n",
       "        [6.9, 3.1, 5.1, 2.3],\n",
       "        [5.8, 2.7, 5.1, 1.9],\n",
       "        [6.8, 3.2, 5.9, 2.3],\n",
       "        [6.7, 3.3, 5.7, 2.5],\n",
       "        [6.7, 3. , 5.2, 2.3],\n",
       "        [6.3, 2.5, 5. , 1.9],\n",
       "        [6.5, 3. , 5.2, 2. ],\n",
       "        [6.2, 3.4, 5.4, 2.3],\n",
       "        [5.9, 3. , 5.1, 1.8]]),\n",
       " 'target': array([0, 0, 0, 0, 0, 0, 0, 0, 0, 0, 0, 0, 0, 0, 0, 0, 0, 0, 0, 0, 0, 0,\n",
       "        0, 0, 0, 0, 0, 0, 0, 0, 0, 0, 0, 0, 0, 0, 0, 0, 0, 0, 0, 0, 0, 0,\n",
       "        0, 0, 0, 0, 0, 0, 1, 1, 1, 1, 1, 1, 1, 1, 1, 1, 1, 1, 1, 1, 1, 1,\n",
       "        1, 1, 1, 1, 1, 1, 1, 1, 1, 1, 1, 1, 1, 1, 1, 1, 1, 1, 1, 1, 1, 1,\n",
       "        1, 1, 1, 1, 1, 1, 1, 1, 1, 1, 1, 1, 2, 2, 2, 2, 2, 2, 2, 2, 2, 2,\n",
       "        2, 2, 2, 2, 2, 2, 2, 2, 2, 2, 2, 2, 2, 2, 2, 2, 2, 2, 2, 2, 2, 2,\n",
       "        2, 2, 2, 2, 2, 2, 2, 2, 2, 2, 2, 2, 2, 2, 2, 2, 2, 2]),\n",
       " 'target_names': array(['setosa', 'versicolor', 'virginica'], dtype='<U10'),\n",
       " 'DESCR': '.. _iris_dataset:\\n\\nIris plants dataset\\n--------------------\\n\\n**Data Set Characteristics:**\\n\\n    :Number of Instances: 150 (50 in each of three classes)\\n    :Number of Attributes: 4 numeric, predictive attributes and the class\\n    :Attribute Information:\\n        - sepal length in cm\\n        - sepal width in cm\\n        - petal length in cm\\n        - petal width in cm\\n        - class:\\n                - Iris-Setosa\\n                - Iris-Versicolour\\n                - Iris-Virginica\\n                \\n    :Summary Statistics:\\n\\n    ============== ==== ==== ======= ===== ====================\\n                    Min  Max   Mean    SD   Class Correlation\\n    ============== ==== ==== ======= ===== ====================\\n    sepal length:   4.3  7.9   5.84   0.83    0.7826\\n    sepal width:    2.0  4.4   3.05   0.43   -0.4194\\n    petal length:   1.0  6.9   3.76   1.76    0.9490  (high!)\\n    petal width:    0.1  2.5   1.20   0.76    0.9565  (high!)\\n    ============== ==== ==== ======= ===== ====================\\n\\n    :Missing Attribute Values: None\\n    :Class Distribution: 33.3% for each of 3 classes.\\n    :Creator: R.A. Fisher\\n    :Donor: Michael Marshall (MARSHALL%PLU@io.arc.nasa.gov)\\n    :Date: July, 1988\\n\\nThe famous Iris database, first used by Sir R.A. Fisher. The dataset is taken\\nfrom Fisher\\'s paper. Note that it\\'s the same as in R, but not as in the UCI\\nMachine Learning Repository, which has two wrong data points.\\n\\nThis is perhaps the best known database to be found in the\\npattern recognition literature.  Fisher\\'s paper is a classic in the field and\\nis referenced frequently to this day.  (See Duda & Hart, for example.)  The\\ndata set contains 3 classes of 50 instances each, where each class refers to a\\ntype of iris plant.  One class is linearly separable from the other 2; the\\nlatter are NOT linearly separable from each other.\\n\\n.. topic:: References\\n\\n   - Fisher, R.A. \"The use of multiple measurements in taxonomic problems\"\\n     Annual Eugenics, 7, Part II, 179-188 (1936); also in \"Contributions to\\n     Mathematical Statistics\" (John Wiley, NY, 1950).\\n   - Duda, R.O., & Hart, P.E. (1973) Pattern Classification and Scene Analysis.\\n     (Q327.D83) John Wiley & Sons.  ISBN 0-471-22361-1.  See page 218.\\n   - Dasarathy, B.V. (1980) \"Nosing Around the Neighborhood: A New System\\n     Structure and Classification Rule for Recognition in Partially Exposed\\n     Environments\".  IEEE Transactions on Pattern Analysis and Machine\\n     Intelligence, Vol. PAMI-2, No. 1, 67-71.\\n   - Gates, G.W. (1972) \"The Reduced Nearest Neighbor Rule\".  IEEE Transactions\\n     on Information Theory, May 1972, 431-433.\\n   - See also: 1988 MLC Proceedings, 54-64.  Cheeseman et al\"s AUTOCLASS II\\n     conceptual clustering system finds 3 classes in the data.\\n   - Many, many more ...',\n",
       " 'feature_names': ['sepal length (cm)',\n",
       "  'sepal width (cm)',\n",
       "  'petal length (cm)',\n",
       "  'petal width (cm)'],\n",
       " 'filename': 'D:\\\\rgzn\\\\lib\\\\site-packages\\\\sklearn\\\\datasets\\\\data\\\\iris.csv'}"
      ]
     },
     "execution_count": 6,
     "metadata": {},
     "output_type": "execute_result"
    }
   ],
   "source": [
    "from sklearn.datasets import load_iris \n",
    "iris = load_iris()\n",
    "iris"
   ]
  },
  {
   "cell_type": "code",
   "execution_count": 7,
   "metadata": {
    "scrolled": false
   },
   "outputs": [],
   "source": [
    "from sklearn.model_selection import train_test_split \n",
    "X_train,X_test,y_train,y_test=train_test_split(iris.data,iris.target,test_size=0.25,random_state=33)"
   ]
  },
  {
   "cell_type": "code",
   "execution_count": 8,
   "metadata": {},
   "outputs": [],
   "source": [
    "from sklearn.preprocessing import StandardScaler\n",
    "SS = StandardScaler()\n",
    "X_train = SS.fit_transform(X_train)\n",
    "X_test = SS.transform(X_test)"
   ]
  },
  {
   "cell_type": "code",
   "execution_count": 9,
   "metadata": {},
   "outputs": [],
   "source": [
    "from sklearn.neighbors import KNeighborsClassifier\n",
    "KNC = KNeighborsClassifier()\n",
    "KNC.fit(X_train,y_train)\n",
    "y_predict = KNC.predict(X_test)"
   ]
  },
  {
   "cell_type": "code",
   "execution_count": 10,
   "metadata": {},
   "outputs": [
    {
     "name": "stdout",
     "output_type": "stream",
     "text": [
      "KNN算法的精确率为: 0.8947368421052632\n",
      "              precision    recall  f1-score   support\n",
      "\n",
      "      setosa       1.00      1.00      1.00         8\n",
      "  versicolor       1.00      0.73      0.85        15\n",
      "   virginica       0.79      1.00      0.88        15\n",
      "\n",
      "    accuracy                           0.89        38\n",
      "   macro avg       0.93      0.91      0.91        38\n",
      "weighted avg       0.92      0.89      0.89        38\n",
      "\n"
     ]
    }
   ],
   "source": [
    "from sklearn.metrics import classification_report\n",
    "print('KNN算法的精确率为:',KNC.score(X_test,y_test))\n",
    "print(classification_report(y_predict,y_test,target_names=iris.target_names))"
   ]
  },
  {
   "cell_type": "markdown",
   "metadata": {},
   "source": [
    "\n",
    "\n",
    "\n",
    "# 开始调用自己的时间去预测事故发生事件\n",
    "\n",
    "\n"
   ]
  },
  {
   "cell_type": "code",
   "execution_count": 72,
   "metadata": {},
   "outputs": [],
   "source": [
    "df = pd.read_excel('数据挖掘数据.xlsx')"
   ]
  },
  {
   "cell_type": "code",
   "execution_count": 73,
   "metadata": {},
   "outputs": [
    {
     "data": {
      "text/html": [
       "<div>\n",
       "<style scoped>\n",
       "    .dataframe tbody tr th:only-of-type {\n",
       "        vertical-align: middle;\n",
       "    }\n",
       "\n",
       "    .dataframe tbody tr th {\n",
       "        vertical-align: top;\n",
       "    }\n",
       "\n",
       "    .dataframe thead th {\n",
       "        text-align: right;\n",
       "    }\n",
       "</style>\n",
       "<table border=\"1\" class=\"dataframe\">\n",
       "  <thead>\n",
       "    <tr style=\"text-align: right;\">\n",
       "      <th></th>\n",
       "      <th>事故编号</th>\n",
       "      <th>曝光数</th>\n",
       "      <th>报警日期</th>\n",
       "      <th>报警时间</th>\n",
       "      <th>事故类型</th>\n",
       "      <th>事件描述</th>\n",
       "      <th>估计财产损失</th>\n",
       "      <th>估计内容损失</th>\n",
       "      <th>区</th>\n",
       "      <th>城市段</th>\n",
       "      <th>...</th>\n",
       "      <th>街道编号</th>\n",
       "      <th>街道前缀</th>\n",
       "      <th>街道名称</th>\n",
       "      <th>街道后缀</th>\n",
       "      <th>街道类型</th>\n",
       "      <th>地址2</th>\n",
       "      <th>XStreet前缀</th>\n",
       "      <th>XStreet名称</th>\n",
       "      <th>XStreet后缀</th>\n",
       "      <th>XStreet类型</th>\n",
       "    </tr>\n",
       "  </thead>\n",
       "  <tbody>\n",
       "    <tr>\n",
       "      <td>0</td>\n",
       "      <td>20-0022468</td>\n",
       "      <td>0</td>\n",
       "      <td>1</td>\n",
       "      <td>00:00:15</td>\n",
       "      <td>2</td>\n",
       "      <td>Carbon monoxide incident                      ...</td>\n",
       "      <td>0</td>\n",
       "      <td>0</td>\n",
       "      <td>4</td>\n",
       "      <td>BO</td>\n",
       "      <td>...</td>\n",
       "      <td>433</td>\n",
       "      <td></td>\n",
       "      <td>HARRISON</td>\n",
       "      <td>NaN</td>\n",
       "      <td>AVE</td>\n",
       "      <td></td>\n",
       "      <td></td>\n",
       "      <td></td>\n",
       "      <td></td>\n",
       "      <td></td>\n",
       "    </tr>\n",
       "    <tr>\n",
       "      <td>1</td>\n",
       "      <td>20-0020460</td>\n",
       "      <td>0</td>\n",
       "      <td>1</td>\n",
       "      <td>00:00:28</td>\n",
       "      <td>1</td>\n",
       "      <td>Cooking fire, confined to container           ...</td>\n",
       "      <td>0</td>\n",
       "      <td>0</td>\n",
       "      <td>9</td>\n",
       "      <td>RX</td>\n",
       "      <td>...</td>\n",
       "      <td>44239</td>\n",
       "      <td></td>\n",
       "      <td>SMITH</td>\n",
       "      <td></td>\n",
       "      <td>ST</td>\n",
       "      <td></td>\n",
       "      <td></td>\n",
       "      <td></td>\n",
       "      <td></td>\n",
       "      <td></td>\n",
       "    </tr>\n",
       "    <tr>\n",
       "      <td>2</td>\n",
       "      <td>20-0026742</td>\n",
       "      <td>0</td>\n",
       "      <td>1</td>\n",
       "      <td>00:00:29</td>\n",
       "      <td>1</td>\n",
       "      <td>Cooking fire, confined to container           ...</td>\n",
       "      <td>0</td>\n",
       "      <td>0</td>\n",
       "      <td>9</td>\n",
       "      <td>RX</td>\n",
       "      <td>...</td>\n",
       "      <td>44386</td>\n",
       "      <td></td>\n",
       "      <td>DELLE</td>\n",
       "      <td></td>\n",
       "      <td>AVE</td>\n",
       "      <td>: #CLM839</td>\n",
       "      <td></td>\n",
       "      <td></td>\n",
       "      <td></td>\n",
       "      <td></td>\n",
       "    </tr>\n",
       "    <tr>\n",
       "      <td>3</td>\n",
       "      <td>20-0017044</td>\n",
       "      <td>0</td>\n",
       "      <td>1</td>\n",
       "      <td>00:00:39</td>\n",
       "      <td>2</td>\n",
       "      <td>Public service                                ...</td>\n",
       "      <td>0</td>\n",
       "      <td>0</td>\n",
       "      <td>3</td>\n",
       "      <td>BO</td>\n",
       "      <td>...</td>\n",
       "      <td>101</td>\n",
       "      <td></td>\n",
       "      <td>CAMBRIDGE</td>\n",
       "      <td></td>\n",
       "      <td>ST</td>\n",
       "      <td>: @MBTA STA-BOWDOIN</td>\n",
       "      <td></td>\n",
       "      <td></td>\n",
       "      <td></td>\n",
       "      <td></td>\n",
       "    </tr>\n",
       "    <tr>\n",
       "      <td>4</td>\n",
       "      <td>20-0022008</td>\n",
       "      <td>0</td>\n",
       "      <td>1</td>\n",
       "      <td>00:00:48</td>\n",
       "      <td>2</td>\n",
       "      <td>Gas leak (natural gas or LPG)                 ...</td>\n",
       "      <td>0</td>\n",
       "      <td>0</td>\n",
       "      <td>8</td>\n",
       "      <td>DO</td>\n",
       "      <td>...</td>\n",
       "      <td>205</td>\n",
       "      <td></td>\n",
       "      <td>FAIRMOUNT</td>\n",
       "      <td></td>\n",
       "      <td>ST</td>\n",
       "      <td></td>\n",
       "      <td></td>\n",
       "      <td></td>\n",
       "      <td></td>\n",
       "      <td></td>\n",
       "    </tr>\n",
       "  </tbody>\n",
       "</table>\n",
       "<p>5 rows × 24 columns</p>\n",
       "</div>"
      ],
      "text/plain": [
       "         事故编号  曝光数  报警日期      报警时间  事故类型  \\\n",
       "0  20-0022468    0     1  00:00:15     2   \n",
       "1  20-0020460    0     1  00:00:28     1   \n",
       "2  20-0026742    0     1  00:00:29     1   \n",
       "3  20-0017044    0     1  00:00:39     2   \n",
       "4  20-0022008    0     1  00:00:48     2   \n",
       "\n",
       "                                                事件描述  估计财产损失  估计内容损失  区  \\\n",
       "0  Carbon monoxide incident                      ...       0       0  4   \n",
       "1  Cooking fire, confined to container           ...       0       0  9   \n",
       "2  Cooking fire, confined to container           ...       0       0  9   \n",
       "3  Public service                                ...       0       0  3   \n",
       "4  Gas leak (natural gas or LPG)                 ...       0       0  8   \n",
       "\n",
       "               城市段  ...   街道编号  街道前缀                       街道名称 街道后缀  街道类型  \\\n",
       "0  BO               ...    433        HARRISON                   NaN  AVE    \n",
       "1  RX               ...  44239        SMITH                           ST     \n",
       "2  RX               ...  44386        DELLE                           AVE    \n",
       "3  BO               ...    101        CAMBRIDGE                       ST     \n",
       "4  DO               ...    205        FAIRMOUNT                       ST     \n",
       "\n",
       "                                        地址2 XStreet前缀  \\\n",
       "0                                                       \n",
       "1                                                       \n",
       "2  : #CLM839                                            \n",
       "3  : @MBTA STA-BOWDOIN                                  \n",
       "4                                                       \n",
       "\n",
       "                   XStreet名称 XStreet后缀 XStreet类型  \n",
       "0                                                 \n",
       "1                                                 \n",
       "2                                                 \n",
       "3                                                 \n",
       "4                                                 \n",
       "\n",
       "[5 rows x 24 columns]"
      ]
     },
     "execution_count": 73,
     "metadata": {},
     "output_type": "execute_result"
    }
   ],
   "source": [
    "df.head()"
   ]
  },
  {
   "cell_type": "code",
   "execution_count": 74,
   "metadata": {},
   "outputs": [
    {
     "name": "stdout",
     "output_type": "stream",
     "text": [
      "<class 'pandas.core.frame.DataFrame'>\n",
      "RangeIndex: 93310 entries, 0 to 93309\n",
      "Data columns (total 18 columns):\n",
      "曝光数       93310 non-null int64\n",
      "报警日期      93310 non-null int64\n",
      "报警时间      93310 non-null object\n",
      "事故类型      93310 non-null int64\n",
      "事件描述      93310 non-null object\n",
      "估计财产损失    93310 non-null int64\n",
      "估计内容损失    93310 non-null int64\n",
      "区         93310 non-null object\n",
      "城市段       93310 non-null object\n",
      "邻域        92279 non-null object\n",
      "拉链        93310 non-null int64\n",
      "财产使用      93310 non-null object\n",
      "属性描述      86213 non-null object\n",
      "街道前缀      93309 non-null object\n",
      "街道名称      93310 non-null object\n",
      "街道后缀      93306 non-null object\n",
      "街道类型      93310 non-null object\n",
      "地址2       93310 non-null object\n",
      "dtypes: int64(6), object(12)\n",
      "memory usage: 12.8+ MB\n"
     ]
    }
   ],
   "source": [
    "df = df.drop(['事故编号','街道编号','XStreet前缀','XStreet名称','XStreet类型','XStreet后缀'],axis=1)\n",
    "df.info()"
   ]
  },
  {
   "cell_type": "code",
   "execution_count": 75,
   "metadata": {},
   "outputs": [
    {
     "data": {
      "text/plain": [
       "曝光数          0\n",
       "报警日期         0\n",
       "报警时间         0\n",
       "事故类型         0\n",
       "事件描述         0\n",
       "估计财产损失       0\n",
       "估计内容损失       0\n",
       "区            0\n",
       "城市段          0\n",
       "邻域        1031\n",
       "拉链           0\n",
       "财产使用         0\n",
       "属性描述      7097\n",
       "街道前缀         1\n",
       "街道名称         0\n",
       "街道后缀         4\n",
       "街道类型         0\n",
       "地址2          0\n",
       "dtype: int64"
      ]
     },
     "execution_count": 75,
     "metadata": {},
     "output_type": "execute_result"
    }
   ],
   "source": [
    "df.isnull().sum()"
   ]
  },
  {
   "cell_type": "code",
   "execution_count": 76,
   "metadata": {},
   "outputs": [
    {
     "data": {
      "text/plain": [
       "曝光数       0\n",
       "报警日期      0\n",
       "报警时间      0\n",
       "事故类型      0\n",
       "事件描述      0\n",
       "估计财产损失    0\n",
       "估计内容损失    0\n",
       "区         0\n",
       "城市段       0\n",
       "邻域        0\n",
       "拉链        0\n",
       "财产使用      0\n",
       "街道前缀      0\n",
       "街道名称      0\n",
       "街道后缀      0\n",
       "街道类型      0\n",
       "地址2       0\n",
       "dtype: int64"
      ]
     },
     "execution_count": 76,
     "metadata": {},
     "output_type": "execute_result"
    }
   ],
   "source": [
    "df = df.drop(['属性描述'],axis=1)\n",
    "df.dropna(how='any',inplace=True)\n",
    "df.isnull().sum()"
   ]
  },
  {
   "cell_type": "code",
   "execution_count": 77,
   "metadata": {},
   "outputs": [
    {
     "data": {
      "text/plain": [
       "1                                                \n",
       "2        : #CLM839                               \n",
       "3        : @MBTA STA-BOWDOIN                     \n",
       "4                                                \n",
       "5                                                \n",
       "                           ...                   \n",
       "93305                                            \n",
       "93306    : #WYN4079                              \n",
       "93307    : #12-2391                              \n",
       "93308                                            \n",
       "93309    : @BFD HEADQUARTERS                     \n",
       "Name: 地址2, Length: 92274, dtype: object"
      ]
     },
     "execution_count": 77,
     "metadata": {},
     "output_type": "execute_result"
    }
   ],
   "source": [
    "df['地址2']"
   ]
  },
  {
   "cell_type": "code",
   "execution_count": 78,
   "metadata": {},
   "outputs": [],
   "source": [
    "df = df.drop(['地址2'],axis=1)"
   ]
  },
  {
   "cell_type": "code",
   "execution_count": 79,
   "metadata": {},
   "outputs": [
    {
     "data": {
      "text/plain": [
       "1          \n",
       "2          \n",
       "3          \n",
       "4          \n",
       "5          \n",
       "         ..\n",
       "93305      \n",
       "93306      \n",
       "93307      \n",
       "93308      \n",
       "93309      \n",
       "Name: 街道后缀, Length: 92274, dtype: object"
      ]
     },
     "execution_count": 79,
     "metadata": {},
     "output_type": "execute_result"
    }
   ],
   "source": [
    "df['街道后缀']"
   ]
  },
  {
   "cell_type": "code",
   "execution_count": 80,
   "metadata": {},
   "outputs": [],
   "source": [
    "df = df.drop(['街道后缀'],axis=1)"
   ]
  },
  {
   "cell_type": "code",
   "execution_count": 81,
   "metadata": {},
   "outputs": [],
   "source": [
    "df = df.drop(['街道前缀'],axis=1)"
   ]
  },
  {
   "cell_type": "code",
   "execution_count": 82,
   "metadata": {},
   "outputs": [],
   "source": [
    "df = df.drop(['报警时间'],axis=1)"
   ]
  },
  {
   "cell_type": "code",
   "execution_count": 83,
   "metadata": {},
   "outputs": [
    {
     "data": {
      "text/html": [
       "<div>\n",
       "<style scoped>\n",
       "    .dataframe tbody tr th:only-of-type {\n",
       "        vertical-align: middle;\n",
       "    }\n",
       "\n",
       "    .dataframe tbody tr th {\n",
       "        vertical-align: top;\n",
       "    }\n",
       "\n",
       "    .dataframe thead th {\n",
       "        text-align: right;\n",
       "    }\n",
       "</style>\n",
       "<table border=\"1\" class=\"dataframe\">\n",
       "  <thead>\n",
       "    <tr style=\"text-align: right;\">\n",
       "      <th></th>\n",
       "      <th>曝光数</th>\n",
       "      <th>报警日期</th>\n",
       "      <th>事故类型</th>\n",
       "      <th>事件描述</th>\n",
       "      <th>估计财产损失</th>\n",
       "      <th>估计内容损失</th>\n",
       "      <th>区</th>\n",
       "      <th>城市段</th>\n",
       "      <th>邻域</th>\n",
       "      <th>拉链</th>\n",
       "      <th>财产使用</th>\n",
       "      <th>街道名称</th>\n",
       "      <th>街道类型</th>\n",
       "    </tr>\n",
       "  </thead>\n",
       "  <tbody>\n",
       "    <tr>\n",
       "      <td>1</td>\n",
       "      <td>0</td>\n",
       "      <td>1</td>\n",
       "      <td>1</td>\n",
       "      <td>Cooking fire, confined to container           ...</td>\n",
       "      <td>0</td>\n",
       "      <td>0</td>\n",
       "      <td>9</td>\n",
       "      <td>RX</td>\n",
       "      <td>Roxbury                                       ...</td>\n",
       "      <td>2120</td>\n",
       "      <td>429</td>\n",
       "      <td>SMITH</td>\n",
       "      <td>ST</td>\n",
       "    </tr>\n",
       "    <tr>\n",
       "      <td>2</td>\n",
       "      <td>0</td>\n",
       "      <td>1</td>\n",
       "      <td>1</td>\n",
       "      <td>Cooking fire, confined to container           ...</td>\n",
       "      <td>0</td>\n",
       "      <td>0</td>\n",
       "      <td>9</td>\n",
       "      <td>RX</td>\n",
       "      <td>Roxbury                                       ...</td>\n",
       "      <td>2120</td>\n",
       "      <td>429</td>\n",
       "      <td>DELLE</td>\n",
       "      <td>AVE</td>\n",
       "    </tr>\n",
       "    <tr>\n",
       "      <td>3</td>\n",
       "      <td>0</td>\n",
       "      <td>1</td>\n",
       "      <td>2</td>\n",
       "      <td>Public service                                ...</td>\n",
       "      <td>0</td>\n",
       "      <td>0</td>\n",
       "      <td>3</td>\n",
       "      <td>BO</td>\n",
       "      <td>Boston                                        ...</td>\n",
       "      <td>2114</td>\n",
       "      <td>170</td>\n",
       "      <td>CAMBRIDGE</td>\n",
       "      <td>ST</td>\n",
       "    </tr>\n",
       "    <tr>\n",
       "      <td>4</td>\n",
       "      <td>0</td>\n",
       "      <td>1</td>\n",
       "      <td>2</td>\n",
       "      <td>Gas leak (natural gas or LPG)                 ...</td>\n",
       "      <td>0</td>\n",
       "      <td>0</td>\n",
       "      <td>8</td>\n",
       "      <td>DO</td>\n",
       "      <td>Dorchester                                    ...</td>\n",
       "      <td>2124</td>\n",
       "      <td>962</td>\n",
       "      <td>FAIRMOUNT</td>\n",
       "      <td>ST</td>\n",
       "    </tr>\n",
       "    <tr>\n",
       "      <td>5</td>\n",
       "      <td>0</td>\n",
       "      <td>1</td>\n",
       "      <td>3</td>\n",
       "      <td>Smoke detector activation, no fire - unintenti...</td>\n",
       "      <td>0</td>\n",
       "      <td>0</td>\n",
       "      <td>9</td>\n",
       "      <td>RX</td>\n",
       "      <td>Roxbury                                       ...</td>\n",
       "      <td>2121</td>\n",
       "      <td>400</td>\n",
       "      <td>SEAVER</td>\n",
       "      <td>ST</td>\n",
       "    </tr>\n",
       "  </tbody>\n",
       "</table>\n",
       "</div>"
      ],
      "text/plain": [
       "   曝光数  报警日期  事故类型                                               事件描述  估计财产损失  \\\n",
       "1    0     1     1  Cooking fire, confined to container           ...       0   \n",
       "2    0     1     1  Cooking fire, confined to container           ...       0   \n",
       "3    0     1     2  Public service                                ...       0   \n",
       "4    0     1     2  Gas leak (natural gas or LPG)                 ...       0   \n",
       "5    0     1     3  Smoke detector activation, no fire - unintenti...       0   \n",
       "\n",
       "   估计内容损失  区              城市段  \\\n",
       "1       0  9  RX                \n",
       "2       0  9  RX                \n",
       "3       0  3  BO                \n",
       "4       0  8  DO                \n",
       "5       0  9  RX                \n",
       "\n",
       "                                                  邻域    拉链 财产使用  \\\n",
       "1  Roxbury                                       ...  2120  429   \n",
       "2  Roxbury                                       ...  2120  429   \n",
       "3  Boston                                        ...  2114  170   \n",
       "4  Dorchester                                    ...  2124  962   \n",
       "5  Roxbury                                       ...  2121  400   \n",
       "\n",
       "                        街道名称  街道类型  \n",
       "1  SMITH                      ST    \n",
       "2  DELLE                      AVE   \n",
       "3  CAMBRIDGE                  ST    \n",
       "4  FAIRMOUNT                  ST    \n",
       "5  SEAVER                     ST    "
      ]
     },
     "execution_count": 83,
     "metadata": {},
     "output_type": "execute_result"
    }
   ],
   "source": [
    "df.head()"
   ]
  },
  {
   "cell_type": "code",
   "execution_count": 84,
   "metadata": {},
   "outputs": [
    {
     "data": {
      "text/plain": [
       "ST      57124\n",
       "AVE     18493\n",
       "RD       6472\n",
       "         1467\n",
       "WAY      1317\n",
       "BLVD     1302\n",
       "PL        865\n",
       "DR        864\n",
       "CT        671\n",
       "SQ        648\n",
       "PKWY      628\n",
       "HWY       578\n",
       "PARK      445\n",
       "TER       419\n",
       "CIR       268\n",
       "PLZ       198\n",
       "LN        158\n",
       "WHRF       90\n",
       "ROW        57\n",
       "SKWY       43\n",
       "MALL       41\n",
       "CIRT       24\n",
       "TPKE       23\n",
       "BCH        15\n",
       "GRN        13\n",
       "ALY        11\n",
       "CTR         9\n",
       "CRES        6\n",
       "BRG         6\n",
       "WY          5\n",
       "DM          3\n",
       "EXT         3\n",
       "VW          2\n",
       "PK          1\n",
       "TR          1\n",
       "PATH        1\n",
       "RAMP        1\n",
       "AV          1\n",
       "DRWY        1\n",
       "Name: 街道类型, dtype: int64"
      ]
     },
     "execution_count": 84,
     "metadata": {},
     "output_type": "execute_result"
    }
   ],
   "source": [
    "df['街道类型'].value_counts()"
   ]
  },
  {
   "cell_type": "code",
   "execution_count": 85,
   "metadata": {},
   "outputs": [
    {
     "data": {
      "text/plain": [
       "BO                 25412\n",
       "DO                 15643\n",
       "RX                 13787\n",
       "BR                  7682\n",
       "SB                  6367\n",
       "JP                  5091\n",
       "EB                  4184\n",
       "WR                  3246\n",
       "MT                  3068\n",
       "HP                  3054\n",
       "RS                  2439\n",
       "CH                  2299\n",
       "HI                     2\n",
       "Name: 城市段, dtype: int64"
      ]
     },
     "execution_count": 85,
     "metadata": {},
     "output_type": "execute_result"
    }
   ],
   "source": [
    "df['城市段'].value_counts()"
   ]
  },
  {
   "cell_type": "code",
   "execution_count": 86,
   "metadata": {},
   "outputs": [
    {
     "data": {
      "text/plain": [
       "Boston                                                25412\n",
       "Dorchester                                            15643\n",
       "Roxbury                                               13787\n",
       "Allston-Brighton                                       7682\n",
       "South Boston                                           6367\n",
       "Jamaica Plain                                          5091\n",
       "East Boston                                            4184\n",
       "West Roxbury                                           3246\n",
       "Mattapan                                               3068\n",
       "Hyde Park                                              3054\n",
       "Roslindale                                             2439\n",
       "Charlestown                                            2299\n",
       "Harbor Islands                                            2\n",
       "Name: 邻域, dtype: int64"
      ]
     },
     "execution_count": 86,
     "metadata": {},
     "output_type": "execute_result"
    }
   ],
   "source": [
    "df['邻域'].value_counts()"
   ]
  },
  {
   "cell_type": "code",
   "execution_count": 87,
   "metadata": {},
   "outputs": [
    {
     "data": {
      "text/html": [
       "<div>\n",
       "<style scoped>\n",
       "    .dataframe tbody tr th:only-of-type {\n",
       "        vertical-align: middle;\n",
       "    }\n",
       "\n",
       "    .dataframe tbody tr th {\n",
       "        vertical-align: top;\n",
       "    }\n",
       "\n",
       "    .dataframe thead th {\n",
       "        text-align: right;\n",
       "    }\n",
       "</style>\n",
       "<table border=\"1\" class=\"dataframe\">\n",
       "  <thead>\n",
       "    <tr style=\"text-align: right;\">\n",
       "      <th></th>\n",
       "      <th>曝光数</th>\n",
       "      <th>报警日期</th>\n",
       "      <th>事故类型</th>\n",
       "      <th>估计财产损失</th>\n",
       "      <th>估计内容损失</th>\n",
       "      <th>拉链</th>\n",
       "    </tr>\n",
       "  </thead>\n",
       "  <tbody>\n",
       "    <tr>\n",
       "      <td>count</td>\n",
       "      <td>92274.0</td>\n",
       "      <td>92274.000000</td>\n",
       "      <td>92274.000000</td>\n",
       "      <td>9.227400e+04</td>\n",
       "      <td>92274.000000</td>\n",
       "      <td>92274.000000</td>\n",
       "    </tr>\n",
       "    <tr>\n",
       "      <td>mean</td>\n",
       "      <td>0.0</td>\n",
       "      <td>2.498114</td>\n",
       "      <td>2.646184</td>\n",
       "      <td>6.023408e+02</td>\n",
       "      <td>112.307844</td>\n",
       "      <td>2127.955545</td>\n",
       "    </tr>\n",
       "    <tr>\n",
       "      <td>std</td>\n",
       "      <td>0.0</td>\n",
       "      <td>1.079392</td>\n",
       "      <td>0.983398</td>\n",
       "      <td>1.794507e+04</td>\n",
       "      <td>3518.122051</td>\n",
       "      <td>63.205028</td>\n",
       "    </tr>\n",
       "    <tr>\n",
       "      <td>min</td>\n",
       "      <td>0.0</td>\n",
       "      <td>1.000000</td>\n",
       "      <td>1.000000</td>\n",
       "      <td>0.000000e+00</td>\n",
       "      <td>0.000000</td>\n",
       "      <td>0.000000</td>\n",
       "    </tr>\n",
       "    <tr>\n",
       "      <td>25%</td>\n",
       "      <td>0.0</td>\n",
       "      <td>2.000000</td>\n",
       "      <td>2.000000</td>\n",
       "      <td>0.000000e+00</td>\n",
       "      <td>0.000000</td>\n",
       "      <td>2118.000000</td>\n",
       "    </tr>\n",
       "    <tr>\n",
       "      <td>50%</td>\n",
       "      <td>0.0</td>\n",
       "      <td>2.000000</td>\n",
       "      <td>2.000000</td>\n",
       "      <td>0.000000e+00</td>\n",
       "      <td>0.000000</td>\n",
       "      <td>2124.000000</td>\n",
       "    </tr>\n",
       "    <tr>\n",
       "      <td>75%</td>\n",
       "      <td>0.0</td>\n",
       "      <td>3.000000</td>\n",
       "      <td>3.000000</td>\n",
       "      <td>0.000000e+00</td>\n",
       "      <td>0.000000</td>\n",
       "      <td>2130.000000</td>\n",
       "    </tr>\n",
       "    <tr>\n",
       "      <td>max</td>\n",
       "      <td>0.0</td>\n",
       "      <td>4.000000</td>\n",
       "      <td>5.000000</td>\n",
       "      <td>2.000000e+06</td>\n",
       "      <td>500000.000000</td>\n",
       "      <td>2467.000000</td>\n",
       "    </tr>\n",
       "  </tbody>\n",
       "</table>\n",
       "</div>"
      ],
      "text/plain": [
       "           曝光数          报警日期          事故类型        估计财产损失         估计内容损失  \\\n",
       "count  92274.0  92274.000000  92274.000000  9.227400e+04   92274.000000   \n",
       "mean       0.0      2.498114      2.646184  6.023408e+02     112.307844   \n",
       "std        0.0      1.079392      0.983398  1.794507e+04    3518.122051   \n",
       "min        0.0      1.000000      1.000000  0.000000e+00       0.000000   \n",
       "25%        0.0      2.000000      2.000000  0.000000e+00       0.000000   \n",
       "50%        0.0      2.000000      2.000000  0.000000e+00       0.000000   \n",
       "75%        0.0      3.000000      3.000000  0.000000e+00       0.000000   \n",
       "max        0.0      4.000000      5.000000  2.000000e+06  500000.000000   \n",
       "\n",
       "                 拉链  \n",
       "count  92274.000000  \n",
       "mean    2127.955545  \n",
       "std       63.205028  \n",
       "min        0.000000  \n",
       "25%     2118.000000  \n",
       "50%     2124.000000  \n",
       "75%     2130.000000  \n",
       "max     2467.000000  "
      ]
     },
     "execution_count": 87,
     "metadata": {},
     "output_type": "execute_result"
    }
   ],
   "source": [
    "df.describe()"
   ]
  },
  {
   "cell_type": "code",
   "execution_count": 88,
   "metadata": {},
   "outputs": [],
   "source": [
    "df = df.drop(['曝光数'],axis=1)"
   ]
  },
  {
   "cell_type": "code",
   "execution_count": 89,
   "metadata": {},
   "outputs": [],
   "source": [
    "import matplotlib.pyplot as plt\n",
    "import seaborn as sns\n",
    "%matplotlib inline"
   ]
  },
  {
   "cell_type": "code",
   "execution_count": 90,
   "metadata": {},
   "outputs": [
    {
     "data": {
      "text/plain": [
       "90914"
      ]
     },
     "execution_count": 90,
     "metadata": {},
     "output_type": "execute_result"
    }
   ],
   "source": [
    "df.loc[df['估计内容损失'] == 0]['估计内容损失'].count()"
   ]
  },
  {
   "cell_type": "code",
   "execution_count": 91,
   "metadata": {},
   "outputs": [
    {
     "data": {
      "text/plain": [
       "90833"
      ]
     },
     "execution_count": 91,
     "metadata": {},
     "output_type": "execute_result"
    }
   ],
   "source": [
    "df.loc[df['估计财产损失'] == 0]['估计财产损失'].count()"
   ]
  },
  {
   "cell_type": "code",
   "execution_count": 92,
   "metadata": {},
   "outputs": [
    {
     "data": {
      "text/plain": [
       "count       891.000000\n",
       "mean      11612.310887\n",
       "std       33904.939424\n",
       "min         150.000000\n",
       "25%         750.000000\n",
       "50%        1000.000000\n",
       "75%        5000.000000\n",
       "max      500000.000000\n",
       "Name: 估计内容损失, dtype: float64"
      ]
     },
     "execution_count": 92,
     "metadata": {},
     "output_type": "execute_result"
    }
   ],
   "source": [
    "df.loc[df['估计内容损失'] > 112]['估计内容损失'].describe()"
   ]
  },
  {
   "cell_type": "code",
   "execution_count": 93,
   "metadata": {},
   "outputs": [],
   "source": [
    "df = df.loc[(df['估计内容损失'] <= 5000) & (df['估计内容损失'] >= 0)]"
   ]
  },
  {
   "cell_type": "code",
   "execution_count": 94,
   "metadata": {},
   "outputs": [
    {
     "data": {
      "text/html": [
       "<div>\n",
       "<style scoped>\n",
       "    .dataframe tbody tr th:only-of-type {\n",
       "        vertical-align: middle;\n",
       "    }\n",
       "\n",
       "    .dataframe tbody tr th {\n",
       "        vertical-align: top;\n",
       "    }\n",
       "\n",
       "    .dataframe thead th {\n",
       "        text-align: right;\n",
       "    }\n",
       "</style>\n",
       "<table border=\"1\" class=\"dataframe\">\n",
       "  <thead>\n",
       "    <tr style=\"text-align: right;\">\n",
       "      <th></th>\n",
       "      <th>报警日期</th>\n",
       "      <th>事故类型</th>\n",
       "      <th>估计财产损失</th>\n",
       "      <th>估计内容损失</th>\n",
       "      <th>拉链</th>\n",
       "    </tr>\n",
       "  </thead>\n",
       "  <tbody>\n",
       "    <tr>\n",
       "      <td>count</td>\n",
       "      <td>92056.000000</td>\n",
       "      <td>92056.000000</td>\n",
       "      <td>9.205600e+04</td>\n",
       "      <td>92056.000000</td>\n",
       "      <td>92056.000000</td>\n",
       "    </tr>\n",
       "    <tr>\n",
       "      <td>mean</td>\n",
       "      <td>2.498001</td>\n",
       "      <td>2.650072</td>\n",
       "      <td>2.021177e+02</td>\n",
       "      <td>11.887807</td>\n",
       "      <td>2127.949878</td>\n",
       "    </tr>\n",
       "    <tr>\n",
       "      <td>std</td>\n",
       "      <td>1.079229</td>\n",
       "      <td>0.981302</td>\n",
       "      <td>9.834513e+03</td>\n",
       "      <td>190.175302</td>\n",
       "      <td>63.263626</td>\n",
       "    </tr>\n",
       "    <tr>\n",
       "      <td>min</td>\n",
       "      <td>1.000000</td>\n",
       "      <td>1.000000</td>\n",
       "      <td>0.000000e+00</td>\n",
       "      <td>0.000000</td>\n",
       "      <td>0.000000</td>\n",
       "    </tr>\n",
       "    <tr>\n",
       "      <td>25%</td>\n",
       "      <td>2.000000</td>\n",
       "      <td>2.000000</td>\n",
       "      <td>0.000000e+00</td>\n",
       "      <td>0.000000</td>\n",
       "      <td>2118.000000</td>\n",
       "    </tr>\n",
       "    <tr>\n",
       "      <td>50%</td>\n",
       "      <td>2.000000</td>\n",
       "      <td>2.000000</td>\n",
       "      <td>0.000000e+00</td>\n",
       "      <td>0.000000</td>\n",
       "      <td>2124.000000</td>\n",
       "    </tr>\n",
       "    <tr>\n",
       "      <td>75%</td>\n",
       "      <td>3.000000</td>\n",
       "      <td>3.000000</td>\n",
       "      <td>0.000000e+00</td>\n",
       "      <td>0.000000</td>\n",
       "      <td>2130.000000</td>\n",
       "    </tr>\n",
       "    <tr>\n",
       "      <td>max</td>\n",
       "      <td>4.000000</td>\n",
       "      <td>5.000000</td>\n",
       "      <td>2.000000e+06</td>\n",
       "      <td>5000.000000</td>\n",
       "      <td>2467.000000</td>\n",
       "    </tr>\n",
       "  </tbody>\n",
       "</table>\n",
       "</div>"
      ],
      "text/plain": [
       "               报警日期          事故类型        估计财产损失        估计内容损失            拉链\n",
       "count  92056.000000  92056.000000  9.205600e+04  92056.000000  92056.000000\n",
       "mean       2.498001      2.650072  2.021177e+02     11.887807   2127.949878\n",
       "std        1.079229      0.981302  9.834513e+03    190.175302     63.263626\n",
       "min        1.000000      1.000000  0.000000e+00      0.000000      0.000000\n",
       "25%        2.000000      2.000000  0.000000e+00      0.000000   2118.000000\n",
       "50%        2.000000      2.000000  0.000000e+00      0.000000   2124.000000\n",
       "75%        3.000000      3.000000  0.000000e+00      0.000000   2130.000000\n",
       "max        4.000000      5.000000  2.000000e+06   5000.000000   2467.000000"
      ]
     },
     "execution_count": 94,
     "metadata": {},
     "output_type": "execute_result"
    }
   ],
   "source": [
    "df.describe()"
   ]
  },
  {
   "cell_type": "code",
   "execution_count": 95,
   "metadata": {},
   "outputs": [],
   "source": [
    "data = df"
   ]
  },
  {
   "cell_type": "code",
   "execution_count": 96,
   "metadata": {},
   "outputs": [
    {
     "name": "stdout",
     "output_type": "stream",
     "text": [
      "<class 'pandas.core.frame.DataFrame'>\n",
      "Int64Index: 92056 entries, 1 to 93309\n",
      "Data columns (total 12 columns):\n",
      "报警日期      92056 non-null int64\n",
      "事故类型      92056 non-null int64\n",
      "事件描述      92056 non-null object\n",
      "估计财产损失    92056 non-null int64\n",
      "估计内容损失    92056 non-null int64\n",
      "区         92056 non-null object\n",
      "城市段       92056 non-null object\n",
      "邻域        92056 non-null object\n",
      "拉链        92056 non-null int64\n",
      "财产使用      92056 non-null object\n",
      "街道名称      92056 non-null object\n",
      "街道类型      92056 non-null object\n",
      "dtypes: int64(5), object(7)\n",
      "memory usage: 9.1+ MB\n"
     ]
    }
   ],
   "source": [
    "data.info()"
   ]
  },
  {
   "cell_type": "code",
   "execution_count": 97,
   "metadata": {},
   "outputs": [],
   "source": [
    "data1 = data.copy()"
   ]
  },
  {
   "cell_type": "code",
   "execution_count": 98,
   "metadata": {},
   "outputs": [
    {
     "name": "stdout",
     "output_type": "stream",
     "text": [
      "<class 'pandas.core.frame.DataFrame'>\n",
      "Int64Index: 92056 entries, 1 to 93309\n",
      "Data columns (total 12 columns):\n",
      "报警日期      92056 non-null int64\n",
      "事故类型      92056 non-null int64\n",
      "事件描述      92056 non-null object\n",
      "估计财产损失    92056 non-null int64\n",
      "估计内容损失    92056 non-null int64\n",
      "区         92056 non-null object\n",
      "城市段       92056 non-null object\n",
      "邻域        92056 non-null object\n",
      "拉链        92056 non-null int64\n",
      "财产使用      92056 non-null object\n",
      "街道名称      92056 non-null object\n",
      "街道类型      92056 non-null object\n",
      "dtypes: int64(5), object(7)\n",
      "memory usage: 9.1+ MB\n"
     ]
    }
   ],
   "source": [
    "data1.info()"
   ]
  },
  {
   "cell_type": "code",
   "execution_count": 99,
   "metadata": {},
   "outputs": [],
   "source": [
    "from sklearn.preprocessing import OneHotEncoder, LabelEncoder\n",
    " \n",
    "le = LabelEncoder()\n",
    "data['事件描述'] = le.fit_transform(data['事件描述'])\n",
    "data['城市段'] = le.fit_transform(data['城市段'])\n",
    "data['邻域'] = le.fit_transform(data['邻域'])\n",
    "data['街道类型'] = le.fit_transform(data['街道类型'])"
   ]
  },
  {
   "cell_type": "code",
   "execution_count": 100,
   "metadata": {},
   "outputs": [
    {
     "data": {
      "text/html": [
       "<div>\n",
       "<style scoped>\n",
       "    .dataframe tbody tr th:only-of-type {\n",
       "        vertical-align: middle;\n",
       "    }\n",
       "\n",
       "    .dataframe tbody tr th {\n",
       "        vertical-align: top;\n",
       "    }\n",
       "\n",
       "    .dataframe thead th {\n",
       "        text-align: right;\n",
       "    }\n",
       "</style>\n",
       "<table border=\"1\" class=\"dataframe\">\n",
       "  <thead>\n",
       "    <tr style=\"text-align: right;\">\n",
       "      <th></th>\n",
       "      <th>报警日期</th>\n",
       "      <th>事故类型</th>\n",
       "      <th>事件描述</th>\n",
       "      <th>估计财产损失</th>\n",
       "      <th>估计内容损失</th>\n",
       "      <th>区</th>\n",
       "      <th>城市段</th>\n",
       "      <th>邻域</th>\n",
       "      <th>拉链</th>\n",
       "      <th>财产使用</th>\n",
       "      <th>街道名称</th>\n",
       "      <th>街道类型</th>\n",
       "    </tr>\n",
       "  </thead>\n",
       "  <tbody>\n",
       "    <tr>\n",
       "      <td>1</td>\n",
       "      <td>1</td>\n",
       "      <td>1</td>\n",
       "      <td>34</td>\n",
       "      <td>0</td>\n",
       "      <td>0</td>\n",
       "      <td>9</td>\n",
       "      <td>10</td>\n",
       "      <td>10</td>\n",
       "      <td>2120</td>\n",
       "      <td>429</td>\n",
       "      <td>SMITH</td>\n",
       "      <td>31</td>\n",
       "    </tr>\n",
       "    <tr>\n",
       "      <td>2</td>\n",
       "      <td>1</td>\n",
       "      <td>1</td>\n",
       "      <td>34</td>\n",
       "      <td>0</td>\n",
       "      <td>0</td>\n",
       "      <td>9</td>\n",
       "      <td>10</td>\n",
       "      <td>10</td>\n",
       "      <td>2120</td>\n",
       "      <td>429</td>\n",
       "      <td>DELLE</td>\n",
       "      <td>3</td>\n",
       "    </tr>\n",
       "    <tr>\n",
       "      <td>3</td>\n",
       "      <td>1</td>\n",
       "      <td>2</td>\n",
       "      <td>99</td>\n",
       "      <td>0</td>\n",
       "      <td>0</td>\n",
       "      <td>3</td>\n",
       "      <td>0</td>\n",
       "      <td>1</td>\n",
       "      <td>2114</td>\n",
       "      <td>170</td>\n",
       "      <td>CAMBRIDGE</td>\n",
       "      <td>31</td>\n",
       "    </tr>\n",
       "    <tr>\n",
       "      <td>4</td>\n",
       "      <td>1</td>\n",
       "      <td>2</td>\n",
       "      <td>63</td>\n",
       "      <td>0</td>\n",
       "      <td>0</td>\n",
       "      <td>8</td>\n",
       "      <td>3</td>\n",
       "      <td>3</td>\n",
       "      <td>2124</td>\n",
       "      <td>962</td>\n",
       "      <td>FAIRMOUNT</td>\n",
       "      <td>31</td>\n",
       "    </tr>\n",
       "    <tr>\n",
       "      <td>5</td>\n",
       "      <td>1</td>\n",
       "      <td>3</td>\n",
       "      <td>112</td>\n",
       "      <td>0</td>\n",
       "      <td>0</td>\n",
       "      <td>9</td>\n",
       "      <td>10</td>\n",
       "      <td>10</td>\n",
       "      <td>2121</td>\n",
       "      <td>400</td>\n",
       "      <td>SEAVER</td>\n",
       "      <td>31</td>\n",
       "    </tr>\n",
       "  </tbody>\n",
       "</table>\n",
       "</div>"
      ],
      "text/plain": [
       "   报警日期  事故类型  事件描述  估计财产损失  估计内容损失  区  城市段  邻域    拉链 财产使用  \\\n",
       "1     1     1    34       0       0  9   10  10  2120  429   \n",
       "2     1     1    34       0       0  9   10  10  2120  429   \n",
       "3     1     2    99       0       0  3    0   1  2114  170   \n",
       "4     1     2    63       0       0  8    3   3  2124  962   \n",
       "5     1     3   112       0       0  9   10  10  2121  400   \n",
       "\n",
       "                        街道名称  街道类型  \n",
       "1  SMITH                        31  \n",
       "2  DELLE                         3  \n",
       "3  CAMBRIDGE                    31  \n",
       "4  FAIRMOUNT                    31  \n",
       "5  SEAVER                       31  "
      ]
     },
     "execution_count": 100,
     "metadata": {},
     "output_type": "execute_result"
    }
   ],
   "source": [
    "data.head()"
   ]
  },
  {
   "cell_type": "code",
   "execution_count": 101,
   "metadata": {},
   "outputs": [
    {
     "data": {
      "text/plain": [
       "WASHINGTON                   3938\n",
       "MASSACHUSETTS                2361\n",
       "COMMONWEALTH                 1972\n",
       "DORCHESTER                   1616\n",
       "CENTRE                       1492\n",
       "                             ... \n",
       "MARTIN LUTHER                   1\n",
       "TUCKER                          1\n",
       "ROXSE                           1\n",
       "MENDELL                         1\n",
       "MINDORO                         1\n",
       "Name: 街道名称, Length: 3067, dtype: int64"
      ]
     },
     "execution_count": 101,
     "metadata": {},
     "output_type": "execute_result"
    }
   ],
   "source": [
    "data['街道名称'].value_counts()"
   ]
  },
  {
   "cell_type": "code",
   "execution_count": 102,
   "metadata": {},
   "outputs": [],
   "source": [
    "def ycz(x):\n",
    "    try:\n",
    "        x = str(x)\n",
    "        x = x.strip(' ')\n",
    "        return x\n",
    "    except:\n",
    "        return np.nan\n",
    "\n",
    "data['街道名称'] = data['街道名称'].apply(ycz)\n",
    "data['街道名称'] = le.fit_transform(data['街道名称'])"
   ]
  },
  {
   "cell_type": "code",
   "execution_count": 103,
   "metadata": {},
   "outputs": [
    {
     "data": {
      "text/html": [
       "<div>\n",
       "<style scoped>\n",
       "    .dataframe tbody tr th:only-of-type {\n",
       "        vertical-align: middle;\n",
       "    }\n",
       "\n",
       "    .dataframe tbody tr th {\n",
       "        vertical-align: top;\n",
       "    }\n",
       "\n",
       "    .dataframe thead th {\n",
       "        text-align: right;\n",
       "    }\n",
       "</style>\n",
       "<table border=\"1\" class=\"dataframe\">\n",
       "  <thead>\n",
       "    <tr style=\"text-align: right;\">\n",
       "      <th></th>\n",
       "      <th>报警日期</th>\n",
       "      <th>事故类型</th>\n",
       "      <th>事件描述</th>\n",
       "      <th>估计财产损失</th>\n",
       "      <th>估计内容损失</th>\n",
       "      <th>区</th>\n",
       "      <th>城市段</th>\n",
       "      <th>邻域</th>\n",
       "      <th>拉链</th>\n",
       "      <th>财产使用</th>\n",
       "      <th>街道名称</th>\n",
       "      <th>街道类型</th>\n",
       "    </tr>\n",
       "  </thead>\n",
       "  <tbody>\n",
       "    <tr>\n",
       "      <td>1</td>\n",
       "      <td>1</td>\n",
       "      <td>1</td>\n",
       "      <td>34</td>\n",
       "      <td>0</td>\n",
       "      <td>0</td>\n",
       "      <td>9</td>\n",
       "      <td>10</td>\n",
       "      <td>10</td>\n",
       "      <td>2120</td>\n",
       "      <td>429</td>\n",
       "      <td>2586</td>\n",
       "      <td>31</td>\n",
       "    </tr>\n",
       "    <tr>\n",
       "      <td>2</td>\n",
       "      <td>1</td>\n",
       "      <td>1</td>\n",
       "      <td>34</td>\n",
       "      <td>0</td>\n",
       "      <td>0</td>\n",
       "      <td>9</td>\n",
       "      <td>10</td>\n",
       "      <td>10</td>\n",
       "      <td>2120</td>\n",
       "      <td>429</td>\n",
       "      <td>793</td>\n",
       "      <td>3</td>\n",
       "    </tr>\n",
       "    <tr>\n",
       "      <td>3</td>\n",
       "      <td>1</td>\n",
       "      <td>2</td>\n",
       "      <td>99</td>\n",
       "      <td>0</td>\n",
       "      <td>0</td>\n",
       "      <td>3</td>\n",
       "      <td>0</td>\n",
       "      <td>1</td>\n",
       "      <td>2114</td>\n",
       "      <td>170</td>\n",
       "      <td>459</td>\n",
       "      <td>31</td>\n",
       "    </tr>\n",
       "    <tr>\n",
       "      <td>4</td>\n",
       "      <td>1</td>\n",
       "      <td>2</td>\n",
       "      <td>63</td>\n",
       "      <td>0</td>\n",
       "      <td>0</td>\n",
       "      <td>8</td>\n",
       "      <td>3</td>\n",
       "      <td>3</td>\n",
       "      <td>2124</td>\n",
       "      <td>962</td>\n",
       "      <td>1001</td>\n",
       "      <td>31</td>\n",
       "    </tr>\n",
       "    <tr>\n",
       "      <td>5</td>\n",
       "      <td>1</td>\n",
       "      <td>3</td>\n",
       "      <td>112</td>\n",
       "      <td>0</td>\n",
       "      <td>0</td>\n",
       "      <td>9</td>\n",
       "      <td>10</td>\n",
       "      <td>10</td>\n",
       "      <td>2121</td>\n",
       "      <td>400</td>\n",
       "      <td>2533</td>\n",
       "      <td>31</td>\n",
       "    </tr>\n",
       "  </tbody>\n",
       "</table>\n",
       "</div>"
      ],
      "text/plain": [
       "   报警日期  事故类型  事件描述  估计财产损失  估计内容损失  区  城市段  邻域    拉链 财产使用  街道名称  街道类型\n",
       "1     1     1    34       0       0  9   10  10  2120  429  2586    31\n",
       "2     1     1    34       0       0  9   10  10  2120  429   793     3\n",
       "3     1     2    99       0       0  3    0   1  2114  170   459    31\n",
       "4     1     2    63       0       0  8    3   3  2124  962  1001    31\n",
       "5     1     3   112       0       0  9   10  10  2121  400  2533    31"
      ]
     },
     "execution_count": 103,
     "metadata": {},
     "output_type": "execute_result"
    }
   ],
   "source": [
    "data.head()"
   ]
  },
  {
   "cell_type": "code",
   "execution_count": 104,
   "metadata": {},
   "outputs": [],
   "source": [
    "def ycz2(x):\n",
    "    try:\n",
    "        x = int(x)\n",
    "        return x\n",
    "    except:\n",
    "        return np.nan\n",
    "\n",
    "data['区'] = data['区'].apply(ycz2)\n",
    "data['区'] = le.fit_transform(data['区'])\n",
    "data['财产使用'] = data['财产使用'].apply(ycz2)\n",
    "data['财产使用'] = le.fit_transform(data['财产使用'])"
   ]
  },
  {
   "cell_type": "code",
   "execution_count": 105,
   "metadata": {},
   "outputs": [
    {
     "data": {
      "text/html": [
       "<div>\n",
       "<style scoped>\n",
       "    .dataframe tbody tr th:only-of-type {\n",
       "        vertical-align: middle;\n",
       "    }\n",
       "\n",
       "    .dataframe tbody tr th {\n",
       "        vertical-align: top;\n",
       "    }\n",
       "\n",
       "    .dataframe thead th {\n",
       "        text-align: right;\n",
       "    }\n",
       "</style>\n",
       "<table border=\"1\" class=\"dataframe\">\n",
       "  <thead>\n",
       "    <tr style=\"text-align: right;\">\n",
       "      <th></th>\n",
       "      <th>报警日期</th>\n",
       "      <th>事故类型</th>\n",
       "      <th>事件描述</th>\n",
       "      <th>估计财产损失</th>\n",
       "      <th>估计内容损失</th>\n",
       "      <th>区</th>\n",
       "      <th>城市段</th>\n",
       "      <th>邻域</th>\n",
       "      <th>拉链</th>\n",
       "      <th>财产使用</th>\n",
       "      <th>街道名称</th>\n",
       "      <th>街道类型</th>\n",
       "    </tr>\n",
       "  </thead>\n",
       "  <tbody>\n",
       "    <tr>\n",
       "      <td>1</td>\n",
       "      <td>1</td>\n",
       "      <td>1</td>\n",
       "      <td>34</td>\n",
       "      <td>0</td>\n",
       "      <td>0</td>\n",
       "      <td>6</td>\n",
       "      <td>10</td>\n",
       "      <td>10</td>\n",
       "      <td>2120</td>\n",
       "      <td>64</td>\n",
       "      <td>2586</td>\n",
       "      <td>31</td>\n",
       "    </tr>\n",
       "    <tr>\n",
       "      <td>2</td>\n",
       "      <td>1</td>\n",
       "      <td>1</td>\n",
       "      <td>34</td>\n",
       "      <td>0</td>\n",
       "      <td>0</td>\n",
       "      <td>6</td>\n",
       "      <td>10</td>\n",
       "      <td>10</td>\n",
       "      <td>2120</td>\n",
       "      <td>64</td>\n",
       "      <td>793</td>\n",
       "      <td>3</td>\n",
       "    </tr>\n",
       "    <tr>\n",
       "      <td>3</td>\n",
       "      <td>1</td>\n",
       "      <td>2</td>\n",
       "      <td>99</td>\n",
       "      <td>0</td>\n",
       "      <td>0</td>\n",
       "      <td>1</td>\n",
       "      <td>0</td>\n",
       "      <td>1</td>\n",
       "      <td>2114</td>\n",
       "      <td>30</td>\n",
       "      <td>459</td>\n",
       "      <td>31</td>\n",
       "    </tr>\n",
       "    <tr>\n",
       "      <td>4</td>\n",
       "      <td>1</td>\n",
       "      <td>2</td>\n",
       "      <td>63</td>\n",
       "      <td>0</td>\n",
       "      <td>0</td>\n",
       "      <td>5</td>\n",
       "      <td>3</td>\n",
       "      <td>3</td>\n",
       "      <td>2124</td>\n",
       "      <td>134</td>\n",
       "      <td>1001</td>\n",
       "      <td>31</td>\n",
       "    </tr>\n",
       "    <tr>\n",
       "      <td>5</td>\n",
       "      <td>1</td>\n",
       "      <td>3</td>\n",
       "      <td>112</td>\n",
       "      <td>0</td>\n",
       "      <td>0</td>\n",
       "      <td>6</td>\n",
       "      <td>10</td>\n",
       "      <td>10</td>\n",
       "      <td>2121</td>\n",
       "      <td>62</td>\n",
       "      <td>2533</td>\n",
       "      <td>31</td>\n",
       "    </tr>\n",
       "  </tbody>\n",
       "</table>\n",
       "</div>"
      ],
      "text/plain": [
       "   报警日期  事故类型  事件描述  估计财产损失  估计内容损失  区  城市段  邻域    拉链  财产使用  街道名称  街道类型\n",
       "1     1     1    34       0       0  6   10  10  2120    64  2586    31\n",
       "2     1     1    34       0       0  6   10  10  2120    64   793     3\n",
       "3     1     2    99       0       0  1    0   1  2114    30   459    31\n",
       "4     1     2    63       0       0  5    3   3  2124   134  1001    31\n",
       "5     1     3   112       0       0  6   10  10  2121    62  2533    31"
      ]
     },
     "execution_count": 105,
     "metadata": {},
     "output_type": "execute_result"
    }
   ],
   "source": [
    "data.head()"
   ]
  },
  {
   "cell_type": "code",
   "execution_count": 106,
   "metadata": {},
   "outputs": [
    {
     "name": "stdout",
     "output_type": "stream",
     "text": [
      "<class 'pandas.core.frame.DataFrame'>\n",
      "Int64Index: 92056 entries, 1 to 93309\n",
      "Data columns (total 12 columns):\n",
      "报警日期      92056 non-null int64\n",
      "事故类型      92056 non-null int64\n",
      "事件描述      92056 non-null int32\n",
      "估计财产损失    92056 non-null int64\n",
      "估计内容损失    92056 non-null int64\n",
      "区         92056 non-null int64\n",
      "城市段       92056 non-null int32\n",
      "邻域        92056 non-null int32\n",
      "拉链        92056 non-null int64\n",
      "财产使用      92056 non-null int64\n",
      "街道名称      92056 non-null int32\n",
      "街道类型      92056 non-null int32\n",
      "dtypes: int32(5), int64(7)\n",
      "memory usage: 7.4 MB\n"
     ]
    }
   ],
   "source": [
    "data.info()"
   ]
  },
  {
   "cell_type": "code",
   "execution_count": 107,
   "metadata": {},
   "outputs": [
    {
     "data": {
      "text/plain": [
       "Text(0.5, 1.0, '事故与其他特征热力图')"
      ]
     },
     "execution_count": 107,
     "metadata": {},
     "output_type": "execute_result"
    },
    {
     "data": {
      "image/png": "[encoded data removed]",
      "text/plain": [
       "<Figure size 1080x576 with 2 Axes>"
      ]
     },
     "metadata": {
      "needs_background": "light"
     },
     "output_type": "display_data"
    }
   ],
   "source": [
    "plt.rcParams['font.sans-serif'] = ['SimHei']\n",
    "plt.subplots(figsize = (15,8))\n",
    "sns.heatmap(data.corr(), annot=True,cmap=\"PiYG\")\n",
    "plt.title(\"事故与其他特征热力图\", fontsize = 20)"
   ]
  },
  {
   "cell_type": "code",
   "execution_count": 222,
   "metadata": {},
   "outputs": [],
   "source": [
    "x = data[['估计财产损失','估计内容损失','财产使用','事件描述','区']]\n",
    "y = data['事故类型']"
   ]
  },
  {
   "cell_type": "code",
   "execution_count": 223,
   "metadata": {},
   "outputs": [],
   "source": [
    "train_x,test_x,train_y,test_y = train_test_split(x,y,test_size=0.3)"
   ]
  },
  {
   "cell_type": "code",
   "execution_count": 224,
   "metadata": {},
   "outputs": [],
   "source": [
    "from sklearn.preprocessing import StandardScaler\n",
    "SS = StandardScaler()\n",
    "X_train = SS.fit_transform(train_x)\n",
    "X_test = SS.transform(test_x)"
   ]
  },
  {
   "cell_type": "code",
   "execution_count": 198,
   "metadata": {},
   "outputs": [
    {
     "data": {
      "text/plain": [
       "array([4, 2, 4, ..., 3, 2, 2], dtype=int64)"
      ]
     },
     "execution_count": 198,
     "metadata": {},
     "output_type": "execute_result"
    }
   ],
   "source": [
    "from sklearn.neighbors import KNeighborsClassifier\n",
    "KNC = KNeighborsClassifier()\n",
    "KNC.fit(train_x,train_y)\n",
    "y_predict = KNC.predict(test_x)\n",
    "y_predict"
   ]
  },
  {
   "cell_type": "code",
   "execution_count": 199,
   "metadata": {},
   "outputs": [
    {
     "name": "stdout",
     "output_type": "stream",
     "text": [
      "KNN算法的精确率为: 0.9772603830973675\n",
      "              precision    recall  f1-score   support\n",
      "\n",
      "     class 1       0.95      0.98      0.97      2485\n",
      "     class 2       0.98      0.98      0.98     11669\n",
      "     class 3       0.98      0.99      0.99      6508\n",
      "     class 4       0.98      0.96      0.97      6504\n",
      "     class 5       0.90      0.97      0.94       451\n",
      "\n",
      "    accuracy                           0.98     27617\n",
      "   macro avg       0.96      0.98      0.97     27617\n",
      "weighted avg       0.98      0.98      0.98     27617\n",
      "\n"
     ]
    }
   ],
   "source": [
    "from sklearn.metrics import classification_report\n",
    "target_names = ['class 1', 'class 2', 'class 3', 'class 4', 'class 5']\n",
    "print('KNN算法的精确率为:',KNC.score(test_x,test_y))\n",
    "print(classification_report(y_predict,test_y,target_names=target_names))"
   ]
  },
  {
   "cell_type": "markdown",
   "metadata": {},
   "source": [
    "根据上面的分析内容来看，使用K-近邻的准确率为97%，准确率还是相当高的，因为把前面的数据进行了清洗，整合，删除了很多不必要的列\n",
    "以及对非数值类型的进行了编码转化为数值类型，从而提高正确率，然后再根据热力图，筛选出对事故类型影响最大的那几列，这样也提高了准确率\n",
    "最后根据classification_report显示每个类的准确度，召回率，F1值等信息，\n",
    "几乎每个类的准确度都达到百分之90以上，除了第五类，因为第五类是其他，也就说是相对于大杂烩，所以符合的条件较多，这样也会间接导致精确度下降\n",
    "然后它的召回率，F1值都趋于90%以上，当它们的值越接近1的时候，也就越接近最佳值"
   ]
  },
  {
   "cell_type": "code",
   "execution_count": 239,
   "metadata": {},
   "outputs": [],
   "source": [
    "from sklearn import svm\n",
    "from sklearn import metrics"
   ]
  },
  {
   "cell_type": "code",
   "execution_count": 240,
   "metadata": {},
   "outputs": [
    {
     "name": "stdout",
     "output_type": "stream",
     "text": [
      "准确率： 0.7100698844914365\n"
     ]
    }
   ],
   "source": [
    "#创建SVM分类器\n",
    "model = svm.SVC()\n",
    "model.fit(X_train,train_y)\n",
    "#用测试集做预测\n",
    "prediction = model.predict(X_test)\n",
    "print('准确率：',metrics.accuracy_score(prediction,test_y))"
   ]
  },
  {
   "cell_type": "code",
   "execution_count": 242,
   "metadata": {},
   "outputs": [
    {
     "name": "stdout",
     "output_type": "stream",
     "text": [
      "              precision    recall  f1-score   support\n",
      "\n",
      "     class 1       0.13      0.99      0.24       340\n",
      "     class 2       0.76      0.83      0.79     10913\n",
      "     class 3       0.84      0.68      0.75      8035\n",
      "     class 4       0.76      0.57      0.65      8329\n",
      "     class 5       0.00      0.00      0.00         0\n",
      "\n",
      "    accuracy                           0.71     27617\n",
      "   macro avg       0.50      0.61      0.49     27617\n",
      "weighted avg       0.78      0.71      0.73     27617\n",
      "\n"
     ]
    },
    {
     "name": "stderr",
     "output_type": "stream",
     "text": [
      "D:\\rgzn\\lib\\site-packages\\sklearn\\metrics\\classification.py:1439: UndefinedMetricWarning: Recall and F-score are ill-defined and being set to 0.0 in labels with no true samples.\n",
      "  'recall', 'true', average, warn_for)\n"
     ]
    }
   ],
   "source": [
    "from sklearn.metrics import classification_report\n",
    "target_names = ['class 1', 'class 2', 'class 3', 'class 4', 'class 5']\n",
    "print(classification_report(prediction,test_y,target_names=target_names))"
   ]
  },
  {
   "cell_type": "code",
   "execution_count": null,
   "metadata": {},
   "outputs": [],
   "source": []
  }
 ],
 "metadata": {
  "kernelspec": {
   "display_name": "Python 3",
   "language": "python",
   "name": "python3"
  },
  "language_info": {
   "codemirror_mode": {
    "name": "ipython",
    "version": 3
   },
   "file_extension": ".py",
   "mimetype": "text/x-python",
   "name": "python",
   "nbconvert_exporter": "python",
   "pygments_lexer": "ipython3",
   "version": "3.7.4"
  }
 },
 "nbformat": 4,
 "nbformat_minor": 4
}
