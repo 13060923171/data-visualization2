{
 "cells": [
  {
   "cell_type": "code",
   "execution_count": 27,
   "metadata": {},
   "outputs": [],
   "source": [
    "import re\n",
    "import numpy as np\n",
    "import pandas as pd"
   ]
  },
  {
   "cell_type": "code",
   "execution_count": 28,
   "metadata": {},
   "outputs": [],
   "source": [
    "data = pd.read_excel('Goodreads评论采集.xlsx')\n",
    "content = data['评论内容']"
   ]
  },
  {
   "cell_type": "code",
   "execution_count": 29,
   "metadata": {},
   "outputs": [],
   "source": [
    "data1 = pd.read_excel('亚马逊.xlsx')\n",
    "content1 = data1['review-text']"
   ]
  },
  {
   "cell_type": "code",
   "execution_count": 30,
   "metadata": {},
   "outputs": [],
   "source": [
    "stop_words = []\n",
    "with open('常用英文停用词(NLP处理英文必备)stopwords.txt','r',encoding='utf-8')as f:\n",
    "    lines = f.readlines()\n",
    "    for line in lines:\n",
    "        stop_words.append(line.strip().replace(\"'\",\"\"))"
   ]
  },
  {
   "cell_type": "code",
   "execution_count": 31,
   "metadata": {},
   "outputs": [],
   "source": [
    "def preprocess_word(word):\n",
    "    # Remove punctuation\n",
    "    word = word.strip('\\'\"?!,.():;')\n",
    "    # Convert more than 2 letter repetitions to 2 letter\n",
    "    # funnnnny --> funny\n",
    "    word = re.sub(r'(.)\\1+', r'\\1\\1', word)\n",
    "    # Remove - & '\n",
    "    word = re.sub(r'(-|\\')', '', word)\n",
    "    return word"
   ]
  },
  {
   "cell_type": "code",
   "execution_count": 32,
   "metadata": {},
   "outputs": [],
   "source": [
    "def gettext(x):\n",
    "#     txt = open(\"piao.txt\",\"r\",errors='ignore').read()\n",
    "#     txt = txt.lower()\n",
    "    for ch in '!\"#$&()*+,-./:;<=>?@[\\\\]^_{|}·~‘’\\n @':\n",
    "        txt = str(x).replace(ch,\"\")\n",
    "    return txt"
   ]
  },
  {
   "cell_type": "code",
   "execution_count": 33,
   "metadata": {},
   "outputs": [],
   "source": [
    "def handle_emojis(tweet):\n",
    "    # Smile -- :), : ), :-), (:, ( :, (-:, :')\n",
    "    tweet = re.sub(r'(:\\s?\\)|:-\\)|\\(\\s?:|\\(-:|:\\'\\))', ' ', tweet)\n",
    "    # Laugh -- :D, : D, :-D, xD, x-D, XD, X-D\n",
    "    tweet = re.sub(r'(:\\s?D|:-D|x-?D|X-?D)', ' ', tweet)\n",
    "    # Love -- <3, :*\n",
    "    tweet = re.sub(r'(<3|:\\*)', ' ', tweet)\n",
    "    # Wink -- ;-), ;), ;-D, ;D, (;,  (-;\n",
    "    tweet = re.sub(r'(;-?\\)|;-?D|\\(-?;)', ' ', tweet)\n",
    "    # Sad -- :-(, : (, :(, ):, )-:\n",
    "    tweet = re.sub(r'(:\\s?\\(|:-\\(|\\)\\s?:|\\)-:)', ' ', tweet)\n",
    "    # Cry -- :,(, :'(, :\"(\n",
    "    tweet = re.sub(r'(:,\\(|:\\'\\(|:\"\\()', ' ', tweet)\n",
    "    return tweet"
   ]
  },
  {
   "cell_type": "code",
   "execution_count": 34,
   "metadata": {},
   "outputs": [],
   "source": [
    "##判断是否为无效word\n",
    "def is_valid_word(word):\n",
    "    # Check if word begins with an alphabet\n",
    "    return (re.search(r'^[a-zA-Z][a-z0-9A-Z\\._]*$', word) is not None)"
   ]
  },
  {
   "cell_type": "code",
   "execution_count": 35,
   "metadata": {},
   "outputs": [],
   "source": [
    "def clean_text(tweet):\n",
    "    processed_tweet = []\n",
    "    # Convert to lower case\n",
    "    tweet = tweet.lower()\n",
    "    # Replaces URLs with the word URL\n",
    "    tweet = re.sub(r'((www\\.[\\S]+)|(https?://[\\S]+))', ' ', tweet)\n",
    "    # Replace @handle with the word USER_MENTION\n",
    "    tweet = re.sub(r'@[\\S]+', 'USER_MENTION', tweet)\n",
    "    # Replaces #hashtag with hashtag\n",
    "    tweet = re.sub(r'#(\\S+)', ' ', tweet)\n",
    "    # Remove RT (retweet)\n",
    "    tweet = re.sub(r'\\brt\\b', ' ', tweet)\n",
    "    # Replace 2+ dots with space\n",
    "    tweet = re.sub(r'\\.{2,}', ' ', tweet)\n",
    "    # Strip space, \" and ' from tweet\n",
    "    tweet = tweet.strip(' \"\\'')\n",
    "    # Replace emojis with either EMO_POS or EMO_NEG\n",
    "    tweet = handle_emojis(tweet)\n",
    "    # Replace multiple spaces with a single space\n",
    "    tweet = re.sub(r'\\s+', ' ', tweet)\n",
    "    words = tweet.lower().split()\n",
    "    words = [w for w in words if w not in stop_words]\n",
    "    for word in words:\n",
    "        word = preprocess_word(word)\n",
    "        if is_valid_word(word):\n",
    "            processed_tweet.append(word)\n",
    "    return processed_tweet"
   ]
  },
  {
   "cell_type": "code",
   "execution_count": 36,
   "metadata": {},
   "outputs": [],
   "source": [
    "def wenhebing(x):\n",
    "    c = ' '.join(x)\n",
    "    return c\n"
   ]
  },
  {
   "cell_type": "code",
   "execution_count": 37,
   "metadata": {},
   "outputs": [],
   "source": [
    "content = content.apply(gettext)\n",
    "content = content.apply(preprocess_word)\n",
    "content = content.apply(handle_emojis)\n",
    "content = content.apply(clean_text)\n",
    "content = content.apply(wenhebing)"
   ]
  },
  {
   "cell_type": "code",
   "execution_count": 38,
   "metadata": {},
   "outputs": [],
   "source": [
    "content1 = content1.apply(gettext)\n",
    "content1 = content1.apply(preprocess_word)\n",
    "content1 = content1.apply(handle_emojis)\n",
    "content1 = content1.apply(clean_text)\n",
    "content1 = content1.apply(wenhebing)"
   ]
  },
  {
   "cell_type": "code",
   "execution_count": 39,
   "metadata": {},
   "outputs": [],
   "source": [
    "df = pd.DataFrame()\n",
    "df['原始文本'] = data['评论内容']\n",
    "df['清洗文本'] = content"
   ]
  },
  {
   "cell_type": "code",
   "execution_count": 41,
   "metadata": {},
   "outputs": [],
   "source": [
    "df1 = pd.DataFrame()\n",
    "df1['原始文本'] = data1['review-text']\n",
    "df1['清洗文本'] = content1"
   ]
  },
  {
   "cell_type": "code",
   "execution_count": 50,
   "metadata": {},
   "outputs": [
    {
     "name": "stderr",
     "output_type": "stream",
     "text": [
      "\u001b[32m[2022-02-09 20:48:07,009] [    INFO] - Installing senta_bilstm module\u001b[0m\n",
      "\u001b[32m[2022-02-09 20:48:07,013] [    INFO] - Module senta_bilstm already installed in C:\\Users\\96075\\.paddlehub\\modules\\senta_bilstm\u001b[0m\n",
      "\u001b[32m[2022-02-09 20:48:09,532] [    INFO] - Installing lac module\u001b[0m\n",
      "\u001b[32m[2022-02-09 20:48:09,537] [    INFO] - Module lac already installed in C:\\Users\\96075\\.paddlehub\\modules\\lac\u001b[0m\n"
     ]
    },
    {
     "data": {
      "text/html": [
       "<div>\n",
       "<style scoped>\n",
       "    .dataframe tbody tr th:only-of-type {\n",
       "        vertical-align: middle;\n",
       "    }\n",
       "\n",
       "    .dataframe tbody tr th {\n",
       "        vertical-align: top;\n",
       "    }\n",
       "\n",
       "    .dataframe thead th {\n",
       "        text-align: right;\n",
       "    }\n",
       "</style>\n",
       "<table border=\"1\" class=\"dataframe\">\n",
       "  <thead>\n",
       "    <tr style=\"text-align: right;\">\n",
       "      <th></th>\n",
       "      <th>原始文本</th>\n",
       "      <th>清洗文本</th>\n",
       "      <th>情感分值</th>\n",
       "    </tr>\n",
       "  </thead>\n",
       "  <tbody>\n",
       "    <tr>\n",
       "      <th>0</th>\n",
       "      <td>***************************************\\r\\nFor...</td>\n",
       "      <td>northeastern china occupied japan brutal invas...</td>\n",
       "      <td>0.9955</td>\n",
       "    </tr>\n",
       "    <tr>\n",
       "      <th>1</th>\n",
       "      <td>“With this book I respectfully invoke the hero...</td>\n",
       "      <td>book respectfully invoke heroic aggrieved soul...</td>\n",
       "      <td>0.9956</td>\n",
       "    </tr>\n",
       "    <tr>\n",
       "      <th>2</th>\n",
       "      <td>\"In late autumn, during the eighth lunar month...</td>\n",
       "      <td>late autumn eighth lunar month vast stretches ...</td>\n",
       "      <td>0.9981</td>\n",
       "    </tr>\n",
       "    <tr>\n",
       "      <th>3</th>\n",
       "      <td>You can say I've developed a pretty healthy ob...</td>\n",
       "      <td>developed pretty healthy obsession mo yans wri...</td>\n",
       "      <td>0.9971</td>\n",
       "    </tr>\n",
       "    <tr>\n",
       "      <th>4</th>\n",
       "      <td>Part of my Fall 2017 Best Of Chinese Literatur...</td>\n",
       "      <td>fall chinese literature project here cool list...</td>\n",
       "      <td>0.9979</td>\n",
       "    </tr>\n",
       "  </tbody>\n",
       "</table>\n",
       "</div>"
      ],
      "text/plain": [
       "                                                原始文本  \\\n",
       "0  ***************************************\\r\\nFor...   \n",
       "1  “With this book I respectfully invoke the hero...   \n",
       "2  \"In late autumn, during the eighth lunar month...   \n",
       "3  You can say I've developed a pretty healthy ob...   \n",
       "4  Part of my Fall 2017 Best Of Chinese Literatur...   \n",
       "\n",
       "                                                清洗文本    情感分值  \n",
       "0  northeastern china occupied japan brutal invas...  0.9955  \n",
       "1  book respectfully invoke heroic aggrieved soul...  0.9956  \n",
       "2  late autumn eighth lunar month vast stretches ...  0.9981  \n",
       "3  developed pretty healthy obsession mo yans wri...  0.9971  \n",
       "4  fall chinese literature project here cool list...  0.9979  "
      ]
     },
     "execution_count": 50,
     "metadata": {},
     "output_type": "execute_result"
    }
   ],
   "source": [
    "import paddlehub as hub\n",
    "#这里使用了百度开源的成熟NLP模型来预测情感倾向\n",
    "senta = hub.Module(name=\"senta_bilstm\")\n",
    "texts = df['清洗文本'].tolist()\n",
    "input_data = {'text':texts}\n",
    "res = senta.sentiment_classify(data=input_data)\n",
    "df['情感分值'] = [x['positive_probs'] for x in res]\n",
    "df.head()"
   ]
  },
  {
   "cell_type": "code",
   "execution_count": 43,
   "metadata": {},
   "outputs": [
    {
     "name": "stderr",
     "output_type": "stream",
     "text": [
      "\u001b[32m[2022-02-09 20:23:12,636] [    INFO] - Installing senta_bilstm module\u001b[0m\n",
      "\u001b[32m[2022-02-09 20:23:12,638] [    INFO] - Module senta_bilstm already installed in C:\\Users\\96075\\.paddlehub\\modules\\senta_bilstm\u001b[0m\n",
      "\u001b[32m[2022-02-09 20:23:15,078] [    INFO] - Installing lac module\u001b[0m\n",
      "\u001b[32m[2022-02-09 20:23:15,082] [    INFO] - Module lac already installed in C:\\Users\\96075\\.paddlehub\\modules\\lac\u001b[0m\n"
     ]
    },
    {
     "data": {
      "text/html": [
       "<div>\n",
       "<style scoped>\n",
       "    .dataframe tbody tr th:only-of-type {\n",
       "        vertical-align: middle;\n",
       "    }\n",
       "\n",
       "    .dataframe tbody tr th {\n",
       "        vertical-align: top;\n",
       "    }\n",
       "\n",
       "    .dataframe thead th {\n",
       "        text-align: right;\n",
       "    }\n",
       "</style>\n",
       "<table border=\"1\" class=\"dataframe\">\n",
       "  <thead>\n",
       "    <tr style=\"text-align: right;\">\n",
       "      <th></th>\n",
       "      <th>原始文本</th>\n",
       "      <th>清洗文本</th>\n",
       "      <th>情感分值</th>\n",
       "    </tr>\n",
       "  </thead>\n",
       "  <tbody>\n",
       "    <tr>\n",
       "      <th>0</th>\n",
       "      <td>Imagine a character who (spoiler alert) murder...</td>\n",
       "      <td>imagine character spoiler alert murders widowe...</td>\n",
       "      <td>0.9970</td>\n",
       "    </tr>\n",
       "    <tr>\n",
       "      <th>1</th>\n",
       "      <td>This is an important book. War cannot destroy ...</td>\n",
       "      <td>book war destroy all family stretches generati...</td>\n",
       "      <td>0.9977</td>\n",
       "    </tr>\n",
       "    <tr>\n",
       "      <th>2</th>\n",
       "      <td>Perhaps because I've read all of  Amy Tan and ...</td>\n",
       "      <td>read amy tan lisa novels expecting book tediou...</td>\n",
       "      <td>0.9984</td>\n",
       "    </tr>\n",
       "    <tr>\n",
       "      <th>3</th>\n",
       "      <td>This is a book of 6 novella that were original...</td>\n",
       "      <td>book novella originally published separately n...</td>\n",
       "      <td>0.9921</td>\n",
       "    </tr>\n",
       "    <tr>\n",
       "      <th>4</th>\n",
       "      <td>This is a very graphic violent novel of Chines...</td>\n",
       "      <td>graphic violent chines sex violence murder war...</td>\n",
       "      <td>0.9909</td>\n",
       "    </tr>\n",
       "  </tbody>\n",
       "</table>\n",
       "</div>"
      ],
      "text/plain": [
       "                                                原始文本  \\\n",
       "0  Imagine a character who (spoiler alert) murder...   \n",
       "1  This is an important book. War cannot destroy ...   \n",
       "2  Perhaps because I've read all of  Amy Tan and ...   \n",
       "3  This is a book of 6 novella that were original...   \n",
       "4  This is a very graphic violent novel of Chines...   \n",
       "\n",
       "                                                清洗文本    情感分值  \n",
       "0  imagine character spoiler alert murders widowe...  0.9970  \n",
       "1  book war destroy all family stretches generati...  0.9977  \n",
       "2  read amy tan lisa novels expecting book tediou...  0.9984  \n",
       "3  book novella originally published separately n...  0.9921  \n",
       "4  graphic violent chines sex violence murder war...  0.9909  "
      ]
     },
     "execution_count": 43,
     "metadata": {},
     "output_type": "execute_result"
    }
   ],
   "source": [
    "import paddlehub as hub\n",
    "#这里使用了百度开源的成熟NLP模型来预测情感倾向\n",
    "senta = hub.Module(name=\"senta_bilstm\")\n",
    "texts = df1['清洗文本'].tolist()\n",
    "input_data = {'text':texts}\n",
    "res = senta.sentiment_classify(data=input_data)\n",
    "df1['情感分值'] = [x['positive_probs'] for x in res]\n",
    "df1.head()"
   ]
  },
  {
   "cell_type": "code",
   "execution_count": 51,
   "metadata": {},
   "outputs": [],
   "source": [
    "def pingfen(x):\n",
    "    x = float(x)\n",
    "    if x > 0.55:\n",
    "        return 0\n",
    "    elif 0.5 <= x <= 0.55:\n",
    "        return 1\n",
    "    else:\n",
    "        return 2"
   ]
  },
  {
   "cell_type": "code",
   "execution_count": 52,
   "metadata": {},
   "outputs": [
    {
     "data": {
      "text/html": [
       "<div>\n",
       "<style scoped>\n",
       "    .dataframe tbody tr th:only-of-type {\n",
       "        vertical-align: middle;\n",
       "    }\n",
       "\n",
       "    .dataframe tbody tr th {\n",
       "        vertical-align: top;\n",
       "    }\n",
       "\n",
       "    .dataframe thead th {\n",
       "        text-align: right;\n",
       "    }\n",
       "</style>\n",
       "<table border=\"1\" class=\"dataframe\">\n",
       "  <thead>\n",
       "    <tr style=\"text-align: right;\">\n",
       "      <th></th>\n",
       "      <th>原始文本</th>\n",
       "      <th>清洗文本</th>\n",
       "      <th>情感分值</th>\n",
       "    </tr>\n",
       "  </thead>\n",
       "  <tbody>\n",
       "    <tr>\n",
       "      <th>0</th>\n",
       "      <td>***************************************\\r\\nFor...</td>\n",
       "      <td>northeastern china occupied japan brutal invas...</td>\n",
       "      <td>0</td>\n",
       "    </tr>\n",
       "    <tr>\n",
       "      <th>1</th>\n",
       "      <td>“With this book I respectfully invoke the hero...</td>\n",
       "      <td>book respectfully invoke heroic aggrieved soul...</td>\n",
       "      <td>0</td>\n",
       "    </tr>\n",
       "    <tr>\n",
       "      <th>2</th>\n",
       "      <td>\"In late autumn, during the eighth lunar month...</td>\n",
       "      <td>late autumn eighth lunar month vast stretches ...</td>\n",
       "      <td>0</td>\n",
       "    </tr>\n",
       "    <tr>\n",
       "      <th>3</th>\n",
       "      <td>You can say I've developed a pretty healthy ob...</td>\n",
       "      <td>developed pretty healthy obsession mo yans wri...</td>\n",
       "      <td>0</td>\n",
       "    </tr>\n",
       "    <tr>\n",
       "      <th>4</th>\n",
       "      <td>Part of my Fall 2017 Best Of Chinese Literatur...</td>\n",
       "      <td>fall chinese literature project here cool list...</td>\n",
       "      <td>0</td>\n",
       "    </tr>\n",
       "  </tbody>\n",
       "</table>\n",
       "</div>"
      ],
      "text/plain": [
       "                                                原始文本  \\\n",
       "0  ***************************************\\r\\nFor...   \n",
       "1  “With this book I respectfully invoke the hero...   \n",
       "2  \"In late autumn, during the eighth lunar month...   \n",
       "3  You can say I've developed a pretty healthy ob...   \n",
       "4  Part of my Fall 2017 Best Of Chinese Literatur...   \n",
       "\n",
       "                                                清洗文本  情感分值  \n",
       "0  northeastern china occupied japan brutal invas...     0  \n",
       "1  book respectfully invoke heroic aggrieved soul...     0  \n",
       "2  late autumn eighth lunar month vast stretches ...     0  \n",
       "3  developed pretty healthy obsession mo yans wri...     0  \n",
       "4  fall chinese literature project here cool list...     0  "
      ]
     },
     "execution_count": 52,
     "metadata": {},
     "output_type": "execute_result"
    }
   ],
   "source": [
    "df['情感分值'] = df['情感分值'].apply(pingfen)\n"
   ]
  },
  {
   "cell_type": "code",
   "execution_count": 54,
   "metadata": {},
   "outputs": [],
   "source": [
    "df1['情感分值'] = df1['情感分值'].apply(pingfen)"
   ]
  },
  {
   "cell_type": "code",
   "execution_count": 55,
   "metadata": {},
   "outputs": [],
   "source": [
    "df.to_excel('情感分类-Goodreads评论采集.xlsx')"
   ]
  },
  {
   "cell_type": "code",
   "execution_count": 56,
   "metadata": {},
   "outputs": [],
   "source": [
    "df1.to_excel('情感分类-亚马逊.xlsx')"
   ]
  },
  {
   "cell_type": "code",
   "execution_count": null,
   "metadata": {},
   "outputs": [],
   "source": []
  }
 ],
 "metadata": {
  "kernelspec": {
   "display_name": "Python 3",
   "language": "python",
   "name": "python3"
  },
  "language_info": {
   "codemirror_mode": {
    "name": "ipython",
    "version": 3
   },
   "file_extension": ".py",
   "mimetype": "text/x-python",
   "name": "python",
   "nbconvert_exporter": "python",
   "pygments_lexer": "ipython3",
   "version": "3.7.4"
  }
 },
 "nbformat": 4,
 "nbformat_minor": 2
}
