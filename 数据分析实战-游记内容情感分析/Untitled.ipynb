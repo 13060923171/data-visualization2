{
 "cells": [
  {
   "cell_type": "code",
   "execution_count": 1,
   "metadata": {},
   "outputs": [
    {
     "name": "stderr",
     "output_type": "stream",
     "text": [
      "D:\\rgzn\\lib\\site-packages\\numpy\\_distributor_init.py:32: UserWarning: loaded more than 1 DLL from .libs:\n",
      "D:\\rgzn\\lib\\site-packages\\numpy\\.libs\\libopenblas.NOIJJG62EMASZI6NYURL6JBKM4EVBGM7.gfortran-win_amd64.dll\n",
      "D:\\rgzn\\lib\\site-packages\\numpy\\.libs\\libopenblas.XWYDX2IKJW2NMTWSFYNGFUWKQU3LYTCZ.gfortran-win_amd64.dll\n",
      "  stacklevel=1)\n"
     ]
    }
   ],
   "source": [
    "import pandas as pd\n",
    "import numpy as np"
   ]
  },
  {
   "cell_type": "code",
   "execution_count": 2,
   "metadata": {},
   "outputs": [],
   "source": [
    "data1 = pd.read_excel('./data/去哪儿游记.xlsx')\n",
    "content1 = data1['正文']"
   ]
  },
  {
   "cell_type": "code",
   "execution_count": 3,
   "metadata": {},
   "outputs": [],
   "source": [
    "data2 = pd.read_excel('./data/携程游记.xlsx')\n",
    "content2 = data2['正文']"
   ]
  },
  {
   "cell_type": "code",
   "execution_count": 4,
   "metadata": {},
   "outputs": [],
   "source": [
    "data3 = pd.read_excel('./data/马蜂窝游记.xlsx')\n",
    "content3 = data3['正文']"
   ]
  },
  {
   "cell_type": "code",
   "execution_count": 5,
   "metadata": {},
   "outputs": [],
   "source": [
    "data4 = pd.read_excel('./data/驴妈妈游记.xlsx').iloc[:11]\n",
    "data4['正文'] = data4['游记内容']\n",
    "content4 = data4['正文']"
   ]
  },
  {
   "cell_type": "code",
   "execution_count": 6,
   "metadata": {},
   "outputs": [
    {
     "data": {
      "text/plain": [
       "0     这是一篇搁置了两个月的游记，虽然对三亚行程记忆犹新，只是不知道该如何用文字描述这种悸动，终于...\n",
       "1     第一次来写✍🏻️游记，这次跟以往每一次出去玩都信誓旦旦的说\"我要记录下来\"不一样！这次我真的...\n",
       "2     浓浓秋意由西至东、从北到南地拂遍祖国大地，向往温暖阳光的候鸟们即将蠢蠢欲动，准备启程远航……...\n",
       "3     +1\\r\\n+1\\r\\n《请到天涯海角来》“请到天涯海角来，这里四季春常在；海南岛上春风暖，...\n",
       "4     久违了！\\r\\n\\r\\n阔别250多天后，才出发\\r\\n\\r\\n原本今年2月就打算去韩国转一...\n",
       "                            ...                        \n",
       "6     前言\\n                    \\n                \\n  ...\n",
       "7     前言\\n                    \\n                \\n  ...\n",
       "8     前言\\n                    \\n                \\n  ...\n",
       "9     前言\\n                    \\n                \\n  ...\n",
       "10    前言\\n                    \\n                \\n  ...\n",
       "Name: 正文, Length: 1323, dtype: object"
      ]
     },
     "execution_count": 6,
     "metadata": {},
     "output_type": "execute_result"
    }
   ],
   "source": [
    "content = pd.concat([content1,content2,content3,content4])\n",
    "# content.drop_duplicates(keep='first', inplace=True)\n",
    "content"
   ]
  },
  {
   "cell_type": "markdown",
   "metadata": {},
   "source": [
    "把全部的内容合并在一起，并且删除重复行，上面的代码主要的做的是这个事情"
   ]
  },
  {
   "cell_type": "markdown",
   "metadata": {},
   "source": [
    "下面这一块是处理计算中文字数，大于100的内容才保留下来"
   ]
  },
  {
   "cell_type": "code",
   "execution_count": 23,
   "metadata": {},
   "outputs": [],
   "source": [
    "import string\n",
    "def str_count(str):\n",
    "    count_en = count_dg = count_sp = count_zh = count_pu = 0\n",
    "    for s in str:\n",
    "        if s in string.ascii_letters:\n",
    "            count_en += 1\n",
    "        elif s.isdigit():\n",
    "            count_dg += 1\n",
    "        elif s.isspace():\n",
    "            count_sp += 1\n",
    "        elif s.isalpha():\n",
    "            count_zh += 1\n",
    "        else:\n",
    "            count_pu += 1\n",
    "    return count_zh"
   ]
  },
  {
   "cell_type": "code",
   "execution_count": 24,
   "metadata": {},
   "outputs": [],
   "source": [
    "content = content.astype(str)\n",
    "content_cd = content.apply(str_count)"
   ]
  },
  {
   "cell_type": "code",
   "execution_count": 25,
   "metadata": {},
   "outputs": [],
   "source": [
    "comment = content.values\n",
    "cd = content_cd.values"
   ]
  },
  {
   "cell_type": "code",
   "execution_count": 26,
   "metadata": {},
   "outputs": [
    {
     "data": {
      "text/html": [
       "<div>\n",
       "<style scoped>\n",
       "    .dataframe tbody tr th:only-of-type {\n",
       "        vertical-align: middle;\n",
       "    }\n",
       "\n",
       "    .dataframe tbody tr th {\n",
       "        vertical-align: top;\n",
       "    }\n",
       "\n",
       "    .dataframe thead th {\n",
       "        text-align: right;\n",
       "    }\n",
       "</style>\n",
       "<table border=\"1\" class=\"dataframe\">\n",
       "  <thead>\n",
       "    <tr style=\"text-align: right;\">\n",
       "      <th></th>\n",
       "      <th>内容</th>\n",
       "      <th>正文长度</th>\n",
       "    </tr>\n",
       "  </thead>\n",
       "  <tbody>\n",
       "    <tr>\n",
       "      <td>0</td>\n",
       "      <td>这是一篇搁置了两个月的游记，虽然对三亚行程记忆犹新，只是不知道该如何用文字描述这种悸动，终于...</td>\n",
       "      <td>18592</td>\n",
       "    </tr>\n",
       "    <tr>\n",
       "      <td>1</td>\n",
       "      <td>第一次来写✍🏻️游记，这次跟以往每一次出去玩都信誓旦旦的说\"我要记录下来\"不一样！这次我真的...</td>\n",
       "      <td>12460</td>\n",
       "    </tr>\n",
       "    <tr>\n",
       "      <td>2</td>\n",
       "      <td>浓浓秋意由西至东、从北到南地拂遍祖国大地，向往温暖阳光的候鸟们即将蠢蠢欲动，准备启程远航……...</td>\n",
       "      <td>9256</td>\n",
       "    </tr>\n",
       "    <tr>\n",
       "      <td>3</td>\n",
       "      <td>+1\\r\\n+1\\r\\n《请到天涯海角来》“请到天涯海角来，这里四季春常在；海南岛上春风暖，...</td>\n",
       "      <td>17151</td>\n",
       "    </tr>\n",
       "    <tr>\n",
       "      <td>4</td>\n",
       "      <td>久违了！\\r\\n\\r\\n阔别250多天后，才出发\\r\\n\\r\\n原本今年2月就打算去韩国转一...</td>\n",
       "      <td>11980</td>\n",
       "    </tr>\n",
       "  </tbody>\n",
       "</table>\n",
       "</div>"
      ],
      "text/plain": [
       "                                                  内容   正文长度\n",
       "0  这是一篇搁置了两个月的游记，虽然对三亚行程记忆犹新，只是不知道该如何用文字描述这种悸动，终于...  18592\n",
       "1  第一次来写✍🏻️游记，这次跟以往每一次出去玩都信誓旦旦的说\"我要记录下来\"不一样！这次我真的...  12460\n",
       "2  浓浓秋意由西至东、从北到南地拂遍祖国大地，向往温暖阳光的候鸟们即将蠢蠢欲动，准备启程远航……...   9256\n",
       "3  +1\\r\\n+1\\r\\n《请到天涯海角来》“请到天涯海角来，这里四季春常在；海南岛上春风暖，...  17151\n",
       "4  久违了！\\r\\n\\r\\n阔别250多天后，才出发\\r\\n\\r\\n原本今年2月就打算去韩国转一...  11980"
      ]
     },
     "execution_count": 26,
     "metadata": {},
     "output_type": "execute_result"
    }
   ],
   "source": [
    "df = pd.DataFrame()\n",
    "df['内容'] = comment\n",
    "df['正文长度'] = cd \n",
    "df.head()"
   ]
  },
  {
   "cell_type": "code",
   "execution_count": 27,
   "metadata": {},
   "outputs": [
    {
     "data": {
      "text/html": [
       "<div>\n",
       "<style scoped>\n",
       "    .dataframe tbody tr th:only-of-type {\n",
       "        vertical-align: middle;\n",
       "    }\n",
       "\n",
       "    .dataframe tbody tr th {\n",
       "        vertical-align: top;\n",
       "    }\n",
       "\n",
       "    .dataframe thead th {\n",
       "        text-align: right;\n",
       "    }\n",
       "</style>\n",
       "<table border=\"1\" class=\"dataframe\">\n",
       "  <thead>\n",
       "    <tr style=\"text-align: right;\">\n",
       "      <th></th>\n",
       "      <th>内容</th>\n",
       "      <th>正文长度</th>\n",
       "    </tr>\n",
       "  </thead>\n",
       "  <tbody>\n",
       "    <tr>\n",
       "      <td>0</td>\n",
       "      <td>这是一篇搁置了两个月的游记，虽然对三亚行程记忆犹新，只是不知道该如何用文字描述这种悸动，终于...</td>\n",
       "      <td>18592</td>\n",
       "    </tr>\n",
       "    <tr>\n",
       "      <td>1</td>\n",
       "      <td>第一次来写✍🏻️游记，这次跟以往每一次出去玩都信誓旦旦的说\"我要记录下来\"不一样！这次我真的...</td>\n",
       "      <td>12460</td>\n",
       "    </tr>\n",
       "    <tr>\n",
       "      <td>2</td>\n",
       "      <td>浓浓秋意由西至东、从北到南地拂遍祖国大地，向往温暖阳光的候鸟们即将蠢蠢欲动，准备启程远航……...</td>\n",
       "      <td>9256</td>\n",
       "    </tr>\n",
       "    <tr>\n",
       "      <td>3</td>\n",
       "      <td>+1\\r\\n+1\\r\\n《请到天涯海角来》“请到天涯海角来，这里四季春常在；海南岛上春风暖，...</td>\n",
       "      <td>17151</td>\n",
       "    </tr>\n",
       "    <tr>\n",
       "      <td>4</td>\n",
       "      <td>久违了！\\r\\n\\r\\n阔别250多天后，才出发\\r\\n\\r\\n原本今年2月就打算去韩国转一...</td>\n",
       "      <td>11980</td>\n",
       "    </tr>\n",
       "    <tr>\n",
       "      <td>...</td>\n",
       "      <td>...</td>\n",
       "      <td>...</td>\n",
       "    </tr>\n",
       "    <tr>\n",
       "      <td>1249</td>\n",
       "      <td>前言\\n                    \\n                \\n  ...</td>\n",
       "      <td>2508</td>\n",
       "    </tr>\n",
       "    <tr>\n",
       "      <td>1250</td>\n",
       "      <td>前言\\n                    \\n                \\n  ...</td>\n",
       "      <td>1758</td>\n",
       "    </tr>\n",
       "    <tr>\n",
       "      <td>1251</td>\n",
       "      <td>前言\\n                    \\n                \\n  ...</td>\n",
       "      <td>894</td>\n",
       "    </tr>\n",
       "    <tr>\n",
       "      <td>1252</td>\n",
       "      <td>前言\\n                    \\n                \\n  ...</td>\n",
       "      <td>2389</td>\n",
       "    </tr>\n",
       "    <tr>\n",
       "      <td>1253</td>\n",
       "      <td>前言\\n                    \\n                \\n  ...</td>\n",
       "      <td>2321</td>\n",
       "    </tr>\n",
       "  </tbody>\n",
       "</table>\n",
       "<p>1226 rows × 2 columns</p>\n",
       "</div>"
      ],
      "text/plain": [
       "                                                     内容   正文长度\n",
       "0     这是一篇搁置了两个月的游记，虽然对三亚行程记忆犹新，只是不知道该如何用文字描述这种悸动，终于...  18592\n",
       "1     第一次来写✍🏻️游记，这次跟以往每一次出去玩都信誓旦旦的说\"我要记录下来\"不一样！这次我真的...  12460\n",
       "2     浓浓秋意由西至东、从北到南地拂遍祖国大地，向往温暖阳光的候鸟们即将蠢蠢欲动，准备启程远航……...   9256\n",
       "3     +1\\r\\n+1\\r\\n《请到天涯海角来》“请到天涯海角来，这里四季春常在；海南岛上春风暖，...  17151\n",
       "4     久违了！\\r\\n\\r\\n阔别250多天后，才出发\\r\\n\\r\\n原本今年2月就打算去韩国转一...  11980\n",
       "...                                                 ...    ...\n",
       "1249  前言\\n                    \\n                \\n  ...   2508\n",
       "1250  前言\\n                    \\n                \\n  ...   1758\n",
       "1251  前言\\n                    \\n                \\n  ...    894\n",
       "1252  前言\\n                    \\n                \\n  ...   2389\n",
       "1253  前言\\n                    \\n                \\n  ...   2321\n",
       "\n",
       "[1226 rows x 2 columns]"
      ]
     },
     "execution_count": 27,
     "metadata": {},
     "output_type": "execute_result"
    }
   ],
   "source": [
    "df = df[df['正文长度'] >=100]\n",
    "df"
   ]
  },
  {
   "cell_type": "markdown",
   "metadata": {},
   "source": [
    "这一块是清洗数据，删除一些多余的字符和空格等无关紧要的内容，并且如果没有包含三亚或者海南的就去掉"
   ]
  },
  {
   "cell_type": "code",
   "execution_count": 28,
   "metadata": {},
   "outputs": [],
   "source": [
    "df['内容'] = df['内容'].astype(str)\n",
    "def sjqx(c):\n",
    "    c = c.replace('\\n','').replace('\\r','')\n",
    "    c = c.replace(' ','').replace('前言','')\n",
    "    c = c.replace(r\"([\\uD800-\\uDBFF][\\uDC00-\\uDFFF])\",'')\n",
    "    c = c.strip(\" \")\n",
    "    if '海南' in c or '三亚' in c:\n",
    "        return c\n",
    "    else:\n",
    "        return np.nan"
   ]
  },
  {
   "cell_type": "code",
   "execution_count": 29,
   "metadata": {},
   "outputs": [
    {
     "data": {
      "text/plain": [
       "0       这是一篇搁置了两个月的游记，虽然对三亚行程记忆犹新，只是不知道该如何用文字描述这种悸动，终于...\n",
       "1       第一次来写✍🏻️游记，这次跟以往每一次出去玩都信誓旦旦的说\"我要记录下来\"不一样！这次我真的...\n",
       "2       浓浓秋意由西至东、从北到南地拂遍祖国大地，向往温暖阳光的候鸟们即将蠢蠢欲动，准备启程远航……...\n",
       "3       +1+1《请到天涯海角来》“请到天涯海角来，这里四季春常在；海南岛上春风暖，好花叫你喜心怀”...\n",
       "4       久违了！阔别250多天后，才出发原本今年2月就打算去韩国转一圈，各种装备、攻略、签证都搞定了...\n",
       "                              ...                        \n",
       "1249    【 引 】如果你心中自带星辰和大海，那你眼里的世界，一定光彩熠熠！【 开篇 】你会不会有特别...\n",
       "1250    【出发前的小笔记】为了庆祝老妈正式迈入退休阶段，原本计划今年要带她出去旅行好好玩玩的。结果，...\n",
       "1251    在这个六月，想与大海来次亲密接触，在这个季节，你一定不能错过神州半岛喜来。有多少人说要耍遍海...\n",
       "1252    【】打包好行李又要出发了，小半年没有出门旅行，感觉自己都要变成原始人了。这次的目的地 海南 ...\n",
       "1253    【疫后出行小贴士】今年因为疫情的缘故，待在家里大半年都没有出门。现在国内疫情终于好转，大部分...\n",
       "Name: 内容, Length: 1226, dtype: object"
      ]
     },
     "execution_count": 29,
     "metadata": {},
     "output_type": "execute_result"
    }
   ],
   "source": [
    "df['内容'] = df['内容'].apply(sjqx)\n",
    "df['内容']"
   ]
  },
  {
   "cell_type": "markdown",
   "metadata": {},
   "source": [
    "这一块是删除一些空值的内容"
   ]
  },
  {
   "cell_type": "code",
   "execution_count": 30,
   "metadata": {},
   "outputs": [
    {
     "data": {
      "text/html": [
       "<div>\n",
       "<style scoped>\n",
       "    .dataframe tbody tr th:only-of-type {\n",
       "        vertical-align: middle;\n",
       "    }\n",
       "\n",
       "    .dataframe tbody tr th {\n",
       "        vertical-align: top;\n",
       "    }\n",
       "\n",
       "    .dataframe thead th {\n",
       "        text-align: right;\n",
       "    }\n",
       "</style>\n",
       "<table border=\"1\" class=\"dataframe\">\n",
       "  <thead>\n",
       "    <tr style=\"text-align: right;\">\n",
       "      <th></th>\n",
       "      <th>内容</th>\n",
       "      <th>正文长度</th>\n",
       "    </tr>\n",
       "  </thead>\n",
       "  <tbody>\n",
       "    <tr>\n",
       "      <td>0</td>\n",
       "      <td>这是一篇搁置了两个月的游记，虽然对三亚行程记忆犹新，只是不知道该如何用文字描述这种悸动，终于...</td>\n",
       "      <td>18592</td>\n",
       "    </tr>\n",
       "    <tr>\n",
       "      <td>1</td>\n",
       "      <td>第一次来写✍🏻️游记，这次跟以往每一次出去玩都信誓旦旦的说\"我要记录下来\"不一样！这次我真的...</td>\n",
       "      <td>12460</td>\n",
       "    </tr>\n",
       "    <tr>\n",
       "      <td>2</td>\n",
       "      <td>浓浓秋意由西至东、从北到南地拂遍祖国大地，向往温暖阳光的候鸟们即将蠢蠢欲动，准备启程远航……...</td>\n",
       "      <td>9256</td>\n",
       "    </tr>\n",
       "    <tr>\n",
       "      <td>3</td>\n",
       "      <td>+1+1《请到天涯海角来》“请到天涯海角来，这里四季春常在；海南岛上春风暖，好花叫你喜心怀”...</td>\n",
       "      <td>17151</td>\n",
       "    </tr>\n",
       "    <tr>\n",
       "      <td>4</td>\n",
       "      <td>久违了！阔别250多天后，才出发原本今年2月就打算去韩国转一圈，各种装备、攻略、签证都搞定了...</td>\n",
       "      <td>11980</td>\n",
       "    </tr>\n",
       "    <tr>\n",
       "      <td>...</td>\n",
       "      <td>...</td>\n",
       "      <td>...</td>\n",
       "    </tr>\n",
       "    <tr>\n",
       "      <td>1249</td>\n",
       "      <td>【 引 】如果你心中自带星辰和大海，那你眼里的世界，一定光彩熠熠！【 开篇 】你会不会有特别...</td>\n",
       "      <td>2508</td>\n",
       "    </tr>\n",
       "    <tr>\n",
       "      <td>1250</td>\n",
       "      <td>【出发前的小笔记】为了庆祝老妈正式迈入退休阶段，原本计划今年要带她出去旅行好好玩玩的。结果，...</td>\n",
       "      <td>1758</td>\n",
       "    </tr>\n",
       "    <tr>\n",
       "      <td>1251</td>\n",
       "      <td>在这个六月，想与大海来次亲密接触，在这个季节，你一定不能错过神州半岛喜来。有多少人说要耍遍海...</td>\n",
       "      <td>894</td>\n",
       "    </tr>\n",
       "    <tr>\n",
       "      <td>1252</td>\n",
       "      <td>【】打包好行李又要出发了，小半年没有出门旅行，感觉自己都要变成原始人了。这次的目的地 海南 ...</td>\n",
       "      <td>2389</td>\n",
       "    </tr>\n",
       "    <tr>\n",
       "      <td>1253</td>\n",
       "      <td>【疫后出行小贴士】今年因为疫情的缘故，待在家里大半年都没有出门。现在国内疫情终于好转，大部分...</td>\n",
       "      <td>2321</td>\n",
       "    </tr>\n",
       "  </tbody>\n",
       "</table>\n",
       "<p>1189 rows × 2 columns</p>\n",
       "</div>"
      ],
      "text/plain": [
       "                                                     内容   正文长度\n",
       "0     这是一篇搁置了两个月的游记，虽然对三亚行程记忆犹新，只是不知道该如何用文字描述这种悸动，终于...  18592\n",
       "1     第一次来写✍🏻️游记，这次跟以往每一次出去玩都信誓旦旦的说\"我要记录下来\"不一样！这次我真的...  12460\n",
       "2     浓浓秋意由西至东、从北到南地拂遍祖国大地，向往温暖阳光的候鸟们即将蠢蠢欲动，准备启程远航……...   9256\n",
       "3     +1+1《请到天涯海角来》“请到天涯海角来，这里四季春常在；海南岛上春风暖，好花叫你喜心怀”...  17151\n",
       "4     久违了！阔别250多天后，才出发原本今年2月就打算去韩国转一圈，各种装备、攻略、签证都搞定了...  11980\n",
       "...                                                 ...    ...\n",
       "1249  【 引 】如果你心中自带星辰和大海，那你眼里的世界，一定光彩熠熠！【 开篇 】你会不会有特别...   2508\n",
       "1250  【出发前的小笔记】为了庆祝老妈正式迈入退休阶段，原本计划今年要带她出去旅行好好玩玩的。结果，...   1758\n",
       "1251  在这个六月，想与大海来次亲密接触，在这个季节，你一定不能错过神州半岛喜来。有多少人说要耍遍海...    894\n",
       "1252  【】打包好行李又要出发了，小半年没有出门旅行，感觉自己都要变成原始人了。这次的目的地 海南 ...   2389\n",
       "1253  【疫后出行小贴士】今年因为疫情的缘故，待在家里大半年都没有出门。现在国内疫情终于好转，大部分...   2321\n",
       "\n",
       "[1189 rows x 2 columns]"
      ]
     },
     "execution_count": 30,
     "metadata": {},
     "output_type": "execute_result"
    }
   ],
   "source": [
    "df.dropna(how='any', inplace=True)\n",
    "df"
   ]
  },
  {
   "cell_type": "markdown",
   "metadata": {},
   "source": [
    "这一块是删除表情包和标点符号的内容"
   ]
  },
  {
   "cell_type": "code",
   "execution_count": 31,
   "metadata": {},
   "outputs": [
    {
     "data": {
      "text/plain": [
       "0       这是一篇搁置了两个月的游记虽然对三亚行程记忆犹新只是不知道该如何用文字描述这种悸动终于有时间...\n",
       "1       第一次来写游记这次跟以往每一次出去玩都信誓旦旦的说我要记录下来不一样这次我真的来写了原本计划...\n",
       "2       浓浓秋意由西至东从北到南地拂遍祖国大地向往温暖阳光的候鸟们即将蠢蠢欲动准备启程远航它们心驰神...\n",
       "3       11请到天涯海角来请到天涯海角来这里四季春常在海南岛上春风暖好花叫你喜心怀经历过这不平凡的2...\n",
       "4       久违了阔别250多天后才出发原本今年2月就打算去韩国转一圈各种装备攻略签证都搞定了然而五一那...\n",
       "                              ...                        \n",
       "1249    引如果你心中自带星辰和大海那你眼里的世界一定光彩熠熠开篇你会不会有特别想念阳光的时候每当我特...\n",
       "1250    出发前的小笔记为了庆祝老妈正式迈入退休阶段原本计划今年要带她出去旅行好好玩玩的结果计划赶不上...\n",
       "1251    在这个六月想与大海来次亲密接触在这个季节你一定不能错过神州半岛喜来有多少人说要耍遍海南很难做...\n",
       "1252    打包好行李又要出发了小半年没有出门旅行感觉自己都要变成原始人了这次的目的地海南三亚一个只听名...\n",
       "1253    疫后出行小贴士今年因为疫情的缘故待在家里大半年都没有出门现在国内疫情终于好转大部分城市也开始...\n",
       "Name: 内容, Length: 1189, dtype: object"
      ]
     },
     "execution_count": 31,
     "metadata": {},
     "output_type": "execute_result"
    }
   ],
   "source": [
    "import re\n",
    "def clear_characters(text):\n",
    "    return re.sub('\\W', '', text)\n",
    "df['内容'] = df['内容'].apply(clear_characters)\n",
    "df['内容']"
   ]
  },
  {
   "cell_type": "markdown",
   "metadata": {},
   "source": [
    "这一块是采用百度的开源NLP，这个是一个成熟的框架，且准确率高，不需要去计算其他什么的内容，该框架就会自动帮你去分析判断这里面的情感倾向"
   ]
  },
  {
   "cell_type": "code",
   "execution_count": 32,
   "metadata": {},
   "outputs": [
    {
     "name": "stderr",
     "output_type": "stream",
     "text": [
      "\u001b[32m[2021-12-19 13:41:06,247] [    INFO] - Installing senta_bilstm module\u001b[0m\n",
      "\u001b[32m[2021-12-19 13:41:06,256] [    INFO] - Module senta_bilstm already installed in C:\\Users\\96075\\.paddlehub\\modules\\senta_bilstm\u001b[0m\n",
      "\u001b[32m[2021-12-19 13:41:08,998] [    INFO] - Installing lac module\u001b[0m\n",
      "\u001b[32m[2021-12-19 13:41:09,004] [    INFO] - Module lac already installed in C:\\Users\\96075\\.paddlehub\\modules\\lac\u001b[0m\n"
     ]
    },
    {
     "data": {
      "text/html": [
       "<div>\n",
       "<style scoped>\n",
       "    .dataframe tbody tr th:only-of-type {\n",
       "        vertical-align: middle;\n",
       "    }\n",
       "\n",
       "    .dataframe tbody tr th {\n",
       "        vertical-align: top;\n",
       "    }\n",
       "\n",
       "    .dataframe thead th {\n",
       "        text-align: right;\n",
       "    }\n",
       "</style>\n",
       "<table border=\"1\" class=\"dataframe\">\n",
       "  <thead>\n",
       "    <tr style=\"text-align: right;\">\n",
       "      <th></th>\n",
       "      <th>内容</th>\n",
       "      <th>正文长度</th>\n",
       "      <th>情感分值</th>\n",
       "    </tr>\n",
       "  </thead>\n",
       "  <tbody>\n",
       "    <tr>\n",
       "      <td>0</td>\n",
       "      <td>这是一篇搁置了两个月的游记虽然对三亚行程记忆犹新只是不知道该如何用文字描述这种悸动终于有时间...</td>\n",
       "      <td>18592</td>\n",
       "      <td>0.9954</td>\n",
       "    </tr>\n",
       "    <tr>\n",
       "      <td>1</td>\n",
       "      <td>第一次来写游记这次跟以往每一次出去玩都信誓旦旦的说我要记录下来不一样这次我真的来写了原本计划...</td>\n",
       "      <td>12460</td>\n",
       "      <td>0.9886</td>\n",
       "    </tr>\n",
       "    <tr>\n",
       "      <td>2</td>\n",
       "      <td>浓浓秋意由西至东从北到南地拂遍祖国大地向往温暖阳光的候鸟们即将蠢蠢欲动准备启程远航它们心驰神...</td>\n",
       "      <td>9256</td>\n",
       "      <td>0.3345</td>\n",
       "    </tr>\n",
       "    <tr>\n",
       "      <td>3</td>\n",
       "      <td>11请到天涯海角来请到天涯海角来这里四季春常在海南岛上春风暖好花叫你喜心怀经历过这不平凡的2...</td>\n",
       "      <td>17151</td>\n",
       "      <td>0.9966</td>\n",
       "    </tr>\n",
       "    <tr>\n",
       "      <td>4</td>\n",
       "      <td>久违了阔别250多天后才出发原本今年2月就打算去韩国转一圈各种装备攻略签证都搞定了然而五一那...</td>\n",
       "      <td>11980</td>\n",
       "      <td>0.9959</td>\n",
       "    </tr>\n",
       "  </tbody>\n",
       "</table>\n",
       "</div>"
      ],
      "text/plain": [
       "                                                  内容   正文长度    情感分值\n",
       "0  这是一篇搁置了两个月的游记虽然对三亚行程记忆犹新只是不知道该如何用文字描述这种悸动终于有时间...  18592  0.9954\n",
       "1  第一次来写游记这次跟以往每一次出去玩都信誓旦旦的说我要记录下来不一样这次我真的来写了原本计划...  12460  0.9886\n",
       "2  浓浓秋意由西至东从北到南地拂遍祖国大地向往温暖阳光的候鸟们即将蠢蠢欲动准备启程远航它们心驰神...   9256  0.3345\n",
       "3  11请到天涯海角来请到天涯海角来这里四季春常在海南岛上春风暖好花叫你喜心怀经历过这不平凡的2...  17151  0.9966\n",
       "4  久违了阔别250多天后才出发原本今年2月就打算去韩国转一圈各种装备攻略签证都搞定了然而五一那...  11980  0.9959"
      ]
     },
     "execution_count": 32,
     "metadata": {},
     "output_type": "execute_result"
    }
   ],
   "source": [
    "import paddlehub as hub\n",
    "#这里使用了百度开源的成熟NLP模型来预测情感倾向\n",
    "senta = hub.Module(name=\"senta_bilstm\")\n",
    "texts = df['内容'].tolist()\n",
    "input_data = {'text':texts}\n",
    "res = senta.sentiment_classify(data=input_data)\n",
    "df['情感分值'] = [x['positive_probs'] for x in res]\n",
    "df.head()"
   ]
  },
  {
   "cell_type": "markdown",
   "metadata": {},
   "source": [
    "senta_bilstm模型的介绍 \n",
    "官方文档:https://www.paddlepaddle.org.cn/hubdetail?name=senta_bilstm&en_category=SentimentAnalysis"
   ]
  },
  {
   "cell_type": "code",
   "execution_count": 33,
   "metadata": {},
   "outputs": [],
   "source": [
    "清洗数据保存为EXCEL\n",
    "df.to_excel(\"./data/clean_data.xlsx\",index=False)"
   ]
  },
  {
   "cell_type": "code",
   "execution_count": 72,
   "metadata": {},
   "outputs": [],
   "source": [
    "df1 = pd.read_csv('./data/高频词.csv',encoding='gbk')"
   ]
  },
  {
   "cell_type": "markdown",
   "metadata": {},
   "source": [
    "上面的计算内容的感情倾向\n",
    "下面这个是计算所有高频词的情感倾向"
   ]
  },
  {
   "cell_type": "code",
   "execution_count": 73,
   "metadata": {},
   "outputs": [
    {
     "name": "stderr",
     "output_type": "stream",
     "text": [
      "\u001b[32m[2021-12-20 11:43:52,921] [    INFO] - Installing senta_bilstm module\u001b[0m\n",
      "\u001b[32m[2021-12-20 11:43:52,925] [    INFO] - Module senta_bilstm already installed in C:\\Users\\96075\\.paddlehub\\modules\\senta_bilstm\u001b[0m\n",
      "\u001b[32m[2021-12-20 11:43:55,471] [    INFO] - Installing lac module\u001b[0m\n",
      "\u001b[32m[2021-12-20 11:43:55,475] [    INFO] - Module lac already installed in C:\\Users\\96075\\.paddlehub\\modules\\lac\u001b[0m\n"
     ]
    },
    {
     "data": {
      "text/html": [
       "<div>\n",
       "<style scoped>\n",
       "    .dataframe tbody tr th:only-of-type {\n",
       "        vertical-align: middle;\n",
       "    }\n",
       "\n",
       "    .dataframe tbody tr th {\n",
       "        vertical-align: top;\n",
       "    }\n",
       "\n",
       "    .dataframe thead th {\n",
       "        text-align: right;\n",
       "    }\n",
       "</style>\n",
       "<table border=\"1\" class=\"dataframe\">\n",
       "  <thead>\n",
       "    <tr style=\"text-align: right;\">\n",
       "      <th></th>\n",
       "      <th>Unnamed: 0</th>\n",
       "      <th>word</th>\n",
       "      <th>count</th>\n",
       "      <th>情感分值</th>\n",
       "    </tr>\n",
       "  </thead>\n",
       "  <tbody>\n",
       "    <tr>\n",
       "      <td>0</td>\n",
       "      <td>0</td>\n",
       "      <td>三亚</td>\n",
       "      <td>15970</td>\n",
       "      <td>0.8208</td>\n",
       "    </tr>\n",
       "    <tr>\n",
       "      <td>1</td>\n",
       "      <td>1</td>\n",
       "      <td>酒店</td>\n",
       "      <td>14222</td>\n",
       "      <td>0.5330</td>\n",
       "    </tr>\n",
       "    <tr>\n",
       "      <td>2</td>\n",
       "      <td>2</td>\n",
       "      <td>海南</td>\n",
       "      <td>9519</td>\n",
       "      <td>0.7336</td>\n",
       "    </tr>\n",
       "    <tr>\n",
       "      <td>3</td>\n",
       "      <td>3</td>\n",
       "      <td>海鲜</td>\n",
       "      <td>6071</td>\n",
       "      <td>0.6311</td>\n",
       "    </tr>\n",
       "    <tr>\n",
       "      <td>4</td>\n",
       "      <td>4</td>\n",
       "      <td>椰子</td>\n",
       "      <td>5420</td>\n",
       "      <td>0.5367</td>\n",
       "    </tr>\n",
       "  </tbody>\n",
       "</table>\n",
       "</div>"
      ],
      "text/plain": [
       "   Unnamed: 0 word  count    情感分值\n",
       "0           0   三亚  15970  0.8208\n",
       "1           1   酒店  14222  0.5330\n",
       "2           2   海南   9519  0.7336\n",
       "3           3   海鲜   6071  0.6311\n",
       "4           4   椰子   5420  0.5367"
      ]
     },
     "execution_count": 73,
     "metadata": {},
     "output_type": "execute_result"
    }
   ],
   "source": [
    "import paddlehub as hub\n",
    "#这里使用了百度开源的成熟NLP模型来预测情感倾向\n",
    "senta = hub.Module(name=\"senta_bilstm\")\n",
    "texts = df1['word'].tolist()\n",
    "input_data = {'text':texts}\n",
    "res = senta.sentiment_classify(data=input_data)\n",
    "df1['情感分值'] = [x['positive_probs'] for x in res]\n",
    "df1.head()"
   ]
  },
  {
   "cell_type": "markdown",
   "metadata": {},
   "source": [
    "统计情感倾向大于0.9的，并且频次高于200的，获取正面情感最高的那100个词频内容，并且保存为xlsx文件"
   ]
  },
  {
   "cell_type": "code",
   "execution_count": 82,
   "metadata": {},
   "outputs": [],
   "source": [
    "data1 = df1[df1['情感分值'] >=0.9]\n",
    "data1 = data1[data1['count'] >=200]\n",
    "data1.to_excel(\"./data/正面情感TOP100高频词.xlsx\",index=False)"
   ]
  },
  {
   "cell_type": "markdown",
   "metadata": {},
   "source": [
    "统计情感倾向大于0.9的，并且频次高于100的，获取正面情感词频的主要内容内容，并且保存为xlsx文件"
   ]
  },
  {
   "cell_type": "code",
   "execution_count": 85,
   "metadata": {},
   "outputs": [],
   "source": [
    "data2 = df1[df1['count'] >=100]\n",
    "data2 = data2[data2['情感分值'] >=0.9]\n",
    "data2.to_excel(\"./data/正面情感最高的高频词.xlsx\",index=False)"
   ]
  },
  {
   "cell_type": "markdown",
   "metadata": {},
   "source": [
    "统计情感倾向大于0.2的，并且频次高于10的，获取正面情感最低词频的主要内容内容，并且保存为xlsx文件"
   ]
  },
  {
   "cell_type": "code",
   "execution_count": 86,
   "metadata": {},
   "outputs": [],
   "source": [
    "data3 = df1[df1['count'] >=10]\n",
    "data3 = data3[data3['情感分值'] <=0.2]\n",
    "data3.to_excel(\"./data/正面情感最低的高频词.xlsx\",index=False)"
   ]
  },
  {
   "cell_type": "code",
   "execution_count": null,
   "metadata": {},
   "outputs": [],
   "source": []
  },
  {
   "cell_type": "code",
   "execution_count": null,
   "metadata": {},
   "outputs": [],
   "source": []
  },
  {
   "cell_type": "code",
   "execution_count": null,
   "metadata": {},
   "outputs": [],
   "source": []
  },
  {
   "cell_type": "code",
   "execution_count": null,
   "metadata": {
    "scrolled": false
   },
   "outputs": [],
   "source": [
    "    "
   ]
  },
  {
   "cell_type": "code",
   "execution_count": null,
   "metadata": {},
   "outputs": [],
   "source": []
  },
  {
   "cell_type": "code",
   "execution_count": null,
   "metadata": {},
   "outputs": [],
   "source": []
  },
  {
   "cell_type": "code",
   "execution_count": null,
   "metadata": {},
   "outputs": [],
   "source": []
  },
  {
   "cell_type": "code",
   "execution_count": null,
   "metadata": {},
   "outputs": [],
   "source": []
  },
  {
   "cell_type": "code",
   "execution_count": null,
   "metadata": {},
   "outputs": [],
   "source": []
  },
  {
   "cell_type": "code",
   "execution_count": null,
   "metadata": {},
   "outputs": [],
   "source": []
  },
  {
   "cell_type": "code",
   "execution_count": null,
   "metadata": {},
   "outputs": [],
   "source": []
  },
  {
   "cell_type": "code",
   "execution_count": null,
   "metadata": {},
   "outputs": [],
   "source": []
  },
  {
   "cell_type": "code",
   "execution_count": null,
   "metadata": {},
   "outputs": [],
   "source": []
  },
  {
   "cell_type": "code",
   "execution_count": null,
   "metadata": {},
   "outputs": [],
   "source": []
  },
  {
   "cell_type": "code",
   "execution_count": null,
   "metadata": {},
   "outputs": [],
   "source": []
  },
  {
   "cell_type": "code",
   "execution_count": null,
   "metadata": {},
   "outputs": [],
   "source": []
  },
  {
   "cell_type": "code",
   "execution_count": null,
   "metadata": {},
   "outputs": [],
   "source": []
  },
  {
   "cell_type": "code",
   "execution_count": null,
   "metadata": {},
   "outputs": [],
   "source": []
  },
  {
   "cell_type": "code",
   "execution_count": null,
   "metadata": {},
   "outputs": [],
   "source": []
  },
  {
   "cell_type": "code",
   "execution_count": null,
   "metadata": {},
   "outputs": [],
   "source": []
  },
  {
   "cell_type": "code",
   "execution_count": null,
   "metadata": {},
   "outputs": [],
   "source": []
  },
  {
   "cell_type": "code",
   "execution_count": null,
   "metadata": {},
   "outputs": [],
   "source": []
  },
  {
   "cell_type": "code",
   "execution_count": null,
   "metadata": {},
   "outputs": [],
   "source": []
  }
 ],
 "metadata": {
  "kernelspec": {
   "display_name": "Python 3",
   "language": "python",
   "name": "python3"
  },
  "language_info": {
   "codemirror_mode": {
    "name": "ipython",
    "version": 3
   },
   "file_extension": ".py",
   "mimetype": "text/x-python",
   "name": "python",
   "nbconvert_exporter": "python",
   "pygments_lexer": "ipython3",
   "version": "3.7.4"
  }
 },
 "nbformat": 4,
 "nbformat_minor": 2
}
