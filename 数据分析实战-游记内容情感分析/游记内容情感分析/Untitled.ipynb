{
 "cells": [
  {
   "cell_type": "code",
   "execution_count": 1,
   "metadata": {},
   "outputs": [],
   "source": [
    "import pandas as pd\n",
    "import numpy as np"
   ]
  },
  {
   "cell_type": "code",
   "execution_count": 2,
   "metadata": {},
   "outputs": [],
   "source": [
    "data1 = pd.read_excel('./data/去哪儿游记攻略详情采集.xlsx')\n",
    "content1 = data1['正文']"
   ]
  },
  {
   "cell_type": "code",
   "execution_count": 3,
   "metadata": {},
   "outputs": [],
   "source": [
    "data2 = pd.read_excel('./data/携程地方游记详情采集.xlsx')\n",
    "content2 = data2['正文']"
   ]
  },
  {
   "cell_type": "code",
   "execution_count": 4,
   "metadata": {},
   "outputs": [],
   "source": [
    "data3 = pd.read_excel('./data/马蜂窝游记详情采集.xlsx')\n",
    "content3 = data3['正文']"
   ]
  },
  {
   "cell_type": "code",
   "execution_count": 5,
   "metadata": {},
   "outputs": [],
   "source": []
  },
  {
   "cell_type": "code",
   "execution_count": 6,
   "metadata": {},
   "outputs": [
    {
     "data": {
      "text/plain": [
       "0       已过秋分，秋风慢慢的从北一路向南，天气开始渐渐凉了。\\r\\n不如给夏天续个费吧，一起去海南自...\n",
       "1       “你怎么又想去了？”\\r\\n“因为我上次一来台风就来了，直到我走后台风它也跟着走了。没有看到...\n",
       "2       +1\\r\\n三亚跨年怎么玩🌈从头到尾看这一篇就够了⭕️\\r\\n\\r\\n新年好呀，新年好呀，祝...\n",
       "3       对于连续8年一直在路上的雄鹰来讲，2020年是极不平静的。因为疫情的缘故，2020全年的大部...\n",
       "4       夏日，总要来一场有海的旅行才算完整\\r\\n夏至已至，这个夏天，奋不顾身的拥进了三亚沙滩大海的...\n",
       "                              ...                        \n",
       "1740    2021年4月15日真真正正没有攻略说走就走的旅行…椰风拂绿岛，疫情后首次飞机出行，去看、听...\n",
       "1741    长沙机场候机中——\\r\\n推荐一个朋友小雨，专业做海南旅游定制的，可以帮你代订景区门票，酒店...\n",
       "1742    今次出游选择了高铁🚄+汽车🚌+轮渡🚢模式，在高铁可欣赏沿途风景及在轮渡上也可观赏琼州海峡两岸...\n",
       "1743    超级大的螃蟹~\\r\\n亚龙湾海鲜广场吃的海鲜加火锅，食材和加工费总共800多，厨师烧的很不错...\n",
       "1744    在二十八岁的秋天去海南是什么样的体验？是重新激活了细胞里浪漫和活力因子的反应；是重回夏天的时...\n",
       "Name: 正文, Length: 3004, dtype: object"
      ]
     },
     "execution_count": 6,
     "metadata": {},
     "output_type": "execute_result"
    }
   ],
   "source": [
    "content = pd.concat([content1,content2,content3])\n",
    "# content.drop_duplicates(keep='first', inplace=True)\n",
    "content"
   ]
  },
  {
   "cell_type": "markdown",
   "metadata": {},
   "source": [
    "把全部的内容合并在一起，并且删除重复行，上面的代码主要的做的是这个事情"
   ]
  },
  {
   "cell_type": "markdown",
   "metadata": {},
   "source": [
    "下面这一块是处理计算中文字数，大于100的内容才保留下来"
   ]
  },
  {
   "cell_type": "code",
   "execution_count": 7,
   "metadata": {},
   "outputs": [],
   "source": [
    "import string\n",
    "def str_count(str):\n",
    "    count_en = count_dg = count_sp = count_zh = count_pu = 0\n",
    "    for s in str:\n",
    "        if s in string.ascii_letters:\n",
    "            count_en += 1\n",
    "        elif s.isdigit():\n",
    "            count_dg += 1\n",
    "        elif s.isspace():\n",
    "            count_sp += 1\n",
    "        elif s.isalpha():\n",
    "            count_zh += 1\n",
    "        else:\n",
    "            count_pu += 1\n",
    "    return count_zh"
   ]
  },
  {
   "cell_type": "code",
   "execution_count": 8,
   "metadata": {},
   "outputs": [],
   "source": [
    "content = content.astype(str)\n",
    "content_cd = content.apply(str_count)"
   ]
  },
  {
   "cell_type": "code",
   "execution_count": 9,
   "metadata": {},
   "outputs": [],
   "source": [
    "comment = content.values\n",
    "cd = content_cd.values"
   ]
  },
  {
   "cell_type": "code",
   "execution_count": 10,
   "metadata": {},
   "outputs": [
    {
     "data": {
      "text/html": [
       "<div>\n",
       "<style scoped>\n",
       "    .dataframe tbody tr th:only-of-type {\n",
       "        vertical-align: middle;\n",
       "    }\n",
       "\n",
       "    .dataframe tbody tr th {\n",
       "        vertical-align: top;\n",
       "    }\n",
       "\n",
       "    .dataframe thead th {\n",
       "        text-align: right;\n",
       "    }\n",
       "</style>\n",
       "<table border=\"1\" class=\"dataframe\">\n",
       "  <thead>\n",
       "    <tr style=\"text-align: right;\">\n",
       "      <th></th>\n",
       "      <th>内容</th>\n",
       "      <th>正文长度</th>\n",
       "    </tr>\n",
       "  </thead>\n",
       "  <tbody>\n",
       "    <tr>\n",
       "      <th>0</th>\n",
       "      <td>已过秋分，秋风慢慢的从北一路向南，天气开始渐渐凉了。\\r\\n不如给夏天续个费吧，一起去海南自...</td>\n",
       "      <td>8554</td>\n",
       "    </tr>\n",
       "    <tr>\n",
       "      <th>1</th>\n",
       "      <td>“你怎么又想去了？”\\r\\n“因为我上次一来台风就来了，直到我走后台风它也跟着走了。没有看到...</td>\n",
       "      <td>8231</td>\n",
       "    </tr>\n",
       "    <tr>\n",
       "      <th>2</th>\n",
       "      <td>+1\\r\\n三亚跨年怎么玩🌈从头到尾看这一篇就够了⭕️\\r\\n\\r\\n新年好呀，新年好呀，祝...</td>\n",
       "      <td>4781</td>\n",
       "    </tr>\n",
       "    <tr>\n",
       "      <th>3</th>\n",
       "      <td>对于连续8年一直在路上的雄鹰来讲，2020年是极不平静的。因为疫情的缘故，2020全年的大部...</td>\n",
       "      <td>8351</td>\n",
       "    </tr>\n",
       "    <tr>\n",
       "      <th>4</th>\n",
       "      <td>夏日，总要来一场有海的旅行才算完整\\r\\n夏至已至，这个夏天，奋不顾身的拥进了三亚沙滩大海的...</td>\n",
       "      <td>3278</td>\n",
       "    </tr>\n",
       "  </tbody>\n",
       "</table>\n",
       "</div>"
      ],
      "text/plain": [
       "                                                  内容  正文长度\n",
       "0  已过秋分，秋风慢慢的从北一路向南，天气开始渐渐凉了。\\r\\n不如给夏天续个费吧，一起去海南自...  8554\n",
       "1  “你怎么又想去了？”\\r\\n“因为我上次一来台风就来了，直到我走后台风它也跟着走了。没有看到...  8231\n",
       "2  +1\\r\\n三亚跨年怎么玩🌈从头到尾看这一篇就够了⭕️\\r\\n\\r\\n新年好呀，新年好呀，祝...  4781\n",
       "3  对于连续8年一直在路上的雄鹰来讲，2020年是极不平静的。因为疫情的缘故，2020全年的大部...  8351\n",
       "4  夏日，总要来一场有海的旅行才算完整\\r\\n夏至已至，这个夏天，奋不顾身的拥进了三亚沙滩大海的...  3278"
      ]
     },
     "execution_count": 10,
     "metadata": {},
     "output_type": "execute_result"
    }
   ],
   "source": [
    "df = pd.DataFrame()\n",
    "df['内容'] = comment\n",
    "df['正文长度'] = cd \n",
    "df.head()"
   ]
  },
  {
   "cell_type": "code",
   "execution_count": 11,
   "metadata": {},
   "outputs": [
    {
     "data": {
      "text/html": [
       "<div>\n",
       "<style scoped>\n",
       "    .dataframe tbody tr th:only-of-type {\n",
       "        vertical-align: middle;\n",
       "    }\n",
       "\n",
       "    .dataframe tbody tr th {\n",
       "        vertical-align: top;\n",
       "    }\n",
       "\n",
       "    .dataframe thead th {\n",
       "        text-align: right;\n",
       "    }\n",
       "</style>\n",
       "<table border=\"1\" class=\"dataframe\">\n",
       "  <thead>\n",
       "    <tr style=\"text-align: right;\">\n",
       "      <th></th>\n",
       "      <th>内容</th>\n",
       "      <th>正文长度</th>\n",
       "    </tr>\n",
       "  </thead>\n",
       "  <tbody>\n",
       "    <tr>\n",
       "      <th>0</th>\n",
       "      <td>已过秋分，秋风慢慢的从北一路向南，天气开始渐渐凉了。\\r\\n不如给夏天续个费吧，一起去海南自...</td>\n",
       "      <td>8554</td>\n",
       "    </tr>\n",
       "    <tr>\n",
       "      <th>1</th>\n",
       "      <td>“你怎么又想去了？”\\r\\n“因为我上次一来台风就来了，直到我走后台风它也跟着走了。没有看到...</td>\n",
       "      <td>8231</td>\n",
       "    </tr>\n",
       "    <tr>\n",
       "      <th>2</th>\n",
       "      <td>+1\\r\\n三亚跨年怎么玩🌈从头到尾看这一篇就够了⭕️\\r\\n\\r\\n新年好呀，新年好呀，祝...</td>\n",
       "      <td>4781</td>\n",
       "    </tr>\n",
       "    <tr>\n",
       "      <th>3</th>\n",
       "      <td>对于连续8年一直在路上的雄鹰来讲，2020年是极不平静的。因为疫情的缘故，2020全年的大部...</td>\n",
       "      <td>8351</td>\n",
       "    </tr>\n",
       "    <tr>\n",
       "      <th>4</th>\n",
       "      <td>夏日，总要来一场有海的旅行才算完整\\r\\n夏至已至，这个夏天，奋不顾身的拥进了三亚沙滩大海的...</td>\n",
       "      <td>3278</td>\n",
       "    </tr>\n",
       "    <tr>\n",
       "      <th>...</th>\n",
       "      <td>...</td>\n",
       "      <td>...</td>\n",
       "    </tr>\n",
       "    <tr>\n",
       "      <th>2997</th>\n",
       "      <td>海南不止有三亚的四大海湾，三大雨林，三大旅游海岛.......还有中部地区的原始雨林、黎苗风...</td>\n",
       "      <td>3057</td>\n",
       "    </tr>\n",
       "    <tr>\n",
       "      <th>2998</th>\n",
       "      <td>第四站：【亚龙湾热带天堂森林公园】：4A景区，亲临冯小刚执导，葛尤、舒琪主演的“非诚勿扰2”...</td>\n",
       "      <td>289</td>\n",
       "    </tr>\n",
       "    <tr>\n",
       "      <th>3000</th>\n",
       "      <td>长沙机场候机中——\\r\\n推荐一个朋友小雨，专业做海南旅游定制的，可以帮你代订景区门票，酒店...</td>\n",
       "      <td>492</td>\n",
       "    </tr>\n",
       "    <tr>\n",
       "      <th>3002</th>\n",
       "      <td>超级大的螃蟹~\\r\\n亚龙湾海鲜广场吃的海鲜加火锅，食材和加工费总共800多，厨师烧的很不错...</td>\n",
       "      <td>584</td>\n",
       "    </tr>\n",
       "    <tr>\n",
       "      <th>3003</th>\n",
       "      <td>在二十八岁的秋天去海南是什么样的体验？是重新激活了细胞里浪漫和活力因子的反应；是重回夏天的时...</td>\n",
       "      <td>3177</td>\n",
       "    </tr>\n",
       "  </tbody>\n",
       "</table>\n",
       "<p>2865 rows × 2 columns</p>\n",
       "</div>"
      ],
      "text/plain": [
       "                                                     内容  正文长度\n",
       "0     已过秋分，秋风慢慢的从北一路向南，天气开始渐渐凉了。\\r\\n不如给夏天续个费吧，一起去海南自...  8554\n",
       "1     “你怎么又想去了？”\\r\\n“因为我上次一来台风就来了，直到我走后台风它也跟着走了。没有看到...  8231\n",
       "2     +1\\r\\n三亚跨年怎么玩🌈从头到尾看这一篇就够了⭕️\\r\\n\\r\\n新年好呀，新年好呀，祝...  4781\n",
       "3     对于连续8年一直在路上的雄鹰来讲，2020年是极不平静的。因为疫情的缘故，2020全年的大部...  8351\n",
       "4     夏日，总要来一场有海的旅行才算完整\\r\\n夏至已至，这个夏天，奋不顾身的拥进了三亚沙滩大海的...  3278\n",
       "...                                                 ...   ...\n",
       "2997  海南不止有三亚的四大海湾，三大雨林，三大旅游海岛.......还有中部地区的原始雨林、黎苗风...  3057\n",
       "2998  第四站：【亚龙湾热带天堂森林公园】：4A景区，亲临冯小刚执导，葛尤、舒琪主演的“非诚勿扰2”...   289\n",
       "3000  长沙机场候机中——\\r\\n推荐一个朋友小雨，专业做海南旅游定制的，可以帮你代订景区门票，酒店...   492\n",
       "3002  超级大的螃蟹~\\r\\n亚龙湾海鲜广场吃的海鲜加火锅，食材和加工费总共800多，厨师烧的很不错...   584\n",
       "3003  在二十八岁的秋天去海南是什么样的体验？是重新激活了细胞里浪漫和活力因子的反应；是重回夏天的时...  3177\n",
       "\n",
       "[2865 rows x 2 columns]"
      ]
     },
     "execution_count": 11,
     "metadata": {},
     "output_type": "execute_result"
    }
   ],
   "source": [
    "df = df[df['正文长度'] >=100]\n",
    "df"
   ]
  },
  {
   "cell_type": "markdown",
   "metadata": {},
   "source": [
    "这一块是清洗数据，删除一些多余的字符和空格等无关紧要的内容，并且如果没有包含三亚或者海南的就去掉"
   ]
  },
  {
   "cell_type": "code",
   "execution_count": 12,
   "metadata": {},
   "outputs": [],
   "source": [
    "df['内容'] = df['内容'].astype(str)\n",
    "def sjqx(c):\n",
    "    c = c.replace('\\n','').replace('\\r','')\n",
    "    c = c.replace(' ','').replace('前言','')\n",
    "    c = c.replace(r\"([\\uD800-\\uDBFF][\\uDC00-\\uDFFF])\",'')\n",
    "    c = c.strip(\" \")\n",
    "    if '海南' in c or '三亚' in c:\n",
    "        return c\n",
    "    else:\n",
    "        return np.nan"
   ]
  },
  {
   "cell_type": "code",
   "execution_count": 13,
   "metadata": {},
   "outputs": [
    {
     "data": {
      "text/plain": [
       "0       已过秋分，秋风慢慢的从北一路向南，天气开始渐渐凉了。不如给夏天续个费吧，一起去海南自驾，从海...\n",
       "1       “你怎么又想去了？”“因为我上次一来台风就来了，直到我走后台风它也跟着走了。没有看到蓝天的它...\n",
       "2       +1三亚跨年怎么玩🌈从头到尾看这一篇就够了⭕️新年好呀，新年好呀，祝福大家新年好～🥳还有几天...\n",
       "3       对于连续8年一直在路上的雄鹰来讲，2020年是极不平静的。因为疫情的缘故，2020全年的大部...\n",
       "4       夏日，总要来一场有海的旅行才算完整夏至已至，这个夏天，奋不顾身的拥进了三亚沙滩大海的怀抱太久...\n",
       "                              ...                        \n",
       "2997    海南不止有三亚的四大海湾，三大雨林，三大旅游海岛.......还有中部地区的原始雨林、黎苗风...\n",
       "2998    第四站：【亚龙湾热带天堂森林公园】：4A景区，亲临冯小刚执导，葛尤、舒琪主演的“非诚勿扰2”...\n",
       "3000    长沙机场候机中——推荐一个朋友小雨，专业做海南旅游定制的，可以帮你代订景区门票，酒店（比你在...\n",
       "3002    超级大的螃蟹~亚龙湾海鲜广场吃的海鲜加火锅，食材和加工费总共800多，厨师烧的很不错（四个人...\n",
       "3003    在二十八岁的秋天去海南是什么样的体验？是重新激活了细胞里浪漫和活力因子的反应；是重回夏天的时...\n",
       "Name: 内容, Length: 2865, dtype: object"
      ]
     },
     "execution_count": 13,
     "metadata": {},
     "output_type": "execute_result"
    }
   ],
   "source": [
    "df['内容'] = df['内容'].apply(sjqx)\n",
    "df['内容']"
   ]
  },
  {
   "cell_type": "markdown",
   "metadata": {},
   "source": [
    "这一块是删除一些空值的内容"
   ]
  },
  {
   "cell_type": "code",
   "execution_count": 15,
   "metadata": {},
   "outputs": [
    {
     "data": {
      "text/html": [
       "<div>\n",
       "<style scoped>\n",
       "    .dataframe tbody tr th:only-of-type {\n",
       "        vertical-align: middle;\n",
       "    }\n",
       "\n",
       "    .dataframe tbody tr th {\n",
       "        vertical-align: top;\n",
       "    }\n",
       "\n",
       "    .dataframe thead th {\n",
       "        text-align: right;\n",
       "    }\n",
       "</style>\n",
       "<table border=\"1\" class=\"dataframe\">\n",
       "  <thead>\n",
       "    <tr style=\"text-align: right;\">\n",
       "      <th></th>\n",
       "      <th>内容</th>\n",
       "      <th>正文长度</th>\n",
       "    </tr>\n",
       "  </thead>\n",
       "  <tbody>\n",
       "    <tr>\n",
       "      <th>0</th>\n",
       "      <td>已过秋分，秋风慢慢的从北一路向南，天气开始渐渐凉了。不如给夏天续个费吧，一起去海南自驾，从海...</td>\n",
       "      <td>8554</td>\n",
       "    </tr>\n",
       "    <tr>\n",
       "      <th>1</th>\n",
       "      <td>“你怎么又想去了？”“因为我上次一来台风就来了，直到我走后台风它也跟着走了。没有看到蓝天的它...</td>\n",
       "      <td>8231</td>\n",
       "    </tr>\n",
       "    <tr>\n",
       "      <th>2</th>\n",
       "      <td>+1三亚跨年怎么玩🌈从头到尾看这一篇就够了⭕️新年好呀，新年好呀，祝福大家新年好～🥳还有几天...</td>\n",
       "      <td>4781</td>\n",
       "    </tr>\n",
       "    <tr>\n",
       "      <th>3</th>\n",
       "      <td>对于连续8年一直在路上的雄鹰来讲，2020年是极不平静的。因为疫情的缘故，2020全年的大部...</td>\n",
       "      <td>8351</td>\n",
       "    </tr>\n",
       "    <tr>\n",
       "      <th>4</th>\n",
       "      <td>夏日，总要来一场有海的旅行才算完整夏至已至，这个夏天，奋不顾身的拥进了三亚沙滩大海的怀抱太久...</td>\n",
       "      <td>3278</td>\n",
       "    </tr>\n",
       "    <tr>\n",
       "      <th>...</th>\n",
       "      <td>...</td>\n",
       "      <td>...</td>\n",
       "    </tr>\n",
       "    <tr>\n",
       "      <th>2997</th>\n",
       "      <td>海南不止有三亚的四大海湾，三大雨林，三大旅游海岛.......还有中部地区的原始雨林、黎苗风...</td>\n",
       "      <td>3057</td>\n",
       "    </tr>\n",
       "    <tr>\n",
       "      <th>2998</th>\n",
       "      <td>第四站：【亚龙湾热带天堂森林公园】：4A景区，亲临冯小刚执导，葛尤、舒琪主演的“非诚勿扰2”...</td>\n",
       "      <td>289</td>\n",
       "    </tr>\n",
       "    <tr>\n",
       "      <th>3000</th>\n",
       "      <td>长沙机场候机中——推荐一个朋友小雨，专业做海南旅游定制的，可以帮你代订景区门票，酒店（比你在...</td>\n",
       "      <td>492</td>\n",
       "    </tr>\n",
       "    <tr>\n",
       "      <th>3002</th>\n",
       "      <td>超级大的螃蟹~亚龙湾海鲜广场吃的海鲜加火锅，食材和加工费总共800多，厨师烧的很不错（四个人...</td>\n",
       "      <td>584</td>\n",
       "    </tr>\n",
       "    <tr>\n",
       "      <th>3003</th>\n",
       "      <td>在二十八岁的秋天去海南是什么样的体验？是重新激活了细胞里浪漫和活力因子的反应；是重回夏天的时...</td>\n",
       "      <td>3177</td>\n",
       "    </tr>\n",
       "  </tbody>\n",
       "</table>\n",
       "<p>2294 rows × 2 columns</p>\n",
       "</div>"
      ],
      "text/plain": [
       "                                                     内容  正文长度\n",
       "0     已过秋分，秋风慢慢的从北一路向南，天气开始渐渐凉了。不如给夏天续个费吧，一起去海南自驾，从海...  8554\n",
       "1     “你怎么又想去了？”“因为我上次一来台风就来了，直到我走后台风它也跟着走了。没有看到蓝天的它...  8231\n",
       "2     +1三亚跨年怎么玩🌈从头到尾看这一篇就够了⭕️新年好呀，新年好呀，祝福大家新年好～🥳还有几天...  4781\n",
       "3     对于连续8年一直在路上的雄鹰来讲，2020年是极不平静的。因为疫情的缘故，2020全年的大部...  8351\n",
       "4     夏日，总要来一场有海的旅行才算完整夏至已至，这个夏天，奋不顾身的拥进了三亚沙滩大海的怀抱太久...  3278\n",
       "...                                                 ...   ...\n",
       "2997  海南不止有三亚的四大海湾，三大雨林，三大旅游海岛.......还有中部地区的原始雨林、黎苗风...  3057\n",
       "2998  第四站：【亚龙湾热带天堂森林公园】：4A景区，亲临冯小刚执导，葛尤、舒琪主演的“非诚勿扰2”...   289\n",
       "3000  长沙机场候机中——推荐一个朋友小雨，专业做海南旅游定制的，可以帮你代订景区门票，酒店（比你在...   492\n",
       "3002  超级大的螃蟹~亚龙湾海鲜广场吃的海鲜加火锅，食材和加工费总共800多，厨师烧的很不错（四个人...   584\n",
       "3003  在二十八岁的秋天去海南是什么样的体验？是重新激活了细胞里浪漫和活力因子的反应；是重回夏天的时...  3177\n",
       "\n",
       "[2294 rows x 2 columns]"
      ]
     },
     "execution_count": 15,
     "metadata": {},
     "output_type": "execute_result"
    }
   ],
   "source": [
    "df.dropna(how='any', inplace=True)\n",
    "df"
   ]
  },
  {
   "cell_type": "markdown",
   "metadata": {},
   "source": [
    "这一块是删除表情包和标点符号的内容"
   ]
  },
  {
   "cell_type": "code",
   "execution_count": 16,
   "metadata": {},
   "outputs": [
    {
     "data": {
      "text/plain": [
       "0       已过秋分秋风慢慢的从北一路向南天气开始渐渐凉了不如给夏天续个费吧一起去海南自驾从海口一路去三...\n",
       "1       你怎么又想去了因为我上次一来台风就来了直到我走后台风它也跟着走了没有看到蓝天的它总觉得失意些...\n",
       "2       1三亚跨年怎么玩从头到尾看这一篇就够了新年好呀新年好呀祝福大家新年好还有几天就要元旦啦想好怎...\n",
       "3       对于连续8年一直在路上的雄鹰来讲2020年是极不平静的因为疫情的缘故2020全年的大部分时间...\n",
       "4       夏日总要来一场有海的旅行才算完整夏至已至这个夏天奋不顾身的拥进了三亚沙滩大海的怀抱太久没来三...\n",
       "                              ...                        \n",
       "2997    海南不止有三亚的四大海湾三大雨林三大旅游海岛还有中部地区的原始雨林黎苗风情还有西部地区更纯天...\n",
       "2998    第四站亚龙湾热带天堂森林公园4A景区亲临冯小刚执导葛尤舒琪主演的非诚勿扰2情美大片拍摄地是上...\n",
       "3000    长沙机场候机中推荐一个朋友小雨专业做海南旅游定制的可以帮你代订景区门票酒店比你在平台上定便宜...\n",
       "3002    超级大的螃蟹亚龙湾海鲜广场吃的海鲜加火锅食材和加工费总共800多厨师烧的很不错四个人吃的很H...\n",
       "3003    在二十八岁的秋天去海南是什么样的体验是重新激活了细胞里浪漫和活力因子的反应是重回夏天的时间穿...\n",
       "Name: 内容, Length: 2294, dtype: object"
      ]
     },
     "execution_count": 16,
     "metadata": {},
     "output_type": "execute_result"
    }
   ],
   "source": [
    "import re\n",
    "def clear_characters(text):\n",
    "    return re.sub('\\W', '', text)\n",
    "df['内容'] = df['内容'].apply(clear_characters)\n",
    "df['内容']"
   ]
  },
  {
   "cell_type": "markdown",
   "metadata": {},
   "source": [
    "这一块是采用百度的开源NLP，这个是一个成熟的框架，且准确率高，不需要去计算其他什么的内容，该框架就会自动帮你去分析判断这里面的情感倾向"
   ]
  },
  {
   "cell_type": "code",
   "execution_count": 17,
   "metadata": {},
   "outputs": [
    {
     "name": "stderr",
     "output_type": "stream",
     "text": [
      "D:\\rgzn\\lib\\site-packages\\sklearn\\feature_extraction\\image.py:167: DeprecationWarning: `np.int` is a deprecated alias for the builtin `int`. To silence this warning, use `int` by itself. Doing this will not modify any behavior and is safe. When replacing `np.int`, you may wish to use e.g. `np.int64` or `np.int32` to specify the precision. If you wish to review your current use, check the release note link for additional information.\n",
      "Deprecated in NumPy 1.20; for more details and guidance: https://numpy.org/devdocs/release/1.20.0-notes.html#deprecations\n",
      "  dtype=np.int):\n",
      "D:\\rgzn\\lib\\site-packages\\sklearn\\linear_model\\least_angle.py:30: DeprecationWarning: `np.float` is a deprecated alias for the builtin `float`. To silence this warning, use `float` by itself. Doing this will not modify any behavior and is safe. If you specifically wanted the numpy scalar type, use `np.float64` here.\n",
      "Deprecated in NumPy 1.20; for more details and guidance: https://numpy.org/devdocs/release/1.20.0-notes.html#deprecations\n",
      "  method='lar', copy_X=True, eps=np.finfo(np.float).eps,\n",
      "D:\\rgzn\\lib\\site-packages\\sklearn\\linear_model\\least_angle.py:167: DeprecationWarning: `np.float` is a deprecated alias for the builtin `float`. To silence this warning, use `float` by itself. Doing this will not modify any behavior and is safe. If you specifically wanted the numpy scalar type, use `np.float64` here.\n",
      "Deprecated in NumPy 1.20; for more details and guidance: https://numpy.org/devdocs/release/1.20.0-notes.html#deprecations\n",
      "  method='lar', copy_X=True, eps=np.finfo(np.float).eps,\n",
      "D:\\rgzn\\lib\\site-packages\\sklearn\\linear_model\\least_angle.py:284: DeprecationWarning: `np.float` is a deprecated alias for the builtin `float`. To silence this warning, use `float` by itself. Doing this will not modify any behavior and is safe. If you specifically wanted the numpy scalar type, use `np.float64` here.\n",
      "Deprecated in NumPy 1.20; for more details and guidance: https://numpy.org/devdocs/release/1.20.0-notes.html#deprecations\n",
      "  eps=np.finfo(np.float).eps, copy_Gram=True, verbose=0,\n",
      "D:\\rgzn\\lib\\site-packages\\sklearn\\linear_model\\least_angle.py:862: DeprecationWarning: `np.float` is a deprecated alias for the builtin `float`. To silence this warning, use `float` by itself. Doing this will not modify any behavior and is safe. If you specifically wanted the numpy scalar type, use `np.float64` here.\n",
      "Deprecated in NumPy 1.20; for more details and guidance: https://numpy.org/devdocs/release/1.20.0-notes.html#deprecations\n",
      "  eps=np.finfo(np.float).eps, copy_X=True, fit_path=True,\n",
      "D:\\rgzn\\lib\\site-packages\\sklearn\\linear_model\\least_angle.py:1101: DeprecationWarning: `np.float` is a deprecated alias for the builtin `float`. To silence this warning, use `float` by itself. Doing this will not modify any behavior and is safe. If you specifically wanted the numpy scalar type, use `np.float64` here.\n",
      "Deprecated in NumPy 1.20; for more details and guidance: https://numpy.org/devdocs/release/1.20.0-notes.html#deprecations\n",
      "  eps=np.finfo(np.float).eps, copy_X=True, fit_path=True,\n",
      "D:\\rgzn\\lib\\site-packages\\sklearn\\linear_model\\least_angle.py:1127: DeprecationWarning: `np.float` is a deprecated alias for the builtin `float`. To silence this warning, use `float` by itself. Doing this will not modify any behavior and is safe. If you specifically wanted the numpy scalar type, use `np.float64` here.\n",
      "Deprecated in NumPy 1.20; for more details and guidance: https://numpy.org/devdocs/release/1.20.0-notes.html#deprecations\n",
      "  eps=np.finfo(np.float).eps, positive=False):\n",
      "D:\\rgzn\\lib\\site-packages\\sklearn\\linear_model\\least_angle.py:1362: DeprecationWarning: `np.float` is a deprecated alias for the builtin `float`. To silence this warning, use `float` by itself. Doing this will not modify any behavior and is safe. If you specifically wanted the numpy scalar type, use `np.float64` here.\n",
      "Deprecated in NumPy 1.20; for more details and guidance: https://numpy.org/devdocs/release/1.20.0-notes.html#deprecations\n",
      "  max_n_alphas=1000, n_jobs=None, eps=np.finfo(np.float).eps,\n",
      "D:\\rgzn\\lib\\site-packages\\sklearn\\linear_model\\least_angle.py:1602: DeprecationWarning: `np.float` is a deprecated alias for the builtin `float`. To silence this warning, use `float` by itself. Doing this will not modify any behavior and is safe. If you specifically wanted the numpy scalar type, use `np.float64` here.\n",
      "Deprecated in NumPy 1.20; for more details and guidance: https://numpy.org/devdocs/release/1.20.0-notes.html#deprecations\n",
      "  max_n_alphas=1000, n_jobs=None, eps=np.finfo(np.float).eps,\n",
      "D:\\rgzn\\lib\\site-packages\\sklearn\\linear_model\\least_angle.py:1738: DeprecationWarning: `np.float` is a deprecated alias for the builtin `float`. To silence this warning, use `float` by itself. Doing this will not modify any behavior and is safe. If you specifically wanted the numpy scalar type, use `np.float64` here.\n",
      "Deprecated in NumPy 1.20; for more details and guidance: https://numpy.org/devdocs/release/1.20.0-notes.html#deprecations\n",
      "  eps=np.finfo(np.float).eps, copy_X=True, positive=False):\n",
      "\u001b[32m[2022-06-11 14:16:43,162] [    INFO] - Installing senta_bilstm module\u001b[0m\n",
      "\u001b[32m[2022-06-11 14:16:43,424] [    INFO] - Module senta_bilstm already installed in C:\\Users\\96075\\.paddlehub\\modules\\senta_bilstm\u001b[0m\n",
      "\u001b[32m[2022-06-11 14:16:47,901] [    INFO] - Installing lac module\u001b[0m\n",
      "\u001b[32m[2022-06-11 14:16:47,912] [    INFO] - Module lac already installed in C:\\Users\\96075\\.paddlehub\\modules\\lac\u001b[0m\n"
     ]
    },
    {
     "data": {
      "text/html": [
       "<div>\n",
       "<style scoped>\n",
       "    .dataframe tbody tr th:only-of-type {\n",
       "        vertical-align: middle;\n",
       "    }\n",
       "\n",
       "    .dataframe tbody tr th {\n",
       "        vertical-align: top;\n",
       "    }\n",
       "\n",
       "    .dataframe thead th {\n",
       "        text-align: right;\n",
       "    }\n",
       "</style>\n",
       "<table border=\"1\" class=\"dataframe\">\n",
       "  <thead>\n",
       "    <tr style=\"text-align: right;\">\n",
       "      <th></th>\n",
       "      <th>内容</th>\n",
       "      <th>正文长度</th>\n",
       "      <th>情感分值</th>\n",
       "    </tr>\n",
       "  </thead>\n",
       "  <tbody>\n",
       "    <tr>\n",
       "      <th>0</th>\n",
       "      <td>已过秋分秋风慢慢的从北一路向南天气开始渐渐凉了不如给夏天续个费吧一起去海南自驾从海口一路去三...</td>\n",
       "      <td>8554</td>\n",
       "      <td>0.9982</td>\n",
       "    </tr>\n",
       "    <tr>\n",
       "      <th>1</th>\n",
       "      <td>你怎么又想去了因为我上次一来台风就来了直到我走后台风它也跟着走了没有看到蓝天的它总觉得失意些...</td>\n",
       "      <td>8231</td>\n",
       "      <td>0.9971</td>\n",
       "    </tr>\n",
       "    <tr>\n",
       "      <th>2</th>\n",
       "      <td>1三亚跨年怎么玩从头到尾看这一篇就够了新年好呀新年好呀祝福大家新年好还有几天就要元旦啦想好怎...</td>\n",
       "      <td>4781</td>\n",
       "      <td>0.9980</td>\n",
       "    </tr>\n",
       "    <tr>\n",
       "      <th>3</th>\n",
       "      <td>对于连续8年一直在路上的雄鹰来讲2020年是极不平静的因为疫情的缘故2020全年的大部分时间...</td>\n",
       "      <td>8351</td>\n",
       "      <td>0.9953</td>\n",
       "    </tr>\n",
       "    <tr>\n",
       "      <th>4</th>\n",
       "      <td>夏日总要来一场有海的旅行才算完整夏至已至这个夏天奋不顾身的拥进了三亚沙滩大海的怀抱太久没来三...</td>\n",
       "      <td>3278</td>\n",
       "      <td>0.9987</td>\n",
       "    </tr>\n",
       "  </tbody>\n",
       "</table>\n",
       "</div>"
      ],
      "text/plain": [
       "                                                  内容  正文长度    情感分值\n",
       "0  已过秋分秋风慢慢的从北一路向南天气开始渐渐凉了不如给夏天续个费吧一起去海南自驾从海口一路去三...  8554  0.9982\n",
       "1  你怎么又想去了因为我上次一来台风就来了直到我走后台风它也跟着走了没有看到蓝天的它总觉得失意些...  8231  0.9971\n",
       "2  1三亚跨年怎么玩从头到尾看这一篇就够了新年好呀新年好呀祝福大家新年好还有几天就要元旦啦想好怎...  4781  0.9980\n",
       "3  对于连续8年一直在路上的雄鹰来讲2020年是极不平静的因为疫情的缘故2020全年的大部分时间...  8351  0.9953\n",
       "4  夏日总要来一场有海的旅行才算完整夏至已至这个夏天奋不顾身的拥进了三亚沙滩大海的怀抱太久没来三...  3278  0.9987"
      ]
     },
     "execution_count": 17,
     "metadata": {},
     "output_type": "execute_result"
    }
   ],
   "source": [
    "import paddlehub as hub\n",
    "#这里使用了百度开源的成熟NLP模型来预测情感倾向\n",
    "senta = hub.Module(name=\"senta_bilstm\")\n",
    "texts = df['内容'].tolist()\n",
    "input_data = {'text':texts}\n",
    "res = senta.sentiment_classify(data=input_data)\n",
    "df['情感分值'] = [x['positive_probs'] for x in res]\n",
    "df.head()"
   ]
  },
  {
   "cell_type": "markdown",
   "metadata": {},
   "source": [
    "senta_bilstm模型的介绍 \n",
    "官方文档:https://www.paddlepaddle.org.cn/hubdetail?name=senta_bilstm&en_category=SentimentAnalysis"
   ]
  },
  {
   "cell_type": "code",
   "execution_count": 19,
   "metadata": {},
   "outputs": [],
   "source": [
    "#清洗数据保存为EXCEL\n",
    "df.to_excel(\"./data/clean_data.xlsx\",index=False)"
   ]
  },
  {
   "cell_type": "code",
   "execution_count": null,
   "metadata": {},
   "outputs": [],
   "source": []
  },
  {
   "cell_type": "code",
   "execution_count": null,
   "metadata": {},
   "outputs": [],
   "source": []
  },
  {
   "cell_type": "code",
   "execution_count": null,
   "metadata": {},
   "outputs": [],
   "source": []
  },
  {
   "cell_type": "code",
   "execution_count": null,
   "metadata": {},
   "outputs": [],
   "source": []
  },
  {
   "cell_type": "code",
   "execution_count": null,
   "metadata": {
    "scrolled": false
   },
   "outputs": [],
   "source": [
    "    "
   ]
  },
  {
   "cell_type": "code",
   "execution_count": null,
   "metadata": {},
   "outputs": [],
   "source": []
  },
  {
   "cell_type": "code",
   "execution_count": null,
   "metadata": {},
   "outputs": [],
   "source": []
  },
  {
   "cell_type": "code",
   "execution_count": null,
   "metadata": {},
   "outputs": [],
   "source": []
  },
  {
   "cell_type": "code",
   "execution_count": null,
   "metadata": {},
   "outputs": [],
   "source": []
  },
  {
   "cell_type": "code",
   "execution_count": null,
   "metadata": {},
   "outputs": [],
   "source": []
  },
  {
   "cell_type": "code",
   "execution_count": null,
   "metadata": {},
   "outputs": [],
   "source": []
  },
  {
   "cell_type": "code",
   "execution_count": null,
   "metadata": {},
   "outputs": [],
   "source": []
  },
  {
   "cell_type": "code",
   "execution_count": null,
   "metadata": {},
   "outputs": [],
   "source": []
  },
  {
   "cell_type": "code",
   "execution_count": null,
   "metadata": {},
   "outputs": [],
   "source": []
  },
  {
   "cell_type": "code",
   "execution_count": null,
   "metadata": {},
   "outputs": [],
   "source": []
  },
  {
   "cell_type": "code",
   "execution_count": null,
   "metadata": {},
   "outputs": [],
   "source": []
  },
  {
   "cell_type": "code",
   "execution_count": null,
   "metadata": {},
   "outputs": [],
   "source": []
  },
  {
   "cell_type": "code",
   "execution_count": null,
   "metadata": {},
   "outputs": [],
   "source": []
  },
  {
   "cell_type": "code",
   "execution_count": null,
   "metadata": {},
   "outputs": [],
   "source": []
  },
  {
   "cell_type": "code",
   "execution_count": null,
   "metadata": {},
   "outputs": [],
   "source": []
  },
  {
   "cell_type": "code",
   "execution_count": null,
   "metadata": {},
   "outputs": [],
   "source": []
  },
  {
   "cell_type": "code",
   "execution_count": null,
   "metadata": {},
   "outputs": [],
   "source": []
  },
  {
   "cell_type": "code",
   "execution_count": null,
   "metadata": {},
   "outputs": [],
   "source": []
  },
  {
   "cell_type": "code",
   "execution_count": null,
   "metadata": {},
   "outputs": [],
   "source": []
  }
 ],
 "metadata": {
  "kernelspec": {
   "display_name": "Python 3",
   "language": "python",
   "name": "python3"
  },
  "language_info": {
   "codemirror_mode": {
    "name": "ipython",
    "version": 3
   },
   "file_extension": ".py",
   "mimetype": "text/x-python",
   "name": "python",
   "nbconvert_exporter": "python",
   "pygments_lexer": "ipython3",
   "version": "3.7.4"
  }
 },
 "nbformat": 4,
 "nbformat_minor": 2
}
