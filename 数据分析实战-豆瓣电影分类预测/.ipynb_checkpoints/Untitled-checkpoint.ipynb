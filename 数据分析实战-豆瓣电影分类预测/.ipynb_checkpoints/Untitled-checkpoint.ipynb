{
 "cells": [
  {
   "cell_type": "code",
   "execution_count": 8,
   "metadata": {},
   "outputs": [],
   "source": [
    "from bs4 import BeautifulSoup\n",
    "from lxml import html\n",
    "import xml\n",
    "import requests\n",
    "import json,os,csv\n",
    "import io"
   ]
  },
  {
   "cell_type": "code",
   "execution_count": 9,
   "metadata": {},
   "outputs": [],
   "source": [
    "# 该函数实现了保存数据的功能\n",
    "def write_dictionary_to_csv(dict,filename):\n",
    "    file_exists = os.path.isfile(filename)\n",
    "    with open(filename, 'a',encoding='utf-8') as f: \n",
    "        w =csv.DictWriter(f, dict.keys(),delimiter=',', quotechar='\"', lineterminator='\\n',quoting=csv.QUOTE_ALL, skipinitialspace=True)\n",
    "        if not file_exists :\n",
    "            w.writeheader()\n",
    "        w.writerow(dict)\n",
    "    print('当前行写入csv成功！')    \n",
    "rank = 1"
   ]
  },
  {
   "cell_type": "code",
   "execution_count": 10,
   "metadata": {},
   "outputs": [],
   "source": [
    "# 该函数实现了爬取数据的功能\n",
    "def write_one_page(url):\n",
    "    headers = {'User-Agent': 'Mozilla/5.0 (Windows NT 6.1; Win64; x64) AppleWebKit/537.36 (KHTML, like Gecko) Chrome/58.0.3029.110 Safari/537.36'}\n",
    "    html = requests.get(url, headers=headers).text\n",
    "    #用lxml的形式把上面解析到的html的文本用BeautifulSoup去解析这个文本，方便后面用BeautifulSoup去定位相应的位置去获取内容\n",
    "    soup = BeautifulSoup(html, 'lxml')\n",
    "    global rank\n",
    "    for k in soup.find('div',class_='article').find_all('div',class_='info'):\n",
    "        name = k.find('div',class_='hd').find_all('span')#电影名字\n",
    "        score = k.find('div',class_='star').find_all('span')#分数\n",
    "        actor_infos_html = k.find(class_='bd')\n",
    "        #strip() 方法用于移除字符串头尾指定的字符（默认为空格）\n",
    "        actor_infos = actor_infos_html.find('p').get_text().strip().split('\\n')\n",
    "        actor_infos1 = actor_infos[0].split('\\xa0\\xa0\\xa0')\n",
    "        director = actor_infos1[0][3:]\n",
    "        role = actor_infos[1]\n",
    "        year_area = actor_infos[1].lstrip().split('\\xa0/\\xa0')\n",
    "        year = year_area[0]\n",
    "        country = year_area[1]\n",
    "        type = year_area[2]   \n",
    "#         print(rank,name[0].string,score[1].string,year,country,type)\n",
    "        data={\n",
    "        'rank':rank   ,\n",
    "        'name':name[0].string   ,\n",
    "        'score':score[1].string  ,\n",
    "        'year':year   ,\n",
    "        'country':country   ,\n",
    "        'type':type\n",
    "      \n",
    "        }\n",
    "        rank += 1\n",
    "        write_dictionary_to_csv(data,'电影.csv')"
   ]
  },
  {
   "cell_type": "code",
   "execution_count": 11,
   "metadata": {},
   "outputs": [
    {
     "name": "stdout",
     "output_type": "stream",
     "text": [
      "当前行写入csv成功！\n",
      "当前行写入csv成功！\n",
      "当前行写入csv成功！\n",
      "当前行写入csv成功！\n",
      "当前行写入csv成功！\n",
      "当前行写入csv成功！\n",
      "当前行写入csv成功！\n",
      "当前行写入csv成功！\n",
      "当前行写入csv成功！\n",
      "当前行写入csv成功！\n",
      "当前行写入csv成功！\n",
      "当前行写入csv成功！\n",
      "当前行写入csv成功！\n",
      "当前行写入csv成功！\n",
      "当前行写入csv成功！\n",
      "当前行写入csv成功！\n",
      "当前行写入csv成功！\n",
      "当前行写入csv成功！\n",
      "当前行写入csv成功！\n",
      "当前行写入csv成功！\n",
      "当前行写入csv成功！\n",
      "当前行写入csv成功！\n",
      "当前行写入csv成功！\n",
      "当前行写入csv成功！\n",
      "当前行写入csv成功！\n",
      "当前行写入csv成功！\n",
      "当前行写入csv成功！\n",
      "当前行写入csv成功！\n",
      "当前行写入csv成功！\n",
      "当前行写入csv成功！\n",
      "当前行写入csv成功！\n",
      "当前行写入csv成功！\n",
      "当前行写入csv成功！\n",
      "当前行写入csv成功！\n",
      "当前行写入csv成功！\n",
      "当前行写入csv成功！\n",
      "当前行写入csv成功！\n",
      "当前行写入csv成功！\n",
      "当前行写入csv成功！\n",
      "当前行写入csv成功！\n",
      "当前行写入csv成功！\n",
      "当前行写入csv成功！\n",
      "当前行写入csv成功！\n",
      "当前行写入csv成功！\n",
      "当前行写入csv成功！\n",
      "当前行写入csv成功！\n",
      "当前行写入csv成功！\n",
      "当前行写入csv成功！\n",
      "当前行写入csv成功！\n",
      "当前行写入csv成功！\n",
      "当前行写入csv成功！\n",
      "当前行写入csv成功！\n",
      "当前行写入csv成功！\n",
      "当前行写入csv成功！\n",
      "当前行写入csv成功！\n",
      "当前行写入csv成功！\n",
      "当前行写入csv成功！\n",
      "当前行写入csv成功！\n",
      "当前行写入csv成功！\n",
      "当前行写入csv成功！\n",
      "当前行写入csv成功！\n",
      "当前行写入csv成功！\n",
      "当前行写入csv成功！\n",
      "当前行写入csv成功！\n",
      "当前行写入csv成功！\n",
      "当前行写入csv成功！\n",
      "当前行写入csv成功！\n",
      "当前行写入csv成功！\n",
      "当前行写入csv成功！\n",
      "当前行写入csv成功！\n",
      "当前行写入csv成功！\n",
      "当前行写入csv成功！\n",
      "当前行写入csv成功！\n",
      "当前行写入csv成功！\n",
      "当前行写入csv成功！\n",
      "当前行写入csv成功！\n",
      "当前行写入csv成功！\n",
      "当前行写入csv成功！\n",
      "当前行写入csv成功！\n",
      "当前行写入csv成功！\n",
      "当前行写入csv成功！\n",
      "当前行写入csv成功！\n",
      "当前行写入csv成功！\n",
      "当前行写入csv成功！\n",
      "当前行写入csv成功！\n",
      "当前行写入csv成功！\n",
      "当前行写入csv成功！\n",
      "当前行写入csv成功！\n",
      "当前行写入csv成功！\n",
      "当前行写入csv成功！\n",
      "当前行写入csv成功！\n",
      "当前行写入csv成功！\n",
      "当前行写入csv成功！\n",
      "当前行写入csv成功！\n",
      "当前行写入csv成功！\n",
      "当前行写入csv成功！\n",
      "当前行写入csv成功！\n",
      "当前行写入csv成功！\n",
      "当前行写入csv成功！\n",
      "当前行写入csv成功！\n",
      "当前行写入csv成功！\n",
      "当前行写入csv成功！\n",
      "当前行写入csv成功！\n",
      "当前行写入csv成功！\n",
      "当前行写入csv成功！\n",
      "当前行写入csv成功！\n",
      "当前行写入csv成功！\n",
      "当前行写入csv成功！\n",
      "当前行写入csv成功！\n",
      "当前行写入csv成功！\n",
      "当前行写入csv成功！\n",
      "当前行写入csv成功！\n",
      "当前行写入csv成功！\n",
      "当前行写入csv成功！\n",
      "当前行写入csv成功！\n",
      "当前行写入csv成功！\n",
      "当前行写入csv成功！\n",
      "当前行写入csv成功！\n",
      "当前行写入csv成功！\n",
      "当前行写入csv成功！\n",
      "当前行写入csv成功！\n",
      "当前行写入csv成功！\n",
      "当前行写入csv成功！\n",
      "当前行写入csv成功！\n",
      "当前行写入csv成功！\n",
      "当前行写入csv成功！\n",
      "当前行写入csv成功！\n",
      "当前行写入csv成功！\n",
      "当前行写入csv成功！\n",
      "当前行写入csv成功！\n",
      "当前行写入csv成功！\n",
      "当前行写入csv成功！\n",
      "当前行写入csv成功！\n",
      "当前行写入csv成功！\n",
      "当前行写入csv成功！\n",
      "当前行写入csv成功！\n",
      "当前行写入csv成功！\n",
      "当前行写入csv成功！\n",
      "当前行写入csv成功！\n",
      "当前行写入csv成功！\n",
      "当前行写入csv成功！\n",
      "当前行写入csv成功！\n",
      "当前行写入csv成功！\n",
      "当前行写入csv成功！\n",
      "当前行写入csv成功！\n",
      "当前行写入csv成功！\n",
      "当前行写入csv成功！\n",
      "当前行写入csv成功！\n",
      "当前行写入csv成功！\n",
      "当前行写入csv成功！\n",
      "当前行写入csv成功！\n",
      "当前行写入csv成功！\n",
      "当前行写入csv成功！\n",
      "当前行写入csv成功！\n",
      "当前行写入csv成功！\n",
      "当前行写入csv成功！\n",
      "当前行写入csv成功！\n",
      "当前行写入csv成功！\n",
      "当前行写入csv成功！\n",
      "当前行写入csv成功！\n",
      "当前行写入csv成功！\n",
      "当前行写入csv成功！\n",
      "当前行写入csv成功！\n",
      "当前行写入csv成功！\n",
      "当前行写入csv成功！\n",
      "当前行写入csv成功！\n",
      "当前行写入csv成功！\n",
      "当前行写入csv成功！\n",
      "当前行写入csv成功！\n",
      "当前行写入csv成功！\n",
      "当前行写入csv成功！\n",
      "当前行写入csv成功！\n",
      "当前行写入csv成功！\n",
      "当前行写入csv成功！\n",
      "当前行写入csv成功！\n",
      "当前行写入csv成功！\n",
      "当前行写入csv成功！\n",
      "当前行写入csv成功！\n",
      "当前行写入csv成功！\n",
      "当前行写入csv成功！\n",
      "当前行写入csv成功！\n",
      "当前行写入csv成功！\n",
      "当前行写入csv成功！\n",
      "当前行写入csv成功！\n",
      "当前行写入csv成功！\n",
      "当前行写入csv成功！\n",
      "当前行写入csv成功！\n",
      "当前行写入csv成功！\n",
      "当前行写入csv成功！\n",
      "当前行写入csv成功！\n",
      "当前行写入csv成功！\n",
      "当前行写入csv成功！\n",
      "当前行写入csv成功！\n",
      "当前行写入csv成功！\n",
      "当前行写入csv成功！\n",
      "当前行写入csv成功！\n",
      "当前行写入csv成功！\n",
      "当前行写入csv成功！\n",
      "当前行写入csv成功！\n",
      "当前行写入csv成功！\n",
      "当前行写入csv成功！\n",
      "当前行写入csv成功！\n",
      "当前行写入csv成功！\n",
      "当前行写入csv成功！\n",
      "当前行写入csv成功！\n",
      "当前行写入csv成功！\n",
      "当前行写入csv成功！\n",
      "当前行写入csv成功！\n",
      "当前行写入csv成功！\n",
      "当前行写入csv成功！\n",
      "当前行写入csv成功！\n",
      "当前行写入csv成功！\n",
      "当前行写入csv成功！\n",
      "当前行写入csv成功！\n",
      "当前行写入csv成功！\n",
      "当前行写入csv成功！\n",
      "当前行写入csv成功！\n",
      "当前行写入csv成功！\n",
      "当前行写入csv成功！\n",
      "当前行写入csv成功！\n",
      "当前行写入csv成功！\n",
      "当前行写入csv成功！\n",
      "当前行写入csv成功！\n",
      "当前行写入csv成功！\n",
      "当前行写入csv成功！\n",
      "当前行写入csv成功！\n",
      "当前行写入csv成功！\n",
      "当前行写入csv成功！\n",
      "当前行写入csv成功！\n",
      "当前行写入csv成功！\n",
      "当前行写入csv成功！\n",
      "当前行写入csv成功！\n",
      "当前行写入csv成功！\n",
      "当前行写入csv成功！\n",
      "当前行写入csv成功！\n",
      "当前行写入csv成功！\n",
      "当前行写入csv成功！\n",
      "当前行写入csv成功！\n",
      "当前行写入csv成功！\n",
      "当前行写入csv成功！\n",
      "当前行写入csv成功！\n",
      "当前行写入csv成功！\n",
      "当前行写入csv成功！\n",
      "当前行写入csv成功！\n",
      "当前行写入csv成功！\n",
      "当前行写入csv成功！\n",
      "当前行写入csv成功！\n",
      "当前行写入csv成功！\n",
      "当前行写入csv成功！\n",
      "当前行写入csv成功！\n"
     ]
    }
   ],
   "source": [
    "if __name__ == '__main__':\n",
    "    for i in range(10):\n",
    "        a = i * 25       \n",
    "        url = 'https://movie.douban.com/top250?start={}&filter='.format(a) \n",
    "        write_one_page(url)"
   ]
  },
  {
   "cell_type": "code",
   "execution_count": 81,
   "metadata": {},
   "outputs": [],
   "source": [
    "import numpy as np\n",
    "import pandas as pd"
   ]
  },
  {
   "cell_type": "code",
   "execution_count": 82,
   "metadata": {},
   "outputs": [
    {
     "name": "stdout",
     "output_type": "stream",
     "text": [
      "<class 'pandas.core.frame.DataFrame'>\n",
      "RangeIndex: 250 entries, 0 to 249\n",
      "Data columns (total 6 columns):\n",
      " #   Column   Non-Null Count  Dtype  \n",
      "---  ------   --------------  -----  \n",
      " 0   rank     250 non-null    int64  \n",
      " 1   name     250 non-null    object \n",
      " 2   score    250 non-null    float64\n",
      " 3   year     250 non-null    object \n",
      " 4   country  250 non-null    object \n",
      " 5   type     250 non-null    object \n",
      "dtypes: float64(1), int64(1), object(4)\n",
      "memory usage: 11.8+ KB\n"
     ]
    }
   ],
   "source": [
    "df = pd.read_csv('电影.csv',encoding='utf-8')\n",
    "df.info()"
   ]
  },
  {
   "cell_type": "code",
   "execution_count": 83,
   "metadata": {},
   "outputs": [
    {
     "data": {
      "text/html": [
       "<div>\n",
       "<style scoped>\n",
       "    .dataframe tbody tr th:only-of-type {\n",
       "        vertical-align: middle;\n",
       "    }\n",
       "\n",
       "    .dataframe tbody tr th {\n",
       "        vertical-align: top;\n",
       "    }\n",
       "\n",
       "    .dataframe thead th {\n",
       "        text-align: right;\n",
       "    }\n",
       "</style>\n",
       "<table border=\"1\" class=\"dataframe\">\n",
       "  <thead>\n",
       "    <tr style=\"text-align: right;\">\n",
       "      <th></th>\n",
       "      <th>rank</th>\n",
       "      <th>name</th>\n",
       "      <th>score</th>\n",
       "      <th>year</th>\n",
       "      <th>country</th>\n",
       "      <th>type</th>\n",
       "    </tr>\n",
       "  </thead>\n",
       "  <tbody>\n",
       "    <tr>\n",
       "      <th>0</th>\n",
       "      <td>1</td>\n",
       "      <td>肖申克的救赎</td>\n",
       "      <td>9.7</td>\n",
       "      <td>1994</td>\n",
       "      <td>美国</td>\n",
       "      <td>犯罪 剧情</td>\n",
       "    </tr>\n",
       "    <tr>\n",
       "      <th>1</th>\n",
       "      <td>2</td>\n",
       "      <td>霸王别姬</td>\n",
       "      <td>9.6</td>\n",
       "      <td>1993</td>\n",
       "      <td>中国大陆 中国香港</td>\n",
       "      <td>剧情 爱情 同性</td>\n",
       "    </tr>\n",
       "    <tr>\n",
       "      <th>2</th>\n",
       "      <td>3</td>\n",
       "      <td>阿甘正传</td>\n",
       "      <td>9.5</td>\n",
       "      <td>1994</td>\n",
       "      <td>美国</td>\n",
       "      <td>剧情 爱情</td>\n",
       "    </tr>\n",
       "    <tr>\n",
       "      <th>3</th>\n",
       "      <td>4</td>\n",
       "      <td>这个杀手不太冷</td>\n",
       "      <td>9.4</td>\n",
       "      <td>1994</td>\n",
       "      <td>法国 美国</td>\n",
       "      <td>剧情 动作 犯罪</td>\n",
       "    </tr>\n",
       "    <tr>\n",
       "      <th>4</th>\n",
       "      <td>5</td>\n",
       "      <td>泰坦尼克号</td>\n",
       "      <td>9.4</td>\n",
       "      <td>1997</td>\n",
       "      <td>美国 墨西哥 澳大利亚 加拿大</td>\n",
       "      <td>剧情 爱情 灾难</td>\n",
       "    </tr>\n",
       "  </tbody>\n",
       "</table>\n",
       "</div>"
      ],
      "text/plain": [
       "   rank     name  score  year          country      type\n",
       "0     1   肖申克的救赎    9.7  1994               美国     犯罪 剧情\n",
       "1     2     霸王别姬    9.6  1993        中国大陆 中国香港  剧情 爱情 同性\n",
       "2     3     阿甘正传    9.5  1994               美国     剧情 爱情\n",
       "3     4  这个杀手不太冷    9.4  1994            法国 美国  剧情 动作 犯罪\n",
       "4     5    泰坦尼克号    9.4  1997  美国 墨西哥 澳大利亚 加拿大  剧情 爱情 灾难"
      ]
     },
     "execution_count": 83,
     "metadata": {},
     "output_type": "execute_result"
    }
   ],
   "source": [
    "df.head()"
   ]
  },
  {
   "cell_type": "code",
   "execution_count": 85,
   "metadata": {},
   "outputs": [],
   "source": [
    "def qxtype(x):\n",
    "    x = str(x)\n",
    "    x = x.split(\" \")\n",
    "    x = x[0]\n",
    "    return x\n",
    "df['type'] = df['type'].apply(qxtype)"
   ]
  },
  {
   "cell_type": "code",
   "execution_count": 86,
   "metadata": {},
   "outputs": [
    {
     "data": {
      "image/png": "[encoded data removed]",
      "text/plain": [
       "<Figure size 1152x648 with 1 Axes>"
      ]
     },
     "metadata": {
      "needs_background": "light"
     },
     "output_type": "display_data"
    }
   ],
   "source": [
    "import matplotlib.pyplot as plt\n",
    "plt.rcParams['font.sans-serif'] = ['SimHei']\n",
    "score_data = df['score'].value_counts()\n",
    "x_data = [i for i in score_data.index]\n",
    "y_data = [int(j) for j in score_data.values]\n",
    "fig = plt.figure(figsize=(16,9))\n",
    "plt.bar(x_data,y_data,width=0.1,alpha=0.8,color='skyblue')\n",
    "plt.xlabel('score')\n",
    "plt.ylabel('number')\n",
    "plt.title('分数分布柱状图')\n",
    "plt.show()"
   ]
  },
  {
   "cell_type": "code",
   "execution_count": 87,
   "metadata": {},
   "outputs": [],
   "source": [
    "list_country = []\n",
    "count = {}\n",
    "for c in df['country']:\n",
    "    c = str(c)\n",
    "    c = c.replace('中国香港','中国').replace('中国大陆','中国').replace('中国台湾','中国')\n",
    "    c = c.split( )\n",
    "    for i in c:\n",
    "        list_country.append(i)\n",
    "\n",
    "for c in list_country:\n",
    "    count[c] = count.get(c,0) + 1\n",
    "items = list(count.items())\n",
    "items.sort(key=lambda x:x[1],reverse=True)\n",
    "\n",
    "list_word = []\n",
    "list_count = []\n",
    "for key,values in items[0:10]:\n",
    "    list_word.append(key)\n",
    "    list_count.append(values)"
   ]
  },
  {
   "cell_type": "code",
   "execution_count": 88,
   "metadata": {},
   "outputs": [
    {
     "data": {
      "image/png": "[encoded data removed]",
      "text/plain": [
       "<Figure size 864x648 with 1 Axes>"
      ]
     },
     "metadata": {},
     "output_type": "display_data"
    }
   ],
   "source": [
    "plt.figure(figsize=(12,9)) #调节图形大小\n",
    "labels = list_word #定义标签\n",
    "sizes = list_count #每块值\n",
    "colors = ['midnightblue','steelblue','palegreen','c','lightyellow','lightgreen','midnightblue','steelblue','palegreen','c'] #每块颜色定义\n",
    "explode = (0,0,0.02,0,0,0,0,0,0,0) #将某一块分割出来，值越大分割出的间隙越大\n",
    "patches,text1,text2 = plt.pie(sizes,\n",
    "                      explode=explode,\n",
    "                      labels=labels,\n",
    "                      colors=colors,\n",
    "                      labeldistance = 1.1,#图例距圆心半径倍距离\n",
    "                      autopct = '%3.1f%%', #数值保留固定小数位\n",
    "                      shadow = False, #无阴影设置\n",
    "                      startangle =90, #逆时针起始角度设置\n",
    "                      pctdistance = 0.8) #数值距圆心半径倍数距离\n",
    "#patches饼图的返回值，texts1饼图外label的文本，texts2饼图内部文本\n",
    "# x，y轴刻度设置一致，保证饼图为圆形\n",
    "plt.axis('equal')\n",
    "plt.legend()\n",
    "plt.show()"
   ]
  },
  {
   "cell_type": "code",
   "execution_count": 90,
   "metadata": {},
   "outputs": [
    {
     "data": {
      "text/html": [
       "<div>\n",
       "<style scoped>\n",
       "    .dataframe tbody tr th:only-of-type {\n",
       "        vertical-align: middle;\n",
       "    }\n",
       "\n",
       "    .dataframe tbody tr th {\n",
       "        vertical-align: top;\n",
       "    }\n",
       "\n",
       "    .dataframe thead th {\n",
       "        text-align: right;\n",
       "    }\n",
       "</style>\n",
       "<table border=\"1\" class=\"dataframe\">\n",
       "  <thead>\n",
       "    <tr style=\"text-align: right;\">\n",
       "      <th></th>\n",
       "      <th>rank</th>\n",
       "      <th>name</th>\n",
       "      <th>score</th>\n",
       "      <th>year</th>\n",
       "      <th>country</th>\n",
       "      <th>type</th>\n",
       "    </tr>\n",
       "  </thead>\n",
       "  <tbody>\n",
       "    <tr>\n",
       "      <th>0</th>\n",
       "      <td>1</td>\n",
       "      <td>185</td>\n",
       "      <td>9.7</td>\n",
       "      <td>1994</td>\n",
       "      <td>36</td>\n",
       "      <td>10</td>\n",
       "    </tr>\n",
       "    <tr>\n",
       "      <th>1</th>\n",
       "      <td>2</td>\n",
       "      <td>232</td>\n",
       "      <td>9.6</td>\n",
       "      <td>1993</td>\n",
       "      <td>5</td>\n",
       "      <td>3</td>\n",
       "    </tr>\n",
       "    <tr>\n",
       "      <th>2</th>\n",
       "      <td>3</td>\n",
       "      <td>228</td>\n",
       "      <td>9.5</td>\n",
       "      <td>1994</td>\n",
       "      <td>36</td>\n",
       "      <td>3</td>\n",
       "    </tr>\n",
       "    <tr>\n",
       "      <th>3</th>\n",
       "      <td>4</td>\n",
       "      <td>219</td>\n",
       "      <td>9.4</td>\n",
       "      <td>1994</td>\n",
       "      <td>29</td>\n",
       "      <td>3</td>\n",
       "    </tr>\n",
       "    <tr>\n",
       "      <th>4</th>\n",
       "      <td>5</td>\n",
       "      <td>132</td>\n",
       "      <td>9.4</td>\n",
       "      <td>1997</td>\n",
       "      <td>41</td>\n",
       "      <td>3</td>\n",
       "    </tr>\n",
       "  </tbody>\n",
       "</table>\n",
       "</div>"
      ],
      "text/plain": [
       "   rank  name  score  year  country  type\n",
       "0     1   185    9.7  1994       36    10\n",
       "1     2   232    9.6  1993        5     3\n",
       "2     3   228    9.5  1994       36     3\n",
       "3     4   219    9.4  1994       29     3\n",
       "4     5   132    9.4  1997       41     3"
      ]
     },
     "execution_count": 90,
     "metadata": {},
     "output_type": "execute_result"
    }
   ],
   "source": [
    "#使用编码转换，把非数值类型转换为数值类型\n",
    "from sklearn.preprocessing import OneHotEncoder, LabelEncoder\n",
    "le = LabelEncoder()\n",
    "df['name'] = le.fit_transform(df['name'])\n",
    "df['country'] = le.fit_transform(df['country'])\n",
    "df['type'] = le.fit_transform(df['type'])\n",
    "df.head()"
   ]
  },
  {
   "cell_type": "code",
   "execution_count": 91,
   "metadata": {},
   "outputs": [],
   "source": [
    "def xxt(data):\n",
    "    # 导入数据\n",
    "    # 绘制箱线图（3倍的四分位差,只需调整whis参数）\n",
    "    plt.boxplot(x = data, # 指定绘制箱线图的数据\n",
    "             whis = 3, # 指定3倍的四分位差\n",
    "             widths = 0.8, # 指定箱线图的宽度为0.8\n",
    "             patch_artist = True, # 指定需要填充箱体颜色\n",
    "             showmeans = True, # 指定需要显示均值\n",
    "             boxprops = {'facecolor':'steelblue'}, # 指定箱体的填充色为铁蓝色\n",
    "            # 指定异常点的填充色、边框色和大小\n",
    "             flierprops = {'markerfacecolor':'red', 'markeredgecolor':'red', 'markersize':4}, \n",
    "             # 指定均值点的标记符号（菱形）、填充色和大小\n",
    "            meanprops = {'marker':'D','markerfacecolor':'black', 'markersize':4}, \n",
    "             medianprops = {'linestyle':'--','color':'orange'}, # 指定中位数的标记符号（虚线）和颜色\n",
    "             labels = [''] # 去除箱线图的x轴刻度值\n",
    "             )\n",
    "    # 显示图形\n",
    "    plt.show()"
   ]
  },
  {
   "cell_type": "code",
   "execution_count": 93,
   "metadata": {},
   "outputs": [
    {
     "data": {
      "image/png": "[encoded data removed]",
      "text/plain": [
       "<Figure size 432x288 with 1 Axes>"
      ]
     },
     "metadata": {
      "needs_background": "light"
     },
     "output_type": "display_data"
    }
   ],
   "source": [
    "xxt(df.name.values)"
   ]
  },
  {
   "cell_type": "code",
   "execution_count": 94,
   "metadata": {},
   "outputs": [
    {
     "name": "stderr",
     "output_type": "stream",
     "text": [
      "D:\\anaconda\\lib\\site-packages\\matplotlib\\backends\\backend_agg.py:238: RuntimeWarning: Glyph 8722 missing from current font.\n",
      "  font.set_text(s, 0.0, flags=flags)\n",
      "D:\\anaconda\\lib\\site-packages\\matplotlib\\backends\\backend_agg.py:201: RuntimeWarning: Glyph 8722 missing from current font.\n",
      "  font.set_text(s, 0, flags=flags)\n"
     ]
    },
    {
     "data": {
      "image/png": "[encoded data removed]",
      "text/plain": [
       "<Figure size 1080x576 with 2 Axes>"
      ]
     },
     "metadata": {
      "needs_background": "light"
     },
     "output_type": "display_data"
    }
   ],
   "source": [
    "plt.subplots(figsize = (15,8))\n",
    "sns.heatmap(df.corr(), annot=True,cmap=\"Greens\")\n",
    "plt.show()"
   ]
  },
  {
   "cell_type": "code",
   "execution_count": 95,
   "metadata": {},
   "outputs": [],
   "source": [
    "from sklearn.tree import DecisionTreeClassifier\n",
    "from sklearn.model_selection import cross_val_score\n",
    "from sklearn.model_selection import train_test_split\n",
    "from sklearn import preprocessing\n",
    "from sklearn.metrics import accuracy_score"
   ]
  },
  {
   "cell_type": "code",
   "execution_count": 128,
   "metadata": {},
   "outputs": [],
   "source": [
    "#分割数据，将25%的数据作为测试集，其余作为训练集\n",
    "train_x,test_x,train_y,test_y = train_test_split(df[['name','score','country','rank']],df['type'],test_size=0.25)"
   ]
  },
  {
   "cell_type": "code",
   "execution_count": 129,
   "metadata": {},
   "outputs": [],
   "source": [
    "#采用Min-Max规范化\n",
    "mm = preprocessing.MinMaxScaler()\n",
    "train_mm_x = mm.fit_transform(train_x)\n",
    "test_mm_x = mm.transform(test_x)"
   ]
  },
  {
   "cell_type": "code",
   "execution_count": 135,
   "metadata": {},
   "outputs": [
    {
     "name": "stdout",
     "output_type": "stream",
     "text": [
      "CART决策树准确率: 0.54\n"
     ]
    }
   ],
   "source": [
    "#创建CART决策树分类器\n",
    "dtc = DecisionTreeClassifier()\n",
    "dtc.fit(train_mm_x,train_y)\n",
    "predict_y = dtc.predict(test_mm_x)\n",
    "print(\"CART决策树准确率: %.2lf\" % accuracy_score(test_y,predict_y))"
   ]
  },
  {
   "cell_type": "code",
   "execution_count": 136,
   "metadata": {},
   "outputs": [
    {
     "name": "stdout",
     "output_type": "stream",
     "text": [
      "NB准确率:0.68\n"
     ]
    }
   ],
   "source": [
    "from sklearn.naive_bayes import MultinomialNB\n",
    "mnb = MultinomialNB()\n",
    "mnb.fit(train_mm_x,train_y)\n",
    "predict_y2 = mnb.predict(test_mm_x)\n",
    "print('NB准确率:%0.2lf' % accuracy_score(test_y,predict_y2))"
   ]
  },
  {
   "cell_type": "code",
   "execution_count": null,
   "metadata": {},
   "outputs": [],
   "source": []
  },
  {
   "cell_type": "code",
   "execution_count": null,
   "metadata": {},
   "outputs": [],
   "source": []
  }
 ],
 "metadata": {
  "kernelspec": {
   "display_name": "Python 3",
   "language": "python",
   "name": "python3"
  },
  "language_info": {
   "codemirror_mode": {
    "name": "ipython",
    "version": 3
   },
   "file_extension": ".py",
   "mimetype": "text/x-python",
   "name": "python",
   "nbconvert_exporter": "python",
   "pygments_lexer": "ipython3",
   "version": "3.8.5"
  }
 },
 "nbformat": 4,
 "nbformat_minor": 4
}
