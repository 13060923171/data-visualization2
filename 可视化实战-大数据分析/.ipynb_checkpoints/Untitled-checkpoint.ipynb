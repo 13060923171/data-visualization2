{
 "cells": [
  {
   "cell_type": "code",
   "execution_count": 2,
   "metadata": {},
   "outputs": [],
   "source": [
    "import pandas as pd"
   ]
  },
  {
   "cell_type": "code",
   "execution_count": 2,
   "metadata": {},
   "outputs": [
    {
     "name": "stdout",
     "output_type": "stream",
     "text": [
      "         n_parts   aid  label       uid  advertiserId  campaignId  creativeId  \\\n",
      "0              2   699    0.0  78508957          1082      295940      731679   \n",
      "1              3  1991    0.0   3637295           702       42104     1441131   \n",
      "2              2  1119    0.0  19229018          3993       63752      798752   \n",
      "3              3  2013    0.0  79277120          6937      186348     1427984   \n",
      "4              2   692    0.0  41528441          6946      296367      455396   \n",
      "...          ...   ...    ...       ...           ...         ...         ...   \n",
      "8798809        2   411    0.0  47406093          9106      163120      220179   \n",
      "8798810        5  1429    0.0  56815168         10055       86429      641118   \n",
      "8798811        2   369    0.0   6620624         66025      170445     1229175   \n",
      "8798812        2   692    0.0  40417124          6946      296367      455396   \n",
      "8798813        1  1918    0.0  43067224        158679      643438     1690612   \n",
      "\n",
      "         creativeSize  adCategoryId  productId  ...  interest4  \\\n",
      "0                  59            13          0  ...         -1   \n",
      "1                  53            10       4669  ...         -1   \n",
      "2                  59            10      19256  ...         -1   \n",
      "3                  35            89       3791  ...         -1   \n",
      "4                  59            24       3794  ...         -1   \n",
      "...               ...           ...        ...  ...        ...   \n",
      "8798809            79            21          0  ...         -1   \n",
      "8798810            22            21          0  ...   10 4 9 5   \n",
      "8798811           109            94          0  ...         -1   \n",
      "8798812            59            24       3794  ...         -1   \n",
      "8798813            60             4          0  ...         -1   \n",
      "\n",
      "                                                 interest5  \\\n",
      "0                                                       -1   \n",
      "1                                          100 131 37 8 46   \n",
      "2                                                       -1   \n",
      "3                                   92 116 128 42 5 121 64   \n",
      "4                            100 72 37 11 4 79 113 6 46 59   \n",
      "...                                                    ...   \n",
      "8798809  92 37 116 101 13 109 8 50 6 76 111 9 75 46 35 ...   \n",
      "8798810  127 131 37 116 13 78 71 8 30 6 27 9 46 121 59 ...   \n",
      "8798811                                                 -1   \n",
      "8798812                                            6 74 59   \n",
      "8798813  100 92 131 116 8 50 42 19 76 111 46 121 64 130 93   \n",
      "\n",
      "                                        kw1                              kw2  \\\n",
      "0          124532 762727 771871 8561 610048                               -1   \n",
      "1         531499 542834 303322 503318 68211  89232 30101 117462 117548 85039   \n",
      "2        255920 190937 576486 460368 135689                               -1   \n",
      "3                             101914 294138    57664 32928 40670 11395 79112   \n",
      "4        155585 562294 112872 273650 371405   67951 40801 56571 119723 16159   \n",
      "...                                     ...                              ...   \n",
      "8798809   50469 208572 327673 401014 389712    101564 4837 38532 34154 82720   \n",
      "8798810  500814 369060 118076 518985 639355    63960 45119 63798 77778 88076   \n",
      "8798811                                  -1   48826 95597 58678 19826 115065   \n",
      "8798812    782899 423580 319978 8561 562294  56906 58753 47288 105942 120667   \n",
      "8798813    743407 605930 338851 8561 604875   79250 87384 77181 81211 117548   \n",
      "\n",
      "                                  kw3  marriageStatus  os  \\\n",
      "0                                  -1              10   0   \n",
      "1                                  -1              13   1   \n",
      "2                                  -1           13 10   0   \n",
      "3                                  -1              10   1   \n",
      "4                                  -1              10   1   \n",
      "...                               ...             ...  ..   \n",
      "8798809                            -1           13 10   2   \n",
      "8798810  36983 45477 9888 55758 22819            2 13   1   \n",
      "8798811                            -1              10   1   \n",
      "8798812                            -1              13   1   \n",
      "8798813                            -1              11   1   \n",
      "\n",
      "                           topic1                    topic2  \\\n",
      "0        4908 9745 7070 4203 3292                        -1   \n",
      "1         8445 6762 7608 523 7688    4518 862 3643 702 5247   \n",
      "2         941 4674 9735 8953 5352                        -1   \n",
      "3        4538 6790 8850 3422 1940    2979 1877 358 666 4166   \n",
      "4          4535 5590 47 5570 2078    856 4587 1877 392 9103   \n",
      "...                           ...                       ...   \n",
      "8798809   7772 6537 6287 5074 116  4454 2774 8183 3820 3706   \n",
      "8798810  2036 5336 1213 5998 8030  8112 5163 7120 2606 1005   \n",
      "8798811                        -1  2091 4323 9435 5732 6610   \n",
      "8798812  7594 9228 9121 5029 1034   9470 282 8197 7986 3885   \n",
      "8798813  6939 6666 4629 7823 9437  9292 1957 5857 7275 3540   \n",
      "\n",
      "                           topic3  \n",
      "0                              -1  \n",
      "1                              -1  \n",
      "2                              -1  \n",
      "3                              -1  \n",
      "4                              -1  \n",
      "...                           ...  \n",
      "8798809                        -1  \n",
      "8798810  8342 7350 6080 3899 2009  \n",
      "8798811                        -1  \n",
      "8798812                        -1  \n",
      "8798813                        -1  \n",
      "\n",
      "[8798814 rows x 34 columns]\n"
     ]
    }
   ],
   "source": [
    "df = pd.read_csv('train_m.csv')\n",
    "print(df)"
   ]
  },
  {
   "cell_type": "code",
   "execution_count": 3,
   "metadata": {},
   "outputs": [
    {
     "name": "stderr",
     "output_type": "stream",
     "text": [
      "8799it [04:57, 29.54it/s]\n"
     ]
    }
   ],
   "source": [
    "from tqdm import tqdm\n",
    "reader = pd.read_table('train_m.csv', sep=',',chunksize=1000)\n",
    "sum_0 = 0\n",
    "sum_1 = 0\n",
    "for chunk in tqdm(reader):\n",
    "    chunk.loc[:,['label']]\n",
    "    df1 = chunk['label'].value_counts()\n",
    "    data_pair_1 = [(int(i), int(j)) for i, j in zip(df1.index, df1.values)]\n",
    "    sum_0 += data_pair_1[0][1]\n",
    "    sum_1 += data_pair_1[1][1]"
   ]
  },
  {
   "cell_type": "code",
   "execution_count": 5,
   "metadata": {},
   "outputs": [
    {
     "data": {
      "image/png": "[encoded data removed]",
      "text/plain": [
       "<Figure size 864x648 with 1 Axes>"
      ]
     },
     "metadata": {},
     "output_type": "display_data"
    }
   ],
   "source": [
    "import matplotlib.pyplot as plt\n",
    "plt.rcParams['font.sans-serif']=['SimHei']\n",
    "plt.figure(figsize=(12, 9))  # 调节图形大小\n",
    "labels = ['0','1']  # 定义标签\n",
    "sizes = [sum_0,sum_1]  # 每块值\n",
    "colors = ['DeepSkyBlue','RoyalBlue']  # 每块颜色定义\n",
    "explode = (0,0.2)  # 将某一块分割出来，值越大分割出的间隙越大\n",
    "patches, text1, text2 = plt.pie(sizes,\n",
    "                                explode=explode,\n",
    "                                labels=labels,\n",
    "                                colors=colors,\n",
    "                                labeldistance=1.1,  # 图例距圆心半径倍距离\n",
    "                                autopct='%3.2f%%',  # 数值保留固定小数位\n",
    "                                shadow=False,  # 无阴影设置\n",
    "                                startangle=90,  # 逆时针起始角度设置\n",
    "                                pctdistance=0.6)  # 数值距圆心半径倍数距离\n",
    "# patches饼图的返回值，texts1饼图外label的文本，texts2饼图内部文本\n",
    "# x，y轴刻度设置一致，保证饼图为圆形\n",
    "plt.axis('equal')\n",
    "plt.legend()\n",
    "plt.title('label的占比')\n",
    "plt.savefig('题目1.jpg')\n",
    "plt.show()"
   ]
  },
  {
   "cell_type": "code",
   "execution_count": 7,
   "metadata": {},
   "outputs": [
    {
     "data": {
      "text/html": [
       "<div>\n",
       "<style scoped>\n",
       "    .dataframe tbody tr th:only-of-type {\n",
       "        vertical-align: middle;\n",
       "    }\n",
       "\n",
       "    .dataframe tbody tr th {\n",
       "        vertical-align: top;\n",
       "    }\n",
       "\n",
       "    .dataframe thead th {\n",
       "        text-align: right;\n",
       "    }\n",
       "</style>\n",
       "<table border=\"1\" class=\"dataframe\">\n",
       "  <thead>\n",
       "    <tr style=\"text-align: right;\">\n",
       "      <th></th>\n",
       "      <th>creativeSize</th>\n",
       "      <th>productType</th>\n",
       "      <th>adCategoryId</th>\n",
       "    </tr>\n",
       "  </thead>\n",
       "  <tbody>\n",
       "    <tr>\n",
       "      <th>count</th>\n",
       "      <td>173.000000</td>\n",
       "      <td>173.000000</td>\n",
       "      <td>173.000000</td>\n",
       "    </tr>\n",
       "    <tr>\n",
       "      <th>mean</th>\n",
       "      <td>50.364162</td>\n",
       "      <td>7.346821</td>\n",
       "      <td>57.335260</td>\n",
       "    </tr>\n",
       "    <tr>\n",
       "      <th>std</th>\n",
       "      <td>24.827317</td>\n",
       "      <td>2.827595</td>\n",
       "      <td>62.197012</td>\n",
       "    </tr>\n",
       "    <tr>\n",
       "      <th>min</th>\n",
       "      <td>20.000000</td>\n",
       "      <td>4.000000</td>\n",
       "      <td>1.000000</td>\n",
       "    </tr>\n",
       "    <tr>\n",
       "      <th>25%</th>\n",
       "      <td>35.000000</td>\n",
       "      <td>4.000000</td>\n",
       "      <td>21.000000</td>\n",
       "    </tr>\n",
       "    <tr>\n",
       "      <th>50%</th>\n",
       "      <td>42.000000</td>\n",
       "      <td>6.000000</td>\n",
       "      <td>27.000000</td>\n",
       "    </tr>\n",
       "    <tr>\n",
       "      <th>75%</th>\n",
       "      <td>59.000000</td>\n",
       "      <td>11.000000</td>\n",
       "      <td>67.000000</td>\n",
       "    </tr>\n",
       "    <tr>\n",
       "      <th>max</th>\n",
       "      <td>109.000000</td>\n",
       "      <td>11.000000</td>\n",
       "      <td>282.000000</td>\n",
       "    </tr>\n",
       "  </tbody>\n",
       "</table>\n",
       "</div>"
      ],
      "text/plain": [
       "       creativeSize  productType  adCategoryId\n",
       "count    173.000000   173.000000    173.000000\n",
       "mean      50.364162     7.346821     57.335260\n",
       "std       24.827317     2.827595     62.197012\n",
       "min       20.000000     4.000000      1.000000\n",
       "25%       35.000000     4.000000     21.000000\n",
       "50%       42.000000     6.000000     27.000000\n",
       "75%       59.000000    11.000000     67.000000\n",
       "max      109.000000    11.000000    282.000000"
      ]
     },
     "execution_count": 7,
     "metadata": {},
     "output_type": "execute_result"
    }
   ],
   "source": [
    "df1 = pd.read_csv('adFeature.csv').loc[:,['creativeSize','productType','adCategoryId']]\n",
    "df1.describe()\n"
   ]
  },
  {
   "cell_type": "code",
   "execution_count": 8,
   "metadata": {},
   "outputs": [],
   "source": [
    "list_1_4 = []\n",
    "list_1_6 = []\n",
    "list_1_9 = []\n",
    "list_1_11 = []\n",
    "list_2_1 = []\n",
    "list_2_2 = []\n",
    "list_2_3 = []\n",
    "list_2_4 = []\n",
    "list_2_5 = []\n",
    "list_2_6 = []\n",
    "list_3_1 = []\n",
    "list_3_2 = []\n",
    "list_3_3 = []\n",
    "list_3_4 = []\n",
    "list_3_5 = []\n",
    "list_3_6 = []\n",
    "list_3_7 = []\n",
    "list_3_8 = []\n",
    "list_3_9 = []\n",
    "list_3_10 = []\n",
    "list_3_11 = []\n",
    "list_3_12 = []\n",
    "for c in range(len(df1['creativeSize'])):\n",
    "    if int(df1['creativeSize'][c]) <= int(35):\n",
    "        list_1_4.append(int(df1['creativeSize'][c]))\n",
    "    elif int(35) < int(df1['creativeSize'][c]) <= int(42):\n",
    "        list_1_6.append(int(df1['creativeSize'][c]))\n",
    "    elif int(42) < int(df1['creativeSize'][c]) <= int(59):\n",
    "        list_1_9.append(int(df1['creativeSize'][c]))\n",
    "    elif int(59) < int(df1['creativeSize'][c]) <= int(109):\n",
    "        list_1_11.append(int(df1['creativeSize'][c]))\n",
    "for c in range(len(df1['creativeSize'])):\n",
    "    if int(0) < int(df1['productType'][c]) <= int(20):\n",
    "        list_2_1.append(int(df1['productType'][c]))\n",
    "    elif int(20) < int(df1['productType'][c]) <= int(40):\n",
    "        list_2_2.append(int(df1['productType'][c]))\n",
    "    elif int(40) < int(df1['productType'][c]) <= int(60):\n",
    "        list_2_3.append(int(df1['productType'][c]))\n",
    "    elif int(60) < int(df1['productType'][c]) <= int(80):\n",
    "        list_2_4.append(int(df1['productType'][c]))\n",
    "    elif int(80) < int(df1['productType'][c]) <= int(100):\n",
    "        list_2_5.append(int(df1['productType'][c]))\n",
    "    elif int(100) < int(df1['productType'][c]) <= int(120):\n",
    "        list_2_6.append(int(df1['productType'][c]))\n",
    "for c in range(len(df1['creativeSize'])):    \n",
    "    if int(0) < int(df1['adCategoryId'][c]) <= int(25):\n",
    "        list_3_1.append(int(df1['productType'][c]))\n",
    "    elif int(25) < int(df1['adCategoryId'][c]) <= int(50):\n",
    "        list_3_2.append(int(df1['productType'][c]))\n",
    "    elif int(50) < int(df1['adCategoryId'][c]) <= int(75):\n",
    "        list_3_3.append(int(df1['productType'][c]))\n",
    "    elif int(75) < int(df1['adCategoryId'][c]) <= int(100):\n",
    "        list_3_4.append(int(df1['productType'][c]))\n",
    "    elif int(100) < int(df1['adCategoryId'][c]) <= int(125):\n",
    "        list_3_5.append(int(df1['productType'][c]))\n",
    "    elif int(125) < int(df1['adCategoryId'][c]) <= int(150):\n",
    "        list_3_6.append(int(df1['productType'][c]))\n",
    "    elif int(150) < int(df1['adCategoryId'][c]) <= int(175):\n",
    "        list_3_7.append(int(df1['productType'][c]))\n",
    "    elif int(175) < int(df1['adCategoryId'][c]) <= int(200):\n",
    "        list_3_8.append(int(df1['productType'][c]))\n",
    "    elif int(200) < int(df1['adCategoryId'][c]) <= int(225):\n",
    "        list_3_9.append(int(df1['productType'][c]))\n",
    "    elif int(225) < int(df1['adCategoryId'][c]) <= int(250):\n",
    "        list_3_10.append(int(df1['productType'][c]))\n",
    "    elif int(250) < int(df1['adCategoryId'][c]) <= int(275):\n",
    "        list_3_11.append(int(df1['productType'][c]))\n",
    "    elif int(275) < int(df1['adCategoryId'][c]) <= int(300):\n",
    "        list_3_12.append(int(df1['productType'][c]))\n",
    "\n",
    "x_data1 = [4,6,9,11]\n",
    "y_data1 = [len(list_1_4),len(list_1_6),len(list_1_9),len(list_1_11)]\n",
    "\n",
    "x_data2 = [1,2,3,4,5,6]\n",
    "y_data2 = [len(list_2_1),len(list_2_2),len(list_2_3),len(list_2_4),len(list_2_5),len(list_2_6)]\n",
    "\n",
    "x_data3 = [i for i in range(1,13)]\n",
    "y_data3 = [len(list_3_1),len(list_3_2),len(list_3_3),len(list_3_4),len(list_3_5),len(list_3_6),len(list_3_7),len(list_3_8),len(list_3_9),len(list_3_10),len(list_3_11),len(list_3_12)]\n",
    "\n",
    "\n"
   ]
  },
  {
   "cell_type": "code",
   "execution_count": 10,
   "metadata": {},
   "outputs": [
    {
     "data": {
      "image/png": "[encoded data removed]",
      "text/plain": [
       "<Figure size 1200x900 with 1 Axes>"
      ]
     },
     "metadata": {
      "needs_background": "light"
     },
     "output_type": "display_data"
    }
   ],
   "source": [
    "import matplotlib.pyplot as plt\n",
    "plt.rcParams['font.sans-serif']=['SimHei']\n",
    "plt.figure(figsize=(12, 9),dpi=100)  # 调节图形大小\n",
    "plt.bar(x_data1,y_data1, label=\"creativeSize\",color='DeepSkyBlue',width=1/4)\n",
    "plt.xlabel('Size_Category')\n",
    "plt.ylabel('Count')\n",
    "plt.legend()\n",
    "plt.show()"
   ]
  },
  {
   "cell_type": "code",
   "execution_count": 11,
   "metadata": {},
   "outputs": [
    {
     "data": {
      "image/png": "[encoded data removed]",
      "text/plain": [
       "<Figure size 1200x900 with 1 Axes>"
      ]
     },
     "metadata": {
      "needs_background": "light"
     },
     "output_type": "display_data"
    }
   ],
   "source": [
    "import matplotlib.pyplot as plt\n",
    "plt.rcParams['font.sans-serif']=['SimHei']\n",
    "plt.figure(figsize=(12, 9),dpi=100)  # 调节图形大小\n",
    "plt.bar(x_data2,y_data2, label=\"productType\",color='DeepSkyBlue',width=1/4)\n",
    "plt.xlabel('ProductType_Level')\n",
    "plt.ylabel('Count')\n",
    "plt.legend()\n",
    "plt.show()"
   ]
  },
  {
   "cell_type": "code",
   "execution_count": 12,
   "metadata": {},
   "outputs": [
    {
     "data": {
      "image/png": "[encoded data removed]",
      "text/plain": [
       "<Figure size 1200x900 with 1 Axes>"
      ]
     },
     "metadata": {
      "needs_background": "light"
     },
     "output_type": "display_data"
    }
   ],
   "source": [
    "import matplotlib.pyplot as plt\n",
    "plt.rcParams['font.sans-serif']=['SimHei']\n",
    "plt.figure(figsize=(12, 9),dpi=100)  # 调节图形大小\n",
    "plt.bar(x_data3,y_data3, label=\"adCategoryId\", color='DeepSkyBlue',width=1/4)\n",
    "plt.xlabel('AdCategoryId_Level')\n",
    "plt.ylabel('Count')\n",
    "plt.legend()\n",
    "plt.show()"
   ]
  },
  {
   "cell_type": "code",
   "execution_count": 13,
   "metadata": {},
   "outputs": [
    {
     "name": "stdout",
     "output_type": "stream",
     "text": [
      "     LBS  age appIdAction appIdInstall  carrier  consumptionAbility       ct  \\\n",
      "0    950    4         NaN          NaN        1                   2      3 1   \n",
      "1    803    2         NaN          NaN        1                   1      3 1   \n",
      "2    927    1         NaN          NaN        3                   1      3 1   \n",
      "3    486    4         NaN          NaN        3                   1      1 3   \n",
      "4    112    5         NaN          NaN        3                   2  3 1 4 2   \n",
      "..   ...  ...         ...          ...      ...                 ...      ...   \n",
      "995  939    5         NaN          NaN        1                   1      3 1   \n",
      "996  273    5         NaN          NaN        0                   2      3 1   \n",
      "997   72    2         NaN          NaN        0                   1      1 3   \n",
      "998   49    5         NaN          NaN        0                   0      1 3   \n",
      "999  333    5         NaN          NaN        1                   0        3   \n",
      "\n",
      "     education  gender  house  ...  \\\n",
      "0            7       2    NaN  ...   \n",
      "1            2       1    NaN  ...   \n",
      "2            5       1    NaN  ...   \n",
      "3            7       1    NaN  ...   \n",
      "4            6       1    NaN  ...   \n",
      "..         ...     ...    ...  ...   \n",
      "995          1       1    NaN  ...   \n",
      "996          1       1    NaN  ...   \n",
      "997          2       2    NaN  ...   \n",
      "998          7       1    NaN  ...   \n",
      "999          6       1    NaN  ...   \n",
      "\n",
      "                                             interest5  \\\n",
      "0    52 100 72 131 116 11 71 12 8 113 28 73 6 132 9...   \n",
      "1                                                  NaN   \n",
      "2    77 72 80 116 101 13 1 109 8 50 6 42 76 9 46 36...   \n",
      "3    100 80 92 37 116 13 47 4 71 8 50 28 98 115 6 4...   \n",
      "4          131 116 13 8 6 132 42 9 59 18 58 64 129 103   \n",
      "..                                                 ...   \n",
      "995   80 92 37 13 1 4 71 109 6 42 111 9 46 59 14 64 21   \n",
      "996                                                NaN   \n",
      "997                                                NaN   \n",
      "998                                                NaN   \n",
      "999     100 72 33 92 11 78 109 30 28 6 75 20 46 59 129   \n",
      "\n",
      "                                    kw1                             kw2  kw3  \\\n",
      "0    664359 276966 734911 103617 562294  11395 79112 115065 77033 36176  NaN   \n",
      "1    338851 361151 542834 496283 229952     80263 39618 53539 180 38163  NaN   \n",
      "2    746140 695808 126355 771775 411511  105115 71378 41409 74061 44005  NaN   \n",
      "3     283399 402245 734509 654027 32061  74010 32918 67882 116802 20957  NaN   \n",
      "4    562294 157603 589706 657719 495672   62764 97803 89066 55545 74061  NaN   \n",
      "..                                  ...                             ...  ...   \n",
      "995   90815 628625 497092 271833 515003     94407 8125 79491 65781 4343  NaN   \n",
      "996  580397 461008 303996 105297 293819   105115 8502 11395 44452 87292  NaN   \n",
      "997                                 NaN  70625 16156 34525 105115 71854  NaN   \n",
      "998  435354 450809 362084 750628 453249  6918 44999 119723 38236 104181  NaN   \n",
      "999   243561 164253 86881 174401 659594  90287 32928 83940 120568 16156  NaN   \n",
      "\n",
      "    marriageStatus   os                    topic1                    topic2  \\\n",
      "0               11    2   9826 105 8525 5488 7281  9708 5553 6745 7477 7150   \n",
      "1             5 13    1  4391 9140 5669 1348 4388  9401 7724 1380 8890 7153   \n",
      "2            13 10    1  1502 5488 9826 2187 8088  5005 9154 2756 5612 4209   \n",
      "3               11  1 2  1619 7342 3064 9213 8525   810 2438 5659 1844 9262   \n",
      "4               11    1    477 9826 5808 644 2747  5483 2199 5424 1511 7751   \n",
      "..             ...  ...                       ...                       ...   \n",
      "995             11    1  6666 1778 7894 7772 6084   5884 5086 598 8154 3664   \n",
      "996          12 13    1   7608 5390 6762 8120 358  5482 5336 9445 5115 2737   \n",
      "997             10    1                       NaN   7407 9054 1182 358 1139   \n",
      "998             10    2  2118 6523 8071 7062 5600  4148 2891 6582 1450 4678   \n",
      "999             11    1  7308 8778 5044 9826 3960     5315 2124 1093 128 46   \n",
      "\n",
      "    topic3       uid  \n",
      "0      NaN  26325489  \n",
      "1      NaN   1184123  \n",
      "2      NaN  76072711  \n",
      "3      NaN  63071413  \n",
      "4      NaN  81294159  \n",
      "..     ...       ...  \n",
      "995    NaN  45859518  \n",
      "996    NaN  59315544  \n",
      "997    NaN   4534525  \n",
      "998    NaN  62924457  \n",
      "999    NaN  23942062  \n",
      "\n",
      "[1000 rows x 24 columns]\n"
     ]
    }
   ],
   "source": [
    "df2 = pd.read_csv('userFeature_old.csv',nrows=1000)\n",
    "print(df2)"
   ]
  },
  {
   "cell_type": "code",
   "execution_count": 14,
   "metadata": {},
   "outputs": [
    {
     "name": "stderr",
     "output_type": "stream",
     "text": [
      "1143it [03:26,  5.54it/s]\n"
     ]
    }
   ],
   "source": [
    "from tqdm import tqdm\n",
    "reader = pd.read_table('userFeature_old.csv', sep=',',chunksize=10000)\n",
    "list_age = []\n",
    "list_education = []\n",
    "list_carrier = []\n",
    "list_ct = []\n",
    "list_gender = []\n",
    "list_consumptionAbility = []\n",
    "list_house = []\n",
    "list_os = []\n",
    "for chunk in tqdm(reader):\n",
    "    chunk.loc[:,['age','education','carrier','ct','gender','consumptionAbility','house','os']]\n",
    "    chunk.fillna(value=0)\n",
    "    df1 = chunk['age'].value_counts()\n",
    "    data_pair_1 = [(i, int(j)) for i, j in zip(df1.index, df1.values)]\n",
    "    list_age.append(data_pair_1)\n",
    "    df2 = chunk['education'].value_counts()\n",
    "    data_pair_2 = [(i, int(j)) for i, j in zip(df2.index, df2.values)]\n",
    "    list_education.append(data_pair_2)\n",
    "    df3 = chunk['carrier'].value_counts()\n",
    "    data_pair_3 = [(i, int(j)) for i, j in zip(df3.index, df3.values)]\n",
    "    list_carrier.append(data_pair_3)\n",
    "    df4 = chunk['ct'].value_counts()\n",
    "    data_pair_4 = [(i, int(j)) for i, j in zip(df4.index, df4.values)]\n",
    "    list_ct.append(data_pair_4)\n",
    "    df5 = chunk['gender'].value_counts()\n",
    "    data_pair_5 = [(i, int(j)) for i, j in zip(df5.index, df5.values)]\n",
    "    list_gender.append(data_pair_5)\n",
    "    df6 = chunk['consumptionAbility'].value_counts()\n",
    "    data_pair_6 = [(i, int(j)) for i, j in zip(df6.index, df6.values)]\n",
    "    list_consumptionAbility.append(data_pair_6)\n",
    "    df7 = chunk['house'].value_counts()\n",
    "    data_pair_7 = [(i, int(j)) for i, j in zip(df7.index, df7.values)]\n",
    "    list_house.append(data_pair_7)\n",
    "    df8 = chunk['os'].value_counts()\n",
    "    data_pair_8 = [(i, int(j)) for i, j in zip(df8.index, df8.values)]\n",
    "    list_os.append(data_pair_8)"
   ]
  },
  {
   "cell_type": "code",
   "execution_count": 15,
   "metadata": {},
   "outputs": [],
   "source": [
    "sum_0 = 0\n",
    "sum_1 = 0\n",
    "sum_2 = 0\n",
    "sum_3 = 0\n",
    "sum_4 = 0\n",
    "sum_5 = 0\n",
    "for a in range(len(list_age)):\n",
    "    list_age_a = list_age[a]\n",
    "    for l in list_age_a:\n",
    "        if l[0] == 0:\n",
    "            sum_0 += l[1]\n",
    "        elif l[0] == 1:\n",
    "            sum_1 += l[1]\n",
    "        elif l[0] == 2:\n",
    "            sum_2 += l[1]\n",
    "        elif l[0] == 3:\n",
    "            sum_3 += l[1]\n",
    "        elif l[0] == 4:\n",
    "            sum_4 += l[1]\n",
    "        elif l[0] == 5:\n",
    "            sum_5 += l[1]\n",
    "x_data = [0,1,2,3,4,5]\n",
    "y_data = [sum_0,sum_1,sum_2,sum_3,sum_4,sum_5]\n"
   ]
  },
  {
   "cell_type": "code",
   "execution_count": 16,
   "metadata": {},
   "outputs": [
    {
     "data": {
      "image/png": "[encoded data removed]",
      "text/plain": [
       "<Figure size 1200x900 with 1 Axes>"
      ]
     },
     "metadata": {
      "needs_background": "light"
     },
     "output_type": "display_data"
    }
   ],
   "source": [
    "import matplotlib.pyplot as plt\n",
    "plt.rcParams['font.sans-serif']=['SimHei']\n",
    "plt.figure(figsize=(12, 9),dpi=100)  # 调节图形大小\n",
    "plt.barh(x_data,y_data,color='DeepSkyBlue')\n",
    "plt.xlabel('Count')\n",
    "plt.ylabel('age')\n",
    "plt.title('年龄不同类型总数')\n",
    "plt.show()"
   ]
  },
  {
   "cell_type": "code",
   "execution_count": 17,
   "metadata": {},
   "outputs": [],
   "source": [
    "sum_0 = 0\n",
    "sum_1 = 0\n",
    "sum_2 = 0\n",
    "sum_3 = 0\n",
    "sum_4 = 0\n",
    "sum_5 = 0\n",
    "sum_6 = 0\n",
    "sum_7 = 0\n",
    "for a in range(len(list_education)):\n",
    "    list_education_a = list_education[a]\n",
    "    for l in list_education_a:\n",
    "        if l[0] == 0:\n",
    "            sum_0 += l[1]\n",
    "        elif l[0] == 1:\n",
    "            sum_1 += l[1]\n",
    "        elif l[0] == 2:\n",
    "            sum_2 += l[1]\n",
    "        elif l[0] == 3:\n",
    "            sum_3 += l[1]\n",
    "        elif l[0] == 4:\n",
    "            sum_4 += l[1]\n",
    "        elif l[0] == 5:\n",
    "            sum_5 += l[1]\n",
    "        elif l[0] == 6:\n",
    "            sum_6 += l[1]\n",
    "        elif l[0] == 7:\n",
    "            sum_7 += l[1]\n",
    "x_data = [0,1,2,3,4,5,6,7]\n",
    "y_data = [sum_0,sum_1,sum_2,sum_3,sum_4,sum_5,sum_6,sum_7]"
   ]
  },
  {
   "cell_type": "code",
   "execution_count": 18,
   "metadata": {},
   "outputs": [
    {
     "data": {
      "image/png": "[encoded data removed]",
      "text/plain": [
       "<Figure size 1200x900 with 1 Axes>"
      ]
     },
     "metadata": {
      "needs_background": "light"
     },
     "output_type": "display_data"
    }
   ],
   "source": [
    "import matplotlib.pyplot as plt\n",
    "plt.rcParams['font.sans-serif']=['SimHei']\n",
    "plt.figure(figsize=(12, 9),dpi=100)  # 调节图形大小\n",
    "plt.barh(x_data,y_data,color='DeepSkyBlue')\n",
    "plt.xlabel('Count')\n",
    "plt.ylabel('education')\n",
    "plt.title('学历不同类型总数')\n",
    "plt.show()"
   ]
  },
  {
   "cell_type": "code",
   "execution_count": 19,
   "metadata": {},
   "outputs": [],
   "source": [
    "sum_0 = 0\n",
    "sum_1 = 0\n",
    "sum_2 = 0\n",
    "sum_3 = 0\n",
    "for a in range(len(list_carrier)):\n",
    "    list_carrier_a = list_carrier[a]\n",
    "    for l in list_carrier_a:\n",
    "        if l[0] == 0:\n",
    "            sum_0 += l[1]\n",
    "        elif l[0] == 1:\n",
    "            sum_1 += l[1]\n",
    "        elif l[0] == 2:\n",
    "            sum_2 += l[1]\n",
    "        elif l[0] == 3:\n",
    "            sum_3 += l[1]\n",
    "x_data1 = [0,1,2,3]\n",
    "y_data1 = [sum_0,sum_1,sum_2,sum_3]"
   ]
  },
  {
   "cell_type": "code",
   "execution_count": 20,
   "metadata": {},
   "outputs": [
    {
     "data": {
      "image/png": "[encoded data removed]",
      "text/plain": [
       "<Figure size 1200x900 with 1 Axes>"
      ]
     },
     "metadata": {
      "needs_background": "light"
     },
     "output_type": "display_data"
    }
   ],
   "source": [
    "import matplotlib.pyplot as plt\n",
    "import matplotlib\n",
    "matplotlib.rcParams['axes.unicode_minus']=False\n",
    "plt.rcParams['font.sans-serif']=['SimHei']\n",
    "plt.figure(figsize=(12, 9),dpi=100)  # 调节图形大小\n",
    "plt.barh(x_data1,y_data1,color='DeepSkyBlue')\n",
    "plt.xlabel('Count')\n",
    "plt.ylabel('carrier')\n",
    "plt.title('移动运营商不同类型总数')\n",
    "plt.show()"
   ]
  },
  {
   "cell_type": "code",
   "execution_count": 21,
   "metadata": {},
   "outputs": [],
   "source": [
    "list1 = []\n",
    "for a in range(len(list_ct)):\n",
    "    list_ct_a = list_ct[a]\n",
    "    for l in list_ct_a:\n",
    "        list1.append(l[0])\n",
    "list2 = list(set(list1))   \n"
   ]
  },
  {
   "cell_type": "code",
   "execution_count": 22,
   "metadata": {},
   "outputs": [],
   "source": [
    "sum_0 = 0\n",
    "sum_1 = 0\n",
    "sum_2 = 0\n",
    "sum_3 = 0\n",
    "sum_4 = 0\n",
    "sum_5 = 0\n",
    "sum_6 = 0\n",
    "sum_7 = 0\n",
    "sum_8 = 0\n",
    "sum_9 = 0\n",
    "for a in range(len(list_ct)):\n",
    "    list_ct_a = list_ct[a]\n",
    "    for l in list_ct_a:\n",
    "        if l[0] == '2':\n",
    "            sum_0 += l[1]\n",
    "        elif l[0] == '2 1 3 4':\n",
    "            sum_1 += l[1]\n",
    "        elif l[0] == '2 3 1 4':\n",
    "            sum_2 += l[1]\n",
    "        elif l[0] == '3 2 1 4':\n",
    "            sum_3 += l[1]\n",
    "        elif l[0] == '1 4 2 3':\n",
    "            sum_4 += l[1]\n",
    "        elif l[0] == '2 3':\n",
    "            sum_5 += l[1]\n",
    "        elif l[0] == '1 2 3':\n",
    "            sum_6 += l[1]\n",
    "        elif l[0] =='4 1 2 3':\n",
    "            sum_7 += l[1]\n",
    "        elif l[0] == '2 3 4 1':\n",
    "            sum_8 += l[1]\n",
    "        elif l[0] == '3 4 1':\n",
    "            sum_9 += l[1]\n",
    "x_data1 = ['2', '2 1 3 4', '2 3 1 4', '3 2 1 4', '1 4 2 3', '2 3', '1 2 3', '4 1 2 3', '2 3 4 1', '3 4 1']\n",
    "y_data1 = [sum_0,sum_1,sum_2,sum_3,sum_4,sum_5,sum_6,sum_7,sum_8,sum_9]"
   ]
  },
  {
   "cell_type": "code",
   "execution_count": 23,
   "metadata": {},
   "outputs": [
    {
     "data": {
      "image/png": "[encoded data removed]",
      "text/plain": [
       "<Figure size 1200x900 with 1 Axes>"
      ]
     },
     "metadata": {
      "needs_background": "light"
     },
     "output_type": "display_data"
    }
   ],
   "source": [
    "import matplotlib.pyplot as plt\n",
    "import matplotlib\n",
    "matplotlib.rcParams['axes.unicode_minus']=False\n",
    "plt.rcParams['font.sans-serif']=['SimHei']\n",
    "plt.figure(figsize=(12, 9),dpi=100)  # 调节图形大小\n",
    "plt.barh(x_data1,y_data1,color='DeepSkyBlue')\n",
    "plt.xlabel('Count')\n",
    "plt.ylabel('ct')\n",
    "plt.title('上网链接类型不同类型总数')\n",
    "plt.show()"
   ]
  },
  {
   "cell_type": "code",
   "execution_count": 24,
   "metadata": {},
   "outputs": [],
   "source": [
    "sum_0 = 0\n",
    "sum_1 = 0\n",
    "sum_2 = 0\n",
    "for a in range(len(list_gender)):\n",
    "    list_gender_a = list_gender[a]\n",
    "    for l in list_gender_a:\n",
    "        if l[0] == 0:\n",
    "            sum_0 += l[1]\n",
    "        elif l[0] == 1:\n",
    "            sum_1 += l[1]\n",
    "        elif l[0] == 2:\n",
    "            sum_2 += l[1]\n",
    "x_data1 = [0,1,2]\n",
    "y_data1 = [sum_0,sum_1,sum_2]"
   ]
  },
  {
   "cell_type": "code",
   "execution_count": 25,
   "metadata": {},
   "outputs": [
    {
     "data": {
      "image/png": "[encoded data removed]",
      "text/plain": [
       "<Figure size 864x648 with 1 Axes>"
      ]
     },
     "metadata": {},
     "output_type": "display_data"
    }
   ],
   "source": [
    "import matplotlib.pyplot as plt\n",
    "plt.rcParams['font.sans-serif']=['SimHei']\n",
    "plt.figure(figsize=(12, 9))  # 调节图形大小\n",
    "labels = x_data1  # 定义标签\n",
    "sizes = y_data1  # 每块值\n",
    "colors = ['LightSkyBlue', 'DeepSkyBlue','DodgerBlue']  # 每块颜色定义\n",
    "explode = (0,0,0)  # 将某一块分割出来，值越大分割出的间隙越大\n",
    "patches, text1, text2 = plt.pie(sizes,\n",
    "                                explode=explode,\n",
    "                                labels=labels,\n",
    "                                colors=colors,\n",
    "                                labeldistance=1.1,  # 图例距圆心半径倍距离\n",
    "                                autopct='%3.2f%%',  # 数值保留固定小数位\n",
    "                                shadow=False,  # 无阴影设置\n",
    "                                startangle=90,  # 逆时针起始角度设置\n",
    "                                pctdistance=0.6)  # 数值距圆心半径倍数距离\n",
    "# patches饼图的返回值，texts1饼图外label的文本，texts2饼图内部文本\n",
    "# x，y轴刻度设置一致，保证饼图为圆形\n",
    "plt.axis('equal')\n",
    "plt.legend()\n",
    "plt.title('性别占比')\n",
    "plt.show()"
   ]
  },
  {
   "cell_type": "code",
   "execution_count": 26,
   "metadata": {},
   "outputs": [],
   "source": [
    "sum_0 = 0\n",
    "sum_1 = 0\n",
    "sum_2 = 0\n",
    "for a in range(len(list_consumptionAbility)):\n",
    "    list_consumptionAbility_a = list_consumptionAbility[a]\n",
    "    for l in list_consumptionAbility_a:\n",
    "        if l[0] == 0:\n",
    "            sum_0 += l[1]\n",
    "        elif l[0] == 1:\n",
    "            sum_1 += l[1]\n",
    "        elif l[0] == 2:\n",
    "            sum_2 += l[1]\n",
    "x_data1 = [0,1,2]\n",
    "y_data1 = [sum_0,sum_1,sum_2]"
   ]
  },
  {
   "cell_type": "code",
   "execution_count": 27,
   "metadata": {},
   "outputs": [
    {
     "data": {
      "image/png": "[encoded data removed]",
      "text/plain": [
       "<Figure size 864x648 with 1 Axes>"
      ]
     },
     "metadata": {},
     "output_type": "display_data"
    }
   ],
   "source": [
    "import matplotlib.pyplot as plt\n",
    "plt.rcParams['font.sans-serif']=['SimHei']\n",
    "plt.figure(figsize=(12, 9))  # 调节图形大小\n",
    "labels = x_data1  # 定义标签\n",
    "sizes = y_data1  # 每块值\n",
    "colors = ['LightSkyBlue', 'DeepSkyBlue','DodgerBlue']  # 每块颜色定义\n",
    "explode = (0,0,0)  # 将某一块分割出来，值越大分割出的间隙越大\n",
    "patches, text1, text2 = plt.pie(sizes,\n",
    "                                explode=explode,\n",
    "                                labels=labels,\n",
    "                                colors=colors,\n",
    "                                labeldistance=1.1,  # 图例距圆心半径倍距离\n",
    "                                autopct='%3.2f%%',  # 数值保留固定小数位\n",
    "                                shadow=False,  # 无阴影设置\n",
    "                                startangle=90,  # 逆时针起始角度设置\n",
    "                                pctdistance=0.6)  # 数值距圆心半径倍数距离\n",
    "# patches饼图的返回值，texts1饼图外label的文本，texts2饼图内部文本\n",
    "# x，y轴刻度设置一致，保证饼图为圆形\n",
    "plt.axis('equal')\n",
    "plt.legend()\n",
    "plt.title('消费能力占比')\n",
    "plt.show()"
   ]
  },
  {
   "cell_type": "code",
   "execution_count": 28,
   "metadata": {},
   "outputs": [],
   "source": [
    "sum_0 = 9330110\n",
    "sum_1 = 0\n",
    "for a in range(len(list_house)):\n",
    "    list_house_a = list_house[a]\n",
    "    for l in list_house_a:\n",
    "        if l[0] == 1:\n",
    "            sum_1 += l[1]\n",
    "x_data1 = [0,1]\n",
    "y_data1 = [sum_0,sum_1]"
   ]
  },
  {
   "cell_type": "code",
   "execution_count": 29,
   "metadata": {},
   "outputs": [
    {
     "data": {
      "image/png": "[encoded data removed]",
      "text/plain": [
       "<Figure size 864x648 with 1 Axes>"
      ]
     },
     "metadata": {},
     "output_type": "display_data"
    }
   ],
   "source": [
    "import matplotlib.pyplot as plt\n",
    "plt.rcParams['font.sans-serif']=['SimHei']\n",
    "plt.figure(figsize=(12, 9))  # 调节图形大小\n",
    "labels = x_data1  # 定义标签\n",
    "sizes = y_data1  # 每块值\n",
    "colors =['LightSkyBlue', 'DeepSkyBlue']   # 每块颜色定义\n",
    "explode = (0,0,)  # 将某一块分割出来，值越大分割出的间隙越大\n",
    "patches, text1, text2 = plt.pie(sizes,\n",
    "                                explode=explode,\n",
    "                                labels=labels,\n",
    "                                colors=colors,\n",
    "                                labeldistance=1.1,  # 图例距圆心半径倍距离\n",
    "                                autopct='%3.2f%%',  # 数值保留固定小数位\n",
    "                                shadow=False,  # 无阴影设置\n",
    "                                startangle=90,  # 逆时针起始角度设置\n",
    "                                pctdistance=0.6)  # 数值距圆心半径倍数距离\n",
    "# patches饼图的返回值，texts1饼图外label的文本，texts2饼图内部文本\n",
    "# x，y轴刻度设置一致，保证饼图为圆形\n",
    "plt.axis('equal')\n",
    "plt.legend()\n",
    "plt.title('有房占比')\n",
    "plt.show()"
   ]
  },
  {
   "cell_type": "code",
   "execution_count": 30,
   "metadata": {},
   "outputs": [],
   "source": [
    "sum_0 = 0\n",
    "sum_1 = 0\n",
    "sum_2 = 0\n",
    "sum_3 = 0\n",
    "sum_4 = 0\n",
    "for a in range(len(list_os)):\n",
    "    list_os_a = list_os[a]\n",
    "    for l in list_os_a:\n",
    "        if l[0] == '0':\n",
    "            sum_0 += l[1]\n",
    "        elif l[0] == '1':\n",
    "            sum_1 += l[1]\n",
    "        elif l[0] == '2':\n",
    "            sum_2 += l[1]\n",
    "        elif l[0] == '1 2':\n",
    "            sum_3 += l[1]\n",
    "        elif l[0] == '2 1':\n",
    "            sum_4 += l[1]\n",
    "x_data1 = ['0','1','2','1 2','2 1']\n",
    "y_data1 = [sum_0,sum_1,sum_2,sum_3,sum_4]"
   ]
  },
  {
   "cell_type": "code",
   "execution_count": 33,
   "metadata": {},
   "outputs": [
    {
     "data": {
      "image/png": "[encoded data removed]",
      "text/plain": [
       "<Figure size 864x648 with 1 Axes>"
      ]
     },
     "metadata": {},
     "output_type": "display_data"
    }
   ],
   "source": [
    "import matplotlib.pyplot as plt\n",
    "plt.rcParams['font.sans-serif']=['SimHei']\n",
    "plt.figure(figsize=(12, 9))  # 调节图形大小\n",
    "labels = x_data1  # 定义标签\n",
    "sizes = y_data1  # 每块值\n",
    "colors =['LightSkyBlue', 'DeepSkyBlue','DodgerBlue','RoyalBlue','MediumBlue']  # 每块颜色定义\n",
    "explode = (0,0,0,0,0)  # 将某一块分割出来，值越大分割出的间隙越大\n",
    "patches, text1, text2 = plt.pie(sizes,\n",
    "                                explode=explode,\n",
    "                                labels=labels,\n",
    "                                colors=colors,\n",
    "                                labeldistance=1.1,  # 图例距圆心半径倍距离\n",
    "                                autopct='%3.2f%%',  # 数值保留固定小数位\n",
    "                                shadow=False,  # 无阴影设置\n",
    "                                startangle=90,  # 逆时针起始角度设置\n",
    "                                pctdistance=0.6)  # 数值距圆心半径倍数距离\n",
    "# patches饼图的返回值，texts1饼图外label的文本，texts2饼图内部文本\n",
    "# x，y轴刻度设置一致，保证饼图为圆形\n",
    "plt.axis('equal')\n",
    "plt.legend()\n",
    "plt.title('操作系统占比')\n",
    "plt.show()"
   ]
  },
  {
   "cell_type": "code",
   "execution_count": 36,
   "metadata": {},
   "outputs": [
    {
     "name": "stderr",
     "output_type": "stream",
     "text": [
      "880it [02:47,  5.25it/s]\n"
     ]
    }
   ],
   "source": [
    "from tqdm import tqdm\n",
    "import pandas as pd\n",
    "reader = pd.read_table('train_m.csv', sep=',',chunksize=10000)\n",
    "list_label = []\n",
    "list_creativeSize = []\n",
    "list_productType = []\n",
    "list_adCategoryId = []\n",
    "list_carrier = []\n",
    "list_ct = []\n",
    "list_os = []\n",
    "list_age = []\n",
    "list_education = []\n",
    "list_gender = []\n",
    "list_consumptionAbility = []\n",
    "list_house = []\n",
    "for chunk in tqdm(reader):\n",
    "    chunk.loc[:,['label','creativeSize','productType','adCategoryId','carrier','ct','age','education','gender','consumptionAbility','house','os']]\n",
    "    list_label.append([c for c in chunk['label']])\n",
    "    list_creativeSize.append([c for c in chunk['creativeSize']])\n",
    "    list_productType.append([c for c in chunk['productType']])\n",
    "    list_adCategoryId.append([c for c in chunk['adCategoryId']])\n",
    "    list_carrier.append([c for c in chunk['carrier']])\n",
    "    list_ct.append([c for c in chunk['ct']])\n",
    "    list_os.append([c for c in chunk['os']])\n",
    "    list_age.append([c for c in chunk['age']])\n",
    "    list_education.append([c for c in chunk['education']])\n",
    "    list_gender.append([c for c in chunk['gender']])\n",
    "    list_consumptionAbility.append([c for c in chunk['consumptionAbility']])\n",
    "    list_house.append([c for c in chunk['house']])"
   ]
  },
  {
   "cell_type": "code",
   "execution_count": 4,
   "metadata": {},
   "outputs": [],
   "source": [
    "label_4 = 0\n",
    "label_6 = 0\n",
    "label_9 = 0\n",
    "label_11 = 0\n",
    "creativeSize_4 = 0\n",
    "creativeSize_6 = 0\n",
    "creativeSize_9 = 0\n",
    "creativeSize_11 = 0\n",
    "for i in range(len(list_creativeSize)):\n",
    "    label = list_label[i]\n",
    "    creativeSize = list_creativeSize[i]\n",
    "    for l in range(len(creativeSize)):\n",
    "        if int(40) <= int(creativeSize[l]) < int(50):\n",
    "            creativeSize_4 += 1\n",
    "            if int(label[l]) == int(1):\n",
    "                label_4 += 1\n",
    "        if int(60) <= int(creativeSize[l]) < int(70):\n",
    "            creativeSize_6 += 1\n",
    "            if int(label[l]) == int(1):\n",
    "                label_6 += 1\n",
    "        if int(90) <= int(creativeSize[l]) < int(100):\n",
    "            creativeSize_9 += 1\n",
    "            if int(label[l]) == int(1):\n",
    "                label_9 += 1\n",
    "        if int(100) <= int(creativeSize[l]) < int(120):\n",
    "            creativeSize_11 += 1\n",
    "            if int(label[l]) == int(1):\n",
    "                label_11 += 1\n",
    "        "
   ]
  },
  {
   "cell_type": "code",
   "execution_count": 5,
   "metadata": {},
   "outputs": [],
   "source": [
    "creativeSize4 = '{:.2}'.format(float(label_4 / creativeSize_4))\n",
    "creativeSize6 =  '{:.2}'.format(float(label_6 / creativeSize_6))\n",
    "creativeSize9 =  '{:.2}'.format(float(label_9 / creativeSize_9))\n",
    "creativeSize11 =  '{:.2}'.format(float(label_11 / creativeSize_11))\n"
   ]
  },
  {
   "cell_type": "code",
   "execution_count": 8,
   "metadata": {},
   "outputs": [
    {
     "data": {
      "image/png": "[encoded data removed]",
      "text/plain": [
       "<Figure size 432x288 with 2 Axes>"
      ]
     },
     "metadata": {
      "needs_background": "light"
     },
     "output_type": "display_data"
    }
   ],
   "source": [
    "import matplotlib.pyplot as plt\n",
    "import numpy as np\n",
    "import matplotlib.ticker as mtick  \n",
    "from matplotlib.font_manager import FontProperties\n",
    "plt.rcParams['font.sans-serif']=['SimHei']\n",
    "a=[label_4,label_6,label_9,label_11]  #数据\n",
    "b=[creativeSize4,creativeSize6,creativeSize9,creativeSize11]\n",
    "l=[4,6,9,11]\n",
    "lx=[4,6,9,11]\n",
    "fmt='%.2f%%'\n",
    "yticks = mtick.FormatStrFormatter(fmt)  #设置百分比形式的坐标轴\n",
    "fig = plt.figure()  \n",
    "ax1 = fig.add_subplot(111)  \n",
    "ax1.plot(l, b,'or-',label=u'转化率');\n",
    "ax1.yaxis.set_major_formatter(yticks)\n",
    "# for i,(_x,_y) in enumerate(zip(l,b)):  \n",
    "#     plt.text(_x,_y,b[i],color='black',fontsize=10,)  #将数值显示在图形上\n",
    "ax1.legend(loc=1)\n",
    "ax1.set_ylim()\n",
    "ax1.set_ylabel('分组的转化率')\n",
    "plt.legend(prop={'family':'SimHei','size':8})  #设置中文\n",
    "ax2 = ax1.twinx() # this is the important function  \n",
    "plt.bar(l,a,alpha=0.3,color='blue',label=u'count计数')  \n",
    "ax2.legend(loc=2)\n",
    "ax2.set_ylim()  #设置y轴取值范围\n",
    "ax2.set_ylabel('label=1的count计数')\n",
    "plt.legend(prop={'family':'SimHei','size':8},loc=\"upper left\") \n",
    "plt.xticks(l,lx)\n",
    "plt.show()"
   ]
  },
  {
   "cell_type": "code",
   "execution_count": 13,
   "metadata": {},
   "outputs": [],
   "source": [
    "label_4 = 0\n",
    "label_6 = 0\n",
    "label_9 = 0\n",
    "label_11 = 0\n",
    "productType_4 = 0\n",
    "productType_6 = 0\n",
    "productType_9 = 0\n",
    "productType_11 = 0\n",
    "for i in range(len(list_productType)):\n",
    "    label = list_label[i]\n",
    "    productType = list_productType[i]\n",
    "    for l in range(len(creativeSize)):\n",
    "        if int(productType[l]) == int(4):\n",
    "            productType_4 += 1\n",
    "            if int(label[l]) == int(1):\n",
    "                label_4 += 1\n",
    "        if int(productType[l]) == int(6):\n",
    "            productType_6 += 1\n",
    "            if int(label[l]) == int(1):\n",
    "                label_6 += 1\n",
    "        if int(productType[l]) == int(9):\n",
    "            productType_9 += 1\n",
    "            if int(label[l]) == int(1):\n",
    "                label_9 += 1\n",
    "        if int(productType[l]) == int(11):\n",
    "            productType_11 += 1\n",
    "            if int(label[l]) == int(1):\n",
    "                label_11 += 1"
   ]
  },
  {
   "cell_type": "code",
   "execution_count": 28,
   "metadata": {},
   "outputs": [],
   "source": [
    "productType4 = '{:.2}'.format(float(label_4 /productType_4))\n",
    "productType6 =  '{:.2}'.format(float(label_6 / productType_6))\n",
    "productType9 =  '{:.2}'.format(float(label_9 /productType_9))\n",
    "productType11 =  '{:.2}'.format(float(label_11 / productType_11))"
   ]
  },
  {
   "cell_type": "code",
   "execution_count": 29,
   "metadata": {},
   "outputs": [
    {
     "data": {
      "image/png": "[encoded data removed]",
      "text/plain": [
       "<Figure size 432x288 with 2 Axes>"
      ]
     },
     "metadata": {
      "needs_background": "light"
     },
     "output_type": "display_data"
    }
   ],
   "source": [
    "import matplotlib.pyplot as plt\n",
    "import numpy as np\n",
    "import matplotlib.ticker as mtick  \n",
    "from matplotlib.font_manager import FontProperties\n",
    "plt.rcParams['font.sans-serif']=['SimHei']\n",
    "a=[label_4,label_6,label_9,label_11]  #数据\n",
    "b=[productType4,productType6,productType9,productType11]\n",
    "l=[4,6,9,11]\n",
    "lx=[4,6,9,11]\n",
    "fmt='%.2f%%'\n",
    "yticks = mtick.FormatStrFormatter(fmt)  #设置百分比形式的坐标轴\n",
    "fig = plt.figure()  \n",
    "ax1 = fig.add_subplot(111)  \n",
    "ax1.plot(l, b,'or-',label=u'转化率');\n",
    "ax1.yaxis.set_major_formatter(yticks)\n",
    "# for i,(_x,_y) in enumerate(zip(l,b)):  \n",
    "#     plt.text(_x,_y,b[i],color='black',fontsize=10,)  #将数值显示在图形上\n",
    "ax1.legend(loc=1)\n",
    "ax1.set_ylim()\n",
    "ax1.set_ylabel('商品类型的转化率')\n",
    "plt.legend(prop={'family':'SimHei','size':8})  #设置中文\n",
    "ax2 = ax1.twinx() # this is the important function  \n",
    "plt.bar(l,a,alpha=0.3,color='blue',label=u'count计数')  \n",
    "ax2.legend(loc=2)\n",
    "ax2.set_ylim()  #设置y轴取值范围\n",
    "ax2.set_ylabel('label=1的count计数')\n",
    "plt.legend(prop={'family':'SimHei','size':8},loc=\"upper left\") \n",
    "plt.xticks(l,lx)\n",
    "plt.show()"
   ]
  },
  {
   "cell_type": "code",
   "execution_count": 31,
   "metadata": {},
   "outputs": [],
   "source": [
    "label_1 = 0\n",
    "label_2 = 0\n",
    "label_3 = 0\n",
    "label_4 = 0\n",
    "label_5 = 0\n",
    "adCategoryId_1 = 0\n",
    "adCategoryId_2 = 0\n",
    "adCategoryId_3 = 0\n",
    "adCategoryId_4 = 0\n",
    "adCategoryId_5 = 0\n",
    "for i in range(len(list_adCategoryId)):\n",
    "    label = list_label[i]\n",
    "    adCategoryId = list_adCategoryId[i]\n",
    "    for l in range(len(adCategoryId)):\n",
    "        if int(0) <= int(adCategoryId[l]) < int(50):\n",
    "            adCategoryId_1 += 1\n",
    "            if int(label[l]) == int(1):\n",
    "                label_1 += 1\n",
    "        if int(50) <= int(adCategoryId[l]) < int(100):\n",
    "            adCategoryId_2 += 1\n",
    "            if int(label[l]) == int(1):\n",
    "                label_2 += 1\n",
    "        if int(100) <= int(adCategoryId[l]) < int(150):\n",
    "            adCategoryId_3 += 1\n",
    "            if int(label[l]) == int(1):\n",
    "                label_3 += 1\n",
    "        if int(150) <= int(adCategoryId[l]) < int(200):\n",
    "            adCategoryId_4 += 1\n",
    "            if int(label[l]) == int(1):\n",
    "                label_4 += 1\n",
    "        if int(200) <= int(adCategoryId[l]):\n",
    "            adCategoryId_5 += 1\n",
    "            if int(label[l]) == int(1):\n",
    "                label_5 += 1"
   ]
  },
  {
   "cell_type": "code",
   "execution_count": 32,
   "metadata": {},
   "outputs": [],
   "source": [
    "adCategoryId1 = '{:.2}'.format(float(label_1 / adCategoryId_1))\n",
    "adCategoryId2 =  '{:.2}'.format(float(label_2 / adCategoryId_2))\n",
    "adCategoryId3 =  '{:.2}'.format(float(label_3 / adCategoryId_3))\n",
    "adCategoryId4 =  '{:.2}'.format(float(label_4 / adCategoryId_4))\n",
    "adCategoryId5 =  '{:.2}'.format(float(label_5 / adCategoryId_5))"
   ]
  },
  {
   "cell_type": "code",
   "execution_count": 34,
   "metadata": {},
   "outputs": [
    {
     "data": {
      "image/png": "[encoded data removed]",
      "text/plain": [
       "<Figure size 432x288 with 2 Axes>"
      ]
     },
     "metadata": {
      "needs_background": "light"
     },
     "output_type": "display_data"
    }
   ],
   "source": [
    "import matplotlib.pyplot as plt\n",
    "import numpy as np\n",
    "import matplotlib.ticker as mtick  \n",
    "from matplotlib.font_manager import FontProperties\n",
    "plt.rcParams['font.sans-serif']=['SimHei']\n",
    "a=[label_1,label_2,label_3,label_4,label_5]  #数据\n",
    "b=[adCategoryId1,adCategoryId2,adCategoryId3,adCategoryId4,adCategoryId5]\n",
    "l=['0-50','50-100','100-150','150-200','200及以上']\n",
    "lx=['0-50','50-100','100-150','150-200','200及以上']\n",
    "fmt='%.2f%%'\n",
    "yticks = mtick.FormatStrFormatter(fmt)  #设置百分比形式的坐标轴\n",
    "fig = plt.figure()  \n",
    "ax1 = fig.add_subplot(111)  \n",
    "ax1.plot(l, b,'or-',label=u'转化率');\n",
    "ax1.yaxis.set_major_formatter(yticks)\n",
    "# for i,(_x,_y) in enumerate(zip(l,b)):  \n",
    "#     plt.text(_x,_y,b[i],color='black',fontsize=10,)  #将数值显示在图形上\n",
    "ax1.legend(loc=1)\n",
    "ax1.set_ylim()\n",
    "ax1.set_ylabel('广告类目的转化率')\n",
    "plt.legend(prop={'family':'SimHei','size':8})  #设置中文\n",
    "ax2 = ax1.twinx() # this is the important function  \n",
    "plt.bar(l,a,alpha=0.3,color='blue',label=u'count计数')  \n",
    "ax2.legend(loc=2)\n",
    "ax2.set_ylim()  #设置y轴取值范围\n",
    "ax2.set_ylabel('label=1的count计数')\n",
    "plt.legend(prop={'family':'SimHei','size':8},loc=\"upper left\") \n",
    "plt.xticks(l,lx)\n",
    "plt.show()"
   ]
  },
  {
   "cell_type": "code",
   "execution_count": 37,
   "metadata": {},
   "outputs": [],
   "source": [
    "label_1 = 0\n",
    "label_2 = 0\n",
    "label_3 = 0\n",
    "label_4 = 0\n",
    "carrier_1 = 0\n",
    "carrier_2 = 0\n",
    "carrier_3 = 0\n",
    "carrier_4 = 0\n",
    "for i in range(len(list_carrier)):\n",
    "    label = list_label[i]\n",
    "    carrier = list_carrier[i]\n",
    "    for l in range(len(carrier)):\n",
    "        if int(carrier[l]) == int(0):\n",
    "            carrier_1 += 1\n",
    "            if int(label[l]) == int(1):\n",
    "                label_1 += 1\n",
    "        if int(carrier[l]) == int(1):\n",
    "            carrier_2 += 1\n",
    "            if int(label[l]) == int(1):\n",
    "                label_2 += 1\n",
    "        if int(carrier[l]) == int(2):\n",
    "            carrier_3 += 1\n",
    "            if int(label[l]) == int(1):\n",
    "                label_3 += 1\n",
    "        if int(carrier[l]) == int(3):\n",
    "            carrier_4 += 1\n",
    "            if int(label[l]) == int(1):\n",
    "                label_4 += 1"
   ]
  },
  {
   "cell_type": "code",
   "execution_count": 38,
   "metadata": {},
   "outputs": [],
   "source": [
    "carrier1 = '{:.2}'.format(float(label_1 / carrier_1))\n",
    "carrier2 =  '{:.2}'.format(float(label_2 / carrier_2))\n",
    "carrier3 =  '{:.2}'.format(float(label_3 / carrier_3))\n",
    "carrier4 =  '{:.2}'.format(float(label_4 / carrier_4))"
   ]
  },
  {
   "cell_type": "code",
   "execution_count": 39,
   "metadata": {},
   "outputs": [
    {
     "data": {
      "image/png": "[encoded data removed]",
      "text/plain": [
       "<Figure size 432x288 with 2 Axes>"
      ]
     },
     "metadata": {
      "needs_background": "light"
     },
     "output_type": "display_data"
    }
   ],
   "source": [
    "import matplotlib.pyplot as plt\n",
    "import numpy as np\n",
    "import matplotlib.ticker as mtick  \n",
    "from matplotlib.font_manager import FontProperties\n",
    "plt.rcParams['font.sans-serif']=['SimHei']\n",
    "a=[label_1,label_2,label_3,label_4]  #数据\n",
    "b=[carrier1,carrier2,carrier3,carrier4]\n",
    "l=[0,1,2,3]\n",
    "lx=[0,1,2,3]\n",
    "fmt='%.2f%%'\n",
    "yticks = mtick.FormatStrFormatter(fmt)  #设置百分比形式的坐标轴\n",
    "fig = plt.figure()  \n",
    "ax1 = fig.add_subplot(111)  \n",
    "ax1.plot(l, b,'or-',label=u'转化率');\n",
    "ax1.yaxis.set_major_formatter(yticks)\n",
    "# for i,(_x,_y) in enumerate(zip(l,b)):  \n",
    "#     plt.text(_x,_y,b[i],color='black',fontsize=10,)  #将数值显示在图形上\n",
    "ax1.legend(loc=1)\n",
    "ax1.set_ylim()\n",
    "ax1.set_ylabel('移动运营商的转化率')\n",
    "plt.legend(prop={'family':'SimHei','size':8})  #设置中文\n",
    "ax2 = ax1.twinx() # this is the important function  \n",
    "plt.bar(l,a,alpha=0.3,color='blue',label=u'count计数')  \n",
    "ax2.legend(loc=2)\n",
    "ax2.set_ylim()  #设置y轴取值范围\n",
    "ax2.set_ylabel('label=1的count计数')\n",
    "plt.legend(prop={'family':'SimHei','size':8},loc=\"upper left\") \n",
    "plt.xticks(l,lx)\n",
    "plt.show()"
   ]
  },
  {
   "cell_type": "code",
   "execution_count": 42,
   "metadata": {},
   "outputs": [],
   "source": [
    "label_1 = 0\n",
    "label_2 = 0\n",
    "label_3 = 0\n",
    "label_4 = 0\n",
    "ct_1 = 0\n",
    "ct_2 = 0\n",
    "ct_3 = 0\n",
    "ct_4 = 0\n",
    "for i in range(len(list_ct)):\n",
    "    label = list_label[i]\n",
    "    ct = list_ct[i]\n",
    "    for l in range(len(ct)):\n",
    "        if '0' in ct[l]:\n",
    "            ct_1 += 1\n",
    "            if int(label[l]) == int(1):\n",
    "                label_1 += 1\n",
    "        if '1' in ct[l]:\n",
    "            ct_2 += 1\n",
    "            if int(label[l]) == int(1):\n",
    "                label_2 += 1\n",
    "        if '2' in ct[l]:\n",
    "            ct_3 += 1\n",
    "            if int(label[l]) == int(1):\n",
    "                label_3 += 1\n",
    "        if '3' in ct[l]:\n",
    "            ct_4 += 1\n",
    "            if int(label[l]) == int(1):\n",
    "                label_4 += 1"
   ]
  },
  {
   "cell_type": "code",
   "execution_count": 43,
   "metadata": {},
   "outputs": [],
   "source": [
    "ct1 = '{:.2}'.format(float(label_1 / ct_1))\n",
    "ct2 =  '{:.2}'.format(float(label_2 / ct_2))\n",
    "ct3 =  '{:.2}'.format(float(label_3 / ct_3))\n",
    "ct4 =  '{:.2}'.format(float(label_4 / ct_4))"
   ]
  },
  {
   "cell_type": "code",
   "execution_count": 44,
   "metadata": {},
   "outputs": [
    {
     "data": {
      "image/png": "[encoded data removed]",
      "text/plain": [
       "<Figure size 432x288 with 2 Axes>"
      ]
     },
     "metadata": {
      "needs_background": "light"
     },
     "output_type": "display_data"
    }
   ],
   "source": [
    "import matplotlib.pyplot as plt\n",
    "import numpy as np\n",
    "import matplotlib.ticker as mtick  \n",
    "from matplotlib.font_manager import FontProperties\n",
    "plt.rcParams['font.sans-serif']=['SimHei']\n",
    "a=[label_1,label_2,label_3,label_4]  #数据\n",
    "b=[ct1,ct2,ct3,ct4]\n",
    "l=['0','1','2','3']\n",
    "lx=['0','1','2','3']\n",
    "fmt='%.2f%%'\n",
    "yticks = mtick.FormatStrFormatter(fmt)  #设置百分比形式的坐标轴\n",
    "fig = plt.figure()  \n",
    "ax1 = fig.add_subplot(111)  \n",
    "ax1.plot(l, b,'or-',label=u'转化率');\n",
    "ax1.yaxis.set_major_formatter(yticks)\n",
    "# for i,(_x,_y) in enumerate(zip(l,b)):  \n",
    "#     plt.text(_x,_y,b[i],color='black',fontsize=10,)  #将数值显示在图形上\n",
    "ax1.legend(loc=1)\n",
    "ax1.set_ylim()\n",
    "ax1.set_ylabel('上网链接类型的转化率')\n",
    "plt.legend(prop={'family':'SimHei','size':8})  #设置中文\n",
    "ax2 = ax1.twinx() # this is the important function  \n",
    "plt.bar(l,a,alpha=0.3,color='blue',label=u'count计数')  \n",
    "ax2.legend(loc=2)\n",
    "ax2.set_ylim()  #设置y轴取值范围\n",
    "ax2.set_ylabel('label=1的count计数')\n",
    "plt.legend(prop={'family':'SimHei','size':8},loc=\"upper left\") \n",
    "plt.xticks(l,lx)\n",
    "plt.show()"
   ]
  },
  {
   "cell_type": "code",
   "execution_count": 47,
   "metadata": {},
   "outputs": [],
   "source": [
    "label_1 = 0\n",
    "label_2 = 0\n",
    "label_3 = 0\n",
    "label_4 = 0\n",
    "label_5 = 0\n",
    "os_1 = 0\n",
    "os_2 = 0\n",
    "os_3 = 0\n",
    "os_4 = 0\n",
    "os_5 = 0\n",
    "\n",
    "for i in range(len(list_os)):\n",
    "    label = list_label[i]\n",
    "    os = list_os[i]\n",
    "    for l in range(len(os)):\n",
    "        if '0' in os[l]:\n",
    "            os_1 += 1\n",
    "            if int(label[l]) == int(1):\n",
    "                label_1 += 1\n",
    "        if '1' in os[l]:\n",
    "            os_2 += 1\n",
    "            if int(label[l]) == int(1):\n",
    "                label_2 += 1\n",
    "        if '2' in os[l]:\n",
    "            os_3 += 1\n",
    "            if int(label[l]) == int(1):\n",
    "                label_3 += 1\n",
    "        if '1 2' in os[l]:\n",
    "            os_4 += 1\n",
    "            if int(label[l]) == int(1):\n",
    "                label_4 += 1\n",
    "        if '2 1' in os[l]:\n",
    "            os_5 += 1\n",
    "            if int(label[l]) == int(1):\n",
    "                label_5 += 1"
   ]
  },
  {
   "cell_type": "code",
   "execution_count": 48,
   "metadata": {},
   "outputs": [],
   "source": [
    "os1 = '{:.2}'.format(float(label_1 / os_1))\n",
    "os2 =  '{:.2}'.format(float(label_2 / os_2))\n",
    "os3 =  '{:.2}'.format(float(label_3 / os_3))\n",
    "os4 =  '{:.2}'.format(float(label_4 / os_4))\n",
    "os5=  '{:.2}'.format(float(label_4 / os_5))"
   ]
  },
  {
   "cell_type": "code",
   "execution_count": 49,
   "metadata": {},
   "outputs": [
    {
     "data": {
      "image/png": "[encoded data removed]",
      "text/plain": [
       "<Figure size 432x288 with 2 Axes>"
      ]
     },
     "metadata": {
      "needs_background": "light"
     },
     "output_type": "display_data"
    }
   ],
   "source": [
    "import matplotlib.pyplot as plt\n",
    "import numpy as np\n",
    "import matplotlib.ticker as mtick  \n",
    "from matplotlib.font_manager import FontProperties\n",
    "plt.rcParams['font.sans-serif']=['SimHei']\n",
    "a=[label_1,label_2,label_3,label_4,label_5]  #数据\n",
    "b=[os1,os2,os3,os4,os5]\n",
    "l=['0','1','2','1 2','2 1']\n",
    "lx=['0','1','2','1 2','2 1']\n",
    "fmt='%.2f%%'\n",
    "yticks = mtick.FormatStrFormatter(fmt)  #设置百分比形式的坐标轴\n",
    "fig = plt.figure()  \n",
    "ax1 = fig.add_subplot(111)  \n",
    "ax1.plot(l, b,'or-',label=u'转化率');\n",
    "ax1.yaxis.set_major_formatter(yticks)\n",
    "# for i,(_x,_y) in enumerate(zip(l,b)):  \n",
    "#     plt.text(_x,_y,b[i],color='black',fontsize=10,)  #将数值显示在图形上\n",
    "ax1.legend(loc=1)\n",
    "ax1.set_ylim()\n",
    "ax1.set_ylabel('上网链接类型的转化率')\n",
    "plt.legend(prop={'family':'SimHei','size':8})  #设置中文\n",
    "ax2 = ax1.twinx() # this is the important function  \n",
    "plt.bar(l,a,alpha=0.3,color='blue',label=u'count计数')  \n",
    "ax2.legend(loc=2)\n",
    "ax2.set_ylim()  #设置y轴取值范围\n",
    "ax2.set_ylabel('label=1的count计数')\n",
    "plt.legend(prop={'family':'SimHei','size':8},loc=\"upper left\") \n",
    "plt.xticks(l,lx)\n",
    "plt.show()"
   ]
  },
  {
   "cell_type": "code",
   "execution_count": 37,
   "metadata": {},
   "outputs": [],
   "source": [
    "label_1 = 0\n",
    "label_2 = 0\n",
    "label_3 = 0\n",
    "label_4 = 0\n",
    "label_5 = 0\n",
    "sum_label_1 = 0\n",
    "age_1 = 0\n",
    "age_2 = 0\n",
    "age_3 = 0\n",
    "age_4 = 0\n",
    "age_5 = 0\n",
    "for i in range(len(list_age)):\n",
    "    label = list_label[i]\n",
    "    age = list_age[i]\n",
    "    for l in range(len(age)):\n",
    "        if int(age[l]) == int(1):\n",
    "            age_1 += 1\n",
    "            if int(label[l]) == int(1):\n",
    "                label_1 += 1\n",
    "        if int(age[l]) == int(2):\n",
    "            age_2 += 1\n",
    "            if int(label[l]) == int(1):\n",
    "                label_2 += 1\n",
    "        if int(age[l]) == int(3):\n",
    "            age_3 += 1\n",
    "            if int(label[l]) == int(1):\n",
    "                label_3 += 1\n",
    "        if int(age[l]) == int(4):\n",
    "            age_4 += 1\n",
    "            if int(label[l]) == int(1):\n",
    "                label_4 += 1\n",
    "        if int(age[l]) == int(5):\n",
    "            age_5 += 1\n",
    "            if int(label[l]) == int(1):\n",
    "                label_5 += 1\n",
    "        if int(label[l]) == int(1):\n",
    "            sum_label_1 += 1"
   ]
  },
  {
   "cell_type": "code",
   "execution_count": 38,
   "metadata": {},
   "outputs": [],
   "source": [
    "age1 = '{:.2}'.format(float(label_1 / age_1))\n",
    "age2 =  '{:.2}'.format(float(label_2 / age_2))\n",
    "age3 =  '{:.2}'.format(float(label_3 / age_3))\n",
    "age4 =  '{:.2}'.format(float(label_4 / age_4))\n",
    "age5=  '{:.2}'.format(float(label_5 / age_5))"
   ]
  },
  {
   "cell_type": "code",
   "execution_count": 40,
   "metadata": {},
   "outputs": [
    {
     "data": {
      "image/png": "[encoded data removed]",
      "text/plain": [
       "<Figure size 900x600 with 1 Axes>"
      ]
     },
     "metadata": {
      "needs_background": "light"
     },
     "output_type": "display_data"
    }
   ],
   "source": [
    "import matplotlib.pyplot as plt\n",
    " \n",
    "labels = ['1', '2', '3', '4', '5']\n",
    "age = [label_1, label_2, label_3, label_4, label_5]\n",
    "age_sum = [age_1, age_2, age_3, age_4, age_5]\n",
    "fig,ax = plt.subplots(1,1,figsize=(9,6),dpi=100)\n",
    "ax.bar(labels, age, width=0.4,label='转化')\n",
    "ax.bar(labels, age_sum, width=0.4,bottom=age,color='DodgerBlue',label='未转化')\n",
    "ax.set_ylim()\n",
    "ax.set_ylabel('age_count')\n",
    "ax.legend()\n",
    "plt.show()"
   ]
  },
  {
   "cell_type": "code",
   "execution_count": 41,
   "metadata": {},
   "outputs": [],
   "source": [
    "label_0 = 0\n",
    "label_1 = 0\n",
    "label_2 = 0\n",
    "label_3 = 0\n",
    "label_4 = 0\n",
    "label_5 = 0\n",
    "label_6 = 0\n",
    "label_7 = 0\n",
    "education_0 = 0\n",
    "education_1 = 0\n",
    "education_2 = 0\n",
    "education_3 = 0\n",
    "education_4 = 0\n",
    "education_5 = 0\n",
    "education_6 = 0\n",
    "education_7 = 0\n",
    "for i in range(len(list_education)):\n",
    "    label = list_label[i]\n",
    "    education = list_education[i]\n",
    "    for l in range(len(education)):\n",
    "        if int(education[l]) == int(0):\n",
    "            education_0 += 1\n",
    "            if int(label[l]) == int(1):\n",
    "                label_0 += 1\n",
    "        if int(education[l]) == int(1):\n",
    "            education_1 += 1\n",
    "            if int(label[l]) == int(1):\n",
    "                label_1 += 1\n",
    "        if int(education[l]) == int(2):\n",
    "            education_2 += 1\n",
    "            if int(label[l]) == int(1):\n",
    "                label_2 += 1\n",
    "        if int(education[l]) == int(3):\n",
    "            education_3 += 1\n",
    "            if int(label[l]) == int(1):\n",
    "                label_3 += 1\n",
    "        if int(education[l]) == int(4):\n",
    "            education_4 += 1\n",
    "            if int(label[l]) == int(1):\n",
    "                label_4 += 1\n",
    "        if int(education[l]) == int(5):\n",
    "            education_5 += 1\n",
    "            if int(label[l]) == int(1):\n",
    "                label_5 += 1\n",
    "        if int(education[l]) == int(6):\n",
    "            education_6 += 1\n",
    "            if int(label[l]) == int(1):\n",
    "                label_6 += 1\n",
    "        if int(education[l]) == int(7):\n",
    "            education_7 += 1\n",
    "            if int(label[l]) == int(1):\n",
    "                label_7 += 1"
   ]
  },
  {
   "cell_type": "code",
   "execution_count": 42,
   "metadata": {},
   "outputs": [],
   "source": [
    "education0 = '{:.2}'.format(float(label_0 / education_0))\n",
    "education1 =  '{:.2}'.format(float(label_1 / education_1))\n",
    "education2 =  '{:.2}'.format(float(label_2 / education_2))\n",
    "education3 =  '{:.2}'.format(float(label_3 / education_3))\n",
    "education4=  '{:.2}'.format(float(label_4/ education_4))\n",
    "education5 =  '{:.2}'.format(float(label_5 / education_5))\n",
    "education6=  '{:.2}'.format(float(label_6 / education_6))\n",
    "education6=  '{:.2}'.format(float(label_7 / education_7))"
   ]
  },
  {
   "cell_type": "code",
   "execution_count": 44,
   "metadata": {},
   "outputs": [
    {
     "data": {
      "image/png": "[encoded data removed]",
      "text/plain": [
       "<Figure size 900x600 with 1 Axes>"
      ]
     },
     "metadata": {
      "needs_background": "light"
     },
     "output_type": "display_data"
    }
   ],
   "source": [
    "import matplotlib.pyplot as plt\n",
    " \n",
    "labels = ['0', '1', '2', '3', '4', '5', '6', '7']\n",
    "education = [label_0,label_1, label_2, label_3, label_4, label_5,label_6,label_7]\n",
    "education_sum = [education_0,education_1, education_2, education_3, education_4, education_5,education_6,education_7]\n",
    "fig,ax = plt.subplots(1,1,figsize=(9,6),dpi=100)\n",
    "ax.bar(labels, education, width=0.4,label='转化')\n",
    "ax.bar(labels, education_sum, width=0.4,bottom=education,color='DodgerBlue',label='未转化')\n",
    "ax.set_ylim()\n",
    "ax.set_ylabel('education_count')\n",
    "ax.legend()\n",
    "plt.show()"
   ]
  },
  {
   "cell_type": "code",
   "execution_count": 45,
   "metadata": {},
   "outputs": [],
   "source": [
    "label_0 = 0\n",
    "label_1 = 0\n",
    "label_2 = 0\n",
    "gender_0 = 0\n",
    "gender_1 = 0\n",
    "gender_2 = 0\n",
    "for i in range(len(list_gender)):\n",
    "    label = list_label[i]\n",
    "    gender = list_gender[i]\n",
    "    for l in range(len(gender)):\n",
    "        if int(gender[l]) == int(0):\n",
    "            gender_0 += 1\n",
    "            if int(label[l]) == int(1):\n",
    "                label_0 += 1\n",
    "        if int(gender[l]) == int(1):\n",
    "            gender_1 += 1\n",
    "            if int(label[l]) == int(1):\n",
    "                label_1 += 1\n",
    "        if int(gender[l]) == int(2):\n",
    "            gender_2 += 1\n",
    "            if int(label[l]) == int(1):\n",
    "                label_2 += 1\n",
    "        "
   ]
  },
  {
   "cell_type": "code",
   "execution_count": 46,
   "metadata": {},
   "outputs": [],
   "source": [
    "gender0 = '{:.2}'.format(float(label_0 / gender_0))\n",
    "gender1 =  '{:.2}'.format(float(label_1 / gender_1))\n",
    "gender2 =  '{:.2}'.format(float(label_2 / gender_2))\n"
   ]
  },
  {
   "cell_type": "code",
   "execution_count": 47,
   "metadata": {},
   "outputs": [
    {
     "data": {
      "image/png": "[encoded data removed]",
      "text/plain": [
       "<Figure size 900x600 with 1 Axes>"
      ]
     },
     "metadata": {
      "needs_background": "light"
     },
     "output_type": "display_data"
    }
   ],
   "source": [
    "import matplotlib.pyplot as plt\n",
    "import numpy as np\n",
    "labels = ['0', '1', '2']\n",
    "gender = np.array([1266, 284158, 136537])\n",
    "gender_sum = np.array([25225, 5734830, 3038759])\n",
    "fig,ax = plt.subplots(1,1,figsize=(9,6),dpi=100)\n",
    "ax.bar(labels, gender, width=0.4,label='转化')\n",
    "ax.bar(labels, gender_sum, width=0.4,bottom=gender,color='DodgerBlue',label='未转化')\n",
    "ax.set_ylim()\n",
    "ax.set_ylabel('gender_count')\n",
    "ax.legend()\n",
    "plt.show()"
   ]
  },
  {
   "cell_type": "code",
   "execution_count": 48,
   "metadata": {},
   "outputs": [],
   "source": [
    "label_0 = 0\n",
    "label_1 = 0\n",
    "label_2 = 0\n",
    "consumptionAbility_0 = 0\n",
    "consumptionAbility_1 = 0\n",
    "consumptionAbility_2 = 0\n",
    "for i in range(len(list_consumptionAbility)):\n",
    "    label = list_label[i]\n",
    "    consumptionAbility = list_consumptionAbility[i]\n",
    "    for l in range(len(consumptionAbility)):\n",
    "        if int(consumptionAbility[l]) == int(0):\n",
    "            consumptionAbility_0 += 1\n",
    "            if int(label[l]) == int(1):\n",
    "                label_0 += 1\n",
    "        if int(consumptionAbility[l]) == int(1):\n",
    "            consumptionAbility_1 += 1\n",
    "            if int(label[l]) == int(1):\n",
    "                label_1 += 1\n",
    "        if int(consumptionAbility[l]) == int(2):\n",
    "            consumptionAbility_2 += 1\n",
    "            if int(label[l]) == int(1):\n",
    "                label_2 += 1\n",
    "        "
   ]
  },
  {
   "cell_type": "code",
   "execution_count": 49,
   "metadata": {},
   "outputs": [],
   "source": [
    "consumptionAbility0 = '{:.2}'.format(float(label_0 / consumptionAbility_0))\n",
    "consumptionAbility1 =  '{:.2}'.format(float(label_1 / consumptionAbility_1))\n",
    "consumptionAbility2 =  '{:.2}'.format(float(label_2 / consumptionAbility_2))"
   ]
  },
  {
   "cell_type": "code",
   "execution_count": 50,
   "metadata": {},
   "outputs": [
    {
     "data": {
      "image/png": "[encoded data removed]",
      "text/plain": [
       "<Figure size 900x600 with 1 Axes>"
      ]
     },
     "metadata": {
      "needs_background": "light"
     },
     "output_type": "display_data"
    }
   ],
   "source": [
    "import matplotlib.pyplot as plt\n",
    " \n",
    "labels = ['0', '1', '2']\n",
    "consumptionAbility = [label_0,label_1, label_2]\n",
    "consumptionAbility_sum = [consumptionAbility_0,consumptionAbility_1,consumptionAbility_2]\n",
    "fig,ax = plt.subplots(1,1,figsize=(9,6),dpi=100)\n",
    "ax.bar(labels, consumptionAbility, width=0.4,label='转化')\n",
    "ax.bar(labels, consumptionAbility_sum, width=0.4,bottom=consumptionAbility,color='DodgerBlue',label='未转化')\n",
    "ax.set_ylim()\n",
    "ax.set_ylabel('consumptionAbility_count')\n",
    "ax.legend()\n",
    "plt.show()"
   ]
  },
  {
   "cell_type": "code",
   "execution_count": 51,
   "metadata": {},
   "outputs": [],
   "source": [
    "label_0 = 0\n",
    "label_1 = 0\n",
    "house_0 = 0\n",
    "house_1 = 0\n",
    "for i in range(len(list_house)):\n",
    "    label = list_label[i]\n",
    "    house = list_house[i]\n",
    "    for l in range(len(house)):\n",
    "        if int(house[l]) == int(-1):\n",
    "            house_0 += 1\n",
    "            if int(label[l]) == int(1):\n",
    "                label_0 += 1\n",
    "        if int(house[l]) == int(1):\n",
    "            house_1 += 1\n",
    "            if int(label[l]) == int(1):\n",
    "                label_1 += 1"
   ]
  },
  {
   "cell_type": "code",
   "execution_count": 52,
   "metadata": {},
   "outputs": [],
   "source": [
    "house0 = '{:.2}'.format(float(label_0 / house_0))\n",
    "house1 =  '{:.2}'.format(float(label_1 / house_1))"
   ]
  },
  {
   "cell_type": "code",
   "execution_count": 53,
   "metadata": {},
   "outputs": [
    {
     "data": {
      "image/png": "[encoded data removed]",
      "text/plain": [
       "<Figure size 900x600 with 1 Axes>"
      ]
     },
     "metadata": {
      "needs_background": "light"
     },
     "output_type": "display_data"
    }
   ],
   "source": [
    "import matplotlib.pyplot as plt\n",
    " \n",
    "labels = ['-1', '1']\n",
    "house = [label_0,label_1]\n",
    "house_sum = [house_0,house_1]\n",
    "fig,ax = plt.subplots(1,1,figsize=(9,6),dpi=100)\n",
    "ax.bar(labels, house, width=0.4,label='转化')\n",
    "ax.bar(labels, house_sum, width=0.4,bottom=house,color='DodgerBlue',label='未转化')\n",
    "ax.set_ylim()\n",
    "ax.set_ylabel('house_count')\n",
    "ax.legend()\n",
    "plt.show()"
   ]
  },
  {
   "cell_type": "code",
   "execution_count": 121,
   "metadata": {},
   "outputs": [
    {
     "name": "stdout",
     "output_type": "stream",
     "text": [
      "   变量分类      转化     未转化      总数    转化率\n",
      "0     4  143870  168891  312761   0.46\n",
      "1     6   49622  612014  661636  0.075\n",
      "2     9   68933  168768  237701   0.29\n",
      "3    11  109544  672920  782464   0.14\n"
     ]
    }
   ],
   "source": [
    "import pandas as pd \n",
    "list_classify = [4,6,9,11]\n",
    "list_convert = [int((int(creativeSize_4)*float(creativeSize4))),int((int(creativeSize_6)*float(creativeSize6))),int((int(creativeSize_9)*float(creativeSize9))),int((int(creativeSize_11)*float(creativeSize11)))]\n",
    "list_sum = [creativeSize_4,creativeSize_6,creativeSize_9,creativeSize_11]\n",
    "list_convert_not = [list_sum[0]-list_convert[0],list_sum[1]-list_convert[1],list_sum[2]-list_convert[2],list_sum[3]-list_convert[3]]\n",
    "list_convert_rate = [creativeSize4,creativeSize6,creativeSize9,creativeSize11]\n",
    "df1 = pd.DataFrame()\n",
    "df1['变量分类'] = list_classify\n",
    "df1['转化'] = list_convert\n",
    "df1['未转化'] = list_convert_not\n",
    "df1['总数'] = list_sum\n",
    "df1['转化率'] = list_convert_rate\n",
    "print(df1)"
   ]
  },
  {
   "cell_type": "code",
   "execution_count": 124,
   "metadata": {},
   "outputs": [
    {
     "name": "stdout",
     "output_type": "stream",
     "text": [
      "   变量分类      转化      未转化       总数      转化率\n",
      "0     4    1932  3017279  3019211  0.00064\n",
      "1     6   49807   987858  1037665    0.048\n",
      "2     9   69617  1380756  1450373    0.048\n",
      "3    11  110204  2138867  2249071    0.049\n"
     ]
    }
   ],
   "source": [
    "import pandas as pd \n",
    "list_classify = [4,6,9,11]\n",
    "list_convert = [int((int(productType_4)*float(productType4))),int((int(productType_6)*float(productType6))),int((int(productType_9)*float(productType9))),int((int(productType_11)*float(productType11)))]\n",
    "list_sum = [productType_4,productType_6,productType_9,productType_11]\n",
    "list_convert_not = [list_sum[0]-list_convert[0],list_sum[1]-list_convert[1],list_sum[2]-list_convert[2],list_sum[3]-list_convert[3]]\n",
    "list_convert_rate = [productType4,productType6,productType9,productType11]\n",
    "df1 = pd.DataFrame()\n",
    "df1['变量分类'] = list_classify\n",
    "df1['转化'] = list_convert\n",
    "df1['未转化'] = list_convert_not\n",
    "df1['总数'] = list_sum\n",
    "df1['转化率'] = list_convert_rate\n",
    "print(df1)"
   ]
  },
  {
   "cell_type": "code",
   "execution_count": 130,
   "metadata": {},
   "outputs": [
    {
     "name": "stdout",
     "output_type": "stream",
     "text": [
      "   变量分类      转化      未转化       总数    转化率\n",
      "0     1  292448  5800238  6092686  0.048\n",
      "1     2   90422  1793390  1883812  0.048\n",
      "2     3   26268   532629   558897  0.047\n",
      "3     4    1957    37998    39955  0.049\n",
      "4     5   10726   212738   223464  0.048\n"
     ]
    }
   ],
   "source": [
    "import pandas as pd \n",
    "list_classify = [1,2,3,4,5]\n",
    "list_convert = [int((int(adCategoryId_1)*float(adCategoryId1))),int((int(adCategoryId_2)*float(adCategoryId2))),int((int(adCategoryId_3)*float(adCategoryId3))),int((int(adCategoryId_4)*float(adCategoryId4))),int((int(adCategoryId_5)*float(adCategoryId5)))]\n",
    "list_sum = [adCategoryId_1,adCategoryId_2,adCategoryId_3,adCategoryId_4,adCategoryId_5]\n",
    "list_convert_not = [list_sum[0]-list_convert[0],list_sum[1]-list_convert[1],list_sum[2]-list_convert[2],list_sum[3]-list_convert[3],list_sum[4]-list_convert[4]]\n",
    "list_convert_rate = [adCategoryId1,adCategoryId2,adCategoryId3,adCategoryId4,adCategoryId5]\n",
    "df1 = pd.DataFrame()\n",
    "df1['变量分类'] = list_classify\n",
    "df1['转化'] = list_convert\n",
    "df1['未转化'] = list_convert_not\n",
    "df1['总数'] = list_sum\n",
    "df1['转化率'] = list_convert_rate\n",
    "print(df1)"
   ]
  },
  {
   "cell_type": "code",
   "execution_count": 131,
   "metadata": {},
   "outputs": [
    {
     "name": "stdout",
     "output_type": "stream",
     "text": [
      "   变量分类      转化      未转化       总数    转化率\n",
      "0     1  129706  2317594  2447300  0.053\n",
      "1     2  195183  4047932  4243115  0.046\n",
      "2     3   38881   844783   883664  0.044\n",
      "3     4   57562  1167173  1224735  0.047\n"
     ]
    }
   ],
   "source": [
    "import pandas as pd \n",
    "list_classify = [1,2,3,4]\n",
    "list_convert = [int((int(carrier_1)*float(carrier1))),int((int(carrier_2)*float(carrier2))),int((int(carrier_3)*float(carrier3))),int((int(carrier_4)*float(carrier4)))]\n",
    "list_sum = [carrier_1,carrier_2,carrier_3,carrier_4]\n",
    "list_convert_not = [list_sum[0]-list_convert[0],list_sum[1]-list_convert[1],list_sum[2]-list_convert[2],list_sum[3]-list_convert[3]]\n",
    "list_convert_rate = [carrier1,carrier2,carrier3,carrier4]\n",
    "df1 = pd.DataFrame()\n",
    "df1['变量分类'] = list_classify\n",
    "df1['转化'] = list_convert\n",
    "df1['未转化'] = list_convert_not\n",
    "df1['总数'] = list_sum\n",
    "df1['转化率'] = list_convert_rate\n",
    "print(df1)"
   ]
  },
  {
   "cell_type": "code",
   "execution_count": 132,
   "metadata": {},
   "outputs": [
    {
     "name": "stdout",
     "output_type": "stream",
     "text": [
      "   变量分类      转化      未转化       总数    转化率\n",
      "0     0   61798  1041739  1103537  0.056\n",
      "1     1  272373  5917923  6190296  0.044\n",
      "2     2   40959   889943   930902  0.044\n",
      "3     3  352814  7153888  7506702  0.047\n"
     ]
    }
   ],
   "source": [
    "import pandas as pd \n",
    "list_classify = [0,1,2,3]\n",
    "list_convert = [int((int(ct_1)*float(ct1))),int((int(ct_2)*float(ct2))),int((int(ct_3)*float(ct3))),int((int(ct_4)*float(ct4)))]\n",
    "list_sum = [ct_1,ct_2,ct_3,ct_4]\n",
    "list_convert_not = [list_sum[0]-list_convert[0],list_sum[1]-list_convert[1],list_sum[2]-list_convert[2],list_sum[3]-list_convert[3]]\n",
    "list_convert_rate = [ct1,ct2,ct3,ct4]\n",
    "df1 = pd.DataFrame()\n",
    "df1['变量分类'] = list_classify\n",
    "df1['转化'] = list_convert\n",
    "df1['未转化'] = list_convert_not\n",
    "df1['总数'] = list_sum\n",
    "df1['转化率'] = list_convert_rate\n",
    "print(df1)"
   ]
  },
  {
   "cell_type": "code",
   "execution_count": 133,
   "metadata": {},
   "outputs": [
    {
     "name": "stdout",
     "output_type": "stream",
     "text": [
      "  变量分类      转化      未转化       总数    转化率\n",
      "0    0   63474  1069992  1133466  0.056\n",
      "1    1  287263  5575255  5862518  0.049\n",
      "2    2   96023  2366130  2462153  0.039\n",
      "3  1 2   19244   450127   469371  0.041\n",
      "4  2 1   18995   170957   189952    0.1\n"
     ]
    }
   ],
   "source": [
    "import pandas as pd \n",
    "list_classify = ['0','1','2','1 2','2 1']\n",
    "list_convert = [int((int(os_1)*float(os1))),int((int(os_2)*float(os2))),int((int(os_3)*float(os3))),int((int(os_4)*float(os4))),int((int(os_5)*float(os5)))]\n",
    "list_sum = [os_1,os_2,os_3,os_4,os_5]\n",
    "list_convert_not = [list_sum[0]-list_convert[0],list_sum[1]-list_convert[1],list_sum[2]-list_convert[2],list_sum[3]-list_convert[3],list_sum[4]-list_convert[4]]\n",
    "list_convert_rate = [os1,os2,os3,os4,os5]\n",
    "df1 = pd.DataFrame()\n",
    "df1['变量分类'] = list_classify\n",
    "df1['转化'] = list_convert\n",
    "df1['未转化'] = list_convert_not\n",
    "df1['总数'] = list_sum\n",
    "df1['转化率'] = list_convert_rate\n",
    "print(df1)"
   ]
  },
  {
   "cell_type": "code",
   "execution_count": 139,
   "metadata": {},
   "outputs": [
    {
     "name": "stdout",
     "output_type": "stream",
     "text": [
      "   变量分类      转化      未转化       总数    转化率\n",
      "0     1   90906  1975154  2066060  0.044\n",
      "1     2  139918  1887890  2027808  0.069\n",
      "2     3   46030   893367   939397  0.049\n",
      "3     4   65745  1620028  1685773  0.039\n",
      "4     5   80950  1994709  2075659  0.039\n"
     ]
    }
   ],
   "source": [
    "import pandas as pd \n",
    "list_classify = [1,2,3,4,5]\n",
    "list_convert = [int((int(age_1)*float(age1))),int((int(age_2)*float(age2))),int((int(age_3)*float(age3))),int((int(age_4)*float(age4))),int((int(age_5)*float(age5)))]\n",
    "list_sum = [age_1,age_2,age_3,age_4,age_5]\n",
    "list_convert_not = [list_sum[0]-list_convert[0],list_sum[1]-list_convert[1],list_sum[2]-list_convert[2],list_sum[3]-list_convert[3],list_sum[4]-list_convert[4]]\n",
    "list_convert_rate = [age1,age2,age3,age4,age5]\n",
    "df1 = pd.DataFrame()\n",
    "df1['变量分类'] = list_classify\n",
    "df1['转化'] = list_convert\n",
    "df1['未转化'] = list_convert_not\n",
    "df1['总数'] = list_sum\n",
    "df1['转化率'] = list_convert_rate\n",
    "print(df1)"
   ]
  },
  {
   "cell_type": "code",
   "execution_count": 145,
   "metadata": {},
   "outputs": [
    {
     "name": "stdout",
     "output_type": "stream",
     "text": [
      "  变量分类      转化      未转化       总数    转化率\n",
      "0    0  353069  -272826    80243    4.4\n",
      "1    1   70056   991400  1061456  0.066\n",
      "2    2  101646  2108066  2209712  0.046\n",
      "3    3   22214   381681   403895  0.055\n",
      "4    4    4059    92589    96648  0.042\n",
      "5    5   11163   282605   293768  0.038\n",
      "6    6   63797  1455189  1518986  0.042\n"
     ]
    }
   ],
   "source": [
    "import pandas as pd \n",
    "list_classify = ['0', '1', '2', '3', '4', '5', '6']\n",
    "list_convert = [int((int(education_0)*float(education0))),int((int(education_1)*float(education1))),int((int(education_2)*float(education2))),int((int(education_3)*float(education3))),int((int(education_4)*float(education4))),int((int(education_5)*float(education5))),int((int(education_6)*float(education6)))]\n",
    "list_sum = [education_0,education_1,education_2,education_3,education_4,education_5,education_6]\n",
    "list_convert_not = [list_sum[0]-list_convert[0],list_sum[1]-list_convert[1],list_sum[2]-list_convert[2],list_sum[3]-list_convert[3],list_sum[4]-list_convert[4],list_sum[5]-list_convert[5],list_sum[6]-list_convert[6]]\n",
    "list_convert_rate = [education0,education1,education2,education3,education4,education5,education6]\n",
    "df1 = pd.DataFrame()\n",
    "df1['变量分类'] = list_classify\n",
    "df1['转化'] = list_convert\n",
    "df1['未转化'] = list_convert_not\n",
    "df1['总数'] = list_sum\n",
    "df1['转化率'] = list_convert_rate\n",
    "print(df1)"
   ]
  },
  {
   "cell_type": "code",
   "execution_count": 147,
   "metadata": {},
   "outputs": [
    {
     "name": "stdout",
     "output_type": "stream",
     "text": [
      "  变量分类      转化      未转化       总数      转化率\n",
      "0    0  353150  -327925    25225  1.4e+01\n",
      "1    1   68817  5666013  5734830    0.012\n",
      "2    2  103317  2935442  3038759    0.034\n"
     ]
    }
   ],
   "source": [
    "import pandas as pd \n",
    "list_classify = ['0', '1', '2']\n",
    "list_convert = [int((int(gender_0)*float(gender0))),int((int(gender_1)*float(gender1))),int((int(gender_2)*float(gender2)))]\n",
    "list_sum = [gender_0,gender_1,gender_2]\n",
    "list_convert_not = [list_sum[0]-list_convert[0],list_sum[1]-list_convert[1],list_sum[2]-list_convert[2]]\n",
    "list_convert_rate = [gender0,gender1,gender2]\n",
    "df1 = pd.DataFrame()\n",
    "df1['变量分类'] = list_classify\n",
    "df1['转化'] = list_convert\n",
    "df1['未转化'] = list_convert_not\n",
    "df1['总数'] = list_sum\n",
    "df1['转化率'] = list_convert_rate\n",
    "print(df1)"
   ]
  },
  {
   "cell_type": "code",
   "execution_count": 150,
   "metadata": {},
   "outputs": [
    {
     "name": "stdout",
     "output_type": "stream",
     "text": [
      "  变量分类      转化      未转化       总数    转化率\n",
      "0    0  357886  1525726  1883612   0.19\n",
      "1    1   67719  5141486  5209205  0.013\n",
      "2    2  102359  1603638  1705997   0.06\n"
     ]
    }
   ],
   "source": [
    "import pandas as pd \n",
    "list_classify = ['0', '1', '2']\n",
    "list_convert = [int((int(consumptionAbility_0)*float(consumptionAbility0))),int((int(consumptionAbility_1)*float(consumptionAbility1))),int((int(consumptionAbility_2)*float(consumptionAbility2)))]\n",
    "list_sum = [consumptionAbility_0,consumptionAbility_1,consumptionAbility_2]\n",
    "list_convert_not = [list_sum[0]-list_convert[0],list_sum[1]-list_convert[1],list_sum[2]-list_convert[2]]\n",
    "list_convert_rate = [consumptionAbility0,consumptionAbility1,consumptionAbility2]\n",
    "df1 = pd.DataFrame()\n",
    "df1['变量分类'] = list_classify\n",
    "df1['转化'] = list_convert\n",
    "df1['未转化'] = list_convert_not\n",
    "df1['总数'] = list_sum\n",
    "df1['转化率'] = list_convert_rate\n",
    "print(df1)"
   ]
  },
  {
   "cell_type": "code",
   "execution_count": 152,
   "metadata": {},
   "outputs": [
    {
     "name": "stdout",
     "output_type": "stream",
     "text": [
      "  变量分类      转化      未转化       总数    转化率\n",
      "0   -1  353166  6854306  7207472  0.049\n",
      "1    1   70019  1521323  1591342  0.044\n"
     ]
    }
   ],
   "source": [
    "import pandas as pd \n",
    "list_classify = ['-1', '1']\n",
    "list_convert = [int((int(house_0)*float(house0))),int((int(house_1)*float(house1)))]\n",
    "list_sum = [house_0,house_1]\n",
    "list_convert_not = [list_sum[0]-list_convert[0],list_sum[1]-list_convert[1]]\n",
    "list_convert_rate = [house0,house1]\n",
    "df1 = pd.DataFrame()\n",
    "df1['变量分类'] = list_classify\n",
    "df1['转化'] = list_convert\n",
    "df1['未转化'] = list_convert_not\n",
    "df1['总数'] = list_sum\n",
    "df1['转化率'] = list_convert_rate\n",
    "print(df1)"
   ]
  },
  {
   "cell_type": "code",
   "execution_count": 153,
   "metadata": {},
   "outputs": [
    {
     "data": {
      "text/html": [
       "<div>\n",
       "<style scoped>\n",
       "    .dataframe tbody tr th:only-of-type {\n",
       "        vertical-align: middle;\n",
       "    }\n",
       "\n",
       "    .dataframe tbody tr th {\n",
       "        vertical-align: top;\n",
       "    }\n",
       "\n",
       "    .dataframe thead th {\n",
       "        text-align: right;\n",
       "    }\n",
       "</style>\n",
       "<table border=\"1\" class=\"dataframe\">\n",
       "  <thead>\n",
       "    <tr style=\"text-align: right;\">\n",
       "      <th></th>\n",
       "      <th>creativeSize</th>\n",
       "      <th>productType</th>\n",
       "      <th>adCategoryId</th>\n",
       "    </tr>\n",
       "  </thead>\n",
       "  <tbody>\n",
       "    <tr>\n",
       "      <th>creativeSize</th>\n",
       "      <td>1.000000</td>\n",
       "      <td>-0.261695</td>\n",
       "      <td>0.001090</td>\n",
       "    </tr>\n",
       "    <tr>\n",
       "      <th>productType</th>\n",
       "      <td>-0.261695</td>\n",
       "      <td>1.000000</td>\n",
       "      <td>-0.217563</td>\n",
       "    </tr>\n",
       "    <tr>\n",
       "      <th>adCategoryId</th>\n",
       "      <td>0.001090</td>\n",
       "      <td>-0.217563</td>\n",
       "      <td>1.000000</td>\n",
       "    </tr>\n",
       "  </tbody>\n",
       "</table>\n",
       "</div>"
      ],
      "text/plain": [
       "              creativeSize  productType  adCategoryId\n",
       "creativeSize      1.000000    -0.261695      0.001090\n",
       "productType      -0.261695     1.000000     -0.217563\n",
       "adCategoryId      0.001090    -0.217563      1.000000"
      ]
     },
     "execution_count": 153,
     "metadata": {},
     "output_type": "execute_result"
    }
   ],
   "source": [
    "import pandas as pd\n",
    "df2 = pd.read_csv('train_m.csv').loc[:,['creativeSize','productType','adCategoryId']]\n",
    "df2.corr()"
   ]
  },
  {
   "cell_type": "code",
   "execution_count": 154,
   "metadata": {},
   "outputs": [
    {
     "data": {
      "text/html": [
       "<div>\n",
       "<style scoped>\n",
       "    .dataframe tbody tr th:only-of-type {\n",
       "        vertical-align: middle;\n",
       "    }\n",
       "\n",
       "    .dataframe tbody tr th {\n",
       "        vertical-align: top;\n",
       "    }\n",
       "\n",
       "    .dataframe thead th {\n",
       "        text-align: right;\n",
       "    }\n",
       "</style>\n",
       "<table border=\"1\" class=\"dataframe\">\n",
       "  <thead>\n",
       "    <tr style=\"text-align: right;\">\n",
       "      <th></th>\n",
       "      <th>age</th>\n",
       "      <th>education</th>\n",
       "      <th>education</th>\n",
       "      <th>gender</th>\n",
       "      <th>consumptionAbility</th>\n",
       "      <th>house</th>\n",
       "    </tr>\n",
       "  </thead>\n",
       "  <tbody>\n",
       "    <tr>\n",
       "      <th>age</th>\n",
       "      <td>1.000000</td>\n",
       "      <td>0.115542</td>\n",
       "      <td>0.115542</td>\n",
       "      <td>-0.068568</td>\n",
       "      <td>-0.066855</td>\n",
       "      <td>-0.088989</td>\n",
       "    </tr>\n",
       "    <tr>\n",
       "      <th>education</th>\n",
       "      <td>0.115542</td>\n",
       "      <td>1.000000</td>\n",
       "      <td>1.000000</td>\n",
       "      <td>-0.000927</td>\n",
       "      <td>0.095281</td>\n",
       "      <td>0.154112</td>\n",
       "    </tr>\n",
       "    <tr>\n",
       "      <th>education</th>\n",
       "      <td>0.115542</td>\n",
       "      <td>1.000000</td>\n",
       "      <td>1.000000</td>\n",
       "      <td>-0.000927</td>\n",
       "      <td>0.095281</td>\n",
       "      <td>0.154112</td>\n",
       "    </tr>\n",
       "    <tr>\n",
       "      <th>gender</th>\n",
       "      <td>-0.068568</td>\n",
       "      <td>-0.000927</td>\n",
       "      <td>-0.000927</td>\n",
       "      <td>1.000000</td>\n",
       "      <td>0.107036</td>\n",
       "      <td>-0.061120</td>\n",
       "    </tr>\n",
       "    <tr>\n",
       "      <th>consumptionAbility</th>\n",
       "      <td>-0.066855</td>\n",
       "      <td>0.095281</td>\n",
       "      <td>0.095281</td>\n",
       "      <td>0.107036</td>\n",
       "      <td>1.000000</td>\n",
       "      <td>0.069027</td>\n",
       "    </tr>\n",
       "    <tr>\n",
       "      <th>house</th>\n",
       "      <td>-0.088989</td>\n",
       "      <td>0.154112</td>\n",
       "      <td>0.154112</td>\n",
       "      <td>-0.061120</td>\n",
       "      <td>0.069027</td>\n",
       "      <td>1.000000</td>\n",
       "    </tr>\n",
       "  </tbody>\n",
       "</table>\n",
       "</div>"
      ],
      "text/plain": [
       "                         age  education  education    gender  \\\n",
       "age                 1.000000   0.115542   0.115542 -0.068568   \n",
       "education           0.115542   1.000000   1.000000 -0.000927   \n",
       "education           0.115542   1.000000   1.000000 -0.000927   \n",
       "gender             -0.068568  -0.000927  -0.000927  1.000000   \n",
       "consumptionAbility -0.066855   0.095281   0.095281  0.107036   \n",
       "house              -0.088989   0.154112   0.154112 -0.061120   \n",
       "\n",
       "                    consumptionAbility     house  \n",
       "age                          -0.066855 -0.088989  \n",
       "education                     0.095281  0.154112  \n",
       "education                     0.095281  0.154112  \n",
       "gender                        0.107036 -0.061120  \n",
       "consumptionAbility            1.000000  0.069027  \n",
       "house                         0.069027  1.000000  "
      ]
     },
     "execution_count": 154,
     "metadata": {},
     "output_type": "execute_result"
    }
   ],
   "source": [
    "import pandas as pd\n",
    "df3 = pd.read_csv('train_m.csv').loc[:,['age','education','education','ct','gender','consumptionAbility','house','os']]\n",
    "df3.corr()"
   ]
  },
  {
   "cell_type": "code",
   "execution_count": null,
   "metadata": {},
   "outputs": [],
   "source": [
    "||"
   ]
  }
 ],
 "metadata": {
  "kernelspec": {
   "display_name": "Python 3",
   "language": "python",
   "name": "python3"
  },
  "language_info": {
   "codemirror_mode": {
    "name": "ipython",
    "version": 3
   },
   "file_extension": ".py",
   "mimetype": "text/x-python",
   "name": "python",
   "nbconvert_exporter": "python",
   "pygments_lexer": "ipython3",
   "version": "3.8.5"
  }
 },
 "nbformat": 4,
 "nbformat_minor": 2
}
