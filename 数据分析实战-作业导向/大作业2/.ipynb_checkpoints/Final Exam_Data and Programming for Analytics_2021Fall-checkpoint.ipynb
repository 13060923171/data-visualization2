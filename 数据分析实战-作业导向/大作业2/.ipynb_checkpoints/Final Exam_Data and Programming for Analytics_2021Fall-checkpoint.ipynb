{
 "cells": [
  {
   "cell_type": "markdown",
   "metadata": {},
   "source": [
    "## Data and Programming for Analytics Final 2021\n",
    "\n",
    "* Time: 8am PST (Monday, December 6, 2021) to 8am PST (Wednesday, December 8, 2021)\n",
    "* Submission: please upload both .ipynb file and .html file on Canvas under Assignments -> Final\n",
    "* You are required to answer all questions.\n",
    "* This is a “open book, open computer” exam\n",
    "* You should solve those problems on your own. You are allowed to \"google\" or do your own research on the internet, but you are not allowed to seek help from others, including but not limited to family members, friends, classmates and so forth.\n",
    "* Please be as succinct as possible in answering the questions.\n",
    "* The total score is 130 points.\n",
    "\n",
    "\n",
    "\n",
    "\n",
    "\n"
   ]
  },
  {
   "cell_type": "markdown",
   "metadata": {},
   "source": [
    "### Please initial here that if you agree to comply to the UCI Academic Honesty Policy:________\n"
   ]
  },
  {
   "cell_type": "markdown",
   "metadata": {},
   "source": [
    "### Part I. Multiple Choices and Short-Answer Questions (40 pts)"
   ]
  },
  {
   "cell_type": "markdown",
   "metadata": {},
   "source": [
    "#### Q1. \n",
    "Which of the following has a different number of iterations?"
   ]
  },
  {
   "cell_type": "code",
   "execution_count": 1,
   "metadata": {},
   "outputs": [],
   "source": [
    "#a)\n",
    "i = 0\n",
    "while i <=100:\n",
    "    i = i+1\n",
    "\n",
    "   "
   ]
  },
  {
   "cell_type": "code",
   "execution_count": 2,
   "metadata": {},
   "outputs": [],
   "source": [
    "#b) \n",
    "\n",
    "for i in range(100):\n",
    "    print(\"Hi\")"
   ]
  },
  {
   "cell_type": "code",
   "execution_count": 3,
   "metadata": {},
   "outputs": [],
   "source": [
    "#c)\n",
    "\n",
    "for i in range(100, 0, -1):\n",
    "    print(\"Hi\")\n"
   ]
  },
  {
   "cell_type": "code",
   "execution_count": 4,
   "metadata": {},
   "outputs": [],
   "source": [
    "#d) \n",
    "i=100\n",
    "while (i>0):\n",
    "    print(\"Hi\")\n",
    "    i = i-1\n",
    "\n"
   ]
  },
  {
   "cell_type": "code",
   "execution_count": null,
   "metadata": {},
   "outputs": [],
   "source": [
    "# Your Answer Here:\n",
    "a"
   ]
  },
  {
   "cell_type": "markdown",
   "metadata": {},
   "source": [
    "#### Q2. \n",
    "\n",
    "Write a list comprehension to take in a list and transform each word into its uppercase and also calculate the length of the word.\n",
    "\n",
    "str1 =[\"Merage\", \"Python\", \"programming\"]\n",
    "\n",
    "Expected output: [('MERAGE', 6), ('PYTHON', 6), ('PROGRAMMING', 11)]"
   ]
  },
  {
   "cell_type": "code",
   "execution_count": 7,
   "metadata": {},
   "outputs": [
    {
     "data": {
      "text/plain": [
       "[('MERAGE', 6), ('PYTHON', 6), ('PROGRAMMING', 11)]"
      ]
     },
     "execution_count": 7,
     "metadata": {},
     "output_type": "execute_result"
    }
   ],
   "source": [
    "# Your Answer Here:\n",
    "str1 =[\"Merage\", \"Python\", \"programming\"]\n",
    "list_page = []\n",
    "for s in range(len(str1)):\n",
    "    s = str1[s]\n",
    "    s = s.upper()\n",
    "    number = len(s)\n",
    "    list_page.append((s,number))\n",
    "list_page"
   ]
  },
  {
   "cell_type": "markdown",
   "metadata": {},
   "source": [
    "#### Q3. \n",
    "\n",
    "How many iterations the following while loop will run (we assume we use Python 3.x)?"
   ]
  },
  {
   "cell_type": "code",
   "execution_count": 8,
   "metadata": {},
   "outputs": [],
   "source": [
    "i = 1000\n",
    "while i >1:\n",
    "    i = i/2"
   ]
  },
  {
   "cell_type": "markdown",
   "metadata": {},
   "source": [
    "a) 500\n",
    "\n",
    "b) 10\n",
    "\n",
    "c) 499\n",
    "\n",
    "d) 9\n",
    "\n",
    "e) 1001"
   ]
  },
  {
   "cell_type": "code",
   "execution_count": null,
   "metadata": {},
   "outputs": [],
   "source": [
    "# Your Answer Here:   \n",
    "b"
   ]
  },
  {
   "cell_type": "markdown",
   "metadata": {},
   "source": [
    "#### Q4. \n",
    "\n",
    "Write a program which will find all such numbers which are divisible by 6 but are not a multiple of 5, between 1000 and 2000 (both included).\n",
    "\n",
    "The numbers obtained should be printed in a comma-separated sequence on a single line, such as \n",
    "n1, n2, n3, ..."
   ]
  },
  {
   "cell_type": "code",
   "execution_count": 9,
   "metadata": {},
   "outputs": [
    {
     "name": "stdout",
     "output_type": "stream",
     "text": [
      "1002,1008,1014,1026,1032,1038,1044,1056,1062,1068,1074,1086,1092,1098,1104,1116,1122,1128,1134,1146,1152,1158,1164,1176,1182,1188,1194,1206,1212,1218,1224,1236,1242,1248,1254,1266,1272,1278,1284,1296,1302,1308,1314,1326,1332,1338,1344,1356,1362,1368,1374,1386,1392,1398,1404,1416,1422,1428,1434,1446,1452,1458,1464,1476,1482,1488,1494,1506,1512,1518,1524,1536,1542,1548,1554,1566,1572,1578,1584,1596,1602,1608,1614,1626,1632,1638,1644,1656,1662,1668,1674,1686,1692,1698,1704,1716,1722,1728,1734,1746,1752,1758,1764,1776,1782,1788,1794,1806,1812,1818,1824,1836,1842,1848,1854,1866,1872,1878,1884,1896,1902,1908,1914,1926,1932,1938,1944,1956,1962,1968,1974,1986,1992,1998,"
     ]
    }
   ],
   "source": [
    "# Your Solution Here:  \n",
    "for i in range(1000,2001):\n",
    "    if i % 6 == 0:\n",
    "        if i % 5 != 0:\n",
    "            print(i,end=',')"
   ]
  },
  {
   "cell_type": "markdown",
   "metadata": {},
   "source": [
    "#### Q5. \n",
    "\n",
    "Write a program that accepts a sequence of whitespace separated words as input and prints the words after removing all duplicate words and sorting them alphanumerically.\n",
    "\n",
    "Example input:\n",
    "    \n",
    "Do not go where the path may lead, go instead where there is no path and leave a trail.\n",
    "\n",
    "Example output:\n",
    "\n",
    "Do a and go instead is lead, leave may no not path the there trail. where"
   ]
  },
  {
   "cell_type": "code",
   "execution_count": 11,
   "metadata": {},
   "outputs": [
    {
     "name": "stdout",
     "output_type": "stream",
     "text": [
      "content:Do not go where the path may lead, go instead where there is no path and leave a trail.\n"
     ]
    },
    {
     "data": {
      "text/plain": [
       "'Do a and go instead is lead, leave may no not path the there trail. where'"
      ]
     },
     "execution_count": 11,
     "metadata": {},
     "output_type": "execute_result"
    }
   ],
   "source": [
    "# Your Solution Here: \n",
    "from collections import OrderedDict\n",
    "str1 = str(input('content:')).split(' ')\n",
    "str2 = list(OrderedDict.fromkeys(str1))\n",
    "str2.sort(reverse=False)\n",
    "str3 = ' '.join(str2)\n",
    "str3\n"
   ]
  },
  {
   "cell_type": "markdown",
   "metadata": {},
   "source": [
    "#### Q6.\n",
    "Given a string, return the sum and average of the digits that appear in the string, ignoring all other characters.\n",
    "\n",
    "Given:\n",
    "\n",
    "str1 = \"Data Analytics = 95 Economics = 85 Marketing = 90\"\n",
    "\n",
    "Expected Outcome:\n",
    "\n",
    "Sum: 270\n",
    "\n",
    "Average: 90"
   ]
  },
  {
   "cell_type": "code",
   "execution_count": 20,
   "metadata": {},
   "outputs": [
    {
     "name": "stdout",
     "output_type": "stream",
     "text": [
      "Sum: 270 \n",
      "Average: 90\n"
     ]
    }
   ],
   "source": [
    "import re\n",
    "str1 = \"Data Analytics = 95 Economics = 85 Marketing = 90\"\n",
    "number = re.findall(r'\\d+\\.?\\d*', str1)\n",
    "count = 0\n",
    "for n in number:\n",
    "    count += int(n)\n",
    "mean = count / len(number)\n",
    "print('Sum:',count,'\\n'\n",
    "      'Average:',int(mean))"
   ]
  },
  {
   "cell_type": "markdown",
   "metadata": {},
   "source": [
    "#### Q7. \n",
    "Turn the following dictionaries into data frames then combine them into a 2x4 (two rows, 4 columns) such that the column names are the animal names.\n",
    "\n",
    "dict_1 = {\"Cows\":[40, 20], \"Sheep\":[22, 21]}\n",
    "\n",
    "dict_2 = {\"Pig\":[12, 4], \"Crow\":[60, 10]}"
   ]
  },
  {
   "cell_type": "code",
   "execution_count": 24,
   "metadata": {},
   "outputs": [
    {
     "data": {
      "text/html": [
       "<div>\n",
       "<style scoped>\n",
       "    .dataframe tbody tr th:only-of-type {\n",
       "        vertical-align: middle;\n",
       "    }\n",
       "\n",
       "    .dataframe tbody tr th {\n",
       "        vertical-align: top;\n",
       "    }\n",
       "\n",
       "    .dataframe thead th {\n",
       "        text-align: right;\n",
       "    }\n",
       "</style>\n",
       "<table border=\"1\" class=\"dataframe\">\n",
       "  <thead>\n",
       "    <tr style=\"text-align: right;\">\n",
       "      <th></th>\n",
       "      <th>奶牛</th>\n",
       "      <th>羊</th>\n",
       "      <th>猪</th>\n",
       "      <th>乌鸦</th>\n",
       "    </tr>\n",
       "  </thead>\n",
       "  <tbody>\n",
       "    <tr>\n",
       "      <td>0</td>\n",
       "      <td>40</td>\n",
       "      <td>22</td>\n",
       "      <td>12</td>\n",
       "      <td>60</td>\n",
       "    </tr>\n",
       "    <tr>\n",
       "      <td>1</td>\n",
       "      <td>20</td>\n",
       "      <td>21</td>\n",
       "      <td>4</td>\n",
       "      <td>10</td>\n",
       "    </tr>\n",
       "  </tbody>\n",
       "</table>\n",
       "</div>"
      ],
      "text/plain": [
       "   奶牛   羊   猪  乌鸦\n",
       "0  40  22  12  60\n",
       "1  20  21   4  10"
      ]
     },
     "execution_count": 24,
     "metadata": {},
     "output_type": "execute_result"
    }
   ],
   "source": [
    "import pandas as pd\n",
    "dict_1 = {\"奶牛\":[40, 20], \"羊\":[22, 21]}\n",
    "dict_2 = {\"猪\":[12, 4], \"乌鸦\":[60, 10]}\n",
    "dict_1.update(dict_2)\n",
    "df = pd.DataFrame(dict_1)\n",
    "df\n"
   ]
  },
  {
   "cell_type": "markdown",
   "metadata": {},
   "source": [
    "#### Q8. \n",
    "Reverse words in the string \"one apple a day keeps the doctors away\" and print the new string"
   ]
  },
  {
   "cell_type": "code",
   "execution_count": 26,
   "metadata": {},
   "outputs": [
    {
     "data": {
      "text/plain": [
       "'away doctors the keeps day a apple one'"
      ]
     },
     "execution_count": 26,
     "metadata": {},
     "output_type": "execute_result"
    }
   ],
   "source": [
    "str1 = 'one apple a day keeps the doctors away'\n",
    "str1 = str1.split(' ')\n",
    "list_page = []\n",
    "for i in str1[::-1]:\n",
    "    list_page.append(i)\n",
    "answer = ' '.join(list_page)\n",
    "answer"
   ]
  },
  {
   "cell_type": "markdown",
   "metadata": {},
   "source": [
    "### Part II. Iterating Loops (20 pts)\n",
    "\n",
    "Write a program that takes in 3 comma separated integers (ex. 500, 4, 14) and puts them into a list for use. Each number will be used for the range() function as the incrementing factor for a starting point of 0 to a stopping point of 2000. The range() function is in the form of range(start, stop, step), where step is the incrementing factor. Print out a list containing tuples that have the each input and total iterations like this:\n",
    "\n",
    "[(, ), (, ), (, )]\n",
    "\n",
    "Please use list comprehension only instead of for loops for this problem.\n",
    "\n",
    "For example:\n",
    "\n",
    "Input: 2, 16, 228\n",
    "\n",
    "You will be using each of these numbers as the step in the range function. The range will begin at 0 and end at 2000. For step = 2, the total number of iterations is 1000. For step = 16, the total number of iterations is 125. For step = 228, the total number of iterations is 9.\n",
    "\n",
    "Now the question states you to save each input and its total number of iterations within a tuple that is within a list.\n",
    "\n",
    "Thus your final answer is [(2, 1000), (16, 125), (228, 9)]\n",
    "\n",
    "Example Input:\n",
    "14, 3, 4000\n",
    "\n",
    "Example Output:\n",
    "[(14, 143), (3, 667), (4000, 1)]"
   ]
  },
  {
   "cell_type": "code",
   "execution_count": 48,
   "metadata": {},
   "outputs": [
    {
     "name": "stdout",
     "output_type": "stream",
     "text": [
      "Input:14,3,4000\n"
     ]
    },
    {
     "data": {
      "text/plain": [
       "[(14, 143), (3, 667), (4000, 1)]"
      ]
     },
     "execution_count": 48,
     "metadata": {},
     "output_type": "execute_result"
    }
   ],
   "source": [
    "# Your Solution Here: \n",
    "Input = str(input('Input:'))\n",
    "Input = Input.split(',')\n",
    "list_page = []\n",
    "number1 = 0\n",
    "number2 = 0\n",
    "number3 = 0\n",
    "for i in range(0,2000,int(Input[0])):\n",
    "    number1 +=1\n",
    "list_page.append((int(Input[0]),number1))\n",
    "\n",
    "for i in range(0,2000,int(Input[1])):\n",
    "    number2 +=1\n",
    "list_page.append((int(Input[1]),number2))\n",
    "\n",
    "for i in range(0,2000,int(Input[2])):\n",
    "    number3 +=1\n",
    "list_page.append((int(Input[2]),number3))\n",
    "\n",
    "list_page"
   ]
  },
  {
   "cell_type": "markdown",
   "metadata": {},
   "source": [
    "### Part III. Login Information (30 pts)\n",
    "\n",
    "Your boss wants you to create a program that can take a user's email from their biography, create a password for the user, and save it into a dictionary for later use. The email will be in the form alphabetic@uci.edu (no numbers, all lowercase). The username is the characters before the domain name (ie. johnsmith in the email johnsmith@uci.edu). To create the password, you need to alter the username with ROT13. \n",
    "\n",
    "ROT13 (rotate by 13 places) is a simple substitution cipher that replaces a letter with the 13th letter after it in the alphabet. For example, \"j\" is the 10th letter in the alphabet. Altering \"j\" with ROT13 will get the 23rd (10 + 13 = 23) letter of the alphabet, \"w\". Likewise, if you altered \"w\" with ROT13, you will get the 10th (23 + 13 = 46 - 26 = 10) letter of the alphabet, \"j\". Thus in our example with johnsmith@uci.edu, the password will be \"wbuafzvgu\". Save both the username and password in a dictionary.\n",
    "\n",
    "Input:\n",
    "\n",
    "The input will be several sentences on a single line containing exactly one email within the biography with the form: alphabetic@uci.edu.\n",
    "\n",
    "Output:\n",
    "\n",
    "Print your dictionary which contains \"username\":<username> and \"password\":<password>"
   ]
  },
  {
   "cell_type": "code",
   "execution_count": null,
   "metadata": {},
   "outputs": [],
   "source": [
    "#Example Input: \n",
    "str_input = \"Tingting Nian, Assistant Professor at The Paul Merage School of Business at University of California, Irvine, studies social media, online communities and economics of digital goods. Her prior research has won the 2014 INFORMS Conference on Information Systems and Technology Best Conference Paper Award and a WCAI Research Award from Wharton Customer Analytics Initiative. Her email is tnian@uci.edu. She received her PhD in Business Administration (specialized in Information Systems) from Leonard N. Stern School of Business at NYU in 2015 and holds a Bachelor’s degree in Business Administration from Tsinghua University.\""
   ]
  },
  {
   "cell_type": "code",
   "execution_count": null,
   "metadata": {},
   "outputs": [],
   "source": [
    "#Example Output:\n",
    "{'username':'tnian', 'password':'gavna'}"
   ]
  },
  {
   "cell_type": "code",
   "execution_count": 54,
   "metadata": {},
   "outputs": [
    {
     "data": {
      "text/plain": [
       "{'username': 'tnian', 'password': 'gavna'}"
      ]
     },
     "execution_count": 54,
     "metadata": {},
     "output_type": "execute_result"
    }
   ],
   "source": [
    "#Solution Here:\n",
    "import re\n",
    "str_input = \"Tingting Nian, Assistant Professor at The Paul Merage School of Business at University of California, Irvine, studies social media, online communities and economics of digital goods. Her prior research has won the 2014 INFORMS Conference on Information Systems and Technology Best Conference Paper Award and a WCAI Research Award from Wharton Customer Analytics Initiative. Her email is tnian@uci.edu. She received her PhD in Business Administration (specialized in Information Systems) from Leonard N. Stern School of Business at NYU in 2015 and holds a Bachelor’s degree in Business Administration from Tsinghua University.\"\n",
    "mailbox = re.findall(r'([a-zA-Z0-9_.+-]+@[a-pr-zA-PRZ0-9-]+\\.[a-zA-Z0-9-.]+)', str_input)\n",
    "mailbox = str(mailbox[0]).split('@')\n",
    "word = \"abcdefghijklmnopqrstuvwxyz\"\n",
    "password = \"\".join([word[(word.find(c)+13)%26] for c in mailbox[0]])\n",
    "output = {\n",
    "    \"username\":mailbox[0],\n",
    "    \"password\":password\n",
    "}\n",
    "output"
   ]
  },
  {
   "cell_type": "markdown",
   "metadata": {},
   "source": [
    "### Part IV. Data Analysis (40 pts)\n",
    "\n",
    "Please generate some analyses and visualization using the crunchbase dataset you downloaded from Canvas. Feel free to use any packages (in Python), and generate any types of figures. You may also comment on the generated results and figures, and explain any insights you have obtained.\n"
   ]
  },
  {
   "cell_type": "code",
   "execution_count": 59,
   "metadata": {},
   "outputs": [],
   "source": [
    "import pandas as pd\n",
    "import numpy as np\n",
    "\n",
    "import datetime\n",
    "import matplotlib\n",
    "\n",
    "%matplotlib inline"
   ]
  },
  {
   "cell_type": "code",
   "execution_count": 60,
   "metadata": {},
   "outputs": [
    {
     "name": "stderr",
     "output_type": "stream",
     "text": [
      "D:\\rgzn\\lib\\site-packages\\IPython\\core\\interactiveshell.py:3058: DtypeWarning: Columns (9) have mixed types. Specify dtype option on import or set low_memory=False.\n",
      "  interactivity=interactivity, compiler=compiler, result=result)\n"
     ]
    }
   ],
   "source": [
    "df_acquisitions = pd.read_csv(\"crunchbase_acquisitions.csv\")\n",
    "df_companies = pd.read_csv(\"crunchbase_companies.csv\")\n",
    "df_investments = pd.read_csv(\"crunchbase_investments.csv\")"
   ]
  },
  {
   "cell_type": "markdown",
   "metadata": {},
   "source": [
    "Check the presence of missing values for the further analysis"
   ]
  },
  {
   "cell_type": "code",
   "execution_count": 61,
   "metadata": {},
   "outputs": [
    {
     "data": {
      "text/plain": [
       "permalink                0\n",
       "name                     0\n",
       "homepage_url          1387\n",
       "category_code         1029\n",
       "funding_total_usd     3317\n",
       "status                   0\n",
       "country_code          1823\n",
       "state_code           10455\n",
       "region                   0\n",
       "city                  2622\n",
       "funding_rounds           0\n",
       "founded_at            5886\n",
       "founded_at_clean      5886\n",
       "id                       0\n",
       "dtype: int64"
      ]
     },
     "execution_count": 61,
     "metadata": {},
     "output_type": "execute_result"
    }
   ],
   "source": [
    "df_companies.isnull().sum()"
   ]
  },
  {
   "cell_type": "code",
   "execution_count": 62,
   "metadata": {},
   "outputs": [
    {
     "data": {
      "text/plain": [
       "company_permalink            0\n",
       "acquirer_permalink           0\n",
       "acquirer_name                0\n",
       "acquirer_category_code     915\n",
       "acquirer_country_code      522\n",
       "acquirer_state_code       1939\n",
       "acquirer_region              0\n",
       "acquirer_city              731\n",
       "price_amount              5372\n",
       "price_currency_code          4\n",
       "acquired_at                  0\n",
       "acquired_at_cleaned          0\n",
       "id                           0\n",
       "dtype: int64"
      ]
     },
     "execution_count": 62,
     "metadata": {},
     "output_type": "execute_result"
    }
   ],
   "source": [
    "df_acquisitions.isnull().sum()"
   ]
  },
  {
   "cell_type": "code",
   "execution_count": 63,
   "metadata": {},
   "outputs": [
    {
     "data": {
      "text/plain": [
       "company_permalink             0\n",
       "company_name                  0\n",
       "company_category_code      1609\n",
       "company_country_code       3048\n",
       "company_state_code        24677\n",
       "company_region                0\n",
       "company_city               4919\n",
       "investor_permalink            0\n",
       "investor_name                 0\n",
       "investor_category_code    79428\n",
       "investor_country_code     19989\n",
       "investor_state_code       38390\n",
       "investor_region               0\n",
       "investor_city             21240\n",
       "funding_round_type            1\n",
       "funded_at                     1\n",
       "funded_month                  1\n",
       "funded_quarter                1\n",
       "funded_year                   1\n",
       "raised_amount_usd          8118\n",
       "id                            0\n",
       "dtype: int64"
      ]
     },
     "execution_count": 63,
     "metadata": {},
     "output_type": "execute_result"
    }
   ],
   "source": [
    "df_investments.isnull().sum()"
   ]
  },
  {
   "cell_type": "markdown",
   "metadata": {},
   "source": [
    "#### Rank the total funding amount by category\n",
    "- Goal: identify top 3 startup categories for further analysis\n",
    "- What insights can you generate from this analysis?\n",
    "- Hints: when you join these tables together, you may use investor_permalink, company_permalink."
   ]
  },
  {
   "cell_type": "code",
   "execution_count": 68,
   "metadata": {},
   "outputs": [
    {
     "name": "stderr",
     "output_type": "stream",
     "text": [
      "D:\\rgzn\\lib\\site-packages\\ipykernel_launcher.py:1: FutureWarning: Sorting because non-concatenation axis is not aligned. A future version\n",
      "of pandas will change to not sort by default.\n",
      "\n",
      "To accept the future behavior, pass 'sort=False'.\n",
      "\n",
      "To retain the current behavior and silence the warning, pass 'sort=True'.\n",
      "\n",
      "  \"\"\"Entry point for launching an IPython kernel.\n"
     ]
    },
    {
     "data": {
      "text/html": [
       "<div>\n",
       "<style scoped>\n",
       "    .dataframe tbody tr th:only-of-type {\n",
       "        vertical-align: middle;\n",
       "    }\n",
       "\n",
       "    .dataframe tbody tr th {\n",
       "        vertical-align: top;\n",
       "    }\n",
       "\n",
       "    .dataframe thead th {\n",
       "        text-align: right;\n",
       "    }\n",
       "</style>\n",
       "<table border=\"1\" class=\"dataframe\">\n",
       "  <thead>\n",
       "    <tr style=\"text-align: right;\">\n",
       "      <th></th>\n",
       "      <th>raised_amount_usd</th>\n",
       "    </tr>\n",
       "    <tr>\n",
       "      <th>company_category_code</th>\n",
       "      <th></th>\n",
       "    </tr>\n",
       "  </thead>\n",
       "  <tbody>\n",
       "    <tr>\n",
       "      <td>biotech</td>\n",
       "      <td>1.499313e+11</td>\n",
       "    </tr>\n",
       "    <tr>\n",
       "      <td>software</td>\n",
       "      <td>9.824571e+10</td>\n",
       "    </tr>\n",
       "    <tr>\n",
       "      <td>mobile</td>\n",
       "      <td>8.189185e+10</td>\n",
       "    </tr>\n",
       "    <tr>\n",
       "      <td>cleantech</td>\n",
       "      <td>7.105174e+10</td>\n",
       "    </tr>\n",
       "    <tr>\n",
       "      <td>enterprise</td>\n",
       "      <td>5.809166e+10</td>\n",
       "    </tr>\n",
       "    <tr>\n",
       "      <td>ecommerce</td>\n",
       "      <td>4.678892e+10</td>\n",
       "    </tr>\n",
       "    <tr>\n",
       "      <td>web</td>\n",
       "      <td>4.070227e+10</td>\n",
       "    </tr>\n",
       "    <tr>\n",
       "      <td>medical</td>\n",
       "      <td>3.964539e+10</td>\n",
       "    </tr>\n",
       "    <tr>\n",
       "      <td>network_hosting</td>\n",
       "      <td>3.323099e+10</td>\n",
       "    </tr>\n",
       "    <tr>\n",
       "      <td>semiconductor</td>\n",
       "      <td>3.318835e+10</td>\n",
       "    </tr>\n",
       "    <tr>\n",
       "      <td>advertising</td>\n",
       "      <td>3.261763e+10</td>\n",
       "    </tr>\n",
       "    <tr>\n",
       "      <td>games_video</td>\n",
       "      <td>3.222537e+10</td>\n",
       "    </tr>\n",
       "    <tr>\n",
       "      <td>hardware</td>\n",
       "      <td>3.151184e+10</td>\n",
       "    </tr>\n",
       "    <tr>\n",
       "      <td>finance</td>\n",
       "      <td>2.193378e+10</td>\n",
       "    </tr>\n",
       "    <tr>\n",
       "      <td>security</td>\n",
       "      <td>1.932286e+10</td>\n",
       "    </tr>\n",
       "    <tr>\n",
       "      <td>analytics</td>\n",
       "      <td>1.889498e+10</td>\n",
       "    </tr>\n",
       "    <tr>\n",
       "      <td>social</td>\n",
       "      <td>1.838108e+10</td>\n",
       "    </tr>\n",
       "    <tr>\n",
       "      <td>health</td>\n",
       "      <td>1.129023e+10</td>\n",
       "    </tr>\n",
       "    <tr>\n",
       "      <td>other</td>\n",
       "      <td>1.051161e+10</td>\n",
       "    </tr>\n",
       "    <tr>\n",
       "      <td>nanotech</td>\n",
       "      <td>1.005818e+10</td>\n",
       "    </tr>\n",
       "    <tr>\n",
       "      <td>news</td>\n",
       "      <td>9.147640e+09</td>\n",
       "    </tr>\n",
       "    <tr>\n",
       "      <td>manufacturing</td>\n",
       "      <td>8.585002e+09</td>\n",
       "    </tr>\n",
       "    <tr>\n",
       "      <td>education</td>\n",
       "      <td>8.407396e+09</td>\n",
       "    </tr>\n",
       "    <tr>\n",
       "      <td>fashion</td>\n",
       "      <td>7.990187e+09</td>\n",
       "    </tr>\n",
       "    <tr>\n",
       "      <td>search</td>\n",
       "      <td>7.485291e+09</td>\n",
       "    </tr>\n",
       "    <tr>\n",
       "      <td>travel</td>\n",
       "      <td>6.902201e+09</td>\n",
       "    </tr>\n",
       "    <tr>\n",
       "      <td>hospitality</td>\n",
       "      <td>6.344144e+09</td>\n",
       "    </tr>\n",
       "    <tr>\n",
       "      <td>automotive</td>\n",
       "      <td>6.308166e+09</td>\n",
       "    </tr>\n",
       "    <tr>\n",
       "      <td>messaging</td>\n",
       "      <td>6.057276e+09</td>\n",
       "    </tr>\n",
       "    <tr>\n",
       "      <td>transportation</td>\n",
       "      <td>5.494016e+09</td>\n",
       "    </tr>\n",
       "    <tr>\n",
       "      <td>music</td>\n",
       "      <td>4.842640e+09</td>\n",
       "    </tr>\n",
       "    <tr>\n",
       "      <td>consulting</td>\n",
       "      <td>4.099006e+09</td>\n",
       "    </tr>\n",
       "    <tr>\n",
       "      <td>public_relations</td>\n",
       "      <td>3.149992e+09</td>\n",
       "    </tr>\n",
       "    <tr>\n",
       "      <td>real_estate</td>\n",
       "      <td>2.774545e+09</td>\n",
       "    </tr>\n",
       "    <tr>\n",
       "      <td>photo_video</td>\n",
       "      <td>2.682226e+09</td>\n",
       "    </tr>\n",
       "    <tr>\n",
       "      <td>legal</td>\n",
       "      <td>8.333613e+08</td>\n",
       "    </tr>\n",
       "    <tr>\n",
       "      <td>sports</td>\n",
       "      <td>8.000846e+08</td>\n",
       "    </tr>\n",
       "    <tr>\n",
       "      <td>nonprofit</td>\n",
       "      <td>7.563729e+08</td>\n",
       "    </tr>\n",
       "    <tr>\n",
       "      <td>design</td>\n",
       "      <td>6.437495e+08</td>\n",
       "    </tr>\n",
       "    <tr>\n",
       "      <td>local</td>\n",
       "      <td>5.025450e+08</td>\n",
       "    </tr>\n",
       "    <tr>\n",
       "      <td>pets</td>\n",
       "      <td>2.679417e+08</td>\n",
       "    </tr>\n",
       "    <tr>\n",
       "      <td>public_relation</td>\n",
       "      <td>6.000000e+07</td>\n",
       "    </tr>\n",
       "    <tr>\n",
       "      <td>government</td>\n",
       "      <td>1.301350e+07</td>\n",
       "    </tr>\n",
       "  </tbody>\n",
       "</table>\n",
       "</div>"
      ],
      "text/plain": [
       "                       raised_amount_usd\n",
       "company_category_code                   \n",
       "biotech                     1.499313e+11\n",
       "software                    9.824571e+10\n",
       "mobile                      8.189185e+10\n",
       "cleantech                   7.105174e+10\n",
       "enterprise                  5.809166e+10\n",
       "ecommerce                   4.678892e+10\n",
       "web                         4.070227e+10\n",
       "medical                     3.964539e+10\n",
       "network_hosting             3.323099e+10\n",
       "semiconductor               3.318835e+10\n",
       "advertising                 3.261763e+10\n",
       "games_video                 3.222537e+10\n",
       "hardware                    3.151184e+10\n",
       "finance                     2.193378e+10\n",
       "security                    1.932286e+10\n",
       "analytics                   1.889498e+10\n",
       "social                      1.838108e+10\n",
       "health                      1.129023e+10\n",
       "other                       1.051161e+10\n",
       "nanotech                    1.005818e+10\n",
       "news                        9.147640e+09\n",
       "manufacturing               8.585002e+09\n",
       "education                   8.407396e+09\n",
       "fashion                     7.990187e+09\n",
       "search                      7.485291e+09\n",
       "travel                      6.902201e+09\n",
       "hospitality                 6.344144e+09\n",
       "automotive                  6.308166e+09\n",
       "messaging                   6.057276e+09\n",
       "transportation              5.494016e+09\n",
       "music                       4.842640e+09\n",
       "consulting                  4.099006e+09\n",
       "public_relations            3.149992e+09\n",
       "real_estate                 2.774545e+09\n",
       "photo_video                 2.682226e+09\n",
       "legal                       8.333613e+08\n",
       "sports                      8.000846e+08\n",
       "nonprofit                   7.563729e+08\n",
       "design                      6.437495e+08\n",
       "local                       5.025450e+08\n",
       "pets                        2.679417e+08\n",
       "public_relation             6.000000e+07\n",
       "government                  1.301350e+07"
      ]
     },
     "execution_count": 68,
     "metadata": {},
     "output_type": "execute_result"
    }
   ],
   "source": [
    "df_merge = pd.concat([df_acquisitions,df_investments],names=['company_permalink','investor_permalink'])\n",
    "df_merge2 = df_merge.groupby(['company_category_code']).agg({'raised_amount_usd':np.sum})\n",
    "df_merge2.sort_values(by=['raised_amount_usd'], ascending=False, inplace=True)\n",
    "df_merge2"
   ]
  },
  {
   "cell_type": "markdown",
   "metadata": {},
   "source": [
    "#前 3 名初创企业类别有两个是互联网行业，说明目前的创业企业以互联网为主"
   ]
  },
  {
   "cell_type": "markdown",
   "metadata": {},
   "source": [
    "#### Identify top-10 investors in biotech, software, and cleantech\n",
    "- Goal: identify top-10 investors in the most funded startup categories\n",
    "- What insights can you generate from this analysis?\n"
   ]
  },
  {
   "cell_type": "code",
   "execution_count": 70,
   "metadata": {},
   "outputs": [
    {
     "data": {
      "text/html": [
       "<div>\n",
       "<style scoped>\n",
       "    .dataframe tbody tr th:only-of-type {\n",
       "        vertical-align: middle;\n",
       "    }\n",
       "\n",
       "    .dataframe tbody tr th {\n",
       "        vertical-align: top;\n",
       "    }\n",
       "\n",
       "    .dataframe thead th {\n",
       "        text-align: right;\n",
       "    }\n",
       "</style>\n",
       "<table border=\"1\" class=\"dataframe\">\n",
       "  <thead>\n",
       "    <tr style=\"text-align: right;\">\n",
       "      <th></th>\n",
       "      <th>raised_amount_usd</th>\n",
       "    </tr>\n",
       "    <tr>\n",
       "      <th>investor_name</th>\n",
       "      <th></th>\n",
       "    </tr>\n",
       "  </thead>\n",
       "  <tbody>\n",
       "    <tr>\n",
       "      <td>Domain Associates</td>\n",
       "      <td>2.102700e+09</td>\n",
       "    </tr>\n",
       "    <tr>\n",
       "      <td>OrbiMed Advisors</td>\n",
       "      <td>2.040882e+09</td>\n",
       "    </tr>\n",
       "    <tr>\n",
       "      <td>New Enterprise Associates</td>\n",
       "      <td>1.945719e+09</td>\n",
       "    </tr>\n",
       "    <tr>\n",
       "      <td>Alta Partners</td>\n",
       "      <td>1.902814e+09</td>\n",
       "    </tr>\n",
       "    <tr>\n",
       "      <td>Novartis Venture Fund</td>\n",
       "      <td>1.821513e+09</td>\n",
       "    </tr>\n",
       "    <tr>\n",
       "      <td>Kleiner Perkins Caufield &amp; Byers</td>\n",
       "      <td>1.719571e+09</td>\n",
       "    </tr>\n",
       "    <tr>\n",
       "      <td>MPM Capital</td>\n",
       "      <td>1.684020e+09</td>\n",
       "    </tr>\n",
       "    <tr>\n",
       "      <td>Novo A/S</td>\n",
       "      <td>1.531846e+09</td>\n",
       "    </tr>\n",
       "    <tr>\n",
       "      <td>Johnson &amp; Johnson Development Corporation</td>\n",
       "      <td>1.426707e+09</td>\n",
       "    </tr>\n",
       "    <tr>\n",
       "      <td>New Leaf Venture Partners</td>\n",
       "      <td>1.369168e+09</td>\n",
       "    </tr>\n",
       "  </tbody>\n",
       "</table>\n",
       "</div>"
      ],
      "text/plain": [
       "                                           raised_amount_usd\n",
       "investor_name                                               \n",
       "Domain Associates                               2.102700e+09\n",
       "OrbiMed Advisors                                2.040882e+09\n",
       "New Enterprise Associates                       1.945719e+09\n",
       "Alta Partners                                   1.902814e+09\n",
       "Novartis Venture Fund                           1.821513e+09\n",
       "Kleiner Perkins Caufield & Byers                1.719571e+09\n",
       "MPM Capital                                     1.684020e+09\n",
       "Novo A/S                                        1.531846e+09\n",
       "Johnson & Johnson Development Corporation       1.426707e+09\n",
       "New Leaf Venture Partners                       1.369168e+09"
      ]
     },
     "execution_count": 70,
     "metadata": {},
     "output_type": "execute_result"
    }
   ],
   "source": [
    "biotech = df_merge[df_merge.company_category_code == 'biotech']\n",
    "biotech = biotech.groupby(['investor_name']).agg({'raised_amount_usd':np.sum})\n",
    "biotech.sort_values(by=['raised_amount_usd'], ascending=False, inplace=True)\n",
    "biotech.head(10)"
   ]
  },
  {
   "cell_type": "code",
   "execution_count": 71,
   "metadata": {},
   "outputs": [
    {
     "data": {
      "text/html": [
       "<div>\n",
       "<style scoped>\n",
       "    .dataframe tbody tr th:only-of-type {\n",
       "        vertical-align: middle;\n",
       "    }\n",
       "\n",
       "    .dataframe tbody tr th {\n",
       "        vertical-align: top;\n",
       "    }\n",
       "\n",
       "    .dataframe thead th {\n",
       "        text-align: right;\n",
       "    }\n",
       "</style>\n",
       "<table border=\"1\" class=\"dataframe\">\n",
       "  <thead>\n",
       "    <tr style=\"text-align: right;\">\n",
       "      <th></th>\n",
       "      <th>raised_amount_usd</th>\n",
       "    </tr>\n",
       "    <tr>\n",
       "      <th>investor_name</th>\n",
       "      <th></th>\n",
       "    </tr>\n",
       "  </thead>\n",
       "  <tbody>\n",
       "    <tr>\n",
       "      <td>Intel Capital</td>\n",
       "      <td>1.484950e+09</td>\n",
       "    </tr>\n",
       "    <tr>\n",
       "      <td>Accel Partners</td>\n",
       "      <td>1.480740e+09</td>\n",
       "    </tr>\n",
       "    <tr>\n",
       "      <td>Benchmark</td>\n",
       "      <td>1.427204e+09</td>\n",
       "    </tr>\n",
       "    <tr>\n",
       "      <td>Sequoia Capital</td>\n",
       "      <td>1.272350e+09</td>\n",
       "    </tr>\n",
       "    <tr>\n",
       "      <td>New Enterprise Associates</td>\n",
       "      <td>1.123070e+09</td>\n",
       "    </tr>\n",
       "    <tr>\n",
       "      <td>Goldman Sachs</td>\n",
       "      <td>1.107100e+09</td>\n",
       "    </tr>\n",
       "    <tr>\n",
       "      <td>Insight Venture Partners</td>\n",
       "      <td>1.089058e+09</td>\n",
       "    </tr>\n",
       "    <tr>\n",
       "      <td>Greylock Partners</td>\n",
       "      <td>9.507000e+08</td>\n",
       "    </tr>\n",
       "    <tr>\n",
       "      <td>Index Ventures</td>\n",
       "      <td>8.107937e+08</td>\n",
       "    </tr>\n",
       "    <tr>\n",
       "      <td>Redpoint Ventures</td>\n",
       "      <td>7.829800e+08</td>\n",
       "    </tr>\n",
       "  </tbody>\n",
       "</table>\n",
       "</div>"
      ],
      "text/plain": [
       "                           raised_amount_usd\n",
       "investor_name                               \n",
       "Intel Capital                   1.484950e+09\n",
       "Accel Partners                  1.480740e+09\n",
       "Benchmark                       1.427204e+09\n",
       "Sequoia Capital                 1.272350e+09\n",
       "New Enterprise Associates       1.123070e+09\n",
       "Goldman Sachs                   1.107100e+09\n",
       "Insight Venture Partners        1.089058e+09\n",
       "Greylock Partners               9.507000e+08\n",
       "Index Ventures                  8.107937e+08\n",
       "Redpoint Ventures               7.829800e+08"
      ]
     },
     "execution_count": 71,
     "metadata": {},
     "output_type": "execute_result"
    }
   ],
   "source": [
    "software = df_merge[df_merge.company_category_code == 'software']\n",
    "software = software.groupby(['investor_name']).agg({'raised_amount_usd':np.sum})\n",
    "software.sort_values(by=['raised_amount_usd'], ascending=False, inplace=True)\n",
    "software.head(10)"
   ]
  },
  {
   "cell_type": "code",
   "execution_count": 72,
   "metadata": {},
   "outputs": [
    {
     "data": {
      "text/html": [
       "<div>\n",
       "<style scoped>\n",
       "    .dataframe tbody tr th:only-of-type {\n",
       "        vertical-align: middle;\n",
       "    }\n",
       "\n",
       "    .dataframe tbody tr th {\n",
       "        vertical-align: top;\n",
       "    }\n",
       "\n",
       "    .dataframe thead th {\n",
       "        text-align: right;\n",
       "    }\n",
       "</style>\n",
       "<table border=\"1\" class=\"dataframe\">\n",
       "  <thead>\n",
       "    <tr style=\"text-align: right;\">\n",
       "      <th></th>\n",
       "      <th>raised_amount_usd</th>\n",
       "    </tr>\n",
       "    <tr>\n",
       "      <th>investor_name</th>\n",
       "      <th></th>\n",
       "    </tr>\n",
       "  </thead>\n",
       "  <tbody>\n",
       "    <tr>\n",
       "      <td>Kleiner Perkins Caufield &amp; Byers</td>\n",
       "      <td>2.648060e+09</td>\n",
       "    </tr>\n",
       "    <tr>\n",
       "      <td>Khosla Ventures</td>\n",
       "      <td>1.870520e+09</td>\n",
       "    </tr>\n",
       "    <tr>\n",
       "      <td>VantagePoint Capital Partners</td>\n",
       "      <td>1.560467e+09</td>\n",
       "    </tr>\n",
       "    <tr>\n",
       "      <td>New Enterprise Associates</td>\n",
       "      <td>1.240183e+09</td>\n",
       "    </tr>\n",
       "    <tr>\n",
       "      <td>Draper Fisher Jurvetson (DFJ)</td>\n",
       "      <td>8.061753e+08</td>\n",
       "    </tr>\n",
       "    <tr>\n",
       "      <td>Morgan Stanley</td>\n",
       "      <td>7.736900e+08</td>\n",
       "    </tr>\n",
       "    <tr>\n",
       "      <td>Goldman Sachs</td>\n",
       "      <td>6.699000e+08</td>\n",
       "    </tr>\n",
       "    <tr>\n",
       "      <td>Denham Capital</td>\n",
       "      <td>6.500000e+08</td>\n",
       "    </tr>\n",
       "    <tr>\n",
       "      <td>Oak Investment Partners</td>\n",
       "      <td>6.451000e+08</td>\n",
       "    </tr>\n",
       "    <tr>\n",
       "      <td>NGEN Partners</td>\n",
       "      <td>6.382030e+08</td>\n",
       "    </tr>\n",
       "  </tbody>\n",
       "</table>\n",
       "</div>"
      ],
      "text/plain": [
       "                                  raised_amount_usd\n",
       "investor_name                                      \n",
       "Kleiner Perkins Caufield & Byers       2.648060e+09\n",
       "Khosla Ventures                        1.870520e+09\n",
       "VantagePoint Capital Partners          1.560467e+09\n",
       "New Enterprise Associates              1.240183e+09\n",
       "Draper Fisher Jurvetson (DFJ)          8.061753e+08\n",
       "Morgan Stanley                         7.736900e+08\n",
       "Goldman Sachs                          6.699000e+08\n",
       "Denham Capital                         6.500000e+08\n",
       "Oak Investment Partners                6.451000e+08\n",
       "NGEN Partners                          6.382030e+08"
      ]
     },
     "execution_count": 72,
     "metadata": {},
     "output_type": "execute_result"
    }
   ],
   "source": [
    "cleantech = df_merge[df_merge.company_category_code == 'cleantech']\n",
    "cleantech = cleantech.groupby(['investor_name']).agg({'raised_amount_usd':np.sum})\n",
    "cleantech.sort_values(by=['raised_amount_usd'], ascending=False, inplace=True)\n",
    "cleantech.head(10)"
   ]
  },
  {
   "cell_type": "markdown",
   "metadata": {},
   "source": [
    "这3大类的初创企业前十的投资者都有New Enterprise Associates这家公司的身影，说明New Enterprise Associates投资范围广，资金量大"
   ]
  },
  {
   "cell_type": "markdown",
   "metadata": {},
   "source": [
    "#### Study the investment strategies of top-10 cleantech investors\n",
    "- Goal: generate insights on the investment strategies of top-5 cleantech investors (e.g. different investors may have different preferences for specific funding round such as series-a, series-b, series-c, venture funding, and etc.)"
   ]
  },
  {
   "cell_type": "code",
   "execution_count": 74,
   "metadata": {},
   "outputs": [
    {
     "data": {
      "text/plain": [
       "series-c+         153\n",
       "series-b          110\n",
       "series-a           95\n",
       "venture            95\n",
       "angel              14\n",
       "private-equity     10\n",
       "other               7\n",
       "Name: funding_round_type, dtype: int64"
      ]
     },
     "execution_count": 74,
     "metadata": {},
     "output_type": "execute_result"
    }
   ],
   "source": [
    "df1 = df_merge[df_merge.investor_name == 'Kleiner Perkins Caufield & Byers']\n",
    "df1['funding_round_type'].value_counts()"
   ]
  },
  {
   "cell_type": "code",
   "execution_count": 75,
   "metadata": {},
   "outputs": [
    {
     "data": {
      "text/plain": [
       "series-a          72\n",
       "series-b          71\n",
       "series-c+         56\n",
       "venture           35\n",
       "angel              8\n",
       "private-equity     3\n",
       "other              3\n",
       "Name: funding_round_type, dtype: int64"
      ]
     },
     "execution_count": 75,
     "metadata": {},
     "output_type": "execute_result"
    }
   ],
   "source": [
    "df2 = df_merge[df_merge.investor_name == 'Khosla Ventures']\n",
    "df2['funding_round_type'].value_counts()"
   ]
  },
  {
   "cell_type": "code",
   "execution_count": 76,
   "metadata": {},
   "outputs": [
    {
     "data": {
      "text/plain": [
       "series-c+         50\n",
       "series-b          25\n",
       "venture           24\n",
       "series-a          23\n",
       "private-equity     3\n",
       "other              1\n",
       "angel              1\n",
       "Name: funding_round_type, dtype: int64"
      ]
     },
     "execution_count": 76,
     "metadata": {},
     "output_type": "execute_result"
    }
   ],
   "source": [
    "df3 = df_merge[df_merge.investor_name == 'VantagePoint Capital Partners']\n",
    "df3['funding_round_type'].value_counts()"
   ]
  },
  {
   "cell_type": "code",
   "execution_count": 77,
   "metadata": {},
   "outputs": [
    {
     "data": {
      "text/plain": [
       "series-c+         161\n",
       "series-a          115\n",
       "series-b          114\n",
       "venture            92\n",
       "angel              18\n",
       "private-equity      7\n",
       "other               6\n",
       "Name: funding_round_type, dtype: int64"
      ]
     },
     "execution_count": 77,
     "metadata": {},
     "output_type": "execute_result"
    }
   ],
   "source": [
    "df4 = df_merge[df_merge.investor_name == 'New Enterprise Associates']\n",
    "df4['funding_round_type'].value_counts()"
   ]
  },
  {
   "cell_type": "code",
   "execution_count": 78,
   "metadata": {},
   "outputs": [
    {
     "data": {
      "text/plain": [
       "series-c+         129\n",
       "venture           116\n",
       "series-a          104\n",
       "series-b          102\n",
       "angel              15\n",
       "other               4\n",
       "private-equity      2\n",
       "Name: funding_round_type, dtype: int64"
      ]
     },
     "execution_count": 78,
     "metadata": {},
     "output_type": "execute_result"
    }
   ],
   "source": [
    "df5 = df_merge[df_merge.investor_name == 'Draper Fisher Jurvetson (DFJ)']\n",
    "df5['funding_round_type'].value_counts()"
   ]
  },
  {
   "cell_type": "markdown",
   "metadata": {},
   "source": [
    "#根据前 5 名清洁技术投资者的投资策略，我们不难发现他们大多数倾向于，他们普遍倾向于去融资a 轮、b 轮、c 轮、风险投资，这4个占绝大多数"
   ]
  },
  {
   "cell_type": "markdown",
   "metadata": {},
   "source": [
    "#### What other insights you may find from this dataset (open-ended question). Feel free to use any type of analysis in this part."
   ]
  },
  {
   "cell_type": "code",
   "execution_count": 84,
   "metadata": {},
   "outputs": [
    {
     "data": {
      "image/png": "[encoded data removed]",
      "text/plain": [
       "<Figure size 1080x648 with 1 Axes>"
      ]
     },
     "metadata": {},
     "output_type": "display_data"
    }
   ],
   "source": [
    "import matplotlib.pyplot as plt\n",
    "df = df_companies['city'].value_counts()\n",
    "x_data = [i for i in df.index][0:10]\n",
    "y_data = [int(j) for j in df.values][0:10]\n",
    "plt.figure(figsize=(15, 9))  # 调节图形大小\n",
    "labels = x_data  # 定义标签\n",
    "sizes = y_data  # 每块值\n",
    "explode = (0,0.1,0,0,0,0,0,0,0,0)  # 将某一块分割出来，值越大分割出的间隙越大\n",
    "patches, text1, text2 = plt.pie(sizes,\n",
    "                                    explode=explode,\n",
    "                                    labels=labels,\n",
    "                                    labeldistance=1.2,  # 图例距圆心半径倍距离\n",
    "                                    autopct='%3.2f%%',  # 数值保留固定小数位\n",
    "                                    shadow=False,  # 无阴影设置\n",
    "                                    startangle=90,  # 逆时针起始角度设置\n",
    "                                    pctdistance=0.6)  # 数值距圆心半径倍数距离\n",
    "# patches饼图的返回值，texts1饼图外label的文本，texts2饼图内部文本\n",
    "# x，y轴刻度设置一致，保证饼图为圆形\n",
    "plt.axis('equal')\n",
    "plt.legend()\n",
    "plt.show()"
   ]
  },
  {
   "cell_type": "markdown",
   "metadata": {},
   "source": [
    "经济越繁荣的地方，投资占的比例越大，它们之间的关系成正比"
   ]
  },
  {
   "cell_type": "code",
   "execution_count": null,
   "metadata": {},
   "outputs": [],
   "source": []
  }
 ],
 "metadata": {
  "kernelspec": {
   "display_name": "Python 3",
   "language": "python",
   "name": "python3"
  },
  "language_info": {
   "codemirror_mode": {
    "name": "ipython",
    "version": 3
   },
   "file_extension": ".py",
   "mimetype": "text/x-python",
   "name": "python",
   "nbconvert_exporter": "python",
   "pygments_lexer": "ipython3",
   "version": "3.7.4"
  }
 },
 "nbformat": 4,
 "nbformat_minor": 4
}
