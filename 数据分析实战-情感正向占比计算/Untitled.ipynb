{
 "cells": [
  {
   "cell_type": "code",
   "execution_count": 2,
   "metadata": {},
   "outputs": [
    {
     "name": "stderr",
     "output_type": "stream",
     "text": [
      "D:\\rgzn\\lib\\site-packages\\numpy\\_distributor_init.py:32: UserWarning: loaded more than 1 DLL from .libs:\n",
      "D:\\rgzn\\lib\\site-packages\\numpy\\.libs\\libopenblas.NOIJJG62EMASZI6NYURL6JBKM4EVBGM7.gfortran-win_amd64.dll\n",
      "D:\\rgzn\\lib\\site-packages\\numpy\\.libs\\libopenblas.XWYDX2IKJW2NMTWSFYNGFUWKQU3LYTCZ.gfortran-win_amd64.dll\n",
      "  stacklevel=1)\n"
     ]
    }
   ],
   "source": [
    "import jieba\n",
    "import jieba.posseg as pseg\n",
    "import pandas as pd\n",
    "import stylecloud\n",
    "from IPython.display import Image "
   ]
  },
  {
   "cell_type": "code",
   "execution_count": 51,
   "metadata": {},
   "outputs": [
    {
     "data": {
      "text/plain": [
       "0        #东方财富#支持居民储蓄入市？A股要嗨？官方解读来了 鼓励居民通过机构投资者开展投资 O支持...\n",
       "1        【网红经济潮来临？#李佳琦2019年赚将近2亿元#！#超6成上市公司盈利能力不及李子柒#】近...\n",
       "2        跑那么急干嘛？羚锐制药(600285)1月7日晚间公告，公司董事程剑军拟于15个交易日后的6...\n",
       "3        【股民沸腾了！#巴菲特大举押注太阳能#，多只A股封涨停！“异质结”或成2020技术风口，产能...\n",
       "4        【OMG！#李佳琦直播5分钟带动上市公司涨停#，#李佳琦直播带动上市公司市值增长5亿#！股民...\n",
       "                               ...                        \n",
       "13233    2021年末A股市值前十：贵州茅台稳居“一哥”Wind数据显示，2021年末，A股总市值为9...\n",
       "13234    认识一位炒股天才，平日里大部分是空仓，轻易不出手，出手必有斩获。而他只用了一招“守株待兔”法...\n",
       "13235    周末本着想放松一下的原则，参加了一位朋友组的聚会，去小酌了一下，聊到尽兴之处。了解到有个朋友...\n",
       "13236    美联储加息会如何影响A股和港股？（海通荀玉根、李影、王正鹤）核心结论：①12月恒生指数累计涨...\n",
       "13237    #沃德财富15周年# 收官之夜，《2022，一起投未来》直播正在如火如荼进行中，接下来知名财...\n",
       "Name: 发布内容, Length: 13238, dtype: object"
      ]
     },
     "execution_count": 51,
     "metadata": {},
     "output_type": "execute_result"
    }
   ],
   "source": [
    "df = pd.read_excel('微博-A股.xlsx')\n",
    "df['发布内容'] = df['发布内容'].astype(str)\n",
    "df['发布内容'].dropna(how='any', inplace=True)\n",
    "df['发布内容']"
   ]
  },
  {
   "cell_type": "code",
   "execution_count": 52,
   "metadata": {},
   "outputs": [],
   "source": [
    "# #删除空值和重复项\n",
    "# comment_text = df['发布内容']\n",
    "# comment_text.dropna(how='any', inplace=True)\n",
    "# comment_text.drop_duplicates(keep='first', inplace=True)\n",
    "# comment_text"
   ]
  },
  {
   "cell_type": "code",
   "execution_count": null,
   "metadata": {},
   "outputs": [],
   "source": []
  },
  {
   "cell_type": "code",
   "execution_count": null,
   "metadata": {},
   "outputs": [],
   "source": []
  },
  {
   "cell_type": "code",
   "execution_count": 42,
   "metadata": {},
   "outputs": [],
   "source": [
    "# df1 = pd.DataFrame()"
   ]
  },
  {
   "cell_type": "code",
   "execution_count": 43,
   "metadata": {},
   "outputs": [],
   "source": [
    "# df1['评论内容'] = comment_text"
   ]
  },
  {
   "cell_type": "code",
   "execution_count": 44,
   "metadata": {},
   "outputs": [
    {
     "data": {
      "text/html": [
       "<div>\n",
       "<style scoped>\n",
       "    .dataframe tbody tr th:only-of-type {\n",
       "        vertical-align: middle;\n",
       "    }\n",
       "\n",
       "    .dataframe tbody tr th {\n",
       "        vertical-align: top;\n",
       "    }\n",
       "\n",
       "    .dataframe thead th {\n",
       "        text-align: right;\n",
       "    }\n",
       "</style>\n",
       "<table border=\"1\" class=\"dataframe\">\n",
       "  <thead>\n",
       "    <tr style=\"text-align: right;\">\n",
       "      <th></th>\n",
       "      <th>评论内容</th>\n",
       "    </tr>\n",
       "  </thead>\n",
       "  <tbody>\n",
       "    <tr>\n",
       "      <th>0</th>\n",
       "      <td>#东方财富#支持居民储蓄入市？A股要嗨？官方解读来了 鼓励居民通过机构投资者开展投资 O支持...</td>\n",
       "    </tr>\n",
       "    <tr>\n",
       "      <th>1</th>\n",
       "      <td>【网红经济潮来临？#李佳琦2019年赚将近2亿元#！#超6成上市公司盈利能力不及李子柒#】近...</td>\n",
       "    </tr>\n",
       "    <tr>\n",
       "      <th>2</th>\n",
       "      <td>跑那么急干嘛？羚锐制药(600285)1月7日晚间公告，公司董事程剑军拟于15个交易日后的6...</td>\n",
       "    </tr>\n",
       "    <tr>\n",
       "      <th>3</th>\n",
       "      <td>【股民沸腾了！#巴菲特大举押注太阳能#，多只A股封涨停！“异质结”或成2020技术风口，产能...</td>\n",
       "    </tr>\n",
       "    <tr>\n",
       "      <th>4</th>\n",
       "      <td>【OMG！#李佳琦直播5分钟带动上市公司涨停#，#李佳琦直播带动上市公司市值增长5亿#！股民...</td>\n",
       "    </tr>\n",
       "  </tbody>\n",
       "</table>\n",
       "</div>"
      ],
      "text/plain": [
       "                                                评论内容\n",
       "0  #东方财富#支持居民储蓄入市？A股要嗨？官方解读来了 鼓励居民通过机构投资者开展投资 O支持...\n",
       "1  【网红经济潮来临？#李佳琦2019年赚将近2亿元#！#超6成上市公司盈利能力不及李子柒#】近...\n",
       "2  跑那么急干嘛？羚锐制药(600285)1月7日晚间公告，公司董事程剑军拟于15个交易日后的6...\n",
       "3  【股民沸腾了！#巴菲特大举押注太阳能#，多只A股封涨停！“异质结”或成2020技术风口，产能...\n",
       "4  【OMG！#李佳琦直播5分钟带动上市公司涨停#，#李佳琦直播带动上市公司市值增长5亿#！股民..."
      ]
     },
     "execution_count": 44,
     "metadata": {},
     "output_type": "execute_result"
    }
   ],
   "source": [
    "# df1.head()"
   ]
  },
  {
   "cell_type": "code",
   "execution_count": null,
   "metadata": {},
   "outputs": [],
   "source": []
  },
  {
   "cell_type": "code",
   "execution_count": null,
   "metadata": {},
   "outputs": [],
   "source": []
  },
  {
   "cell_type": "code",
   "execution_count": null,
   "metadata": {},
   "outputs": [],
   "source": []
  },
  {
   "cell_type": "code",
   "execution_count": null,
   "metadata": {},
   "outputs": [],
   "source": []
  },
  {
   "cell_type": "code",
   "execution_count": 54,
   "metadata": {},
   "outputs": [
    {
     "name": "stderr",
     "output_type": "stream",
     "text": [
      "[2022-03-23 15:06:10,912] [    INFO] - Installing senta_bilstm module\n",
      "[2022-03-23 15:06:10,916] [    INFO] - Module senta_bilstm already installed in C:\\Users\\96075\\.paddlehub\\modules\\senta_bilstm\n",
      "[2022-03-23 15:06:13,359] [    INFO] - Installing lac module\n",
      "[2022-03-23 15:06:13,364] [    INFO] - Module lac already installed in C:\\Users\\96075\\.paddlehub\\modules\\lac\n"
     ]
    }
   ],
   "source": [
    "import paddlehub as hub\n",
    "#这里使用了百度开源的成熟NLP模型来预测情感倾向\n",
    "senta = hub.Module(name=\"senta_bilstm\")\n",
    "texts = df['发布内容'].tolist()\n",
    "input_data = {'text':texts}\n",
    "res = senta.sentiment_classify(data=input_data)\n",
    "df['情感分值'] = [x['positive_probs'] for x in res]\n",
    "df['情感类别'] = [x['sentiment_label'] for x in res]\n"
   ]
  },
  {
   "cell_type": "code",
   "execution_count": 55,
   "metadata": {},
   "outputs": [
    {
     "data": {
      "text/html": [
       "<div>\n",
       "<style scoped>\n",
       "    .dataframe tbody tr th:only-of-type {\n",
       "        vertical-align: middle;\n",
       "    }\n",
       "\n",
       "    .dataframe tbody tr th {\n",
       "        vertical-align: top;\n",
       "    }\n",
       "\n",
       "    .dataframe thead th {\n",
       "        text-align: right;\n",
       "    }\n",
       "</style>\n",
       "<table border=\"1\" class=\"dataframe\">\n",
       "  <thead>\n",
       "    <tr style=\"text-align: right;\">\n",
       "      <th></th>\n",
       "      <th>微博发布者</th>\n",
       "      <th>发布时间</th>\n",
       "      <th>发布内容</th>\n",
       "      <th>转发数</th>\n",
       "      <th>评论数</th>\n",
       "      <th>点赞数</th>\n",
       "      <th>情感分值</th>\n",
       "      <th>情感类别</th>\n",
       "    </tr>\n",
       "  </thead>\n",
       "  <tbody>\n",
       "    <tr>\n",
       "      <th>0</th>\n",
       "      <td>天津股侠</td>\n",
       "      <td>2020年01月07日 08:46</td>\n",
       "      <td>#东方财富#支持居民储蓄入市？A股要嗨？官方解读来了 鼓励居民通过机构投资者开展投资 O支持...</td>\n",
       "      <td>30.0</td>\n",
       "      <td>114.0</td>\n",
       "      <td>1701.0</td>\n",
       "      <td>0.9999</td>\n",
       "      <td>1</td>\n",
       "    </tr>\n",
       "    <tr>\n",
       "      <th>1</th>\n",
       "      <td>央视财经</td>\n",
       "      <td>2020年01月07日 22:00</td>\n",
       "      <td>【网红经济潮来临？#李佳琦2019年赚将近2亿元#！#超6成上市公司盈利能力不及李子柒#】近...</td>\n",
       "      <td>66.0</td>\n",
       "      <td>44.0</td>\n",
       "      <td>146.0</td>\n",
       "      <td>0.0019</td>\n",
       "      <td>0</td>\n",
       "    </tr>\n",
       "    <tr>\n",
       "      <th>2</th>\n",
       "      <td>wu2198</td>\n",
       "      <td>2020年01月07日 19:58</td>\n",
       "      <td>跑那么急干嘛？羚锐制药(600285)1月7日晚间公告，公司董事程剑军拟于15个交易日后的6...</td>\n",
       "      <td>15.0</td>\n",
       "      <td>229.0</td>\n",
       "      <td>7307.0</td>\n",
       "      <td>0.0019</td>\n",
       "      <td>0</td>\n",
       "    </tr>\n",
       "    <tr>\n",
       "      <th>3</th>\n",
       "      <td>全景网</td>\n",
       "      <td>2020年01月07日 19:55</td>\n",
       "      <td>【股民沸腾了！#巴菲特大举押注太阳能#，多只A股封涨停！“异质结”或成2020技术风口，产能...</td>\n",
       "      <td>76.0</td>\n",
       "      <td>14.0</td>\n",
       "      <td>35.0</td>\n",
       "      <td>0.0019</td>\n",
       "      <td>0</td>\n",
       "    </tr>\n",
       "    <tr>\n",
       "      <th>4</th>\n",
       "      <td>每日经济新闻</td>\n",
       "      <td>2020年01月07日 15:07</td>\n",
       "      <td>【OMG！#李佳琦直播5分钟带动上市公司涨停#，#李佳琦直播带动上市公司市值增长5亿#！股民...</td>\n",
       "      <td>113.0</td>\n",
       "      <td>30.0</td>\n",
       "      <td>88.0</td>\n",
       "      <td>0.9999</td>\n",
       "      <td>1</td>\n",
       "    </tr>\n",
       "  </tbody>\n",
       "</table>\n",
       "</div>"
      ],
      "text/plain": [
       "    微博发布者               发布时间  \\\n",
       "0    天津股侠  2020年01月07日 08:46   \n",
       "1    央视财经  2020年01月07日 22:00   \n",
       "2  wu2198  2020年01月07日 19:58   \n",
       "3     全景网  2020年01月07日 19:55   \n",
       "4  每日经济新闻  2020年01月07日 15:07   \n",
       "\n",
       "                                                发布内容    转发数    评论数     点赞数  \\\n",
       "0  #东方财富#支持居民储蓄入市？A股要嗨？官方解读来了 鼓励居民通过机构投资者开展投资 O支持...   30.0  114.0  1701.0   \n",
       "1  【网红经济潮来临？#李佳琦2019年赚将近2亿元#！#超6成上市公司盈利能力不及李子柒#】近...   66.0   44.0   146.0   \n",
       "2  跑那么急干嘛？羚锐制药(600285)1月7日晚间公告，公司董事程剑军拟于15个交易日后的6...   15.0  229.0  7307.0   \n",
       "3  【股民沸腾了！#巴菲特大举押注太阳能#，多只A股封涨停！“异质结”或成2020技术风口，产能...   76.0   14.0    35.0   \n",
       "4  【OMG！#李佳琦直播5分钟带动上市公司涨停#，#李佳琦直播带动上市公司市值增长5亿#！股民...  113.0   30.0    88.0   \n",
       "\n",
       "     情感分值  情感类别  \n",
       "0  0.9999     1  \n",
       "1  0.0019     0  \n",
       "2  0.0019     0  \n",
       "3  0.0019     0  \n",
       "4  0.9999     1  "
      ]
     },
     "execution_count": 55,
     "metadata": {},
     "output_type": "execute_result"
    }
   ],
   "source": [
    "df.head()"
   ]
  },
  {
   "cell_type": "code",
   "execution_count": 56,
   "metadata": {},
   "outputs": [],
   "source": [
    "df.to_excel(\"情感分值.xlsx\",index=False)"
   ]
  },
  {
   "cell_type": "code",
   "execution_count": 3,
   "metadata": {},
   "outputs": [
    {
     "data": {
      "text/html": [
       "<div>\n",
       "<style scoped>\n",
       "    .dataframe tbody tr th:only-of-type {\n",
       "        vertical-align: middle;\n",
       "    }\n",
       "\n",
       "    .dataframe tbody tr th {\n",
       "        vertical-align: top;\n",
       "    }\n",
       "\n",
       "    .dataframe thead th {\n",
       "        text-align: right;\n",
       "    }\n",
       "</style>\n",
       "<table border=\"1\" class=\"dataframe\">\n",
       "  <thead>\n",
       "    <tr style=\"text-align: right;\">\n",
       "      <th></th>\n",
       "      <th>微博发布者</th>\n",
       "      <th>发布时间</th>\n",
       "      <th>发布内容</th>\n",
       "      <th>转发数</th>\n",
       "      <th>评论数</th>\n",
       "      <th>点赞数</th>\n",
       "      <th>情感分值</th>\n",
       "      <th>情感类别</th>\n",
       "    </tr>\n",
       "  </thead>\n",
       "  <tbody>\n",
       "    <tr>\n",
       "      <th>0</th>\n",
       "      <td>天津股侠</td>\n",
       "      <td>2020年01月07日 08:46</td>\n",
       "      <td>#东方财富#支持居民储蓄入市？A股要嗨？官方解读来了 鼓励居民通过机构投资者开展投资 O支持...</td>\n",
       "      <td>30.0</td>\n",
       "      <td>114.0</td>\n",
       "      <td>1701.0</td>\n",
       "      <td>0.9999</td>\n",
       "      <td>1</td>\n",
       "    </tr>\n",
       "    <tr>\n",
       "      <th>1</th>\n",
       "      <td>央视财经</td>\n",
       "      <td>2020年01月07日 22:00</td>\n",
       "      <td>【网红经济潮来临？#李佳琦2019年赚将近2亿元#！#超6成上市公司盈利能力不及李子柒#】近...</td>\n",
       "      <td>66.0</td>\n",
       "      <td>44.0</td>\n",
       "      <td>146.0</td>\n",
       "      <td>0.0019</td>\n",
       "      <td>0</td>\n",
       "    </tr>\n",
       "    <tr>\n",
       "      <th>2</th>\n",
       "      <td>wu2198</td>\n",
       "      <td>2020年01月07日 19:58</td>\n",
       "      <td>跑那么急干嘛？羚锐制药(600285)1月7日晚间公告，公司董事程剑军拟于15个交易日后的6...</td>\n",
       "      <td>15.0</td>\n",
       "      <td>229.0</td>\n",
       "      <td>7307.0</td>\n",
       "      <td>0.0019</td>\n",
       "      <td>0</td>\n",
       "    </tr>\n",
       "    <tr>\n",
       "      <th>3</th>\n",
       "      <td>全景网</td>\n",
       "      <td>2020年01月07日 19:55</td>\n",
       "      <td>【股民沸腾了！#巴菲特大举押注太阳能#，多只A股封涨停！“异质结”或成2020技术风口，产能...</td>\n",
       "      <td>76.0</td>\n",
       "      <td>14.0</td>\n",
       "      <td>35.0</td>\n",
       "      <td>0.0019</td>\n",
       "      <td>0</td>\n",
       "    </tr>\n",
       "    <tr>\n",
       "      <th>4</th>\n",
       "      <td>每日经济新闻</td>\n",
       "      <td>2020年01月07日 15:07</td>\n",
       "      <td>【OMG！#李佳琦直播5分钟带动上市公司涨停#，#李佳琦直播带动上市公司市值增长5亿#！股民...</td>\n",
       "      <td>113.0</td>\n",
       "      <td>30.0</td>\n",
       "      <td>88.0</td>\n",
       "      <td>0.9999</td>\n",
       "      <td>1</td>\n",
       "    </tr>\n",
       "  </tbody>\n",
       "</table>\n",
       "</div>"
      ],
      "text/plain": [
       "    微博发布者               发布时间  \\\n",
       "0    天津股侠  2020年01月07日 08:46   \n",
       "1    央视财经  2020年01月07日 22:00   \n",
       "2  wu2198  2020年01月07日 19:58   \n",
       "3     全景网  2020年01月07日 19:55   \n",
       "4  每日经济新闻  2020年01月07日 15:07   \n",
       "\n",
       "                                                发布内容    转发数    评论数     点赞数  \\\n",
       "0  #东方财富#支持居民储蓄入市？A股要嗨？官方解读来了 鼓励居民通过机构投资者开展投资 O支持...   30.0  114.0  1701.0   \n",
       "1  【网红经济潮来临？#李佳琦2019年赚将近2亿元#！#超6成上市公司盈利能力不及李子柒#】近...   66.0   44.0   146.0   \n",
       "2  跑那么急干嘛？羚锐制药(600285)1月7日晚间公告，公司董事程剑军拟于15个交易日后的6...   15.0  229.0  7307.0   \n",
       "3  【股民沸腾了！#巴菲特大举押注太阳能#，多只A股封涨停！“异质结”或成2020技术风口，产能...   76.0   14.0    35.0   \n",
       "4  【OMG！#李佳琦直播5分钟带动上市公司涨停#，#李佳琦直播带动上市公司市值增长5亿#！股民...  113.0   30.0    88.0   \n",
       "\n",
       "     情感分值  情感类别  \n",
       "0  0.9999     1  \n",
       "1  0.0019     0  \n",
       "2  0.0019     0  \n",
       "3  0.0019     0  \n",
       "4  0.9999     1  "
      ]
     },
     "execution_count": 3,
     "metadata": {},
     "output_type": "execute_result"
    }
   ],
   "source": [
    "df1 = pd.read_excel('情感分值.xlsx')\n",
    "df1.head()"
   ]
  },
  {
   "cell_type": "code",
   "execution_count": 4,
   "metadata": {},
   "outputs": [
    {
     "data": {
      "text/plain": [
       "0        2020年01月07日\n",
       "1        2020年01月07日\n",
       "2        2020年01月07日\n",
       "3        2020年01月07日\n",
       "4        2020年01月07日\n",
       "            ...     \n",
       "13233    2021年12月31日\n",
       "13234    2021年12月24日\n",
       "13235    2021年12月27日\n",
       "13236    2021年12月31日\n",
       "13237    2021年12月31日\n",
       "Name: time, Length: 13238, dtype: object"
      ]
     },
     "execution_count": 4,
     "metadata": {},
     "output_type": "execute_result"
    }
   ],
   "source": [
    "df1['time'] = df1['发布时间']\n",
    "def time_split(x):\n",
    "    x = str(x)\n",
    "    x = x.split(' ')\n",
    "    x = x[0]\n",
    "    return x\n",
    "df1['time'] = df1['time'].apply(time_split)\n",
    "df1['time']"
   ]
  },
  {
   "cell_type": "code",
   "execution_count": 5,
   "metadata": {},
   "outputs": [
    {
     "data": {
      "text/plain": [
       "0       2020-01-07\n",
       "1       2020-01-07\n",
       "2       2020-01-07\n",
       "3       2020-01-07\n",
       "4       2020-01-07\n",
       "           ...    \n",
       "13233   2021-12-31\n",
       "13234   2021-12-24\n",
       "13235   2021-12-27\n",
       "13236   2021-12-31\n",
       "13237   2021-12-31\n",
       "Name: time, Length: 13238, dtype: datetime64[ns]"
      ]
     },
     "execution_count": 5,
     "metadata": {},
     "output_type": "execute_result"
    }
   ],
   "source": [
    "df1['time'] = pd.to_datetime(df1['time'],format='%Y年%m月%d日')\n",
    "df1['time']"
   ]
  },
  {
   "cell_type": "code",
   "execution_count": 25,
   "metadata": {},
   "outputs": [
    {
     "data": {
      "text/html": [
       "<div>\n",
       "<style scoped>\n",
       "    .dataframe tbody tr th:only-of-type {\n",
       "        vertical-align: middle;\n",
       "    }\n",
       "\n",
       "    .dataframe tbody tr th {\n",
       "        vertical-align: top;\n",
       "    }\n",
       "\n",
       "    .dataframe thead th {\n",
       "        text-align: right;\n",
       "    }\n",
       "</style>\n",
       "<table border=\"1\" class=\"dataframe\">\n",
       "  <thead>\n",
       "    <tr style=\"text-align: right;\">\n",
       "      <th></th>\n",
       "      <th>微博发布者</th>\n",
       "      <th>发布时间</th>\n",
       "      <th>发布内容</th>\n",
       "      <th>转发数</th>\n",
       "      <th>评论数</th>\n",
       "      <th>点赞数</th>\n",
       "      <th>情感分值</th>\n",
       "      <th>情感类别</th>\n",
       "      <th>time</th>\n",
       "      <th>label</th>\n",
       "      <th>label1</th>\n",
       "      <th>time1</th>\n",
       "    </tr>\n",
       "    <tr>\n",
       "      <th>time</th>\n",
       "      <th></th>\n",
       "      <th></th>\n",
       "      <th></th>\n",
       "      <th></th>\n",
       "      <th></th>\n",
       "      <th></th>\n",
       "      <th></th>\n",
       "      <th></th>\n",
       "      <th></th>\n",
       "      <th></th>\n",
       "      <th></th>\n",
       "      <th></th>\n",
       "    </tr>\n",
       "  </thead>\n",
       "  <tbody>\n",
       "    <tr>\n",
       "      <th>2020-01-07</th>\n",
       "      <td>天津股侠</td>\n",
       "      <td>2020年01月07日 08:46</td>\n",
       "      <td>#东方财富#支持居民储蓄入市？A股要嗨？官方解读来了 鼓励居民通过机构投资者开展投资 O支持...</td>\n",
       "      <td>30.0</td>\n",
       "      <td>114.0</td>\n",
       "      <td>1701.0</td>\n",
       "      <td>0.9999</td>\n",
       "      <td>1</td>\n",
       "      <td>2020-01-07</td>\n",
       "      <td>1</td>\n",
       "      <td>1</td>\n",
       "      <td>2020-01-07</td>\n",
       "    </tr>\n",
       "    <tr>\n",
       "      <th>2020-01-07</th>\n",
       "      <td>央视财经</td>\n",
       "      <td>2020年01月07日 22:00</td>\n",
       "      <td>【网红经济潮来临？#李佳琦2019年赚将近2亿元#！#超6成上市公司盈利能力不及李子柒#】近...</td>\n",
       "      <td>66.0</td>\n",
       "      <td>44.0</td>\n",
       "      <td>146.0</td>\n",
       "      <td>0.0019</td>\n",
       "      <td>0</td>\n",
       "      <td>2020-01-07</td>\n",
       "      <td>1</td>\n",
       "      <td>-1</td>\n",
       "      <td>2020-01-07</td>\n",
       "    </tr>\n",
       "    <tr>\n",
       "      <th>2020-01-07</th>\n",
       "      <td>wu2198</td>\n",
       "      <td>2020年01月07日 19:58</td>\n",
       "      <td>跑那么急干嘛？羚锐制药(600285)1月7日晚间公告，公司董事程剑军拟于15个交易日后的6...</td>\n",
       "      <td>15.0</td>\n",
       "      <td>229.0</td>\n",
       "      <td>7307.0</td>\n",
       "      <td>0.0019</td>\n",
       "      <td>0</td>\n",
       "      <td>2020-01-07</td>\n",
       "      <td>1</td>\n",
       "      <td>-1</td>\n",
       "      <td>2020-01-07</td>\n",
       "    </tr>\n",
       "    <tr>\n",
       "      <th>2020-01-07</th>\n",
       "      <td>全景网</td>\n",
       "      <td>2020年01月07日 19:55</td>\n",
       "      <td>【股民沸腾了！#巴菲特大举押注太阳能#，多只A股封涨停！“异质结”或成2020技术风口，产能...</td>\n",
       "      <td>76.0</td>\n",
       "      <td>14.0</td>\n",
       "      <td>35.0</td>\n",
       "      <td>0.0019</td>\n",
       "      <td>0</td>\n",
       "      <td>2020-01-07</td>\n",
       "      <td>1</td>\n",
       "      <td>-1</td>\n",
       "      <td>2020-01-07</td>\n",
       "    </tr>\n",
       "    <tr>\n",
       "      <th>2020-01-07</th>\n",
       "      <td>每日经济新闻</td>\n",
       "      <td>2020年01月07日 15:07</td>\n",
       "      <td>【OMG！#李佳琦直播5分钟带动上市公司涨停#，#李佳琦直播带动上市公司市值增长5亿#！股民...</td>\n",
       "      <td>113.0</td>\n",
       "      <td>30.0</td>\n",
       "      <td>88.0</td>\n",
       "      <td>0.9999</td>\n",
       "      <td>1</td>\n",
       "      <td>2020-01-07</td>\n",
       "      <td>1</td>\n",
       "      <td>1</td>\n",
       "      <td>2020-01-07</td>\n",
       "    </tr>\n",
       "  </tbody>\n",
       "</table>\n",
       "</div>"
      ],
      "text/plain": [
       "             微博发布者               发布时间  \\\n",
       "time                                    \n",
       "2020-01-07    天津股侠  2020年01月07日 08:46   \n",
       "2020-01-07    央视财经  2020年01月07日 22:00   \n",
       "2020-01-07  wu2198  2020年01月07日 19:58   \n",
       "2020-01-07     全景网  2020年01月07日 19:55   \n",
       "2020-01-07  每日经济新闻  2020年01月07日 15:07   \n",
       "\n",
       "                                                         发布内容    转发数    评论数  \\\n",
       "time                                                                          \n",
       "2020-01-07  #东方财富#支持居民储蓄入市？A股要嗨？官方解读来了 鼓励居民通过机构投资者开展投资 O支持...   30.0  114.0   \n",
       "2020-01-07  【网红经济潮来临？#李佳琦2019年赚将近2亿元#！#超6成上市公司盈利能力不及李子柒#】近...   66.0   44.0   \n",
       "2020-01-07  跑那么急干嘛？羚锐制药(600285)1月7日晚间公告，公司董事程剑军拟于15个交易日后的6...   15.0  229.0   \n",
       "2020-01-07  【股民沸腾了！#巴菲特大举押注太阳能#，多只A股封涨停！“异质结”或成2020技术风口，产能...   76.0   14.0   \n",
       "2020-01-07  【OMG！#李佳琦直播5分钟带动上市公司涨停#，#李佳琦直播带动上市公司市值增长5亿#！股民...  113.0   30.0   \n",
       "\n",
       "               点赞数    情感分值  情感类别       time  label  label1      time1  \n",
       "time                                                                   \n",
       "2020-01-07  1701.0  0.9999     1 2020-01-07      1       1 2020-01-07  \n",
       "2020-01-07   146.0  0.0019     0 2020-01-07      1      -1 2020-01-07  \n",
       "2020-01-07  7307.0  0.0019     0 2020-01-07      1      -1 2020-01-07  \n",
       "2020-01-07    35.0  0.0019     0 2020-01-07      1      -1 2020-01-07  \n",
       "2020-01-07    88.0  0.9999     1 2020-01-07      1       1 2020-01-07  "
      ]
     },
     "execution_count": 25,
     "metadata": {},
     "output_type": "execute_result"
    }
   ],
   "source": [
    "df1.index = df1['time']\n",
    "df1['label'] = 1\n",
    "def number1(x):\n",
    "    x = int(x)\n",
    "    if x == 0:\n",
    "        return -1\n",
    "    if x == 1:\n",
    "        return 1\n",
    "df1['label1'] = df1['情感类别'].apply(number1)\n",
    "df1['time1'] = df1['time']\n",
    "df1.head()"
   ]
  },
  {
   "cell_type": "code",
   "execution_count": 26,
   "metadata": {},
   "outputs": [
    {
     "data": {
      "text/plain": [
       "time1\n",
       "2020-01-02    100.0%\n",
       "2020-01-03      0.0%\n",
       "2020-01-07        0%\n",
       "2020-01-08    100.0%\n",
       "2020-01-09     28.6%\n",
       "dtype: object"
      ]
     },
     "execution_count": 26,
     "metadata": {},
     "output_type": "execute_result"
    }
   ],
   "source": [
    "def pfcl(x):\n",
    "    df = x\n",
    "    label = df['情感类别']\n",
    "    zf_number = df['转发数']\n",
    "    pl_number = df['评论数']\n",
    "    dz_number = df['点赞数']\n",
    "    sum_fz = 0\n",
    "    sum_fm = 0\n",
    "    for l,z,p,d in zip(label,zf_number,pl_number,dz_number):\n",
    "        if l == 1:\n",
    "            try:\n",
    "                sum_fz += int(int(z) * 2 + int(p) * 3 + int(d) * 1)\n",
    "            except:\n",
    "                sum_fz = 0\n",
    "        try:\n",
    "            sum_fm += int(int(z) * 2 + int(p) * 3 + int(d) * 1)\n",
    "        except:\n",
    "            sum_fm = 0\n",
    "    try:\n",
    "        pf = float(sum_fz / sum_fm) * 100\n",
    "        pf = '%0.1lf' %pf\n",
    "        pf = str(pf) + '%'\n",
    "        return pf\n",
    "    except:\n",
    "        return '0%'\n",
    "df3 = df1.groupby('time1').apply(pfcl)\n",
    "df3.head()"
   ]
  },
  {
   "cell_type": "code",
   "execution_count": 27,
   "metadata": {},
   "outputs": [],
   "source": [
    "df4 = pd.DataFrame()\n",
    "df4['时间'] = df3.index\n",
    "df4['评分正向占比'] = df3.values\n",
    "df4.to_excel('评分正向占比.xlsx')"
   ]
  },
  {
   "cell_type": "code",
   "execution_count": 28,
   "metadata": {},
   "outputs": [],
   "source": [
    "sum_number = df1['label'].resample('D').sum()\n",
    "sum_label = df1['情感类别'].resample('D').sum()"
   ]
  },
  {
   "cell_type": "code",
   "execution_count": 29,
   "metadata": {},
   "outputs": [],
   "source": [
    "bfb = sum_label / sum_number"
   ]
  },
  {
   "cell_type": "code",
   "execution_count": 30,
   "metadata": {},
   "outputs": [],
   "source": [
    "import numpy as np\n",
    "list1 = []\n",
    "list2 = []\n",
    "for b in bfb.values:\n",
    "    if str(b) == 'nan':\n",
    "        b = 0 \n",
    "        list1.append(b)\n",
    "    elif b <= 0:\n",
    "        b = 0 \n",
    "        list1.append(b)\n",
    "    else:\n",
    "        b = b * 100\n",
    "        b = '%0.1lf' %b\n",
    "        b = str(b) + '%'\n",
    "        list1.append(b)\n",
    "list2 = [i for i in bfb.index]\n",
    "df2 = pd.DataFrame()\n",
    "df2['时间'] = bfb.index\n",
    "df2['正向情感占比'] = list1"
   ]
  },
  {
   "cell_type": "code",
   "execution_count": 31,
   "metadata": {},
   "outputs": [
    {
     "data": {
      "text/html": [
       "<div>\n",
       "<style scoped>\n",
       "    .dataframe tbody tr th:only-of-type {\n",
       "        vertical-align: middle;\n",
       "    }\n",
       "\n",
       "    .dataframe tbody tr th {\n",
       "        vertical-align: top;\n",
       "    }\n",
       "\n",
       "    .dataframe thead th {\n",
       "        text-align: right;\n",
       "    }\n",
       "</style>\n",
       "<table border=\"1\" class=\"dataframe\">\n",
       "  <thead>\n",
       "    <tr style=\"text-align: right;\">\n",
       "      <th></th>\n",
       "      <th>时间</th>\n",
       "      <th>正向情感占比</th>\n",
       "    </tr>\n",
       "  </thead>\n",
       "  <tbody>\n",
       "    <tr>\n",
       "      <th>0</th>\n",
       "      <td>2020-01-02</td>\n",
       "      <td>100.0%</td>\n",
       "    </tr>\n",
       "    <tr>\n",
       "      <th>1</th>\n",
       "      <td>2020-01-03</td>\n",
       "      <td>0</td>\n",
       "    </tr>\n",
       "    <tr>\n",
       "      <th>2</th>\n",
       "      <td>2020-01-04</td>\n",
       "      <td>0</td>\n",
       "    </tr>\n",
       "    <tr>\n",
       "      <th>3</th>\n",
       "      <td>2020-01-05</td>\n",
       "      <td>0</td>\n",
       "    </tr>\n",
       "    <tr>\n",
       "      <th>4</th>\n",
       "      <td>2020-01-06</td>\n",
       "      <td>0</td>\n",
       "    </tr>\n",
       "  </tbody>\n",
       "</table>\n",
       "</div>"
      ],
      "text/plain": [
       "          时间  正向情感占比\n",
       "0 2020-01-02  100.0%\n",
       "1 2020-01-03       0\n",
       "2 2020-01-04       0\n",
       "3 2020-01-05       0\n",
       "4 2020-01-06       0"
      ]
     },
     "execution_count": 31,
     "metadata": {},
     "output_type": "execute_result"
    }
   ],
   "source": [
    "df2.head()"
   ]
  },
  {
   "cell_type": "code",
   "execution_count": 34,
   "metadata": {},
   "outputs": [],
   "source": [
    "df2.to_excel('情感分数占比.xlsx')"
   ]
  },
  {
   "cell_type": "code",
   "execution_count": null,
   "metadata": {},
   "outputs": [],
   "source": []
  },
  {
   "cell_type": "code",
   "execution_count": null,
   "metadata": {},
   "outputs": [],
   "source": []
  },
  {
   "cell_type": "code",
   "execution_count": null,
   "metadata": {},
   "outputs": [],
   "source": []
  },
  {
   "cell_type": "code",
   "execution_count": null,
   "metadata": {},
   "outputs": [],
   "source": []
  }
 ],
 "metadata": {
  "kernelspec": {
   "display_name": "Python 3",
   "language": "python",
   "name": "python3"
  },
  "language_info": {
   "codemirror_mode": {
    "name": "ipython",
    "version": 3
   },
   "file_extension": ".py",
   "mimetype": "text/x-python",
   "name": "python",
   "nbconvert_exporter": "python",
   "pygments_lexer": "ipython3",
   "version": "3.7.4"
  }
 },
 "nbformat": 4,
 "nbformat_minor": 2
}
