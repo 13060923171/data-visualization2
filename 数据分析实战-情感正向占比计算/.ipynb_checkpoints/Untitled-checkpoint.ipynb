{
 "cells": [
  {
   "cell_type": "code",
   "execution_count": 1,
   "metadata": {},
   "outputs": [
    {
     "name": "stderr",
     "output_type": "stream",
     "text": [
      "D:\\rgzn\\lib\\site-packages\\numpy\\_distributor_init.py:32: UserWarning: loaded more than 1 DLL from .libs:\n",
      "D:\\rgzn\\lib\\site-packages\\numpy\\.libs\\libopenblas.NOIJJG62EMASZI6NYURL6JBKM4EVBGM7.gfortran-win_amd64.dll\n",
      "D:\\rgzn\\lib\\site-packages\\numpy\\.libs\\libopenblas.XWYDX2IKJW2NMTWSFYNGFUWKQU3LYTCZ.gfortran-win_amd64.dll\n",
      "  stacklevel=1)\n"
     ]
    }
   ],
   "source": [
    "import jieba\n",
    "import jieba.posseg as pseg\n",
    "import pandas as pd\n",
    "import stylecloud\n",
    "from IPython.display import Image "
   ]
  },
  {
   "cell_type": "code",
   "execution_count": 3,
   "metadata": {},
   "outputs": [
    {
     "data": {
      "text/plain": [
       "0        #东方财富#支持居民储蓄入市？A股要嗨？官方解读来了 鼓励居民通过机构投资者开展投资 O支持...\n",
       "1        【网红经济潮来临？#李佳琦2019年赚将近2亿元#！#超6成上市公司盈利能力不及李子柒#】近...\n",
       "2        跑那么急干嘛？羚锐制药(600285)1月7日晚间公告，公司董事程剑军拟于15个交易日后的6...\n",
       "3        【股民沸腾了！#巴菲特大举押注太阳能#，多只A股封涨停！“异质结”或成2020技术风口，产能...\n",
       "4        【OMG！#李佳琦直播5分钟带动上市公司涨停#，#李佳琦直播带动上市公司市值增长5亿#！股民...\n",
       "                               ...                        \n",
       "13233    2021年末A股市值前十：贵州茅台稳居“一哥”Wind数据显示，2021年末，A股总市值为9...\n",
       "13234    认识一位炒股天才，平日里大部分是空仓，轻易不出手，出手必有斩获。而他只用了一招“守株待兔”法...\n",
       "13235    周末本着想放松一下的原则，参加了一位朋友组的聚会，去小酌了一下，聊到尽兴之处。了解到有个朋友...\n",
       "13236    美联储加息会如何影响A股和港股？（海通荀玉根、李影、王正鹤）核心结论：①12月恒生指数累计涨...\n",
       "13237    #沃德财富15周年# 收官之夜，《2022，一起投未来》直播正在如火如荼进行中，接下来知名财...\n",
       "Name: 发布内容, Length: 13238, dtype: object"
      ]
     },
     "execution_count": 3,
     "metadata": {},
     "output_type": "execute_result"
    }
   ],
   "source": [
    "df = pd.read_excel('微博-A股.xlsx')\n",
    "df['发布内容'] = df['发布内容'].astype(str)\n",
    "df['发布内容'].dropna(how='any', inplace=True)\n",
    "df['发布内容']"
   ]
  },
  {
   "cell_type": "code",
   "execution_count": 5,
   "metadata": {},
   "outputs": [],
   "source": [
    "#定义机械压缩函数\n",
    "def yasuo(st):\n",
    "    for i in range(1,int(len(st)/2)+1):\n",
    "        for j in range(len(st)):\n",
    "            if st[j:j+i] == st[j+i:j+2*i]:\n",
    "                k = j + i\n",
    "                while st[k:k+i] == st[k+i:k+2*i] and k<len(st):   \n",
    "                    k = k + i\n",
    "                st = st[:j] + st[k:]    \n",
    "    return st\n",
    "\n",
    "def is_all_chinese(strs):\n",
    "    for _char in strs:\n",
    "        if not '\\u4e00' <= _char <= '\\u9fa5':\n",
    "            return False\n",
    "    return True\n"
   ]
  },
  {
   "cell_type": "code",
   "execution_count": null,
   "metadata": {},
   "outputs": [],
   "source": [
    "df['发布内容'] = df['发布内容'].apply(yasuo)\n",
    "df['发布内容'].dropna(how='any', inplace=True)\n",
    "df['发布内容']"
   ]
  },
  {
   "cell_type": "code",
   "execution_count": null,
   "metadata": {},
   "outputs": [],
   "source": []
  },
  {
   "cell_type": "code",
   "execution_count": null,
   "metadata": {},
   "outputs": [],
   "source": []
  },
  {
   "cell_type": "code",
   "execution_count": 53,
   "metadata": {},
   "outputs": [
    {
     "name": "stderr",
     "output_type": "stream",
     "text": [
      "[2022-01-17 16:12:53,679] [    INFO] - Installing senta_bilstm module\n",
      "[2022-01-17 16:12:53,965] [    INFO] - Module senta_bilstm already installed in C:\\Users\\96075\\.paddlehub\\modules\\senta_bilstm\n",
      "[2022-01-17 16:12:57,486] [    INFO] - Installing lac module\n",
      "[2022-01-17 16:12:57,492] [    INFO] - Module lac already installed in C:\\Users\\96075\\.paddlehub\\modules\\lac\n"
     ]
    },
    {
     "data": {
      "text/html": [
       "<div>\n",
       "<style scoped>\n",
       "    .dataframe tbody tr th:only-of-type {\n",
       "        vertical-align: middle;\n",
       "    }\n",
       "\n",
       "    .dataframe tbody tr th {\n",
       "        vertical-align: top;\n",
       "    }\n",
       "\n",
       "    .dataframe thead th {\n",
       "        text-align: right;\n",
       "    }\n",
       "</style>\n",
       "<table border=\"1\" class=\"dataframe\">\n",
       "  <thead>\n",
       "    <tr style=\"text-align: right;\">\n",
       "      <th></th>\n",
       "      <th>页面网址</th>\n",
       "      <th>正文</th>\n",
       "      <th>转发</th>\n",
       "      <th>评论</th>\n",
       "      <th>点赞</th>\n",
       "      <th>发布人</th>\n",
       "      <th>发布时间</th>\n",
       "      <th>当前时间</th>\n",
       "      <th>用户名称</th>\n",
       "      <th>评论时间</th>\n",
       "      <th>评论内容</th>\n",
       "      <th>情感分值</th>\n",
       "    </tr>\n",
       "  </thead>\n",
       "  <tbody>\n",
       "    <tr>\n",
       "      <th>0</th>\n",
       "      <td>https://weibo.com/2394069222/Ht7AZ0IxK?type=co...</td>\n",
       "      <td>没有火锅的人生是没有灵魂的  巧了，牙膏界和火锅界的两大巨头，冷酸灵 X 小龙坎顺应国潮，带...</td>\n",
       "      <td>1256</td>\n",
       "      <td>684</td>\n",
       "      <td>619</td>\n",
       "      <td>我朋友是个奇葩</td>\n",
       "      <td>2019-5-7 20:15</td>\n",
       "      <td>2022-01-11</td>\n",
       "      <td>暖冬溶夏</td>\n",
       "      <td>2019-5-7 20:26</td>\n",
       "      <td>赶紧买 太棒了 哈</td>\n",
       "      <td>0.9637</td>\n",
       "    </tr>\n",
       "    <tr>\n",
       "      <th>1</th>\n",
       "      <td>https://weibo.com/2394069222/Ht7AZ0IxK?type=co...</td>\n",
       "      <td>没有火锅的人生是没有灵魂的  巧了，牙膏界和火锅界的两大巨头，冷酸灵 X 小龙坎顺应国潮，带...</td>\n",
       "      <td>1256</td>\n",
       "      <td>684</td>\n",
       "      <td>619</td>\n",
       "      <td>我朋友是个奇葩</td>\n",
       "      <td>2019-5-7 20:15</td>\n",
       "      <td>2022-01-11</td>\n",
       "      <td>小邢不怼人</td>\n",
       "      <td>2019-5-7 20:47</td>\n",
       "      <td>又要吃土了</td>\n",
       "      <td>0.2143</td>\n",
       "    </tr>\n",
       "    <tr>\n",
       "      <th>2</th>\n",
       "      <td>https://weibo.com/2394069222/Ht7AZ0IxK?type=co...</td>\n",
       "      <td>没有火锅的人生是没有灵魂的  巧了，牙膏界和火锅界的两大巨头，冷酸灵 X 小龙坎顺应国潮，带...</td>\n",
       "      <td>1256</td>\n",
       "      <td>684</td>\n",
       "      <td>619</td>\n",
       "      <td>我朋友是个奇葩</td>\n",
       "      <td>2019-5-7 20:15</td>\n",
       "      <td>2022-01-11</td>\n",
       "      <td>天地正气道法无常</td>\n",
       "      <td>2019-5-7 20:46</td>\n",
       "      <td>好真实</td>\n",
       "      <td>0.9523</td>\n",
       "    </tr>\n",
       "    <tr>\n",
       "      <th>3</th>\n",
       "      <td>https://weibo.com/2394069222/Ht7AZ0IxK?type=co...</td>\n",
       "      <td>没有火锅的人生是没有灵魂的  巧了，牙膏界和火锅界的两大巨头，冷酸灵 X 小龙坎顺应国潮，带...</td>\n",
       "      <td>1256</td>\n",
       "      <td>684</td>\n",
       "      <td>619</td>\n",
       "      <td>我朋友是个奇葩</td>\n",
       "      <td>2019-5-7 20:15</td>\n",
       "      <td>2022-01-11</td>\n",
       "      <td>快乐的一知小青蛙</td>\n",
       "      <td>2019-5-7 20:39</td>\n",
       "      <td>钱已备好，发货吧</td>\n",
       "      <td>0.2214</td>\n",
       "    </tr>\n",
       "    <tr>\n",
       "      <th>4</th>\n",
       "      <td>https://weibo.com/2394069222/Ht7AZ0IxK?type=co...</td>\n",
       "      <td>没有火锅的人生是没有灵魂的  巧了，牙膏界和火锅界的两大巨头，冷酸灵 X 小龙坎顺应国潮，带...</td>\n",
       "      <td>1256</td>\n",
       "      <td>684</td>\n",
       "      <td>619</td>\n",
       "      <td>我朋友是个奇葩</td>\n",
       "      <td>2019-5-7 20:15</td>\n",
       "      <td>2022-01-11</td>\n",
       "      <td>臧萘</td>\n",
       "      <td>2019-5-7 20:35</td>\n",
       "      <td>听你的，行动起来吧</td>\n",
       "      <td>0.7911</td>\n",
       "    </tr>\n",
       "  </tbody>\n",
       "</table>\n",
       "</div>"
      ],
      "text/plain": [
       "                                                页面网址  \\\n",
       "0  https://weibo.com/2394069222/Ht7AZ0IxK?type=co...   \n",
       "1  https://weibo.com/2394069222/Ht7AZ0IxK?type=co...   \n",
       "2  https://weibo.com/2394069222/Ht7AZ0IxK?type=co...   \n",
       "3  https://weibo.com/2394069222/Ht7AZ0IxK?type=co...   \n",
       "4  https://weibo.com/2394069222/Ht7AZ0IxK?type=co...   \n",
       "\n",
       "                                                  正文    转发   评论   点赞      发布人  \\\n",
       "0  没有火锅的人生是没有灵魂的  巧了，牙膏界和火锅界的两大巨头，冷酸灵 X 小龙坎顺应国潮，带...  1256  684  619  我朋友是个奇葩   \n",
       "1  没有火锅的人生是没有灵魂的  巧了，牙膏界和火锅界的两大巨头，冷酸灵 X 小龙坎顺应国潮，带...  1256  684  619  我朋友是个奇葩   \n",
       "2  没有火锅的人生是没有灵魂的  巧了，牙膏界和火锅界的两大巨头，冷酸灵 X 小龙坎顺应国潮，带...  1256  684  619  我朋友是个奇葩   \n",
       "3  没有火锅的人生是没有灵魂的  巧了，牙膏界和火锅界的两大巨头，冷酸灵 X 小龙坎顺应国潮，带...  1256  684  619  我朋友是个奇葩   \n",
       "4  没有火锅的人生是没有灵魂的  巧了，牙膏界和火锅界的两大巨头，冷酸灵 X 小龙坎顺应国潮，带...  1256  684  619  我朋友是个奇葩   \n",
       "\n",
       "             发布时间        当前时间      用户名称            评论时间       评论内容    情感分值  \n",
       "0  2019-5-7 20:15  2022-01-11      暖冬溶夏  2019-5-7 20:26  赶紧买 太棒了 哈  0.9637  \n",
       "1  2019-5-7 20:15  2022-01-11     小邢不怼人  2019-5-7 20:47      又要吃土了  0.2143  \n",
       "2  2019-5-7 20:15  2022-01-11  天地正气道法无常  2019-5-7 20:46        好真实  0.9523  \n",
       "3  2019-5-7 20:15  2022-01-11  快乐的一知小青蛙  2019-5-7 20:39   钱已备好，发货吧  0.2214  \n",
       "4  2019-5-7 20:15  2022-01-11        臧萘  2019-5-7 20:35  听你的，行动起来吧  0.7911  "
      ]
     },
     "execution_count": 53,
     "metadata": {},
     "output_type": "execute_result"
    }
   ],
   "source": [
    "import paddlehub as hub\n",
    "#这里使用了百度开源的成熟NLP模型来预测情感倾向\n",
    "senta = hub.Module(name=\"senta_bilstm\")\n",
    "texts = df['评论内容'].tolist()\n",
    "input_data = {'text':texts}\n",
    "res = senta.sentiment_classify(data=input_data)\n",
    "df['情感分值'] = [x['positive_probs'] for x in res]\n",
    "df.head()"
   ]
  },
  {
   "cell_type": "code",
   "execution_count": 54,
   "metadata": {},
   "outputs": [],
   "source": [
    "df.to_excel(\"情感分值.xlsx\",index=False)"
   ]
  },
  {
   "cell_type": "code",
   "execution_count": 55,
   "metadata": {},
   "outputs": [],
   "source": [
    "df1 = pd.read_excel(\"情感分值.xlsx\")"
   ]
  },
  {
   "cell_type": "code",
   "execution_count": 222,
   "metadata": {},
   "outputs": [],
   "source": [
    "import matplotlib\n",
    "import matplotlib.pyplot as plt\n",
    "import numpy as np"
   ]
  },
  {
   "cell_type": "code",
   "execution_count": 224,
   "metadata": {},
   "outputs": [
    {
     "name": "stderr",
     "output_type": "stream",
     "text": [
      "D:\\rgzn\\lib\\site-packages\\ipykernel_launcher.py:8: UserWarning: Matplotlib is currently using agg, which is a non-GUI backend, so cannot show the figure.\n",
      "  \n"
     ]
    }
   ],
   "source": [
    "plt.rcParams['font.sans-serif'] = ['SimHei']\n",
    "plt.figure(figsize=(20,9),dpi = 300)\n",
    "plt.hist(df['情感分值'], bins = np.arange(0, 1, 0.01), facecolor = '#212F3D')\n",
    "plt.xlabel('情感数值')\n",
    "plt.ylabel('数量')\n",
    "plt.title('情感分析')\n",
    "plt.savefig('Analysis of Sentiments.jpg')\n",
    "plt.show()"
   ]
  },
  {
   "cell_type": "code",
   "execution_count": 7,
   "metadata": {},
   "outputs": [
    {
     "name": "stdout",
     "output_type": "stream",
     "text": [
      "情感强烈:\n",
      "均值 0.9571434782608707\n",
      "方差 0.0008124216240965677\n",
      "情感中度:\n",
      "均值 0.8497086956521711\n",
      "方差 0.0008861097746228951\n",
      "情感一般:\n",
      "均值 0.6957575342465758\n",
      "方差 0.003717157108259644\n",
      "中度:\n",
      "均值 0.5505301047120423\n",
      "方差 0.0008128164404089544\n",
      "消极情感强烈:\n",
      "均值 0.04974189944134081\n",
      "方差 0.0008397997150421091\n",
      "消极情感中度:\n",
      "均值 0.408293874172185\n",
      "方差 0.0035211772260935925\n",
      "消极情感一般:\n",
      "均值 0.19879747023809533\n",
      "方差 0.0032932604853940467\n"
     ]
    }
   ],
   "source": [
    "df2 = df\n",
    "positive1 = df2[df2['情感分值']> 0.9]\n",
    "print('情感强烈:')\n",
    "print('均值',positive1['情感分值'].mean())\n",
    "print('方差',positive1['情感分值'].var())\n",
    "print('情感中度:')\n",
    "print('均值',positive2['情感分值'].mean())\n",
    "print('方差',positive2['情感分值'].var())\n",
    "print('情感一般:')\n",
    "print('均值',positive3['情感分值'].mean())\n",
    "print('方差',positive3['情感分值'].var())\n",
    "\n",
    "positive2 = df2[(df2['情感分值']> 0.8) & (df2['情感分值'] <= 0.9)]\n",
    "positive3 = df2[(df2['情感分值']> 0.6) & (df2['情感分值'] <= 0.8)]\n",
    "\n",
    "neutral = df2[(df2['情感分值']> 0.5) & (df2['情感分值'] <= 0.6)]\n",
    "print('中度:')\n",
    "print('均值',neutral['情感分值'].mean())\n",
    "print('方差',neutral['情感分值'].var())\n",
    "\n",
    "\n",
    "passive1 = df2[df2['情感分值'] < 0.1]\n",
    "passive2 = df2[(df2['情感分值']> 0.3) & (df2['情感分值'] <= 0.5)]\n",
    "passive3 = df2[(df2['情感分值']> 0.1) & (df2['情感分值'] <= 0.3)]\n",
    "\n",
    "print('消极情感强烈:')\n",
    "print('均值',passive1['情感分值'].mean())\n",
    "print('方差',passive1['情感分值'].var())\n",
    "print('消极情感中度:')\n",
    "print('均值',passive2['情感分值'].mean())\n",
    "print('方差',passive2['情感分值'].var())\n",
    "print('消极情感一般:')\n",
    "print('均值',passive3['情感分值'].mean())\n",
    "print('方差',passive3['情感分值'].var())\n",
    "\n",
    "# sum_positive = len(positive1) + len(positive2) +len(positive3)\n",
    "# sum_passive = len(passive1) + len(passive2) + len(passive3)\n",
    "\n",
    "# print(len(positive1),len(positive2),len(positive3))\n",
    "# print(len(neutral))\n",
    "# print(len(passive1),len(passive2),len(passive3))\n",
    "# print(sum_positive)\n",
    "# print(sum_passive)"
   ]
  },
  {
   "cell_type": "code",
   "execution_count": 230,
   "metadata": {},
   "outputs": [],
   "source": [
    "# 对原文本分词\n",
    "def cut_words():\n",
    "    # 获取当前文件路径\n",
    "    df = pd.read_excel('情感分值.xlsx').loc[:,['评论内容']]\n",
    "    text1 = df.astype('str').values\n",
    "    content = ''\n",
    "    for t in text1:\n",
    "        text = jieba.cut(t[0], cut_all=False)\n",
    "        for i in text:\n",
    "            content += i\n",
    "            content += \" \"\n",
    "        content += \"\\n\"\n",
    "    return content\n",
    "\n",
    "# 加载stopwords\n",
    "def load_stopwords():\n",
    "    filepath = r'stopwords_cn.txt'\n",
    "    stopwords = [line.strip() for line in open(\n",
    "        filepath, encoding='utf-8').readlines()]\n",
    "    return stopwords\n",
    "\n",
    "# 去除原文stopwords,并生成新的文本\n",
    "def move_stopwwords(content, stopwords):\n",
    "    content_after = ''\n",
    "    for word in content:\n",
    "        if word not in stopwords:\n",
    "            # if word != '\\t'and'\\n':\n",
    "            content_after += word\n",
    "\n",
    "    # 写入去停止词后生成的新文本\n",
    "    with open('评论信息.txt', 'w', encoding='UTF-8-SIG') as f:\n",
    "        f.write(content_after)\n"
   ]
  },
  {
   "cell_type": "code",
   "execution_count": 231,
   "metadata": {},
   "outputs": [],
   "source": [
    "content = cut_words()\n",
    "stopwords = load_stopwords()\n",
    "move_stopwwords(content, stopwords)"
   ]
  },
  {
   "cell_type": "code",
   "execution_count": 233,
   "metadata": {},
   "outputs": [
    {
     "name": "stdout",
     "output_type": "stream",
     "text": [
      "Features length: 2583\n",
      "Start Kmeans:\n",
      "KMeans(algorithm='auto', copy_x=True, init='k-means++', max_iter=300,\n",
      "       n_clusters=2, n_init=10, n_jobs=None, precompute_distances='auto',\n",
      "       random_state=None, tol=0.0001, verbose=0)\n",
      "[0 0 0 ... 0 0 0]\n",
      "[[ 2.08986416e-04  3.96101278e-04  2.08986416e-04 ...  2.08986416e-04\n",
      "   2.72003262e-04  3.65320122e-04]\n",
      " [-7.31836466e-19  0.00000000e+00 -7.31836466e-19 ... -7.31836466e-19\n",
      "   9.21571847e-19  8.67361738e-19]]\n",
      "3746.1501106384767\n",
      "[[-0.00891581 -0.00813586]\n",
      " [-0.00597039 -0.01464542]\n",
      " [-0.00605308 -0.01488858]\n",
      " ...\n",
      " [-0.00703558 -0.01339984]\n",
      " [-0.00597039 -0.01464542]\n",
      " [-0.00597039 -0.01464542]]\n"
     ]
    },
    {
     "name": "stderr",
     "output_type": "stream",
     "text": [
      "D:\\rgzn\\lib\\site-packages\\ipykernel_launcher.py:63: UserWarning: Matplotlib is currently using agg, which is a non-GUI backend, so cannot show the figure.\n"
     ]
    }
   ],
   "source": [
    "# coding=utf-8\n",
    "import matplotlib.pyplot as plt\n",
    "from sklearn.feature_extraction.text import TfidfTransformer\n",
    "from sklearn.feature_extraction.text import CountVectorizer\n",
    "\n",
    "\n",
    "\n",
    "# 文档预料 空格连接\n",
    "corpus = []\n",
    "\n",
    "# 读取预料 一行预料为一个文档\n",
    "for line in open('评论信息.txt', 'r',encoding='utf-8').readlines():\n",
    "    corpus.append(line.strip())\n",
    "# 将文本中的词语转换为词频矩阵 矩阵元素a[i][j] 表示j词在i类文本下的词频\n",
    "vectorizer = CountVectorizer()\n",
    "\n",
    "# 该类会统计每个词语的tf-idf权值\n",
    "transformer = TfidfTransformer()\n",
    "\n",
    "# 第一个fit_transform是计算tf-idf 第二个fit_transform是将文本转为词频矩阵\n",
    "tfidf = transformer.fit_transform(vectorizer.fit_transform(corpus))\n",
    "# 获取词袋模型中的所有词语\n",
    "word = vectorizer.get_feature_names()\n",
    "\n",
    "# 将tf-idf矩阵抽取出来 元素w[i][j]表示j词在i类文本中的tf-idf权重\n",
    "weight = tfidf.toarray()\n",
    "\n",
    "# 打印特征向量文本内容\n",
    "print('Features length: ' + str(len(word)))\n",
    "\n",
    "\n",
    "\n",
    "\n",
    "print('Start Kmeans:')\n",
    "from sklearn.cluster import KMeans\n",
    "\n",
    "clf = KMeans(n_clusters=2)\n",
    "print(clf)\n",
    "pre = clf.fit_predict(weight)\n",
    "print(pre)\n",
    "#\n",
    "# 中心点\n",
    "print(clf.cluster_centers_)\n",
    "print(clf.inertia_)\n",
    "\n",
    "\n",
    "\n",
    "from sklearn.decomposition import PCA\n",
    "\n",
    "pca = PCA(n_components=2)  # 输出两维\n",
    "newData = pca.fit_transform(weight)  # 载入N维\n",
    "print(newData)\n",
    "\n",
    "x = [n[0] for n in newData]\n",
    "y = [n[1] for n in newData]\n",
    "plt.rcParams['font.sans-serif'] = ['SimHei']  # 支持中文\n",
    "plt.rcParams['axes.unicode_minus'] = False\n",
    "plt.figure(figsize=(20,9),dpi = 300)\n",
    "plt.scatter(x, y, c=pre, s=100)\n",
    "# plt.legend()\n",
    "plt.title(\"词性聚类图\")\n",
    "plt.savefig('词性聚类图.jpg')\n",
    "plt.show()\n",
    "\n"
   ]
  },
  {
   "cell_type": "code",
   "execution_count": null,
   "metadata": {},
   "outputs": [],
   "source": []
  },
  {
   "cell_type": "code",
   "execution_count": null,
   "metadata": {},
   "outputs": [],
   "source": []
  },
  {
   "cell_type": "code",
   "execution_count": null,
   "metadata": {},
   "outputs": [],
   "source": []
  },
  {
   "cell_type": "code",
   "execution_count": null,
   "metadata": {},
   "outputs": [],
   "source": []
  },
  {
   "cell_type": "code",
   "execution_count": null,
   "metadata": {},
   "outputs": [],
   "source": []
  },
  {
   "cell_type": "code",
   "execution_count": null,
   "metadata": {},
   "outputs": [],
   "source": []
  }
 ],
 "metadata": {
  "kernelspec": {
   "display_name": "Python 3",
   "language": "python",
   "name": "python3"
  },
  "language_info": {
   "codemirror_mode": {
    "name": "ipython",
    "version": 3
   },
   "file_extension": ".py",
   "mimetype": "text/x-python",
   "name": "python",
   "nbconvert_exporter": "python",
   "pygments_lexer": "ipython3",
   "version": "3.7.4"
  }
 },
 "nbformat": 4,
 "nbformat_minor": 2
}
